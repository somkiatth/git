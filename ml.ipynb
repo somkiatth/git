{
  "nbformat": 4,
  "nbformat_minor": 0,
  "metadata": {
    "colab": {
      "name": "ml.ipynb",
      "provenance": [],
      "collapsed_sections": [],
      "authorship_tag": "ABX9TyMbMe2qWJarU93P8GeQCXgq",
      "include_colab_link": true
    },
    "kernelspec": {
      "name": "python3",
      "display_name": "Python 3"
    },
    "language_info": {
      "name": "python"
    }
  },
  "cells": [
    {
      "cell_type": "markdown",
      "metadata": {
        "id": "view-in-github",
        "colab_type": "text"
      },
      "source": [
        "<a href=\"https://colab.research.google.com/github/somkiatth/git/blob/master/ml.ipynb\" target=\"_parent\"><img src=\"https://colab.research.google.com/assets/colab-badge.svg\" alt=\"Open In Colab\"/></a>"
      ]
    },
    {
      "cell_type": "code",
      "execution_count": 1,
      "metadata": {
        "colab": {
          "base_uri": "https://localhost:8080/",
          "height": 386
        },
        "id": "mXuP-Z8Umbbt",
        "outputId": "d49acf04-768a-4e87-c7ca-d8dc8b23f39a"
      },
      "outputs": [
        {
          "output_type": "stream",
          "name": "stdout",
          "text": [
            "0    49.6\n",
            "dtype: float64\n",
            "0    20.132064\n",
            "dtype: float64\n"
          ]
        },
        {
          "output_type": "execute_result",
          "data": {
            "text/plain": [
              "array([[-1.22474487, -1.06904497],\n",
              "       [ 0.        , -0.26726124],\n",
              "       [ 1.22474487,  1.33630621]])"
            ]
          },
          "metadata": {},
          "execution_count": 1
        },
        {
          "output_type": "display_data",
          "data": {
            "image/png": "[encoded data removed]",
            "text/plain": [
              "<Figure size 432x288 with 1 Axes>"
            ]
          },
          "metadata": {
            "needs_background": "light"
          }
        }
      ],
      "source": [
        "import numpy as np\n",
        "import pandas as pd\n",
        "num=np.array([26,34,56,77,55])\n",
        "df=pd.DataFrame(num)\n",
        "df\n",
        "avg=df.mean()\n",
        "print(avg)\n",
        "std=df.std()\n",
        "print(std)\n",
        "df.plot(kind='hist')\n",
        "df1=pd.DataFrame()\n",
        "\n",
        "\n",
        "for i in num:\n",
        "    x=(i-avg)/std\n",
        "    df1=df1.append(x,ignore_index=True)\n",
        "df1\n",
        "\n",
        "from sklearn.preprocessing import StandardScaler\n",
        "data=[[0,0],[1,1],[2,3]]\n",
        "data\n",
        "scaler=StandardScaler()\n",
        "scaler.fit(data)\n",
        "scaler.mean_\n",
        "scaler.scale_\n",
        "scaler.transform(data)\n"
      ]
    }
  ]
}