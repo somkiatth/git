{
  "nbformat": 4,
  "nbformat_minor": 0,
  "metadata": {
    "colab": {
      "provenance": [],
      "include_colab_link": true
    },
    "kernelspec": {
      "name": "python3",
      "display_name": "Python 3"
    },
    "language_info": {
      "name": "python"
    }
  },
  "cells": [
    {
      "cell_type": "markdown",
      "metadata": {
        "id": "view-in-github",
        "colab_type": "text"
      },
      "source": [
        "<a href=\"https://colab.research.google.com/github/somkiatth/git/blob/master/Copy_of_Recurrent_Neural_Networks_(RNNs)_.ipynb\" target=\"_parent\"><img src=\"https://colab.research.google.com/assets/colab-badge.svg\" alt=\"Open In Colab\"/></a>"
      ]
    },
    {
      "cell_type": "code",
      "execution_count": null,
      "metadata": {
        "id": "tEc2LqdsOYdo"
      },
      "outputs": [],
      "source": [
        "import keras\n",
        "from keras.models import Sequential\n",
        "from keras.layers import InputLayer, Dense, Activation, Dropout, Conv1D, Embedding, SimpleRNN\n",
        "from tensorflow.keras.preprocessing.text import Tokenizer\n",
        "from tensorflow.keras.preprocessing.sequence import pad_sequences\n",
        "from sklearn.model_selection import train_test_split\n",
        "import pandas as pd\n",
        "import numpy as np\n",
        "import spacy\n",
        "\n",
        "nlp = spacy.load(\"en_core_web_sm\") # โหลดโมเดลภาษาอังกฤษขนาดเล็กจาก spaCy เพื่อใช้ในการประมวลผลข้อความ เช่น การแยกคำ การแท็กไวยากรณ์ และการตรวจจับหน่วยข้อมูล"
      ]
    },
    {
      "cell_type": "code",
      "source": [
        "# Download tweeter data from https://github.com/crwong/cs224u-project/blob/master/data/sentiment/training.1600000.processed.noemoticon.csv\n",
        "# Use the raw GitHub URL for the CSV file\n",
        "url = \"https://raw.githubusercontent.com/crwong/cs224u-project/master/data/sentiment/training.1600000.processed.noemoticon.csv\"\n",
        "\n",
        "# Download the file\n",
        "!wget {url} -O training.1600000.processed.noemoticon.csv"
      ],
      "metadata": {
        "colab": {
          "base_uri": "https://localhost:8080/"
        },
        "id": "wvnw25zEA1pv",
        "outputId": "24abd518-ca40-4830-a665-3da85a1348d0"
      },
      "execution_count": null,
      "outputs": [
        {
          "output_type": "stream",
          "name": "stdout",
          "text": [
            "--2024-11-16 07:48:07--  https://raw.githubusercontent.com/crwong/cs224u-project/master/data/sentiment/training.1600000.processed.noemoticon.csv\n",
            "Resolving raw.githubusercontent.com (raw.githubusercontent.com)... 185.199.108.133, 185.199.109.133, 185.199.110.133, ...\n",
            "Connecting to raw.githubusercontent.com (raw.githubusercontent.com)|185.199.108.133|:443... connected.\n",
            "HTTP request sent, awaiting response... 200 OK\n",
            "Length: 2989873 (2.9M) [application/octet-stream]\n",
            "Saving to: ‘training.1600000.processed.noemoticon.csv’\n",
            "\n",
            "\r          training.   0%[                    ]       0  --.-KB/s               \rtraining.1600000.pr 100%[===================>]   2.85M  --.-KB/s    in 0.06s   \n",
            "\n",
            "2024-11-16 07:48:07 (46.1 MB/s) - ‘training.1600000.processed.noemoticon.csv’ saved [2989873/2989873]\n",
            "\n"
          ]
        }
      ]
    },
    {
      "cell_type": "code",
      "source": [
        "#load the dataset\n",
        "train=pd.read_csv(\"/content/training.1600000.processed.noemoticon.csv\" , encoding= \"latin-1\")\n",
        "Y_train = train[train.columns[0]]\n",
        "X_train = train[train.columns[5]]"
      ],
      "metadata": {
        "id": "RAhd12aePcMK"
      },
      "execution_count": null,
      "outputs": []
    },
    {
      "cell_type": "code",
      "source": [
        "train.head()"
      ],
      "metadata": {
        "colab": {
          "base_uri": "https://localhost:8080/",
          "height": 310
        },
        "id": "dR6eRAUVP3WS",
        "outputId": "50e6e93e-2b4c-4904-910f-d5f635b2b43f"
      },
      "execution_count": null,
      "outputs": [
        {
          "output_type": "execute_result",
          "data": {
            "text/plain": [
              "   0  1467810369  Mon Apr 06 22:19:45 PDT 2009  NO_QUERY _TheSpecialOne_  \\\n",
              "0  0  1467810672  Mon Apr 06 22:19:49 PDT 2009  NO_QUERY   scotthamilton   \n",
              "1  0  1467810917  Mon Apr 06 22:19:53 PDT 2009  NO_QUERY        mattycus   \n",
              "2  0  1467811184  Mon Apr 06 22:19:57 PDT 2009  NO_QUERY         ElleCTF   \n",
              "3  0  1467811193  Mon Apr 06 22:19:57 PDT 2009  NO_QUERY          Karoli   \n",
              "4  0  1467811372  Mon Apr 06 22:20:00 PDT 2009  NO_QUERY        joy_wolf   \n",
              "\n",
              "  @switchfoot http://twitpic.com/2y1zl - Awww, that's a bummer.  You shoulda got David Carr of Third Day to do it. ;D  \n",
              "0  is upset that he can't update his Facebook by ...                                                                   \n",
              "1  @Kenichan I dived many times for the ball. Man...                                                                   \n",
              "2    my whole body feels itchy and like its on fire                                                                    \n",
              "3  @nationwideclass no, it's not behaving at all....                                                                   \n",
              "4                      @Kwesidei not the whole crew                                                                    "
            ],
            "text/html": [
              "\n",
              "  <div id=\"df-f6655fdb-3865-4854-a477-50b6981f7f48\" class=\"colab-df-container\">\n",
              "    <div>\n",
              "<style scoped>\n",
              "    .dataframe tbody tr th:only-of-type {\n",
              "        vertical-align: middle;\n",
              "    }\n",
              "\n",
              "    .dataframe tbody tr th {\n",
              "        vertical-align: top;\n",
              "    }\n",
              "\n",
              "    .dataframe thead th {\n",
              "        text-align: right;\n",
              "    }\n",
              "</style>\n",
              "<table border=\"1\" class=\"dataframe\">\n",
              "  <thead>\n",
              "    <tr style=\"text-align: right;\">\n",
              "      <th></th>\n",
              "      <th>0</th>\n",
              "      <th>1467810369</th>\n",
              "      <th>Mon Apr 06 22:19:45 PDT 2009</th>\n",
              "      <th>NO_QUERY</th>\n",
              "      <th>_TheSpecialOne_</th>\n",
              "      <th>@switchfoot http://twitpic.com/2y1zl - Awww, that's a bummer.  You shoulda got David Carr of Third Day to do it. ;D</th>\n",
              "    </tr>\n",
              "  </thead>\n",
              "  <tbody>\n",
              "    <tr>\n",
              "      <th>0</th>\n",
              "      <td>0</td>\n",
              "      <td>1467810672</td>\n",
              "      <td>Mon Apr 06 22:19:49 PDT 2009</td>\n",
              "      <td>NO_QUERY</td>\n",
              "      <td>scotthamilton</td>\n",
              "      <td>is upset that he can't update his Facebook by ...</td>\n",
              "    </tr>\n",
              "    <tr>\n",
              "      <th>1</th>\n",
              "      <td>0</td>\n",
              "      <td>1467810917</td>\n",
              "      <td>Mon Apr 06 22:19:53 PDT 2009</td>\n",
              "      <td>NO_QUERY</td>\n",
              "      <td>mattycus</td>\n",
              "      <td>@Kenichan I dived many times for the ball. Man...</td>\n",
              "    </tr>\n",
              "    <tr>\n",
              "      <th>2</th>\n",
              "      <td>0</td>\n",
              "      <td>1467811184</td>\n",
              "      <td>Mon Apr 06 22:19:57 PDT 2009</td>\n",
              "      <td>NO_QUERY</td>\n",
              "      <td>ElleCTF</td>\n",
              "      <td>my whole body feels itchy and like its on fire</td>\n",
              "    </tr>\n",
              "    <tr>\n",
              "      <th>3</th>\n",
              "      <td>0</td>\n",
              "      <td>1467811193</td>\n",
              "      <td>Mon Apr 06 22:19:57 PDT 2009</td>\n",
              "      <td>NO_QUERY</td>\n",
              "      <td>Karoli</td>\n",
              "      <td>@nationwideclass no, it's not behaving at all....</td>\n",
              "    </tr>\n",
              "    <tr>\n",
              "      <th>4</th>\n",
              "      <td>0</td>\n",
              "      <td>1467811372</td>\n",
              "      <td>Mon Apr 06 22:20:00 PDT 2009</td>\n",
              "      <td>NO_QUERY</td>\n",
              "      <td>joy_wolf</td>\n",
              "      <td>@Kwesidei not the whole crew</td>\n",
              "    </tr>\n",
              "  </tbody>\n",
              "</table>\n",
              "</div>\n",
              "    <div class=\"colab-df-buttons\">\n",
              "\n",
              "  <div class=\"colab-df-container\">\n",
              "    <button class=\"colab-df-convert\" onclick=\"convertToInteractive('df-f6655fdb-3865-4854-a477-50b6981f7f48')\"\n",
              "            title=\"Convert this dataframe to an interactive table.\"\n",
              "            style=\"display:none;\">\n",
              "\n",
              "  <svg xmlns=\"http://www.w3.org/2000/svg\" height=\"24px\" viewBox=\"0 -960 960 960\">\n",
              "    <path d=\"M120-120v-720h720v720H120Zm60-500h600v-160H180v160Zm220 220h160v-160H400v160Zm0 220h160v-160H400v160ZM180-400h160v-160H180v160Zm440 0h160v-160H620v160ZM180-180h160v-160H180v160Zm440 0h160v-160H620v160Z\"/>\n",
              "  </svg>\n",
              "    </button>\n",
              "\n",
              "  <style>\n",
              "    .colab-df-container {\n",
              "      display:flex;\n",
              "      gap: 12px;\n",
              "    }\n",
              "\n",
              "    .colab-df-convert {\n",
              "      background-color: #E8F0FE;\n",
              "      border: none;\n",
              "      border-radius: 50%;\n",
              "      cursor: pointer;\n",
              "      display: none;\n",
              "      fill: #1967D2;\n",
              "      height: 32px;\n",
              "      padding: 0 0 0 0;\n",
              "      width: 32px;\n",
              "    }\n",
              "\n",
              "    .colab-df-convert:hover {\n",
              "      background-color: #E2EBFA;\n",
              "      box-shadow: 0px 1px 2px rgba(60, 64, 67, 0.3), 0px 1px 3px 1px rgba(60, 64, 67, 0.15);\n",
              "      fill: #174EA6;\n",
              "    }\n",
              "\n",
              "    .colab-df-buttons div {\n",
              "      margin-bottom: 4px;\n",
              "    }\n",
              "\n",
              "    [theme=dark] .colab-df-convert {\n",
              "      background-color: #3B4455;\n",
              "      fill: #D2E3FC;\n",
              "    }\n",
              "\n",
              "    [theme=dark] .colab-df-convert:hover {\n",
              "      background-color: #434B5C;\n",
              "      box-shadow: 0px 1px 3px 1px rgba(0, 0, 0, 0.15);\n",
              "      filter: drop-shadow(0px 1px 2px rgba(0, 0, 0, 0.3));\n",
              "      fill: #FFFFFF;\n",
              "    }\n",
              "  </style>\n",
              "\n",
              "    <script>\n",
              "      const buttonEl =\n",
              "        document.querySelector('#df-f6655fdb-3865-4854-a477-50b6981f7f48 button.colab-df-convert');\n",
              "      buttonEl.style.display =\n",
              "        google.colab.kernel.accessAllowed ? 'block' : 'none';\n",
              "\n",
              "      async function convertToInteractive(key) {\n",
              "        const element = document.querySelector('#df-f6655fdb-3865-4854-a477-50b6981f7f48');\n",
              "        const dataTable =\n",
              "          await google.colab.kernel.invokeFunction('convertToInteractive',\n",
              "                                                    [key], {});\n",
              "        if (!dataTable) return;\n",
              "\n",
              "        const docLinkHtml = 'Like what you see? Visit the ' +\n",
              "          '<a target=\"_blank\" href=https://colab.research.google.com/notebooks/data_table.ipynb>data table notebook</a>'\n",
              "          + ' to learn more about interactive tables.';\n",
              "        element.innerHTML = '';\n",
              "        dataTable['output_type'] = 'display_data';\n",
              "        await google.colab.output.renderOutput(dataTable, element);\n",
              "        const docLink = document.createElement('div');\n",
              "        docLink.innerHTML = docLinkHtml;\n",
              "        element.appendChild(docLink);\n",
              "      }\n",
              "    </script>\n",
              "  </div>\n",
              "\n",
              "\n",
              "<div id=\"df-912b95c6-e3b3-43e9-b1bd-8b05c8852c45\">\n",
              "  <button class=\"colab-df-quickchart\" onclick=\"quickchart('df-912b95c6-e3b3-43e9-b1bd-8b05c8852c45')\"\n",
              "            title=\"Suggest charts\"\n",
              "            style=\"display:none;\">\n",
              "\n",
              "<svg xmlns=\"http://www.w3.org/2000/svg\" height=\"24px\"viewBox=\"0 0 24 24\"\n",
              "     width=\"24px\">\n",
              "    <g>\n",
              "        <path d=\"M19 3H5c-1.1 0-2 .9-2 2v14c0 1.1.9 2 2 2h14c1.1 0 2-.9 2-2V5c0-1.1-.9-2-2-2zM9 17H7v-7h2v7zm4 0h-2V7h2v10zm4 0h-2v-4h2v4z\"/>\n",
              "    </g>\n",
              "</svg>\n",
              "  </button>\n",
              "\n",
              "<style>\n",
              "  .colab-df-quickchart {\n",
              "      --bg-color: #E8F0FE;\n",
              "      --fill-color: #1967D2;\n",
              "      --hover-bg-color: #E2EBFA;\n",
              "      --hover-fill-color: #174EA6;\n",
              "      --disabled-fill-color: #AAA;\n",
              "      --disabled-bg-color: #DDD;\n",
              "  }\n",
              "\n",
              "  [theme=dark] .colab-df-quickchart {\n",
              "      --bg-color: #3B4455;\n",
              "      --fill-color: #D2E3FC;\n",
              "      --hover-bg-color: #434B5C;\n",
              "      --hover-fill-color: #FFFFFF;\n",
              "      --disabled-bg-color: #3B4455;\n",
              "      --disabled-fill-color: #666;\n",
              "  }\n",
              "\n",
              "  .colab-df-quickchart {\n",
              "    background-color: var(--bg-color);\n",
              "    border: none;\n",
              "    border-radius: 50%;\n",
              "    cursor: pointer;\n",
              "    display: none;\n",
              "    fill: var(--fill-color);\n",
              "    height: 32px;\n",
              "    padding: 0;\n",
              "    width: 32px;\n",
              "  }\n",
              "\n",
              "  .colab-df-quickchart:hover {\n",
              "    background-color: var(--hover-bg-color);\n",
              "    box-shadow: 0 1px 2px rgba(60, 64, 67, 0.3), 0 1px 3px 1px rgba(60, 64, 67, 0.15);\n",
              "    fill: var(--button-hover-fill-color);\n",
              "  }\n",
              "\n",
              "  .colab-df-quickchart-complete:disabled,\n",
              "  .colab-df-quickchart-complete:disabled:hover {\n",
              "    background-color: var(--disabled-bg-color);\n",
              "    fill: var(--disabled-fill-color);\n",
              "    box-shadow: none;\n",
              "  }\n",
              "\n",
              "  .colab-df-spinner {\n",
              "    border: 2px solid var(--fill-color);\n",
              "    border-color: transparent;\n",
              "    border-bottom-color: var(--fill-color);\n",
              "    animation:\n",
              "      spin 1s steps(1) infinite;\n",
              "  }\n",
              "\n",
              "  @keyframes spin {\n",
              "    0% {\n",
              "      border-color: transparent;\n",
              "      border-bottom-color: var(--fill-color);\n",
              "      border-left-color: var(--fill-color);\n",
              "    }\n",
              "    20% {\n",
              "      border-color: transparent;\n",
              "      border-left-color: var(--fill-color);\n",
              "      border-top-color: var(--fill-color);\n",
              "    }\n",
              "    30% {\n",
              "      border-color: transparent;\n",
              "      border-left-color: var(--fill-color);\n",
              "      border-top-color: var(--fill-color);\n",
              "      border-right-color: var(--fill-color);\n",
              "    }\n",
              "    40% {\n",
              "      border-color: transparent;\n",
              "      border-right-color: var(--fill-color);\n",
              "      border-top-color: var(--fill-color);\n",
              "    }\n",
              "    60% {\n",
              "      border-color: transparent;\n",
              "      border-right-color: var(--fill-color);\n",
              "    }\n",
              "    80% {\n",
              "      border-color: transparent;\n",
              "      border-right-color: var(--fill-color);\n",
              "      border-bottom-color: var(--fill-color);\n",
              "    }\n",
              "    90% {\n",
              "      border-color: transparent;\n",
              "      border-bottom-color: var(--fill-color);\n",
              "    }\n",
              "  }\n",
              "</style>\n",
              "\n",
              "  <script>\n",
              "    async function quickchart(key) {\n",
              "      const quickchartButtonEl =\n",
              "        document.querySelector('#' + key + ' button');\n",
              "      quickchartButtonEl.disabled = true;  // To prevent multiple clicks.\n",
              "      quickchartButtonEl.classList.add('colab-df-spinner');\n",
              "      try {\n",
              "        const charts = await google.colab.kernel.invokeFunction(\n",
              "            'suggestCharts', [key], {});\n",
              "      } catch (error) {\n",
              "        console.error('Error during call to suggestCharts:', error);\n",
              "      }\n",
              "      quickchartButtonEl.classList.remove('colab-df-spinner');\n",
              "      quickchartButtonEl.classList.add('colab-df-quickchart-complete');\n",
              "    }\n",
              "    (() => {\n",
              "      let quickchartButtonEl =\n",
              "        document.querySelector('#df-912b95c6-e3b3-43e9-b1bd-8b05c8852c45 button');\n",
              "      quickchartButtonEl.style.display =\n",
              "        google.colab.kernel.accessAllowed ? 'block' : 'none';\n",
              "    })();\n",
              "  </script>\n",
              "</div>\n",
              "\n",
              "    </div>\n",
              "  </div>\n"
            ],
            "application/vnd.google.colaboratory.intrinsic+json": {
              "type": "dataframe",
              "variable_name": "train",
              "summary": "{\n  \"name\": \"train\",\n  \"rows\": 19999,\n  \"fields\": [\n    {\n      \"column\": \"0\",\n      \"properties\": {\n        \"dtype\": \"number\",\n        \"std\": 2,\n        \"min\": 0,\n        \"max\": 4,\n        \"num_unique_values\": 2,\n        \"samples\": [\n          4,\n          0\n        ],\n        \"semantic_type\": \"\",\n        \"description\": \"\"\n      }\n    },\n    {\n      \"column\": \"1467810369\",\n      \"properties\": {\n        \"dtype\": \"number\",\n        \"std\": 356596257,\n        \"min\": 1467810672,\n        \"max\": 2193602129,\n        \"num_unique_values\": 19999,\n        \"samples\": [\n          2191434437,\n          1468291086\n        ],\n        \"semantic_type\": \"\",\n        \"description\": \"\"\n      }\n    },\n    {\n      \"column\": \"Mon Apr 06 22:19:45 PDT 2009\",\n      \"properties\": {\n        \"dtype\": \"object\",\n        \"num_unique_values\": 11362,\n        \"samples\": [\n          \"Mon Apr 06 22:27:25 PDT 2009\",\n          \"Tue Apr 07 07:13:27 PDT 2009\"\n        ],\n        \"semantic_type\": \"\",\n        \"description\": \"\"\n      }\n    },\n    {\n      \"column\": \"NO_QUERY\",\n      \"properties\": {\n        \"dtype\": \"category\",\n        \"num_unique_values\": 1,\n        \"samples\": [\n          \"NO_QUERY\"\n        ],\n        \"semantic_type\": \"\",\n        \"description\": \"\"\n      }\n    },\n    {\n      \"column\": \"_TheSpecialOne_\",\n      \"properties\": {\n        \"dtype\": \"string\",\n        \"num_unique_values\": 18104,\n        \"samples\": [\n          \"strawberryluna\"\n        ],\n        \"semantic_type\": \"\",\n        \"description\": \"\"\n      }\n    },\n    {\n      \"column\": \"@switchfoot http://twitpic.com/2y1zl - Awww, that's a bummer.  You shoulda got David Carr of Third Day to do it. ;D\",\n      \"properties\": {\n        \"dtype\": \"string\",\n        \"num_unique_values\": 19952,\n        \"samples\": [\n          \"just realized i forgot my lunch at home \"\n        ],\n        \"semantic_type\": \"\",\n        \"description\": \"\"\n      }\n    }\n  ]\n}"
            }
          },
          "metadata": {},
          "execution_count": 4
        }
      ]
    },
    {
      "cell_type": "code",
      "source": [
        "# split the data into test and train by train_test_split and then one-hot encoding for Y_train\n",
        "from sklearn.model_selection import train_test_split\n",
        "trainset1x, trainset2x, trainset1y, trainset2y = train_test_split(X_train.values, Y_train.values, test_size=0.02,random_state=42 )\n",
        "trainset2y = pd.get_dummies(trainset2y)"
      ],
      "metadata": {
        "id": "6uCwtTxQPq5E"
      },
      "execution_count": null,
      "outputs": []
    },
    {
      "cell_type": "code",
      "source": [
        "# function to remove stopwords\n",
        "def stopwords(sentence):\n",
        "    new = []                       # สร้าง list ว่างเพื่อเก็บคำที่ต้องการใช้\n",
        "    sentence = nlp(sentence)       # แปลงข้อความเป็นวัตถุ Doc โดยใช้ spaCy\n",
        "    for w in sentence:\n",
        "        if (w.is_stop == False) & (w.pos_ != \"PUNCT\"):  # ตรวจสอบว่าคำไม่ใช่ stopword และไม่ใช่เครื่องหมายวรรคตอน\n",
        "            new.append(w.string.strip())   # เพิ่มคำที่ผ่านการกรองลงใน list new\n",
        "    c = \" \".join(str(x) for x in new)      # รวมคำทั้งหมดที่อยู่ใน new เป็นประโยค\n",
        "    return c                               # ส่งคืนประโยคที่ไม่มี stopwords และ punctuation"
      ],
      "metadata": {
        "id": "90q_UrRNPucm"
      },
      "execution_count": null,
      "outputs": []
    },
    {
      "cell_type": "code",
      "source": [
        "# function to lemmatize the tweets\n",
        "def lemmatize(sentence):\n",
        "    sentence = nlp(sentence)      # แปลงข้อความเป็นวัตถุ Doc โดยใช้ spaCy\n",
        "    str = \"\"                      # สร้างสตริงว่างสำหรับเก็บประโยคที่ผ่านการ lemmatize\n",
        "    for w in sentence:            # ลูปผ่านแต่ละคำ (Token) ในประโยค\n",
        "        str += \" \" + w.lemma_     # เพิ่ม lemma ของคำแต่ละคำลงใน str\n",
        "    return nlp(str)               # ส่งคืนประโยคใหม่ที่ประกอบด้วย lemmatized tokens\n"
      ],
      "metadata": {
        "id": "9oYkhd7XP_eX"
      },
      "execution_count": null,
      "outputs": []
    },
    {
      "cell_type": "code",
      "source": [
        "#loading the glove model\n",
        "def loadGloveModel(gloveFile):\n",
        "    print(\"Loading Glove Model\")\n",
        "    f = open(gloveFile, 'r')         # เปิดไฟล์ GloVe ที่ระบุ\n",
        "    model = {}                       # สร้างดิกชันนารีเปล่าเพื่อเก็บคำและเวกเตอร์ฝังคำ\n",
        "    for line in f:\n",
        "        splitLine = line.split()      # แยกคำและค่าเวกเตอร์แต่ละบรรทัดด้วยช่องว่าง\n",
        "        word = splitLine[0]           # คำแรกในบรรทัดคือคำ (word)\n",
        "        embedding = [float(val) for val in splitLine[1:]]  # ค่าเวกเตอร์ฝังคำที่เหลือ\n",
        "        model[word] = embedding       # เพิ่มคำและเวกเตอร์ในดิกชันนารี\n",
        "    print(\"Done.\", len(model), \"words loaded!\")  # แสดงข้อความเสร็จสิ้นและจำนวนคำที่โหลด\n",
        "    return model                      # ส่งคืนดิกชันนารีที่เก็บคำและเวกเตอร์ฝังคำ\n"
      ],
      "metadata": {
        "id": "xnO8SlaXQG-E"
      },
      "execution_count": null,
      "outputs": []
    },
    {
      "cell_type": "code",
      "source": [
        "!wget https://nlp.stanford.edu/data/glove.twitter.27B.zip"
      ],
      "metadata": {
        "colab": {
          "base_uri": "https://localhost:8080/"
        },
        "id": "iGVApD_DTQ-1",
        "outputId": "da30c62c-6358-414b-e01c-691ee7e0ddab"
      },
      "execution_count": null,
      "outputs": [
        {
          "output_type": "stream",
          "name": "stdout",
          "text": [
            "--2024-11-16 07:56:54--  https://nlp.stanford.edu/data/glove.twitter.27B.zip\n",
            "Resolving nlp.stanford.edu (nlp.stanford.edu)... 171.64.67.140\n",
            "Connecting to nlp.stanford.edu (nlp.stanford.edu)|171.64.67.140|:443... connected.\n",
            "HTTP request sent, awaiting response... 301 Moved Permanently\n",
            "Location: https://downloads.cs.stanford.edu/nlp/data/glove.twitter.27B.zip [following]\n",
            "--2024-11-16 07:56:54--  https://downloads.cs.stanford.edu/nlp/data/glove.twitter.27B.zip\n",
            "Resolving downloads.cs.stanford.edu (downloads.cs.stanford.edu)... 171.64.64.22\n",
            "Connecting to downloads.cs.stanford.edu (downloads.cs.stanford.edu)|171.64.64.22|:443... connected.\n",
            "HTTP request sent, awaiting response... 200 OK\n",
            "Length: 1520408563 (1.4G) [application/zip]\n",
            "Saving to: ‘glove.twitter.27B.zip’\n",
            "\n",
            "glove.twitter.27B.z 100%[===================>]   1.42G  5.01MB/s    in 4m 45s  \n",
            "\n",
            "2024-11-16 08:01:39 (5.09 MB/s) - ‘glove.twitter.27B.zip’ saved [1520408563/1520408563]\n",
            "\n"
          ]
        }
      ]
    },
    {
      "cell_type": "code",
      "source": [
        "!unzip glove.twitter.27B.zip glove.twitter.27B.200d.txt"
      ],
      "metadata": {
        "colab": {
          "base_uri": "https://localhost:8080/"
        },
        "id": "rxv7vuzfTXA-",
        "outputId": "0646212d-d288-4e6d-f047-19edd3c1cf33"
      },
      "execution_count": null,
      "outputs": [
        {
          "output_type": "stream",
          "name": "stdout",
          "text": [
            "Archive:  glove.twitter.27B.zip\n",
            "  inflating: glove.twitter.27B.200d.txt  \n"
          ]
        }
      ]
    },
    {
      "cell_type": "code",
      "source": [
        "# save the glove model\n",
        "# โหลดโมเดล GloVe ที่ใช้สำหรับการสร้างเวกเตอร์คำ โดยจะเก็บเวกเตอร์ในตัวแปร model\n",
        "model=loadGloveModel(\"/content/glove.twitter.27B.200d.txt\")"
      ],
      "metadata": {
        "colab": {
          "base_uri": "https://localhost:8080/"
        },
        "id": "lsIkSiuoQJyt",
        "outputId": "96f59808-3997-44b6-8712-e224959d3b26"
      },
      "execution_count": null,
      "outputs": [
        {
          "output_type": "stream",
          "name": "stdout",
          "text": [
            "Loading Glove Model\n",
            "Done. 1193514 words loaded!\n"
          ]
        }
      ]
    },
    {
      "cell_type": "code",
      "source": [
        "len(model)"
      ],
      "metadata": {
        "colab": {
          "base_uri": "https://localhost:8080/"
        },
        "id": "su6w2qMfWQ-q",
        "outputId": "0609615d-8419-49f8-ebcd-791b42ce004e"
      },
      "execution_count": null,
      "outputs": [
        {
          "output_type": "execute_result",
          "data": {
            "text/plain": [
              "1193514"
            ]
          },
          "metadata": {},
          "execution_count": 12
        }
      ]
    },
    {
      "cell_type": "code",
      "source": [
        "#vectorising the sentences สร้างฟังก์ชันที่ใช้เวกเตอร์คำจากโมเดล GloVe เพื่อสร้างเวกเตอร์ของประโยค\n",
        "def sent_vectorizer(sent, model):\n",
        "    sent_vec = np.zeros(200)         # สร้างเวกเตอร์ศูนย์ (vector of zeros) ขนาด 200 มิติ สำหรับเริ่มต้นเก็บค่าเวกเตอร์ของประโยค\n",
        "    numw = 0                         # ตัวนับจำนวนคำที่มีอยู่ในโมเดล embedding\n",
        "    for w in sent.split():           # แยกคำในประโยคโดยช่องว่างแล้ววนซ้ำแต่ละคำ\n",
        "        try:\n",
        "            sent_vec = np.add(sent_vec, model[str(w)])  # บวกเวกเตอร์ของคำแต่ละคำกับ sent_vec\n",
        "            numw += 1                # นับจำนวนคำที่มีเวกเตอร์ในโมเดล\n",
        "        except:\n",
        "            pass                     # ถ้าไม่มีเวกเตอร์สำหรับคำใน model จะข้ามคำนี้ไป\n",
        "    return sent_vec                  # ส่งคืนเวกเตอร์ประโยคที่คำนวณได้\n"
      ],
      "metadata": {
        "id": "9B1kYV0FUErE"
      },
      "execution_count": null,
      "outputs": []
    },
    {
      "cell_type": "code",
      "source": [
        "#obtain a clean vector ทำความสะอาดข้อมูลและสร้างเวกเตอร์สำหรับแต่ละทวีต จากนั้นแปลงเป็น NumPy array และปรับรูปทรงให้ตรงตามความต้องการ\n",
        "cleanvector = []\n",
        "for i in range(trainset2x.shape[0]):          # วนลูปผ่านข้อความทั้งหมดใน trainset2x\n",
        "    document = trainset2x[i]                  # นำข้อความที่ตำแหน่ง i จาก trainset2x\n",
        "    document = document.lower()               # แปลงข้อความให้เป็นตัวพิมพ์เล็ก\n",
        "    document = lemmatize(document)            # นำข้อความไปแปลงเป็น lemmatize (ลดรูปคำ)\n",
        "    document = str(document)                  # แปลงผลลัพธ์เป็นประเภท string (ข้อความ)\n",
        "    cleanvector.append(sent_vectorizer(document, model))  # แปลงข้อความเป็นเวกเตอร์แล้วเพิ่มใน cleanvector\n"
      ],
      "metadata": {
        "id": "71pKZ4glUFTW"
      },
      "execution_count": null,
      "outputs": []
    },
    {
      "cell_type": "code",
      "source": [
        "trainset2x[0]"
      ],
      "metadata": {
        "id": "RlnfoqOQoQkd",
        "outputId": "e96b677c-0a17-4c24-a0be-505a39ae96e8",
        "colab": {
          "base_uri": "https://localhost:8080/",
          "height": 36
        }
      },
      "execution_count": null,
      "outputs": [
        {
          "output_type": "execute_result",
          "data": {
            "text/plain": [
              "'2 more Exams '"
            ],
            "application/vnd.google.colaboratory.intrinsic+json": {
              "type": "string"
            }
          },
          "metadata": {},
          "execution_count": 15
        }
      ]
    },
    {
      "cell_type": "code",
      "source": [
        "#Getting the input and output in proper shape\n",
        "cleanvector = np.array(cleanvector)           # แปลง cleanvector เป็นอาเรย์ numpy\n",
        "cleanvector = cleanvector.reshape(len(cleanvector), 200, 1)  # จัดรูปแบบอาเรย์ใหม่เป็น (จำนวนตัวอย่าง, 200, 1)"
      ],
      "metadata": {
        "id": "HPGgsz3PUHuN"
      },
      "execution_count": null,
      "outputs": []
    },
    {
      "cell_type": "code",
      "source": [
        "#tokenizing the sequences ใช้ Tokenizer สำหรับการตัดลำดับข้อความและเติมคำที่หายไปให้มีความยาวเท่ากัน (padding) จากนั้นปรับรูปทรงของข้อมูล\n",
        "tokenizer = Tokenizer(num_words=16000)                # สร้างตัวแปลงข้อความเป็นลำดับโดยใช้ 16,000 คำที่พบบ่อยที่สุด\n",
        "tokenizer.fit_on_texts(trainset2x)                    # สร้างพจนานุกรมจากข้อความใน trainset2x\n",
        "sequences = tokenizer.texts_to_sequences(trainset2x)  # แปลงข้อความใน trainset2x เป็นลำดับของหมายเลขแทนคำ\n",
        "word_index = tokenizer.word_index                     # สร้างดิกชันนารีที่แมปคำแต่ละคำกับหมายเลขของมัน\n",
        "print('Found %s unique tokens.' % len(word_index))    # แสดงจำนวนคำทั้งหมดใน word_index\n",
        "data = pad_sequences(sequences, maxlen=15, padding=\"post\")  # ปรับความยาวของ sequences ให้เท่ากันที่ 15 ตำแหน่ง\n",
        "print(data.shape)                                     # แสดงรูปร่างของข้อมูล data หลังการ pad\n"
      ],
      "metadata": {
        "colab": {
          "base_uri": "https://localhost:8080/"
        },
        "id": "JVJa2zyhUKYt",
        "outputId": "61a4ecf3-9323-4572-b07b-e5f2755cd0fc"
      },
      "execution_count": null,
      "outputs": [
        {
          "output_type": "stream",
          "name": "stdout",
          "text": [
            "Found 1873 unique tokens.\n",
            "(400, 15)\n"
          ]
        }
      ]
    },
    {
      "cell_type": "code",
      "source": [
        "data=data.reshape(len(data),15,1)"
      ],
      "metadata": {
        "id": "HbE3tG_Wk99J"
      },
      "execution_count": null,
      "outputs": []
    },
    {
      "cell_type": "code",
      "source": [
        "data.shape"
      ],
      "metadata": {
        "colab": {
          "base_uri": "https://localhost:8080/"
        },
        "id": "eI3pqFIHk_HC",
        "outputId": "f7e0ff9d-5a46-48d2-8486-718a69d20d3b"
      },
      "execution_count": null,
      "outputs": [
        {
          "output_type": "execute_result",
          "data": {
            "text/plain": [
              "(400, 15, 1)"
            ]
          },
          "metadata": {},
          "execution_count": 19
        }
      ]
    },
    {
      "cell_type": "code",
      "source": [
        "trainset2y.values[0]"
      ],
      "metadata": {
        "colab": {
          "base_uri": "https://localhost:8080/"
        },
        "id": "0Vbq4MqTQM2K",
        "outputId": "95f5156d-7e7f-430e-ee0b-ffb8fd017fd0"
      },
      "execution_count": null,
      "outputs": [
        {
          "output_type": "execute_result",
          "data": {
            "text/plain": [
              "array([False,  True])"
            ]
          },
          "metadata": {},
          "execution_count": 20
        }
      ]
    },
    {
      "cell_type": "code",
      "source": [
        "trainx, validx, trainy, validy = train_test_split(data, trainset2y.values, test_size=0.3,random_state=42 )"
      ],
      "metadata": {
        "id": "N6BsuwWaUMAV"
      },
      "execution_count": null,
      "outputs": []
    },
    {
      "cell_type": "code",
      "source": [
        "trainx[0]"
      ],
      "metadata": {
        "colab": {
          "base_uri": "https://localhost:8080/"
        },
        "id": "p_bt3ZIDOOCf",
        "outputId": "9b7cb2cc-5999-4940-b697-a95f6b521371"
      },
      "execution_count": null,
      "outputs": [
        {
          "output_type": "execute_result",
          "data": {
            "text/plain": [
              "array([[1120],\n",
              "       [ 477],\n",
              "       [  91],\n",
              "       [  70],\n",
              "       [  66],\n",
              "       [   4],\n",
              "       [ 229],\n",
              "       [  14],\n",
              "       [ 357],\n",
              "       [  11],\n",
              "       [  31],\n",
              "       [ 217],\n",
              "       [   0],\n",
              "       [   0],\n",
              "       [   0]], dtype=int32)"
            ]
          },
          "metadata": {},
          "execution_count": 22
        }
      ]
    },
    {
      "cell_type": "code",
      "source": [
        "trainy[0]"
      ],
      "metadata": {
        "colab": {
          "base_uri": "https://localhost:8080/"
        },
        "id": "NITWtxgNOcN_",
        "outputId": "f85b00be-811b-4bd9-8772-48cdcc3be552"
      },
      "execution_count": null,
      "outputs": [
        {
          "output_type": "execute_result",
          "data": {
            "text/plain": [
              "array([False,  True])"
            ]
          },
          "metadata": {},
          "execution_count": 23
        }
      ]
    },
    {
      "cell_type": "code",
      "source": [
        "#calculate the number of words\n",
        "nb_words=len(tokenizer.word_index)+1"
      ],
      "metadata": {
        "id": "-C1J2E0HUOMZ"
      },
      "execution_count": null,
      "outputs": []
    },
    {
      "cell_type": "code",
      "source": [
        "#obtain theembedding matrix\n",
        "embedding_matrix = np.zeros((nb_words, 200)) # สร้างอาร์เรย์ที่มีขนาด (จำนวนคำ, 200)\n",
        "for word, i in word_index.items():\n",
        "    embedding_vector = model.get(word) # ดึงเวกเตอร์ฝังตัวที่เกี่ยวข้องกับคำปัจจุบันจาก GloVe model ที่โหลดไว้ก่อนหน้า\n",
        "    if embedding_vector is not None:\n",
        "        embedding_matrix[i] = embedding_vector\n",
        "print('Null word embeddings: %d' % np.sum(np.sum(embedding_matrix, axis=1) == 0)) # นับจำนวนเวกเตอร์ใน embedding_matrix ที่มีค่าเป็น 0 (เวกเตอร์ที่ไม่ได้รับการกำหนดค่า)\n"
      ],
      "metadata": {
        "colab": {
          "base_uri": "https://localhost:8080/"
        },
        "id": "Thl8eR-nUPlV",
        "outputId": "02fa4196-b61d-4bef-818a-e7f2ba7bdb02"
      },
      "execution_count": null,
      "outputs": [
        {
          "output_type": "stream",
          "name": "stdout",
          "text": [
            "Null word embeddings: 346\n"
          ]
        }
      ]
    },
    {
      "cell_type": "code",
      "source": [
        "embedding_matrix.shape"
      ],
      "metadata": {
        "colab": {
          "base_uri": "https://localhost:8080/"
        },
        "id": "1F2hHaskq7pe",
        "outputId": "fd453a34-3f27-43ce-908a-946efdc57916"
      },
      "execution_count": null,
      "outputs": [
        {
          "output_type": "execute_result",
          "data": {
            "text/plain": [
              "(1874, 200)"
            ]
          },
          "metadata": {},
          "execution_count": 26
        }
      ]
    },
    {
      "cell_type": "code",
      "source": [
        "len(tokenizer.word_index)"
      ],
      "metadata": {
        "colab": {
          "base_uri": "https://localhost:8080/"
        },
        "id": "IV3RZulQqtNj",
        "outputId": "403d96fa-7025-444f-aaeb-b96d0ff2e3ed"
      },
      "execution_count": null,
      "outputs": [
        {
          "output_type": "execute_result",
          "data": {
            "text/plain": [
              "1873"
            ]
          },
          "metadata": {},
          "execution_count": 27
        }
      ]
    },
    {
      "cell_type": "code",
      "source": [
        "def modelbuild():\n",
        "    model = Sequential(name='RNN')\n",
        "    model.add(InputLayer(shape=(15,))) # ความยาว 15 ตำแหน่ง (15 timesteps)\n",
        "    # input_dim=len(tokenizer.word_index) + 1: จำนวนคำที่ใช้ในโมเดล (รวมตำแหน่ง padding)\n",
        "    # output_dim=200: ขนาดของเวกเตอร์ฝังตัวแต่ละคำคือ 200 มิติ\n",
        "    # input_length=15: ความยาวของลำดับข้อมูลที่ป้อนเข้า\n",
        "    # weights=[embedding_matrix]: ใช้ embedding_matrix ที่สร้างไว้เพื่อใช้เป็นเวกเตอร์ฝังตัวเริ่มต้น\n",
        "    # trainable=False: หมายความว่าไม่อนุญาตให้ปรับค่าของเวกเตอร์ฝังตัวในระหว่างการฝึก (เพื่อรักษาค่าที่ได้จาก GloVe)\n",
        "    model.add(Embedding(input_dim=len(tokenizer.word_index) + 1, output_dim=200, input_length=15, weights=[embedding_matrix], trainable=False))\n",
        "    model.add(keras.layers.SimpleRNN(units=100, activation='relu', use_bias=True))\n",
        "    model.add(keras.layers.Dense(units=1000, activation='sigmoid'))\n",
        "    model.add(keras.layers.Dense(units=500, activation='relu'))\n",
        "    model.add(keras.layers.Dense(units=2, activation='softmax'))\n",
        "\n",
        "    model.compile(loss='categorical_crossentropy', optimizer='adam', metrics=['accuracy'])\n",
        "    return model"
      ],
      "metadata": {
        "id": "-ij4AX_zZ0Ps"
      },
      "execution_count": null,
      "outputs": []
    },
    {
      "cell_type": "code",
      "source": [
        "trainx.shape, validx.shape, trainy.shape, validy.shape"
      ],
      "metadata": {
        "colab": {
          "base_uri": "https://localhost:8080/"
        },
        "id": "LzBjDa2rmnjG",
        "outputId": "b89d8771-6ba7-42fa-e456-bd5cba5e463a"
      },
      "execution_count": null,
      "outputs": [
        {
          "output_type": "execute_result",
          "data": {
            "text/plain": [
              "((280, 15, 1), (120, 15, 1), (280, 2), (120, 2))"
            ]
          },
          "metadata": {},
          "execution_count": 29
        }
      ]
    },
    {
      "cell_type": "code",
      "source": [
        "#compiling the model\n",
        "finalmodel = modelbuild()\n",
        "finalmodel.summary()"
      ],
      "metadata": {
        "colab": {
          "base_uri": "https://localhost:8080/",
          "height": 344
        },
        "id": "T02HFjMfUVKw",
        "outputId": "cce98e6f-7655-4e6b-8a6a-0def1bc23c5b"
      },
      "execution_count": null,
      "outputs": [
        {
          "output_type": "stream",
          "name": "stderr",
          "text": [
            "/usr/local/lib/python3.10/dist-packages/keras/src/layers/core/embedding.py:90: UserWarning: Argument `input_length` is deprecated. Just remove it.\n",
            "  warnings.warn(\n"
          ]
        },
        {
          "output_type": "display_data",
          "data": {
            "text/plain": [
              "\u001b[1mModel: \"RNN\"\u001b[0m\n"
            ],
            "text/html": [
              "<pre style=\"white-space:pre;overflow-x:auto;line-height:normal;font-family:Menlo,'DejaVu Sans Mono',consolas,'Courier New',monospace\"><span style=\"font-weight: bold\">Model: \"RNN\"</span>\n",
              "</pre>\n"
            ]
          },
          "metadata": {}
        },
        {
          "output_type": "display_data",
          "data": {
            "text/plain": [
              "┏━━━━━━━━━━━━━━━━━━━━━━━━━━━━━━━━━━━━━━┳━━━━━━━━━━━━━━━━━━━━━━━━━━━━━┳━━━━━━━━━━━━━━━━━┓\n",
              "┃\u001b[1m \u001b[0m\u001b[1mLayer (type)                        \u001b[0m\u001b[1m \u001b[0m┃\u001b[1m \u001b[0m\u001b[1mOutput Shape               \u001b[0m\u001b[1m \u001b[0m┃\u001b[1m \u001b[0m\u001b[1m        Param #\u001b[0m\u001b[1m \u001b[0m┃\n",
              "┡━━━━━━━━━━━━━━━━━━━━━━━━━━━━━━━━━━━━━━╇━━━━━━━━━━━━━━━━━━━━━━━━━━━━━╇━━━━━━━━━━━━━━━━━┩\n",
              "│ embedding (\u001b[38;5;33mEmbedding\u001b[0m)                │ (\u001b[38;5;45mNone\u001b[0m, \u001b[38;5;34m15\u001b[0m, \u001b[38;5;34m200\u001b[0m)             │         \u001b[38;5;34m374,800\u001b[0m │\n",
              "├──────────────────────────────────────┼─────────────────────────────┼─────────────────┤\n",
              "│ simple_rnn (\u001b[38;5;33mSimpleRNN\u001b[0m)               │ (\u001b[38;5;45mNone\u001b[0m, \u001b[38;5;34m100\u001b[0m)                 │          \u001b[38;5;34m30,100\u001b[0m │\n",
              "├──────────────────────────────────────┼─────────────────────────────┼─────────────────┤\n",
              "│ dense (\u001b[38;5;33mDense\u001b[0m)                        │ (\u001b[38;5;45mNone\u001b[0m, \u001b[38;5;34m1000\u001b[0m)                │         \u001b[38;5;34m101,000\u001b[0m │\n",
              "├──────────────────────────────────────┼─────────────────────────────┼─────────────────┤\n",
              "│ dense_1 (\u001b[38;5;33mDense\u001b[0m)                      │ (\u001b[38;5;45mNone\u001b[0m, \u001b[38;5;34m500\u001b[0m)                 │         \u001b[38;5;34m500,500\u001b[0m │\n",
              "├──────────────────────────────────────┼─────────────────────────────┼─────────────────┤\n",
              "│ dense_2 (\u001b[38;5;33mDense\u001b[0m)                      │ (\u001b[38;5;45mNone\u001b[0m, \u001b[38;5;34m2\u001b[0m)                   │           \u001b[38;5;34m1,002\u001b[0m │\n",
              "└──────────────────────────────────────┴─────────────────────────────┴─────────────────┘\n"
            ],
            "text/html": [
              "<pre style=\"white-space:pre;overflow-x:auto;line-height:normal;font-family:Menlo,'DejaVu Sans Mono',consolas,'Courier New',monospace\">┏━━━━━━━━━━━━━━━━━━━━━━━━━━━━━━━━━━━━━━┳━━━━━━━━━━━━━━━━━━━━━━━━━━━━━┳━━━━━━━━━━━━━━━━━┓\n",
              "┃<span style=\"font-weight: bold\"> Layer (type)                         </span>┃<span style=\"font-weight: bold\"> Output Shape                </span>┃<span style=\"font-weight: bold\">         Param # </span>┃\n",
              "┡━━━━━━━━━━━━━━━━━━━━━━━━━━━━━━━━━━━━━━╇━━━━━━━━━━━━━━━━━━━━━━━━━━━━━╇━━━━━━━━━━━━━━━━━┩\n",
              "│ embedding (<span style=\"color: #0087ff; text-decoration-color: #0087ff\">Embedding</span>)                │ (<span style=\"color: #00d7ff; text-decoration-color: #00d7ff\">None</span>, <span style=\"color: #00af00; text-decoration-color: #00af00\">15</span>, <span style=\"color: #00af00; text-decoration-color: #00af00\">200</span>)             │         <span style=\"color: #00af00; text-decoration-color: #00af00\">374,800</span> │\n",
              "├──────────────────────────────────────┼─────────────────────────────┼─────────────────┤\n",
              "│ simple_rnn (<span style=\"color: #0087ff; text-decoration-color: #0087ff\">SimpleRNN</span>)               │ (<span style=\"color: #00d7ff; text-decoration-color: #00d7ff\">None</span>, <span style=\"color: #00af00; text-decoration-color: #00af00\">100</span>)                 │          <span style=\"color: #00af00; text-decoration-color: #00af00\">30,100</span> │\n",
              "├──────────────────────────────────────┼─────────────────────────────┼─────────────────┤\n",
              "│ dense (<span style=\"color: #0087ff; text-decoration-color: #0087ff\">Dense</span>)                        │ (<span style=\"color: #00d7ff; text-decoration-color: #00d7ff\">None</span>, <span style=\"color: #00af00; text-decoration-color: #00af00\">1000</span>)                │         <span style=\"color: #00af00; text-decoration-color: #00af00\">101,000</span> │\n",
              "├──────────────────────────────────────┼─────────────────────────────┼─────────────────┤\n",
              "│ dense_1 (<span style=\"color: #0087ff; text-decoration-color: #0087ff\">Dense</span>)                      │ (<span style=\"color: #00d7ff; text-decoration-color: #00d7ff\">None</span>, <span style=\"color: #00af00; text-decoration-color: #00af00\">500</span>)                 │         <span style=\"color: #00af00; text-decoration-color: #00af00\">500,500</span> │\n",
              "├──────────────────────────────────────┼─────────────────────────────┼─────────────────┤\n",
              "│ dense_2 (<span style=\"color: #0087ff; text-decoration-color: #0087ff\">Dense</span>)                      │ (<span style=\"color: #00d7ff; text-decoration-color: #00d7ff\">None</span>, <span style=\"color: #00af00; text-decoration-color: #00af00\">2</span>)                   │           <span style=\"color: #00af00; text-decoration-color: #00af00\">1,002</span> │\n",
              "└──────────────────────────────────────┴─────────────────────────────┴─────────────────┘\n",
              "</pre>\n"
            ]
          },
          "metadata": {}
        },
        {
          "output_type": "display_data",
          "data": {
            "text/plain": [
              "\u001b[1m Total params: \u001b[0m\u001b[38;5;34m1,007,402\u001b[0m (3.84 MB)\n"
            ],
            "text/html": [
              "<pre style=\"white-space:pre;overflow-x:auto;line-height:normal;font-family:Menlo,'DejaVu Sans Mono',consolas,'Courier New',monospace\"><span style=\"font-weight: bold\"> Total params: </span><span style=\"color: #00af00; text-decoration-color: #00af00\">1,007,402</span> (3.84 MB)\n",
              "</pre>\n"
            ]
          },
          "metadata": {}
        },
        {
          "output_type": "display_data",
          "data": {
            "text/plain": [
              "\u001b[1m Trainable params: \u001b[0m\u001b[38;5;34m632,602\u001b[0m (2.41 MB)\n"
            ],
            "text/html": [
              "<pre style=\"white-space:pre;overflow-x:auto;line-height:normal;font-family:Menlo,'DejaVu Sans Mono',consolas,'Courier New',monospace\"><span style=\"font-weight: bold\"> Trainable params: </span><span style=\"color: #00af00; text-decoration-color: #00af00\">632,602</span> (2.41 MB)\n",
              "</pre>\n"
            ]
          },
          "metadata": {}
        },
        {
          "output_type": "display_data",
          "data": {
            "text/plain": [
              "\u001b[1m Non-trainable params: \u001b[0m\u001b[38;5;34m374,800\u001b[0m (1.43 MB)\n"
            ],
            "text/html": [
              "<pre style=\"white-space:pre;overflow-x:auto;line-height:normal;font-family:Menlo,'DejaVu Sans Mono',consolas,'Courier New',monospace\"><span style=\"font-weight: bold\"> Non-trainable params: </span><span style=\"color: #00af00; text-decoration-color: #00af00\">374,800</span> (1.43 MB)\n",
              "</pre>\n"
            ]
          },
          "metadata": {}
        }
      ]
    },
    {
      "cell_type": "code",
      "source": [
        "import time\n",
        "start_time = time.time()\n",
        "finalmodel.fit(trainx, trainy, epochs=30, batch_size=120,validation_data=(validx,validy))\n",
        "end_time = time.time()\n",
        "print(f\"Training time: {end_time - start_time:.2f} seconds\")"
      ],
      "metadata": {
        "colab": {
          "base_uri": "https://localhost:8080/"
        },
        "id": "_uP_97zUdw3L",
        "outputId": "cfb55a6c-21f7-408d-9b87-2ae11e177775"
      },
      "execution_count": null,
      "outputs": [
        {
          "output_type": "stream",
          "name": "stdout",
          "text": [
            "Epoch 1/30\n",
            "\u001b[1m3/3\u001b[0m \u001b[32m━━━━━━━━━━━━━━━━━━━━\u001b[0m\u001b[37m\u001b[0m \u001b[1m5s\u001b[0m 375ms/step - accuracy: 0.5607 - loss: 1.7593 - val_accuracy: 0.5083 - val_loss: 1.5244\n",
            "Epoch 2/30\n",
            "\u001b[1m3/3\u001b[0m \u001b[32m━━━━━━━━━━━━━━━━━━━━\u001b[0m\u001b[37m\u001b[0m \u001b[1m0s\u001b[0m 69ms/step - accuracy: 0.5140 - loss: 1.6449 - val_accuracy: 0.5083 - val_loss: 1.1666\n",
            "Epoch 3/30\n",
            "\u001b[1m3/3\u001b[0m \u001b[32m━━━━━━━━━━━━━━━━━━━━\u001b[0m\u001b[37m\u001b[0m \u001b[1m0s\u001b[0m 72ms/step - accuracy: 0.5421 - loss: 0.9143 - val_accuracy: 0.4917 - val_loss: 1.1556\n",
            "Epoch 4/30\n",
            "\u001b[1m3/3\u001b[0m \u001b[32m━━━━━━━━━━━━━━━━━━━━\u001b[0m\u001b[37m\u001b[0m \u001b[1m0s\u001b[0m 80ms/step - accuracy: 0.4766 - loss: 1.1740 - val_accuracy: 0.4917 - val_loss: 0.7062\n",
            "Epoch 5/30\n",
            "\u001b[1m3/3\u001b[0m \u001b[32m━━━━━━━━━━━━━━━━━━━━\u001b[0m\u001b[37m\u001b[0m \u001b[1m0s\u001b[0m 68ms/step - accuracy: 0.4815 - loss: 0.7329 - val_accuracy: 0.5083 - val_loss: 1.0511\n",
            "Epoch 6/30\n",
            "\u001b[1m3/3\u001b[0m \u001b[32m━━━━━━━━━━━━━━━━━━━━\u001b[0m\u001b[37m\u001b[0m \u001b[1m0s\u001b[0m 72ms/step - accuracy: 0.5296 - loss: 0.9830 - val_accuracy: 0.5083 - val_loss: 0.7139\n",
            "Epoch 7/30\n",
            "\u001b[1m3/3\u001b[0m \u001b[32m━━━━━━━━━━━━━━━━━━━━\u001b[0m\u001b[37m\u001b[0m \u001b[1m0s\u001b[0m 81ms/step - accuracy: 0.4981 - loss: 0.7056 - val_accuracy: 0.4917 - val_loss: 0.8309\n",
            "Epoch 8/30\n",
            "\u001b[1m3/3\u001b[0m \u001b[32m━━━━━━━━━━━━━━━━━━━━\u001b[0m\u001b[37m\u001b[0m \u001b[1m0s\u001b[0m 69ms/step - accuracy: 0.4725 - loss: 0.8172 - val_accuracy: 0.5167 - val_loss: 0.6845\n",
            "Epoch 9/30\n",
            "\u001b[1m3/3\u001b[0m \u001b[32m━━━━━━━━━━━━━━━━━━━━\u001b[0m\u001b[37m\u001b[0m \u001b[1m0s\u001b[0m 61ms/step - accuracy: 0.5985 - loss: 0.6644 - val_accuracy: 0.5083 - val_loss: 0.7830\n",
            "Epoch 10/30\n",
            "\u001b[1m3/3\u001b[0m \u001b[32m━━━━━━━━━━━━━━━━━━━━\u001b[0m\u001b[37m\u001b[0m \u001b[1m0s\u001b[0m 135ms/step - accuracy: 0.5408 - loss: 0.7261 - val_accuracy: 0.5250 - val_loss: 0.6910\n",
            "Epoch 11/30\n",
            "\u001b[1m3/3\u001b[0m \u001b[32m━━━━━━━━━━━━━━━━━━━━\u001b[0m\u001b[37m\u001b[0m \u001b[1m0s\u001b[0m 66ms/step - accuracy: 0.6676 - loss: 0.6445 - val_accuracy: 0.4917 - val_loss: 0.7232\n",
            "Epoch 12/30\n",
            "\u001b[1m3/3\u001b[0m \u001b[32m━━━━━━━━━━━━━━━━━━━━\u001b[0m\u001b[37m\u001b[0m \u001b[1m0s\u001b[0m 58ms/step - accuracy: 0.4841 - loss: 0.6781 - val_accuracy: 0.5833 - val_loss: 0.6801\n",
            "Epoch 13/30\n",
            "\u001b[1m3/3\u001b[0m \u001b[32m━━━━━━━━━━━━━━━━━━━━\u001b[0m\u001b[37m\u001b[0m \u001b[1m0s\u001b[0m 84ms/step - accuracy: 0.7490 - loss: 0.6068 - val_accuracy: 0.5167 - val_loss: 0.7102\n",
            "Epoch 14/30\n",
            "\u001b[1m3/3\u001b[0m \u001b[32m━━━━━━━━━━━━━━━━━━━━\u001b[0m\u001b[37m\u001b[0m \u001b[1m0s\u001b[0m 62ms/step - accuracy: 0.6582 - loss: 0.6090 - val_accuracy: 0.5667 - val_loss: 0.6755\n",
            "Epoch 15/30\n",
            "\u001b[1m3/3\u001b[0m \u001b[32m━━━━━━━━━━━━━━━━━━━━\u001b[0m\u001b[37m\u001b[0m \u001b[1m0s\u001b[0m 64ms/step - accuracy: 0.7757 - loss: 0.5558 - val_accuracy: 0.6250 - val_loss: 0.6809\n",
            "Epoch 16/30\n",
            "\u001b[1m3/3\u001b[0m \u001b[32m━━━━━━━━━━━━━━━━━━━━\u001b[0m\u001b[37m\u001b[0m \u001b[1m0s\u001b[0m 60ms/step - accuracy: 0.8278 - loss: 0.5178 - val_accuracy: 0.5333 - val_loss: 0.6895\n",
            "Epoch 17/30\n",
            "\u001b[1m3/3\u001b[0m \u001b[32m━━━━━━━━━━━━━━━━━━━━\u001b[0m\u001b[37m\u001b[0m \u001b[1m0s\u001b[0m 77ms/step - accuracy: 0.7643 - loss: 0.4794 - val_accuracy: 0.5917 - val_loss: 0.7063\n",
            "Epoch 18/30\n",
            "\u001b[1m3/3\u001b[0m \u001b[32m━━━━━━━━━━━━━━━━━━━━\u001b[0m\u001b[37m\u001b[0m \u001b[1m0s\u001b[0m 77ms/step - accuracy: 0.8429 - loss: 0.3994 - val_accuracy: 0.5667 - val_loss: 0.7378\n",
            "Epoch 19/30\n",
            "\u001b[1m3/3\u001b[0m \u001b[32m━━━━━━━━━━━━━━━━━━━━\u001b[0m\u001b[37m\u001b[0m \u001b[1m0s\u001b[0m 59ms/step - accuracy: 0.8185 - loss: 0.3857 - val_accuracy: 0.6917 - val_loss: 0.6710\n",
            "Epoch 20/30\n",
            "\u001b[1m3/3\u001b[0m \u001b[32m━━━━━━━━━━━━━━━━━━━━\u001b[0m\u001b[37m\u001b[0m \u001b[1m0s\u001b[0m 62ms/step - accuracy: 0.9278 - loss: 0.2589 - val_accuracy: 0.6917 - val_loss: 0.6871\n",
            "Epoch 21/30\n",
            "\u001b[1m3/3\u001b[0m \u001b[32m━━━━━━━━━━━━━━━━━━━━\u001b[0m\u001b[37m\u001b[0m \u001b[1m0s\u001b[0m 81ms/step - accuracy: 0.9384 - loss: 0.2017 - val_accuracy: 0.7000 - val_loss: 0.7275\n",
            "Epoch 22/30\n",
            "\u001b[1m3/3\u001b[0m \u001b[32m━━━━━━━━━━━━━━━━━━━━\u001b[0m\u001b[37m\u001b[0m \u001b[1m0s\u001b[0m 73ms/step - accuracy: 0.9616 - loss: 0.1540 - val_accuracy: 0.6833 - val_loss: 0.8126\n",
            "Epoch 23/30\n",
            "\u001b[1m3/3\u001b[0m \u001b[32m━━━━━━━━━━━━━━━━━━━━\u001b[0m\u001b[37m\u001b[0m \u001b[1m0s\u001b[0m 58ms/step - accuracy: 0.9820 - loss: 0.0913 - val_accuracy: 0.6833 - val_loss: 0.8723\n",
            "Epoch 24/30\n",
            "\u001b[1m3/3\u001b[0m \u001b[32m━━━━━━━━━━━━━━━━━━━━\u001b[0m\u001b[37m\u001b[0m \u001b[1m0s\u001b[0m 67ms/step - accuracy: 0.9824 - loss: 0.0689 - val_accuracy: 0.6833 - val_loss: 0.9408\n",
            "Epoch 25/30\n",
            "\u001b[1m3/3\u001b[0m \u001b[32m━━━━━━━━━━━━━━━━━━━━\u001b[0m\u001b[37m\u001b[0m \u001b[1m0s\u001b[0m 75ms/step - accuracy: 0.9902 - loss: 0.0536 - val_accuracy: 0.6750 - val_loss: 1.0971\n",
            "Epoch 26/30\n",
            "\u001b[1m3/3\u001b[0m \u001b[32m━━━━━━━━━━━━━━━━━━━━\u001b[0m\u001b[37m\u001b[0m \u001b[1m0s\u001b[0m 64ms/step - accuracy: 0.9972 - loss: 0.0290 - val_accuracy: 0.6750 - val_loss: 1.2050\n",
            "Epoch 27/30\n",
            "\u001b[1m3/3\u001b[0m \u001b[32m━━━━━━━━━━━━━━━━━━━━\u001b[0m\u001b[37m\u001b[0m \u001b[1m0s\u001b[0m 63ms/step - accuracy: 0.9982 - loss: 0.0167 - val_accuracy: 0.6667 - val_loss: 1.2820\n",
            "Epoch 28/30\n",
            "\u001b[1m3/3\u001b[0m \u001b[32m━━━━━━━━━━━━━━━━━━━━\u001b[0m\u001b[37m\u001b[0m \u001b[1m0s\u001b[0m 85ms/step - accuracy: 0.9951 - loss: 0.0301 - val_accuracy: 0.6917 - val_loss: 1.4977\n",
            "Epoch 29/30\n",
            "\u001b[1m3/3\u001b[0m \u001b[32m━━━━━━━━━━━━━━━━━━━━\u001b[0m\u001b[37m\u001b[0m \u001b[1m0s\u001b[0m 72ms/step - accuracy: 0.9933 - loss: 0.0289 - val_accuracy: 0.6500 - val_loss: 1.3446\n",
            "Epoch 30/30\n",
            "\u001b[1m3/3\u001b[0m \u001b[32m━━━━━━━━━━━━━━━━━━━━\u001b[0m\u001b[37m\u001b[0m \u001b[1m0s\u001b[0m 66ms/step - accuracy: 0.9874 - loss: 0.0350 - val_accuracy: 0.6667 - val_loss: 1.2351\n",
            "Training time: 13.90 seconds\n"
          ]
        }
      ]
    },
    {
      "cell_type": "code",
      "source": [
        "# Evaluate\n",
        "score = finalmodel.evaluate(validx,validy, verbose=0)\n",
        "print(\"Loss is\", '{:.2f}'.format(score[0]*100))\n",
        "print(\"Accuracy score is\", '{:.2f}'.format(score[1]*100))"
      ],
      "metadata": {
        "colab": {
          "base_uri": "https://localhost:8080/"
        },
        "id": "WyZrQYKmXdWb",
        "outputId": "4c78087a-782d-4b04-c5fb-62804ee3a8ef"
      },
      "execution_count": null,
      "outputs": [
        {
          "output_type": "stream",
          "name": "stdout",
          "text": [
            "Loss is 123.51\n",
            "Accuracy score is 66.67\n"
          ]
        }
      ]
    },
    {
      "cell_type": "code",
      "source": [],
      "metadata": {
        "id": "5L-hpfrTeMNd"
      },
      "execution_count": null,
      "outputs": []
    }
  ]
}