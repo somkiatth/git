{
  "nbformat": 4,
  "nbformat_minor": 0,
  "metadata": {
    "colab": {
      "name": "RDD_Demo.ipynb",
      "provenance": [],
      "include_colab_link": true
    },
    "kernelspec": {
      "name": "python3",
      "display_name": "Python 3"
    },
    "language_info": {
      "name": "python"
    }
  },
  "cells": [
    {
      "cell_type": "markdown",
      "metadata": {
        "id": "view-in-github",
        "colab_type": "text"
      },
      "source": [
        "<a href=\"https://colab.research.google.com/github/somkiatth/git/blob/master/kuRDD_Demo.ipynb\" target=\"_parent\"><img src=\"https://colab.research.google.com/assets/colab-badge.svg\" alt=\"Open In Colab\"/></a>"
      ]
    },
    {
      "cell_type": "markdown",
      "source": [
        "# ทดลองลง **PySpark**"
      ],
      "metadata": {
        "id": "paYqGgVuCo-M"
      }
    },
    {
      "cell_type": "code",
      "execution_count": null,
      "metadata": {
        "colab": {
          "base_uri": "https://localhost:8080/"
        },
        "id": "8tfcat2TCjMh",
        "outputId": "f0c525ee-d613-41c9-b307-4041516cc5ec"
      },
      "outputs": [
        {
          "output_type": "stream",
          "name": "stdout",
          "text": [
            "Hello World!\n"
          ]
        }
      ],
      "source": [
        "print('Hello World!')"
      ]
    },
    {
      "cell_type": "code",
      "source": [
        "!pip install pyspark"
      ],
      "metadata": {
        "colab": {
          "base_uri": "https://localhost:8080/"
        },
        "id": "9Zj_pwZwDq31",
        "outputId": "9580d563-e624-4b8e-b02d-4e269a8fc942"
      },
      "execution_count": null,
      "outputs": [
        {
          "output_type": "stream",
          "name": "stdout",
          "text": [
            "Looking in indexes: https://pypi.org/simple, https://us-python.pkg.dev/colab-wheels/public/simple/\n",
            "Collecting pyspark\n",
            "  Downloading pyspark-3.3.0.tar.gz (281.3 MB)\n",
            "\u001b[K     |████████████████████████████████| 281.3 MB 43 kB/s \n",
            "\u001b[?25hCollecting py4j==0.10.9.5\n",
            "  Downloading py4j-0.10.9.5-py2.py3-none-any.whl (199 kB)\n",
            "\u001b[K     |████████████████████████████████| 199 kB 67.3 MB/s \n",
            "\u001b[?25hBuilding wheels for collected packages: pyspark\n",
            "  Building wheel for pyspark (setup.py) ... \u001b[?25l\u001b[?25hdone\n",
            "  Created wheel for pyspark: filename=pyspark-3.3.0-py2.py3-none-any.whl size=281764026 sha256=9eee9c500d6991a4cfcdec0093c4cd0ee35a22e1d08d16a74e1a88a7052057f5\n",
            "  Stored in directory: /root/.cache/pip/wheels/7a/8e/1b/f73a52650d2e5f337708d9f6a1750d451a7349a867f928b885\n",
            "Successfully built pyspark\n",
            "Installing collected packages: py4j, pyspark\n",
            "Successfully installed py4j-0.10.9.5 pyspark-3.3.0\n"
          ]
        }
      ]
    },
    {
      "cell_type": "code",
      "source": [
        "from pyspark.sql import SparkSession"
      ],
      "metadata": {
        "id": "YFCbcnHnE2uh"
      },
      "execution_count": null,
      "outputs": []
    },
    {
      "cell_type": "code",
      "source": [
        "spark = SparkSession.builder.appName('rdd_demo').getOrCreate()"
      ],
      "metadata": {
        "id": "5xwDBOTDUVJY"
      },
      "execution_count": null,
      "outputs": []
    },
    {
      "cell_type": "code",
      "source": [
        "coins = range(10)"
      ],
      "metadata": {
        "id": "6gnDwiSbVvKG"
      },
      "execution_count": null,
      "outputs": []
    },
    {
      "cell_type": "code",
      "source": [
        "list(coins)"
      ],
      "metadata": {
        "colab": {
          "base_uri": "https://localhost:8080/"
        },
        "id": "uEcOBlsFVxMI",
        "outputId": "fc195c86-44b0-43f0-b133-534bef8c3b29"
      },
      "execution_count": null,
      "outputs": [
        {
          "output_type": "execute_result",
          "data": {
            "text/plain": [
              "[0, 1, 2, 3, 4, 5, 6, 7, 8, 9]"
            ]
          },
          "metadata": {},
          "execution_count": 9
        }
      ]
    },
    {
      "cell_type": "code",
      "source": [
        "coins_rdd = spark.sparkContext.parallelize(coins)"
      ],
      "metadata": {
        "id": "T0tY-GIZV89j"
      },
      "execution_count": null,
      "outputs": []
    },
    {
      "cell_type": "code",
      "source": [
        "coins_rdd.getNumPartitions()"
      ],
      "metadata": {
        "colab": {
          "base_uri": "https://localhost:8080/"
        },
        "id": "29PAGdyhWYDf",
        "outputId": "3256ef0f-019f-4fd0-8b3d-2f0a49efdf20"
      },
      "execution_count": null,
      "outputs": [
        {
          "output_type": "execute_result",
          "data": {
            "text/plain": [
              "2"
            ]
          },
          "metadata": {},
          "execution_count": 11
        }
      ]
    },
    {
      "cell_type": "code",
      "source": [
        "coin_squared_rdd = coins_rdd.map(lambda x: x**2)"
      ],
      "metadata": {
        "id": "rFfiwDeVWigK"
      },
      "execution_count": null,
      "outputs": []
    },
    {
      "cell_type": "code",
      "source": [
        "coin_squared_rdd.take(5)"
      ],
      "metadata": {
        "colab": {
          "base_uri": "https://localhost:8080/"
        },
        "id": "PRQibr2xXsJn",
        "outputId": "1b99c54a-3737-4a7f-f433-516cd7312427"
      },
      "execution_count": null,
      "outputs": [
        {
          "output_type": "execute_result",
          "data": {
            "text/plain": [
              "[0, 1, 4, 9, 16]"
            ]
          },
          "metadata": {},
          "execution_count": 13
        }
      ]
    },
    {
      "cell_type": "code",
      "source": [
        "coin_squared_rdd.reduce(lambda x,y: x+y)"
      ],
      "metadata": {
        "colab": {
          "base_uri": "https://localhost:8080/"
        },
        "id": "u4d5f9FKZ4As",
        "outputId": "4ba2d802-8b8f-456c-d507-079ca07fe218"
      },
      "execution_count": null,
      "outputs": [
        {
          "output_type": "execute_result",
          "data": {
            "text/plain": [
              "285"
            ]
          },
          "metadata": {},
          "execution_count": 14
        }
      ]
    },
    {
      "cell_type": "code",
      "source": [
        "import random"
      ],
      "metadata": {
        "id": "sbQVa3MgaiEH"
      },
      "execution_count": null,
      "outputs": []
    },
    {
      "cell_type": "code",
      "source": [
        "flip_rdd = coins_rdd.map(lambda x: random.random() )"
      ],
      "metadata": {
        "id": "FDKlK4BnajLM"
      },
      "execution_count": null,
      "outputs": []
    },
    {
      "cell_type": "code",
      "source": [
        "flip_rdd.collect()"
      ],
      "metadata": {
        "colab": {
          "base_uri": "https://localhost:8080/"
        },
        "id": "Jqz1PtVmauQ2",
        "outputId": "6e18597f-a1f2-4691-d2b9-0a6c1a9d5db6"
      },
      "execution_count": null,
      "outputs": [
        {
          "output_type": "execute_result",
          "data": {
            "text/plain": [
              "[0.08645653579670187,\n",
              " 0.6442600470634781,\n",
              " 0.6519859889233526,\n",
              " 0.3017287343559987,\n",
              " 0.5754198563574969,\n",
              " 0.45944762573904174,\n",
              " 0.7393389096700232,\n",
              " 0.1955402874819705,\n",
              " 0.45621425520771464,\n",
              " 0.16793399939968257]"
            ]
          },
          "metadata": {},
          "execution_count": 33
        }
      ]
    },
    {
      "cell_type": "code",
      "source": [
        "head_rdd= flip_rdd.filter(lambda x: x > 0.5)"
      ],
      "metadata": {
        "id": "jXc9Acplbebm"
      },
      "execution_count": null,
      "outputs": []
    },
    {
      "cell_type": "code",
      "source": [
        "head_rdd.collect()"
      ],
      "metadata": {
        "colab": {
          "base_uri": "https://localhost:8080/"
        },
        "id": "ezvc-mqQbwfI",
        "outputId": "3afd841f-81fb-45a3-dc56-6e0e873486c2"
      },
      "execution_count": null,
      "outputs": [
        {
          "output_type": "execute_result",
          "data": {
            "text/plain": [
              "[0.9029962119914815, 0.9678036555359747, 0.6130005704445302]"
            ]
          },
          "metadata": {},
          "execution_count": 21
        }
      ]
    },
    {
      "cell_type": "code",
      "source": [
        "flip_rdd_cached = coins_rdd.map(lambda x: random.random() ).cache()"
      ],
      "metadata": {
        "id": "WO053ErOdHS9"
      },
      "execution_count": null,
      "outputs": []
    },
    {
      "cell_type": "code",
      "source": [
        "flip_rdd_cached.collect()"
      ],
      "metadata": {
        "colab": {
          "base_uri": "https://localhost:8080/"
        },
        "id": "4JXOFKWKeODQ",
        "outputId": "f9a909a0-6846-49b8-932e-b161d599b13c"
      },
      "execution_count": null,
      "outputs": [
        {
          "output_type": "execute_result",
          "data": {
            "text/plain": [
              "[0.6755736977235276,\n",
              " 0.7034235451126585,\n",
              " 0.29883780833951745,\n",
              " 0.48666913566597625,\n",
              " 0.2999132293612924,\n",
              " 0.2370995490319946,\n",
              " 0.8066286693847678,\n",
              " 0.11684050370466281,\n",
              " 0.31796131864956756,\n",
              " 0.3006018493885453]"
            ]
          },
          "metadata": {},
          "execution_count": 34
        }
      ]
    },
    {
      "cell_type": "code",
      "source": [
        "flip_rdd_cached.filter(lambda x: x > 0.5).collect()"
      ],
      "metadata": {
        "colab": {
          "base_uri": "https://localhost:8080/"
        },
        "id": "7g0rTelceXXz",
        "outputId": "aa13ce17-8fdb-4df0-f647-b282da03a2e6"
      },
      "execution_count": null,
      "outputs": [
        {
          "output_type": "execute_result",
          "data": {
            "text/plain": [
              "[0.6755736977235276, 0.7034235451126585, 0.8066286693847678]"
            ]
          },
          "metadata": {},
          "execution_count": 37
        }
      ]
    },
    {
      "cell_type": "code",
      "source": [
        "file_path= '/content/drive/MyDrive/Datasets/book-war-and-peace.txt'"
      ],
      "metadata": {
        "id": "12YAsbBIeRuh"
      },
      "execution_count": null,
      "outputs": []
    },
    {
      "cell_type": "code",
      "source": [
        "book_rdd = spark.sparkContext.textFile(file_path)"
      ],
      "metadata": {
        "id": "kX2oVzrLhEa4"
      },
      "execution_count": null,
      "outputs": []
    },
    {
      "cell_type": "code",
      "source": [
        "book_rdd.take(10)"
      ],
      "metadata": {
        "colab": {
          "base_uri": "https://localhost:8080/"
        },
        "id": "QkJT-IzhhNP5",
        "outputId": "90adee5c-f1d3-4280-cb20-8e42b28a67b0"
      },
      "execution_count": null,
      "outputs": [
        {
          "output_type": "execute_result",
          "data": {
            "text/plain": [
              "['CHAPTER I',\n",
              " '',\n",
              " '\"Well, Prince, so Genoa and Lucca are now just family estates of the',\n",
              " \"Buonapartes. But I warn you, if you don't tell me that this means war,\",\n",
              " 'if you still try to defend the infamies and horrors perpetrated by that',\n",
              " 'Antichrist--I really believe he is Antichrist--I will have nothing more',\n",
              " \"to do with you and you are no longer my friend, no longer my 'faithful\",\n",
              " \"slave,' as you call yourself! But how do you do? I see I have frightened\",\n",
              " 'you--sit down and tell me all the news.\"',\n",
              " '']"
            ]
          },
          "metadata": {},
          "execution_count": 41
        }
      ]
    },
    {
      "cell_type": "code",
      "source": [
        "book_rdd.map(lambda line: line.split() ).take(10)"
      ],
      "metadata": {
        "colab": {
          "base_uri": "https://localhost:8080/"
        },
        "id": "xs00eJihhRnJ",
        "outputId": "dab969eb-ba5e-4d32-b522-5ead71e9cc6a"
      },
      "execution_count": null,
      "outputs": [
        {
          "output_type": "execute_result",
          "data": {
            "text/plain": [
              "[['CHAPTER', 'I'],\n",
              " [],\n",
              " ['\"Well,',\n",
              "  'Prince,',\n",
              "  'so',\n",
              "  'Genoa',\n",
              "  'and',\n",
              "  'Lucca',\n",
              "  'are',\n",
              "  'now',\n",
              "  'just',\n",
              "  'family',\n",
              "  'estates',\n",
              "  'of',\n",
              "  'the'],\n",
              " ['Buonapartes.',\n",
              "  'But',\n",
              "  'I',\n",
              "  'warn',\n",
              "  'you,',\n",
              "  'if',\n",
              "  'you',\n",
              "  \"don't\",\n",
              "  'tell',\n",
              "  'me',\n",
              "  'that',\n",
              "  'this',\n",
              "  'means',\n",
              "  'war,'],\n",
              " ['if',\n",
              "  'you',\n",
              "  'still',\n",
              "  'try',\n",
              "  'to',\n",
              "  'defend',\n",
              "  'the',\n",
              "  'infamies',\n",
              "  'and',\n",
              "  'horrors',\n",
              "  'perpetrated',\n",
              "  'by',\n",
              "  'that'],\n",
              " ['Antichrist--I',\n",
              "  'really',\n",
              "  'believe',\n",
              "  'he',\n",
              "  'is',\n",
              "  'Antichrist--I',\n",
              "  'will',\n",
              "  'have',\n",
              "  'nothing',\n",
              "  'more'],\n",
              " ['to',\n",
              "  'do',\n",
              "  'with',\n",
              "  'you',\n",
              "  'and',\n",
              "  'you',\n",
              "  'are',\n",
              "  'no',\n",
              "  'longer',\n",
              "  'my',\n",
              "  'friend,',\n",
              "  'no',\n",
              "  'longer',\n",
              "  'my',\n",
              "  \"'faithful\"],\n",
              " [\"slave,'\",\n",
              "  'as',\n",
              "  'you',\n",
              "  'call',\n",
              "  'yourself!',\n",
              "  'But',\n",
              "  'how',\n",
              "  'do',\n",
              "  'you',\n",
              "  'do?',\n",
              "  'I',\n",
              "  'see',\n",
              "  'I',\n",
              "  'have',\n",
              "  'frightened'],\n",
              " ['you--sit', 'down', 'and', 'tell', 'me', 'all', 'the', 'news.\"'],\n",
              " []]"
            ]
          },
          "metadata": {},
          "execution_count": 42
        }
      ]
    },
    {
      "cell_type": "code",
      "source": [
        "words_rdd = book_rdd.flatMap(lambda line: line.split() ).cache()"
      ],
      "metadata": {
        "id": "2ijeqIVei9DW"
      },
      "execution_count": null,
      "outputs": []
    },
    {
      "cell_type": "code",
      "source": [
        "words_rdd.count()"
      ],
      "metadata": {
        "colab": {
          "base_uri": "https://localhost:8080/"
        },
        "id": "8abAnEQqjWai",
        "outputId": "6c8e36ba-68f9-4262-d36b-0a572517fc71"
      },
      "execution_count": null,
      "outputs": [
        {
          "output_type": "execute_result",
          "data": {
            "text/plain": [
              "562488"
            ]
          },
          "metadata": {},
          "execution_count": 47
        }
      ]
    },
    {
      "cell_type": "code",
      "source": [
        "book_rdd.count()"
      ],
      "metadata": {
        "colab": {
          "base_uri": "https://localhost:8080/"
        },
        "id": "z9T7CFcbjqjw",
        "outputId": "f7d32b49-4542-4d4c-fd9c-67f0f1f4d8ce"
      },
      "execution_count": null,
      "outputs": [
        {
          "output_type": "execute_result",
          "data": {
            "text/plain": [
              "63845"
            ]
          },
          "metadata": {},
          "execution_count": 48
        }
      ]
    },
    {
      "cell_type": "code",
      "source": [
        "count_war = 0"
      ],
      "metadata": {
        "id": "qAdLerkzqmHG"
      },
      "execution_count": null,
      "outputs": []
    },
    {
      "cell_type": "code",
      "source": [
        "def add_war(x):\n",
        "  global count_war\n",
        "  if x == 'war':\n",
        "    count_war = count_war + 1"
      ],
      "metadata": {
        "id": "jOGNU_9wqoMa"
      },
      "execution_count": null,
      "outputs": []
    },
    {
      "cell_type": "code",
      "source": [
        "words_rdd.map(add_war).count()"
      ],
      "metadata": {
        "colab": {
          "base_uri": "https://localhost:8080/"
        },
        "id": "FRmgeX6Sqwz9",
        "outputId": "b6fe3330-be41-4362-bc70-7edddf1743f4"
      },
      "execution_count": null,
      "outputs": [
        {
          "output_type": "execute_result",
          "data": {
            "text/plain": [
              "562488"
            ]
          },
          "metadata": {},
          "execution_count": 52
        }
      ]
    },
    {
      "cell_type": "code",
      "source": [
        "count_war"
      ],
      "metadata": {
        "colab": {
          "base_uri": "https://localhost:8080/"
        },
        "id": "XIB0uPFQra6X",
        "outputId": "d7fd64b7-b7e8-4201-e03e-03dbffba8adc"
      },
      "execution_count": null,
      "outputs": [
        {
          "output_type": "execute_result",
          "data": {
            "text/plain": [
              "0"
            ]
          },
          "metadata": {},
          "execution_count": 53
        }
      ]
    },
    {
      "cell_type": "code",
      "source": [
        "def tag_war(x):\n",
        "  if x==\"war\":\n",
        "    return 1\n",
        "  else:\n",
        "    return 0"
      ],
      "metadata": {
        "id": "oitGT5n_rbqt"
      },
      "execution_count": null,
      "outputs": []
    },
    {
      "cell_type": "code",
      "source": [
        "words_rdd.map(tag_war).reduce(lambda x,y: x+y)"
      ],
      "metadata": {
        "colab": {
          "base_uri": "https://localhost:8080/"
        },
        "id": "N3J9-Iz0txAT",
        "outputId": "6497c4be-048e-4f2b-d2b3-52f4245ddb91"
      },
      "execution_count": null,
      "outputs": [
        {
          "output_type": "execute_result",
          "data": {
            "text/plain": [
              "166"
            ]
          },
          "metadata": {},
          "execution_count": 59
        }
      ]
    },
    {
      "cell_type": "code",
      "source": [
        "accum_war = spark.sparkContext.accumulator(0)"
      ],
      "metadata": {
        "id": "ybukd4tQt6GF"
      },
      "execution_count": null,
      "outputs": []
    },
    {
      "cell_type": "code",
      "source": [
        "def add_war_accum(x):\n",
        "  if x=='war':\n",
        "    accum_war.add(1)"
      ],
      "metadata": {
        "id": "nCn2UagGvdqQ"
      },
      "execution_count": null,
      "outputs": []
    },
    {
      "cell_type": "code",
      "source": [
        "accum_war.value"
      ],
      "metadata": {
        "colab": {
          "base_uri": "https://localhost:8080/"
        },
        "id": "zQiMZ_HDvo1g",
        "outputId": "5b0445f7-ace1-4bfd-e420-8a1faa82a091"
      },
      "execution_count": null,
      "outputs": [
        {
          "output_type": "execute_result",
          "data": {
            "text/plain": [
              "0"
            ]
          },
          "metadata": {},
          "execution_count": 66
        }
      ]
    },
    {
      "cell_type": "code",
      "source": [
        "words_rdd.foreach(add_war_accum)"
      ],
      "metadata": {
        "id": "yN7XauqOv2KU"
      },
      "execution_count": null,
      "outputs": []
    },
    {
      "cell_type": "code",
      "source": [
        "accum_war.value"
      ],
      "metadata": {
        "colab": {
          "base_uri": "https://localhost:8080/"
        },
        "id": "0bivDcawwMtk",
        "outputId": "5711eee6-7d3b-43c2-b0e1-3f73b3f74c53"
      },
      "execution_count": null,
      "outputs": [
        {
          "output_type": "execute_result",
          "data": {
            "text/plain": [
              "166"
            ]
          },
          "metadata": {},
          "execution_count": 68
        }
      ]
    },
    {
      "cell_type": "code",
      "source": [
        "words_kv_rdd = words_rdd.map(lambda x: (x,1) )"
      ],
      "metadata": {
        "id": "GUI_Xbbjxk1w"
      },
      "execution_count": null,
      "outputs": []
    },
    {
      "cell_type": "code",
      "source": [
        "words_kv_rdd.take(5)"
      ],
      "metadata": {
        "colab": {
          "base_uri": "https://localhost:8080/"
        },
        "id": "vlafgVGFx1QL",
        "outputId": "b97520ea-4c56-48b5-d7b0-110f1c79b699"
      },
      "execution_count": null,
      "outputs": [
        {
          "output_type": "execute_result",
          "data": {
            "text/plain": [
              "[('CHAPTER', 1), ('I', 1), ('\"Well,', 1), ('Prince,', 1), ('so', 1)]"
            ]
          },
          "metadata": {},
          "execution_count": 71
        }
      ]
    },
    {
      "cell_type": "code",
      "source": [
        "words_kv_rdd.groupByKey().take(5)"
      ],
      "metadata": {
        "colab": {
          "base_uri": "https://localhost:8080/"
        },
        "id": "GPPIVk3mzIid",
        "outputId": "89c72573-a888-47f1-94a1-f5cfb2c20e3b"
      },
      "execution_count": null,
      "outputs": [
        {
          "output_type": "execute_result",
          "data": {
            "text/plain": [
              "[('Prince,', <pyspark.resultiterable.ResultIterable at 0x7f4bada09650>),\n",
              " ('Genoa', <pyspark.resultiterable.ResultIterable at 0x7f4bada6bd50>),\n",
              " ('Lucca', <pyspark.resultiterable.ResultIterable at 0x7f4bada09c50>),\n",
              " ('are', <pyspark.resultiterable.ResultIterable at 0x7f4bada09510>),\n",
              " ('now', <pyspark.resultiterable.ResultIterable at 0x7f4bada09210>)]"
            ]
          },
          "metadata": {},
          "execution_count": 74
        }
      ]
    },
    {
      "cell_type": "code",
      "source": [
        "words_kv_rdd.groupByKey()\\\n",
        "                    .map(lambda x: ( x[0], sum(x[1]) ) )\\\n",
        "                    .take(5)"
      ],
      "metadata": {
        "colab": {
          "base_uri": "https://localhost:8080/"
        },
        "id": "8kbbAWQyx4di",
        "outputId": "f34e6feb-1ce3-49d6-cd00-bb4ca194be58"
      },
      "execution_count": null,
      "outputs": [
        {
          "output_type": "execute_result",
          "data": {
            "text/plain": [
              "[('Prince,', 17), ('Genoa', 3), ('Lucca', 2), ('are', 1141), ('now', 873)]"
            ]
          },
          "metadata": {},
          "execution_count": 73
        }
      ]
    },
    {
      "cell_type": "code",
      "source": [
        "word_count_rdd = words_kv_rdd.reduceByKey(lambda x,y: x+y)"
      ],
      "metadata": {
        "id": "aENPIbFdyKQd"
      },
      "execution_count": null,
      "outputs": []
    },
    {
      "cell_type": "code",
      "source": [
        "word_count_rdd.sortByKey().take(10)"
      ],
      "metadata": {
        "colab": {
          "base_uri": "https://localhost:8080/"
        },
        "id": "AfglKqTgz-vT",
        "outputId": "8ae37b5b-b145-4388-9cfe-2b415ba6604b"
      },
      "execution_count": null,
      "outputs": [
        {
          "output_type": "execute_result",
          "data": {
            "text/plain": [
              "[('\"\\'Come', 1),\n",
              " ('\"\\'Dieu', 1),\n",
              " ('\"\\'Dio', 1),\n",
              " ('\"\\'From', 1),\n",
              " ('\"\\'Grant', 1),\n",
              " ('\"\\'I', 4),\n",
              " ('\"\\'No', 1),\n",
              " ('\"\\'Now', 1),\n",
              " ('\"\\'Russia', 1),\n",
              " ('\"\\'Sergey', 1)]"
            ]
          },
          "metadata": {},
          "execution_count": 78
        }
      ]
    },
    {
      "cell_type": "code",
      "source": [
        "word_count_rdd.sortBy(lambda x: x[1], ascending=False).take(20)"
      ],
      "metadata": {
        "colab": {
          "base_uri": "https://localhost:8080/"
        },
        "id": "rYUxa7xN0ujz",
        "outputId": "c4b470cb-3af2-44c2-e1b9-3aa0c2c83eee"
      },
      "execution_count": null,
      "outputs": [
        {
          "output_type": "execute_result",
          "data": {
            "text/plain": [
              "[('the', 31550),\n",
              " ('and', 20498),\n",
              " ('to', 16252),\n",
              " ('of', 14746),\n",
              " ('a', 9984),\n",
              " ('in', 8048),\n",
              " ('his', 7632),\n",
              " ('he', 7627),\n",
              " ('that', 7222),\n",
              " ('was', 7189),\n",
              " ('with', 5475),\n",
              " ('had', 5305),\n",
              " ('not', 4392),\n",
              " ('at', 4189),\n",
              " ('her', 3883),\n",
              " ('as', 3690),\n",
              " ('on', 3358),\n",
              " ('it', 3313),\n",
              " ('for', 3249),\n",
              " ('I', 3208)]"
            ]
          },
          "metadata": {},
          "execution_count": 79
        }
      ]
    },
    {
      "cell_type": "code",
      "source": [
        "print(word_count_rdd.toDebugString().decode('utf-8'))"
      ],
      "metadata": {
        "colab": {
          "base_uri": "https://localhost:8080/"
        },
        "id": "UB7403UZ1Cn_",
        "outputId": "87e25328-5731-441d-ba35-17f69aa19b69"
      },
      "execution_count": null,
      "outputs": [
        {
          "output_type": "stream",
          "name": "stdout",
          "text": [
            "(2) PythonRDD[73] at RDD at PythonRDD.scala:53 []\n",
            " |  MapPartitionsRDD[51] at mapPartitions at PythonRDD.scala:145 []\n",
            " |  ShuffledRDD[50] at partitionBy at NativeMethodAccessorImpl.java:0 []\n",
            " +-(2) PairwiseRDD[49] at reduceByKey at <ipython-input-76-bcf73ace9622>:1 []\n",
            "    |  PythonRDD[48] at reduceByKey at <ipython-input-76-bcf73ace9622>:1 []\n",
            "    |  PythonRDD[16] at RDD at PythonRDD.scala:53 []\n",
            "    |      CachedPartitions: 2; MemorySize: 2.4 MiB; DiskSize: 0.0 B\n",
            "    |  /content/drive/MyDrive/Datasets/book-war-and-peace.txt MapPartitionsRDD[10] at textFile at NativeMethodAccessorImpl.java:0 []\n",
            "    |  /content/drive/MyDrive/Datasets/book-war-and-peace.txt HadoopRDD[9] at textFile at NativeMethodAccessorImpl.java:0 []\n"
          ]
        }
      ]
    },
    {
      "cell_type": "code",
      "source": [
        ""
      ],
      "metadata": {
        "id": "JiVslaJ41xjN"
      },
      "execution_count": null,
      "outputs": []
    }
  ]
}