{
  "nbformat": 4,
  "nbformat_minor": 0,
  "metadata": {
    "colab": {
      "name": "ku-API-assign.ipynb",
      "provenance": [],
      "collapsed_sections": [],
      "authorship_tag": "ABX9TyObffPmT57AIACwZeAknC7E",
      "include_colab_link": true
    },
    "kernelspec": {
      "name": "python3",
      "display_name": "Python 3"
    },
    "language_info": {
      "name": "python"
    }
  },
  "cells": [
    {
      "cell_type": "markdown",
      "metadata": {
        "id": "view-in-github",
        "colab_type": "text"
      },
      "source": [
        "<a href=\"https://colab.research.google.com/github/somkiatth/git/blob/master/ku_API_assign.ipynb\" target=\"_parent\"><img src=\"https://colab.research.google.com/assets/colab-badge.svg\" alt=\"Open In Colab\"/></a>"
      ]
    },
    {
      "cell_type": "code",
      "execution_count": 1,
      "metadata": {
        "colab": {
          "base_uri": "https://localhost:8080/"
        },
        "id": "Qr-hSPidch0S",
        "outputId": "d5c85787-7506-4b47-da59-32c78ee92259"
      },
      "outputs": [
        {
          "output_type": "stream",
          "name": "stdout",
          "text": [
            "Looking in indexes: https://pypi.org/simple, https://us-python.pkg.dev/colab-wheels/public/simple/\n",
            "Collecting pyspark\n",
            "  Downloading pyspark-3.3.0.tar.gz (281.3 MB)\n",
            "\u001b[K     |████████████████████████████████| 281.3 MB 41 kB/s \n",
            "\u001b[?25hCollecting py4j==0.10.9.5\n",
            "  Downloading py4j-0.10.9.5-py2.py3-none-any.whl (199 kB)\n",
            "\u001b[K     |████████████████████████████████| 199 kB 52.1 MB/s \n",
            "\u001b[?25hBuilding wheels for collected packages: pyspark\n",
            "  Building wheel for pyspark (setup.py) ... \u001b[?25l\u001b[?25hdone\n",
            "  Created wheel for pyspark: filename=pyspark-3.3.0-py2.py3-none-any.whl size=281764026 sha256=02a8c1a60eaee9eda9a11b2777d7a6efcc88792d75026d2a99831ed212bfac5f\n",
            "  Stored in directory: /root/.cache/pip/wheels/7a/8e/1b/f73a52650d2e5f337708d9f6a1750d451a7349a867f928b885\n",
            "Successfully built pyspark\n",
            "Installing collected packages: py4j, pyspark\n",
            "Successfully installed py4j-0.10.9.5 pyspark-3.3.0\n"
          ]
        }
      ],
      "source": [
        "!pip install pyspark"
      ]
    },
    {
      "cell_type": "markdown",
      "source": [
        "solution 1) *********************"
      ],
      "metadata": {
        "id": "iAkq-mHldRm9"
      }
    },
    {
      "cell_type": "code",
      "source": [
        "from pyspark.sql import SparkSession"
      ],
      "metadata": {
        "id": "MnhzczrbdWqK"
      },
      "execution_count": 2,
      "outputs": []
    },
    {
      "cell_type": "code",
      "source": [
        "spark = SparkSession.builder.getOrCreate()"
      ],
      "metadata": {
        "id": "yv1IsFj5d73X"
      },
      "execution_count": 3,
      "outputs": []
    },
    {
      "cell_type": "code",
      "source": [
        "schema = \"hotel string ,is_canceled int,\tlead_time int,\tarrival_date_year string,\tarrival_date_month string,\tarrival_date_week_number int,\tarrival_date_day_of_month int,\tstays_in_weekend_nights int,\tstays_in_week_nights int,\tadults int,\tchildren string,\tbabies int,\tmeal string,\tcountry string,\tmarket_segment string,\tdistribution_channel string,\tis_repeated_guest int,\tprevious_cancellations int ,\tprevious_bookings_not_canceled int,\treserved_room_type string,\tassigned_room_type string,\tbooking_changes int,\tdeposit_type string,\tagent int,\tcompany int,\tdays_in_waiting_list int,\tcustomer_type string,\tadr int,\trequired_car_parking_spaces int,\ttotal_of_special_requests int,\treservation_status string,\treservation_status_date string\""
      ],
      "metadata": {
        "id": "HhIq5hXFkS9A"
      },
      "execution_count": 4,
      "outputs": []
    },
    {
      "cell_type": "code",
      "source": [
        "df=spark.read.csv(\"/content/hotel_bookings.csv\", header=True, schema=schema)"
      ],
      "metadata": {
        "id": "giSYFwtFeWai"
      },
      "execution_count": 5,
      "outputs": []
    },
    {
      "cell_type": "code",
      "source": [
        "df.createOrReplaceTempView(\"dfhotel\")"
      ],
      "metadata": {
        "id": "79CQm3l5h5dI"
      },
      "execution_count": 6,
      "outputs": []
    },
    {
      "cell_type": "code",
      "source": [
        "df.show()"
      ],
      "metadata": {
        "colab": {
          "base_uri": "https://localhost:8080/"
        },
        "id": "Eq7BJXlxejPs",
        "outputId": "a475936e-2584-40b4-d506-12692543474d"
      },
      "execution_count": 8,
      "outputs": [
        {
          "output_type": "stream",
          "name": "stdout",
          "text": [
            "+------------+-----------+---------+-----------------+------------------+------------------------+-------------------------+-----------------------+--------------------+------+--------+------+----+-------+--------------+--------------------+-----------------+----------------------+------------------------------+------------------+------------------+---------------+------------+-----+-------+--------------------+-------------+----+---------------------------+-------------------------+------------------+-----------------------+\n",
            "|       hotel|is_canceled|lead_time|arrival_date_year|arrival_date_month|arrival_date_week_number|arrival_date_day_of_month|stays_in_weekend_nights|stays_in_week_nights|adults|children|babies|meal|country|market_segment|distribution_channel|is_repeated_guest|previous_cancellations|previous_bookings_not_canceled|reserved_room_type|assigned_room_type|booking_changes|deposit_type|agent|company|days_in_waiting_list|customer_type| adr|required_car_parking_spaces|total_of_special_requests|reservation_status|reservation_status_date|\n",
            "+------------+-----------+---------+-----------------+------------------+------------------------+-------------------------+-----------------------+--------------------+------+--------+------+----+-------+--------------+--------------------+-----------------+----------------------+------------------------------+------------------+------------------+---------------+------------+-----+-------+--------------------+-------------+----+---------------------------+-------------------------+------------------+-----------------------+\n",
            "|Resort Hotel|          0|      342|             2015|              July|                      27|                        1|                      0|                   0|     2|       0|     0|  BB|    PRT|        Direct|              Direct|                0|                     0|                             0|                 C|                 C|              3|  No Deposit| null|   null|                   0|    Transient|   0|                          0|                        0|         Check-Out|             2015-07-01|\n",
            "|Resort Hotel|          0|      737|             2015|              July|                      27|                        1|                      0|                   0|     2|       0|     0|  BB|    PRT|        Direct|              Direct|                0|                     0|                             0|                 C|                 C|              4|  No Deposit| null|   null|                   0|    Transient|   0|                          0|                        0|         Check-Out|             2015-07-01|\n",
            "|Resort Hotel|          0|        7|             2015|              July|                      27|                        1|                      0|                   1|     1|       0|     0|  BB|    GBR|        Direct|              Direct|                0|                     0|                             0|                 A|                 C|              0|  No Deposit| null|   null|                   0|    Transient|  75|                          0|                        0|         Check-Out|             2015-07-02|\n",
            "|Resort Hotel|          0|       13|             2015|              July|                      27|                        1|                      0|                   1|     1|       0|     0|  BB|    GBR|     Corporate|           Corporate|                0|                     0|                             0|                 A|                 A|              0|  No Deposit|  304|   null|                   0|    Transient|  75|                          0|                        0|         Check-Out|             2015-07-02|\n",
            "|Resort Hotel|          0|       14|             2015|              July|                      27|                        1|                      0|                   2|     2|       0|     0|  BB|    GBR|     Online TA|               TA/TO|                0|                     0|                             0|                 A|                 A|              0|  No Deposit|  240|   null|                   0|    Transient|  98|                          0|                        1|         Check-Out|             2015-07-03|\n",
            "|Resort Hotel|          0|       14|             2015|              July|                      27|                        1|                      0|                   2|     2|       0|     0|  BB|    GBR|     Online TA|               TA/TO|                0|                     0|                             0|                 A|                 A|              0|  No Deposit|  240|   null|                   0|    Transient|  98|                          0|                        1|         Check-Out|             2015-07-03|\n",
            "|Resort Hotel|          0|        0|             2015|              July|                      27|                        1|                      0|                   2|     2|       0|     0|  BB|    PRT|        Direct|              Direct|                0|                     0|                             0|                 C|                 C|              0|  No Deposit| null|   null|                   0|    Transient| 107|                          0|                        0|         Check-Out|             2015-07-03|\n",
            "|Resort Hotel|          0|        9|             2015|              July|                      27|                        1|                      0|                   2|     2|       0|     0|  FB|    PRT|        Direct|              Direct|                0|                     0|                             0|                 C|                 C|              0|  No Deposit|  303|   null|                   0|    Transient| 103|                          0|                        1|         Check-Out|             2015-07-03|\n",
            "|Resort Hotel|          1|       85|             2015|              July|                      27|                        1|                      0|                   3|     2|       0|     0|  BB|    PRT|     Online TA|               TA/TO|                0|                     0|                             0|                 A|                 A|              0|  No Deposit|  240|   null|                   0|    Transient|  82|                          0|                        1|          Canceled|             2015-05-06|\n",
            "|Resort Hotel|          1|       75|             2015|              July|                      27|                        1|                      0|                   3|     2|       0|     0|  HB|    PRT| Offline TA/TO|               TA/TO|                0|                     0|                             0|                 D|                 D|              0|  No Deposit|   15|   null|                   0|    Transient|null|                          0|                        0|          Canceled|             2015-04-22|\n",
            "|Resort Hotel|          1|       23|             2015|              July|                      27|                        1|                      0|                   4|     2|       0|     0|  BB|    PRT|     Online TA|               TA/TO|                0|                     0|                             0|                 E|                 E|              0|  No Deposit|  240|   null|                   0|    Transient| 123|                          0|                        0|          Canceled|             2015-06-23|\n",
            "|Resort Hotel|          0|       35|             2015|              July|                      27|                        1|                      0|                   4|     2|       0|     0|  HB|    PRT|     Online TA|               TA/TO|                0|                     0|                             0|                 D|                 D|              0|  No Deposit|  240|   null|                   0|    Transient| 145|                          0|                        0|         Check-Out|             2015-07-05|\n",
            "|Resort Hotel|          0|       68|             2015|              July|                      27|                        1|                      0|                   4|     2|       0|     0|  BB|    USA|     Online TA|               TA/TO|                0|                     0|                             0|                 D|                 E|              0|  No Deposit|  240|   null|                   0|    Transient|  97|                          0|                        3|         Check-Out|             2015-07-05|\n",
            "|Resort Hotel|          0|       18|             2015|              July|                      27|                        1|                      0|                   4|     2|       1|     0|  HB|    ESP|     Online TA|               TA/TO|                0|                     0|                             0|                 G|                 G|              1|  No Deposit|  241|   null|                   0|    Transient|null|                          0|                        1|         Check-Out|             2015-07-05|\n",
            "|Resort Hotel|          0|       37|             2015|              July|                      27|                        1|                      0|                   4|     2|       0|     0|  BB|    PRT|     Online TA|               TA/TO|                0|                     0|                             0|                 E|                 E|              0|  No Deposit|  241|   null|                   0|    Transient|null|                          0|                        0|         Check-Out|             2015-07-05|\n",
            "|Resort Hotel|          0|       68|             2015|              July|                      27|                        1|                      0|                   4|     2|       0|     0|  BB|    IRL|     Online TA|               TA/TO|                0|                     0|                             0|                 D|                 E|              0|  No Deposit|  240|   null|                   0|    Transient|  97|                          0|                        3|         Check-Out|             2015-07-05|\n",
            "|Resort Hotel|          0|       37|             2015|              July|                      27|                        1|                      0|                   4|     2|       0|     0|  BB|    PRT| Offline TA/TO|               TA/TO|                0|                     0|                             0|                 E|                 E|              0|  No Deposit|    8|   null|                   0|     Contract|null|                          0|                        0|         Check-Out|             2015-07-05|\n",
            "|Resort Hotel|          0|       12|             2015|              July|                      27|                        1|                      0|                   1|     2|       0|     0|  BB|    IRL|     Online TA|               TA/TO|                0|                     0|                             0|                 A|                 E|              0|  No Deposit|  240|   null|                   0|    Transient|null|                          0|                        0|         Check-Out|             2015-07-02|\n",
            "|Resort Hotel|          0|        0|             2015|              July|                      27|                        1|                      0|                   1|     2|       0|     0|  BB|    FRA|     Corporate|           Corporate|                0|                     0|                             0|                 A|                 G|              0|  No Deposit| null|    110|                   0|    Transient|null|                          0|                        0|         Check-Out|             2015-07-02|\n",
            "|Resort Hotel|          0|        7|             2015|              July|                      27|                        1|                      0|                   4|     2|       0|     0|  BB|    GBR|        Direct|              Direct|                0|                     0|                             0|                 G|                 G|              0|  No Deposit|  250|   null|                   0|    Transient| 153|                          0|                        1|         Check-Out|             2015-07-05|\n",
            "+------------+-----------+---------+-----------------+------------------+------------------------+-------------------------+-----------------------+--------------------+------+--------+------+----+-------+--------------+--------------------+-----------------+----------------------+------------------------------+------------------+------------------+---------------+------------+-----+-------+--------------------+-------------+----+---------------------------+-------------------------+------------------+-----------------------+\n",
            "only showing top 20 rows\n",
            "\n"
          ]
        }
      ]
    },
    {
      "cell_type": "markdown",
      "source": [
        "solution 2) **********************"
      ],
      "metadata": {
        "id": "l7mSGZmweogs"
      }
    },
    {
      "cell_type": "code",
      "source": [
        "df.printSchema()"
      ],
      "metadata": {
        "colab": {
          "base_uri": "https://localhost:8080/"
        },
        "id": "fbuwWgv7err_",
        "outputId": "2b65dd1d-e896-4ee5-d861-eec84dd1d58e"
      },
      "execution_count": 9,
      "outputs": [
        {
          "output_type": "stream",
          "name": "stdout",
          "text": [
            "root\n",
            " |-- hotel: string (nullable = true)\n",
            " |-- is_canceled: integer (nullable = true)\n",
            " |-- lead_time: integer (nullable = true)\n",
            " |-- arrival_date_year: string (nullable = true)\n",
            " |-- arrival_date_month: string (nullable = true)\n",
            " |-- arrival_date_week_number: integer (nullable = true)\n",
            " |-- arrival_date_day_of_month: integer (nullable = true)\n",
            " |-- stays_in_weekend_nights: integer (nullable = true)\n",
            " |-- stays_in_week_nights: integer (nullable = true)\n",
            " |-- adults: integer (nullable = true)\n",
            " |-- children: string (nullable = true)\n",
            " |-- babies: integer (nullable = true)\n",
            " |-- meal: string (nullable = true)\n",
            " |-- country: string (nullable = true)\n",
            " |-- market_segment: string (nullable = true)\n",
            " |-- distribution_channel: string (nullable = true)\n",
            " |-- is_repeated_guest: integer (nullable = true)\n",
            " |-- previous_cancellations: integer (nullable = true)\n",
            " |-- previous_bookings_not_canceled: integer (nullable = true)\n",
            " |-- reserved_room_type: string (nullable = true)\n",
            " |-- assigned_room_type: string (nullable = true)\n",
            " |-- booking_changes: integer (nullable = true)\n",
            " |-- deposit_type: string (nullable = true)\n",
            " |-- agent: integer (nullable = true)\n",
            " |-- company: integer (nullable = true)\n",
            " |-- days_in_waiting_list: integer (nullable = true)\n",
            " |-- customer_type: string (nullable = true)\n",
            " |-- adr: integer (nullable = true)\n",
            " |-- required_car_parking_spaces: integer (nullable = true)\n",
            " |-- total_of_special_requests: integer (nullable = true)\n",
            " |-- reservation_status: string (nullable = true)\n",
            " |-- reservation_status_date: string (nullable = true)\n",
            "\n"
          ]
        }
      ]
    },
    {
      "cell_type": "code",
      "source": [
        "df.count()"
      ],
      "metadata": {
        "colab": {
          "base_uri": "https://localhost:8080/"
        },
        "id": "x0lgsnhwf3cs",
        "outputId": "0a9979e1-71f8-48e0-993e-84d0d9c89284"
      },
      "execution_count": 10,
      "outputs": [
        {
          "output_type": "execute_result",
          "data": {
            "text/plain": [
              "119390"
            ]
          },
          "metadata": {},
          "execution_count": 10
        }
      ]
    },
    {
      "cell_type": "code",
      "source": [
        "df.columns"
      ],
      "metadata": {
        "colab": {
          "base_uri": "https://localhost:8080/"
        },
        "id": "0Rc2zkQ0f6nM",
        "outputId": "cccfe9af-98af-4dc2-cb57-eced8e7b2a3b"
      },
      "execution_count": 11,
      "outputs": [
        {
          "output_type": "execute_result",
          "data": {
            "text/plain": [
              "['hotel',\n",
              " 'is_canceled',\n",
              " 'lead_time',\n",
              " 'arrival_date_year',\n",
              " 'arrival_date_month',\n",
              " 'arrival_date_week_number',\n",
              " 'arrival_date_day_of_month',\n",
              " 'stays_in_weekend_nights',\n",
              " 'stays_in_week_nights',\n",
              " 'adults',\n",
              " 'children',\n",
              " 'babies',\n",
              " 'meal',\n",
              " 'country',\n",
              " 'market_segment',\n",
              " 'distribution_channel',\n",
              " 'is_repeated_guest',\n",
              " 'previous_cancellations',\n",
              " 'previous_bookings_not_canceled',\n",
              " 'reserved_room_type',\n",
              " 'assigned_room_type',\n",
              " 'booking_changes',\n",
              " 'deposit_type',\n",
              " 'agent',\n",
              " 'company',\n",
              " 'days_in_waiting_list',\n",
              " 'customer_type',\n",
              " 'adr',\n",
              " 'required_car_parking_spaces',\n",
              " 'total_of_special_requests',\n",
              " 'reservation_status',\n",
              " 'reservation_status_date']"
            ]
          },
          "metadata": {},
          "execution_count": 11
        }
      ]
    },
    {
      "cell_type": "code",
      "source": [
        "len(df.columns)"
      ],
      "metadata": {
        "colab": {
          "base_uri": "https://localhost:8080/"
        },
        "id": "GLSbUyZjgHzN",
        "outputId": "31615e9a-3475-49d1-95b3-f2e4b9d88815"
      },
      "execution_count": 12,
      "outputs": [
        {
          "output_type": "execute_result",
          "data": {
            "text/plain": [
              "32"
            ]
          },
          "metadata": {},
          "execution_count": 12
        }
      ]
    },
    {
      "cell_type": "code",
      "source": [
        "spark.sql(\"select * from dfhotel\").show()"
      ],
      "metadata": {
        "colab": {
          "base_uri": "https://localhost:8080/"
        },
        "id": "fh94LnRWiNJ6",
        "outputId": "24e3d236-0c73-4ca4-8b84-b4fa5c9e5d3e"
      },
      "execution_count": 13,
      "outputs": [
        {
          "output_type": "stream",
          "name": "stdout",
          "text": [
            "+------------+-----------+---------+-----------------+------------------+------------------------+-------------------------+-----------------------+--------------------+------+--------+------+----+-------+--------------+--------------------+-----------------+----------------------+------------------------------+------------------+------------------+---------------+------------+-----+-------+--------------------+-------------+----+---------------------------+-------------------------+------------------+-----------------------+\n",
            "|       hotel|is_canceled|lead_time|arrival_date_year|arrival_date_month|arrival_date_week_number|arrival_date_day_of_month|stays_in_weekend_nights|stays_in_week_nights|adults|children|babies|meal|country|market_segment|distribution_channel|is_repeated_guest|previous_cancellations|previous_bookings_not_canceled|reserved_room_type|assigned_room_type|booking_changes|deposit_type|agent|company|days_in_waiting_list|customer_type| adr|required_car_parking_spaces|total_of_special_requests|reservation_status|reservation_status_date|\n",
            "+------------+-----------+---------+-----------------+------------------+------------------------+-------------------------+-----------------------+--------------------+------+--------+------+----+-------+--------------+--------------------+-----------------+----------------------+------------------------------+------------------+------------------+---------------+------------+-----+-------+--------------------+-------------+----+---------------------------+-------------------------+------------------+-----------------------+\n",
            "|Resort Hotel|          0|      342|             2015|              July|                      27|                        1|                      0|                   0|     2|       0|     0|  BB|    PRT|        Direct|              Direct|                0|                     0|                             0|                 C|                 C|              3|  No Deposit| null|   null|                   0|    Transient|   0|                          0|                        0|         Check-Out|             2015-07-01|\n",
            "|Resort Hotel|          0|      737|             2015|              July|                      27|                        1|                      0|                   0|     2|       0|     0|  BB|    PRT|        Direct|              Direct|                0|                     0|                             0|                 C|                 C|              4|  No Deposit| null|   null|                   0|    Transient|   0|                          0|                        0|         Check-Out|             2015-07-01|\n",
            "|Resort Hotel|          0|        7|             2015|              July|                      27|                        1|                      0|                   1|     1|       0|     0|  BB|    GBR|        Direct|              Direct|                0|                     0|                             0|                 A|                 C|              0|  No Deposit| null|   null|                   0|    Transient|  75|                          0|                        0|         Check-Out|             2015-07-02|\n",
            "|Resort Hotel|          0|       13|             2015|              July|                      27|                        1|                      0|                   1|     1|       0|     0|  BB|    GBR|     Corporate|           Corporate|                0|                     0|                             0|                 A|                 A|              0|  No Deposit|  304|   null|                   0|    Transient|  75|                          0|                        0|         Check-Out|             2015-07-02|\n",
            "|Resort Hotel|          0|       14|             2015|              July|                      27|                        1|                      0|                   2|     2|       0|     0|  BB|    GBR|     Online TA|               TA/TO|                0|                     0|                             0|                 A|                 A|              0|  No Deposit|  240|   null|                   0|    Transient|  98|                          0|                        1|         Check-Out|             2015-07-03|\n",
            "|Resort Hotel|          0|       14|             2015|              July|                      27|                        1|                      0|                   2|     2|       0|     0|  BB|    GBR|     Online TA|               TA/TO|                0|                     0|                             0|                 A|                 A|              0|  No Deposit|  240|   null|                   0|    Transient|  98|                          0|                        1|         Check-Out|             2015-07-03|\n",
            "|Resort Hotel|          0|        0|             2015|              July|                      27|                        1|                      0|                   2|     2|       0|     0|  BB|    PRT|        Direct|              Direct|                0|                     0|                             0|                 C|                 C|              0|  No Deposit| null|   null|                   0|    Transient| 107|                          0|                        0|         Check-Out|             2015-07-03|\n",
            "|Resort Hotel|          0|        9|             2015|              July|                      27|                        1|                      0|                   2|     2|       0|     0|  FB|    PRT|        Direct|              Direct|                0|                     0|                             0|                 C|                 C|              0|  No Deposit|  303|   null|                   0|    Transient| 103|                          0|                        1|         Check-Out|             2015-07-03|\n",
            "|Resort Hotel|          1|       85|             2015|              July|                      27|                        1|                      0|                   3|     2|       0|     0|  BB|    PRT|     Online TA|               TA/TO|                0|                     0|                             0|                 A|                 A|              0|  No Deposit|  240|   null|                   0|    Transient|  82|                          0|                        1|          Canceled|             2015-05-06|\n",
            "|Resort Hotel|          1|       75|             2015|              July|                      27|                        1|                      0|                   3|     2|       0|     0|  HB|    PRT| Offline TA/TO|               TA/TO|                0|                     0|                             0|                 D|                 D|              0|  No Deposit|   15|   null|                   0|    Transient|null|                          0|                        0|          Canceled|             2015-04-22|\n",
            "|Resort Hotel|          1|       23|             2015|              July|                      27|                        1|                      0|                   4|     2|       0|     0|  BB|    PRT|     Online TA|               TA/TO|                0|                     0|                             0|                 E|                 E|              0|  No Deposit|  240|   null|                   0|    Transient| 123|                          0|                        0|          Canceled|             2015-06-23|\n",
            "|Resort Hotel|          0|       35|             2015|              July|                      27|                        1|                      0|                   4|     2|       0|     0|  HB|    PRT|     Online TA|               TA/TO|                0|                     0|                             0|                 D|                 D|              0|  No Deposit|  240|   null|                   0|    Transient| 145|                          0|                        0|         Check-Out|             2015-07-05|\n",
            "|Resort Hotel|          0|       68|             2015|              July|                      27|                        1|                      0|                   4|     2|       0|     0|  BB|    USA|     Online TA|               TA/TO|                0|                     0|                             0|                 D|                 E|              0|  No Deposit|  240|   null|                   0|    Transient|  97|                          0|                        3|         Check-Out|             2015-07-05|\n",
            "|Resort Hotel|          0|       18|             2015|              July|                      27|                        1|                      0|                   4|     2|       1|     0|  HB|    ESP|     Online TA|               TA/TO|                0|                     0|                             0|                 G|                 G|              1|  No Deposit|  241|   null|                   0|    Transient|null|                          0|                        1|         Check-Out|             2015-07-05|\n",
            "|Resort Hotel|          0|       37|             2015|              July|                      27|                        1|                      0|                   4|     2|       0|     0|  BB|    PRT|     Online TA|               TA/TO|                0|                     0|                             0|                 E|                 E|              0|  No Deposit|  241|   null|                   0|    Transient|null|                          0|                        0|         Check-Out|             2015-07-05|\n",
            "|Resort Hotel|          0|       68|             2015|              July|                      27|                        1|                      0|                   4|     2|       0|     0|  BB|    IRL|     Online TA|               TA/TO|                0|                     0|                             0|                 D|                 E|              0|  No Deposit|  240|   null|                   0|    Transient|  97|                          0|                        3|         Check-Out|             2015-07-05|\n",
            "|Resort Hotel|          0|       37|             2015|              July|                      27|                        1|                      0|                   4|     2|       0|     0|  BB|    PRT| Offline TA/TO|               TA/TO|                0|                     0|                             0|                 E|                 E|              0|  No Deposit|    8|   null|                   0|     Contract|null|                          0|                        0|         Check-Out|             2015-07-05|\n",
            "|Resort Hotel|          0|       12|             2015|              July|                      27|                        1|                      0|                   1|     2|       0|     0|  BB|    IRL|     Online TA|               TA/TO|                0|                     0|                             0|                 A|                 E|              0|  No Deposit|  240|   null|                   0|    Transient|null|                          0|                        0|         Check-Out|             2015-07-02|\n",
            "|Resort Hotel|          0|        0|             2015|              July|                      27|                        1|                      0|                   1|     2|       0|     0|  BB|    FRA|     Corporate|           Corporate|                0|                     0|                             0|                 A|                 G|              0|  No Deposit| null|    110|                   0|    Transient|null|                          0|                        0|         Check-Out|             2015-07-02|\n",
            "|Resort Hotel|          0|        7|             2015|              July|                      27|                        1|                      0|                   4|     2|       0|     0|  BB|    GBR|        Direct|              Direct|                0|                     0|                             0|                 G|                 G|              0|  No Deposit|  250|   null|                   0|    Transient| 153|                          0|                        1|         Check-Out|             2015-07-05|\n",
            "+------------+-----------+---------+-----------------+------------------+------------------------+-------------------------+-----------------------+--------------------+------+--------+------+----+-------+--------------+--------------------+-----------------+----------------------+------------------------------+------------------+------------------+---------------+------------+-----+-------+--------------------+-------------+----+---------------------------+-------------------------+------------------+-----------------------+\n",
            "only showing top 20 rows\n",
            "\n"
          ]
        }
      ]
    },
    {
      "cell_type": "markdown",
      "source": [
        "hotel string ,is_canceled int,\tlead_time int,\tarrival_date_year string,\tarrival_date_month string,\tarrival_date_week_number int,\tarrival_date_day_of_month int,\tstays_in_weekend_nights int,\tstays_in_week_nights int,\tadults int,\tchildren string,\tbabies int,\tmeal string,\tcountry string,\tmarket_segment string,\tdistribution_channel string,\tis_repeated_guest int,\tprevious_cancellations int ,\tprevious_bookings_not_canceled int,\treserved_room_type string,\tassigned_room_type string,\tbooking_changes int,\tdeposit_type string,\tagent int,\tcompany int,\tdays_in_waiting_list int,\tcustomer_type string,\tadr int,\trequired_car_parking_spaces int,\ttotal_of_special_requests int,\treservation_status string,\treservation_status_date string"
      ],
      "metadata": {
        "id": "ySmxQyYokwBR"
      }
    },
    {
      "cell_type": "code",
      "source": [
        "df[  'arrival_date_year', 'arrival_date_month',  'arrival_date_day_of_month'].show(5)"
      ],
      "metadata": {
        "colab": {
          "base_uri": "https://localhost:8080/"
        },
        "id": "BVfiK5-2kxWQ",
        "outputId": "ce67a1c4-0899-43cf-82b7-d5eb048de492"
      },
      "execution_count": 14,
      "outputs": [
        {
          "output_type": "stream",
          "name": "stdout",
          "text": [
            "+-----------------+------------------+-------------------------+\n",
            "|arrival_date_year|arrival_date_month|arrival_date_day_of_month|\n",
            "+-----------------+------------------+-------------------------+\n",
            "|             2015|              July|                        1|\n",
            "|             2015|              July|                        1|\n",
            "|             2015|              July|                        1|\n",
            "|             2015|              July|                        1|\n",
            "|             2015|              July|                        1|\n",
            "+-----------------+------------------+-------------------------+\n",
            "only showing top 5 rows\n",
            "\n"
          ]
        }
      ]
    },
    {
      "cell_type": "markdown",
      "source": [
        "solution 3) **************"
      ],
      "metadata": {
        "id": "qAGdr3cWlpTM"
      }
    },
    {
      "cell_type": "code",
      "source": [
        "df.filter(df.lead_time>365).count()"
      ],
      "metadata": {
        "colab": {
          "base_uri": "https://localhost:8080/"
        },
        "id": "Uh_fLJ59lsmU",
        "outputId": "a9bed488-a3ba-45c3-a3cc-447aa8725281"
      },
      "execution_count": 15,
      "outputs": [
        {
          "output_type": "execute_result",
          "data": {
            "text/plain": [
              "3148"
            ]
          },
          "metadata": {},
          "execution_count": 15
        }
      ]
    },
    {
      "cell_type": "markdown",
      "source": [
        "solution 4) ****\n"
      ],
      "metadata": {
        "id": "I0G7bgxhofBH"
      }
    },
    {
      "cell_type": "code",
      "source": [
        " df.filter( (df.stays_in_weekend_nights >0) & (df.stays_in_week_nights >0) ).count()"
      ],
      "metadata": {
        "colab": {
          "base_uri": "https://localhost:8080/"
        },
        "id": "5T_VZ-6_ohUW",
        "outputId": "a2bbb9aa-5d39-46f4-9152-04ac5e5e3507"
      },
      "execution_count": 16,
      "outputs": [
        {
          "output_type": "execute_result",
          "data": {
            "text/plain": [
              "60462"
            ]
          },
          "metadata": {},
          "execution_count": 16
        }
      ]
    },
    {
      "cell_type": "markdown",
      "source": [
        "solution 5) ********"
      ],
      "metadata": {
        "id": "bWDsxbsapuDo"
      }
    },
    {
      "cell_type": "code",
      "source": [
        "import pyspark.sql.functions as F"
      ],
      "metadata": {
        "id": "VnSPGtE4pwYq"
      },
      "execution_count": 17,
      "outputs": []
    },
    {
      "cell_type": "code",
      "source": [
        "df.select ( F.when (df.children =='NA', '0' ) .otherwise (df.children)).count()"
      ],
      "metadata": {
        "colab": {
          "base_uri": "https://localhost:8080/"
        },
        "id": "n9X7qt8Vreca",
        "outputId": "e98b150a-66dd-447b-9b33-ccdbc189a564"
      },
      "execution_count": 18,
      "outputs": [
        {
          "output_type": "execute_result",
          "data": {
            "text/plain": [
              "119390"
            ]
          },
          "metadata": {},
          "execution_count": 18
        }
      ]
    },
    {
      "cell_type": "markdown",
      "source": [
        "solution 6) *********"
      ],
      "metadata": {
        "id": "GTe29yu3uLO3"
      }
    },
    {
      "cell_type": "code",
      "source": [
        "df.agg(F.mean(df.children)).show()"
      ],
      "metadata": {
        "colab": {
          "base_uri": "https://localhost:8080/"
        },
        "id": "b7fAmxkXuOLJ",
        "outputId": "217330ec-7389-443f-b3ab-f5c2185cfecb"
      },
      "execution_count": 19,
      "outputs": [
        {
          "output_type": "stream",
          "name": "stdout",
          "text": [
            "+-------------------+\n",
            "|      avg(children)|\n",
            "+-------------------+\n",
            "|0.10388990333874994|\n",
            "+-------------------+\n",
            "\n"
          ]
        }
      ]
    },
    {
      "cell_type": "markdown",
      "source": [
        "solution 7) ******"
      ],
      "metadata": {
        "id": "D1p9YLOOvISF"
      }
    },
    {
      "cell_type": "code",
      "source": [
        "df.select('country').distinct().collect()"
      ],
      "metadata": {
        "colab": {
          "base_uri": "https://localhost:8080/"
        },
        "id": "uDlbwtuJu4a3",
        "outputId": "1ca01c2d-46b3-4939-bfb7-1598ab8f65b0"
      },
      "execution_count": 20,
      "outputs": [
        {
          "output_type": "execute_result",
          "data": {
            "text/plain": [
              "[Row(country='POL'),\n",
              " Row(country='LVA'),\n",
              " Row(country='ZMB'),\n",
              " Row(country='JAM'),\n",
              " Row(country='BRA'),\n",
              " Row(country='ARM'),\n",
              " Row(country='MOZ'),\n",
              " Row(country='CUB'),\n",
              " Row(country='JOR'),\n",
              " Row(country='FRA'),\n",
              " Row(country='URY'),\n",
              " Row(country='GIB'),\n",
              " Row(country='ETH'),\n",
              " Row(country='CN'),\n",
              " Row(country='ITA'),\n",
              " Row(country='UKR'),\n",
              " Row(country='CMR'),\n",
              " Row(country='GHA'),\n",
              " Row(country='SEN'),\n",
              " Row(country='COM'),\n",
              " Row(country='HRV'),\n",
              " Row(country='QAT'),\n",
              " Row(country='BHS'),\n",
              " Row(country='GBR'),\n",
              " Row(country='ARE'),\n",
              " Row(country='FRO'),\n",
              " Row(country='CRI'),\n",
              " Row(country='TJK'),\n",
              " Row(country='NPL'),\n",
              " Row(country='UGA'),\n",
              " Row(country='AZE'),\n",
              " Row(country='AUS'),\n",
              " Row(country='MLT'),\n",
              " Row(country='KNA'),\n",
              " Row(country='MEX'),\n",
              " Row(country='BGD'),\n",
              " Row(country='BLR'),\n",
              " Row(country='SVK'),\n",
              " Row(country='SYC'),\n",
              " Row(country='STP'),\n",
              " Row(country='HUN'),\n",
              " Row(country='NZL'),\n",
              " Row(country='THA'),\n",
              " Row(country='DJI'),\n",
              " Row(country='NOR'),\n",
              " Row(country='IRQ'),\n",
              " Row(country='VEN'),\n",
              " Row(country='GNB'),\n",
              " Row(country='FIN'),\n",
              " Row(country='BWA'),\n",
              " Row(country='SAU'),\n",
              " Row(country='DOM'),\n",
              " Row(country='ALB'),\n",
              " Row(country='TGO'),\n",
              " Row(country='BHR'),\n",
              " Row(country='NIC'),\n",
              " Row(country='GGY'),\n",
              " Row(country='SUR'),\n",
              " Row(country='BIH'),\n",
              " Row(country='TMP'),\n",
              " Row(country='KWT'),\n",
              " Row(country='MWI'),\n",
              " Row(country='FJI'),\n",
              " Row(country='AND'),\n",
              " Row(country='CAF'),\n",
              " Row(country='PER'),\n",
              " Row(country='NLD'),\n",
              " Row(country='PAK'),\n",
              " Row(country='LUX'),\n",
              " Row(country='TUR'),\n",
              " Row(country='CYM'),\n",
              " Row(country='RWA'),\n",
              " Row(country='MNE'),\n",
              " Row(country='AUT'),\n",
              " Row(country='CPV'),\n",
              " Row(country='BDI'),\n",
              " Row(country='USA'),\n",
              " Row(country='MAR'),\n",
              " Row(country='MDG'),\n",
              " Row(country='OMN'),\n",
              " Row(country='GEO'),\n",
              " Row(country='VNM'),\n",
              " Row(country='CIV'),\n",
              " Row(country='KOR'),\n",
              " Row(country='LIE'),\n",
              " Row(country='ZAF'),\n",
              " Row(country='ISR'),\n",
              " Row(country='UMI'),\n",
              " Row(country='PRT'),\n",
              " Row(country='TUN'),\n",
              " Row(country='SMR'),\n",
              " Row(country='LTU'),\n",
              " Row(country='IRN'),\n",
              " Row(country='CYP'),\n",
              " Row(country='TWN'),\n",
              " Row(country='IMN'),\n",
              " Row(country='ZWE'),\n",
              " Row(country='MYS'),\n",
              " Row(country='CHL'),\n",
              " Row(country='MAC'),\n",
              " Row(country='MUS'),\n",
              " Row(country='RUS'),\n",
              " Row(country='COL'),\n",
              " Row(country='ROU'),\n",
              " Row(country='ARG'),\n",
              " Row(country='DNK'),\n",
              " Row(country='PRI'),\n",
              " Row(country='ESP'),\n",
              " Row(country='KEN'),\n",
              " Row(country='LKA'),\n",
              " Row(country='MYT'),\n",
              " Row(country='MDV'),\n",
              " Row(country='EST'),\n",
              " Row(country='LBN'),\n",
              " Row(country='AGO'),\n",
              " Row(country='IRL'),\n",
              " Row(country='SWE'),\n",
              " Row(country='NGA'),\n",
              " Row(country='GAB'),\n",
              " Row(country='HND'),\n",
              " Row(country='SVN'),\n",
              " Row(country='ECU'),\n",
              " Row(country='GLP'),\n",
              " Row(country='GRC'),\n",
              " Row(country='SYR'),\n",
              " Row(country='SGP'),\n",
              " Row(country='IND'),\n",
              " Row(country='KAZ'),\n",
              " Row(country='HKG'),\n",
              " Row(country='KHM'),\n",
              " Row(country='BEL'),\n",
              " Row(country='MKD'),\n",
              " Row(country='CHN'),\n",
              " Row(country='IDN'),\n",
              " Row(country='DEU'),\n",
              " Row(country='DZA'),\n",
              " Row(country='BGR'),\n",
              " Row(country='UZB'),\n",
              " Row(country='MCO'),\n",
              " Row(country='JPN'),\n",
              " Row(country='SRB'),\n",
              " Row(country='TZA'),\n",
              " Row(country='NULL'),\n",
              " Row(country='PLW'),\n",
              " Row(country='CHE'),\n",
              " Row(country='JEY'),\n",
              " Row(country='CZE'),\n",
              " Row(country='PHL'),\n",
              " Row(country='EGY'),\n",
              " Row(country='ISL'),\n",
              " Row(country='BEN'),\n",
              " Row(country='VGB'),\n",
              " Row(country='BRB'),\n",
              " Row(country='ABW'),\n",
              " Row(country='BOL'),\n",
              " Row(country='LBY'),\n",
              " Row(country='GTM'),\n",
              " Row(country='GUY'),\n",
              " Row(country='LCA'),\n",
              " Row(country='PRY'),\n",
              " Row(country='MLI'),\n",
              " Row(country='DMA'),\n",
              " Row(country='BFA'),\n",
              " Row(country='MRT'),\n",
              " Row(country='NCL'),\n",
              " Row(country='SLE'),\n",
              " Row(country='SDN'),\n",
              " Row(country='PAN'),\n",
              " Row(country='NAM'),\n",
              " Row(country='ATA'),\n",
              " Row(country='ASM'),\n",
              " Row(country='AIA'),\n",
              " Row(country='KIR'),\n",
              " Row(country='SLV'),\n",
              " Row(country='PYF'),\n",
              " Row(country='MMR'),\n",
              " Row(country='LAO'),\n",
              " Row(country='ATF')]"
            ]
          },
          "metadata": {},
          "execution_count": 20
        }
      ]
    },
    {
      "cell_type": "markdown",
      "source": [
        "solution 8) ******"
      ],
      "metadata": {
        "id": "SJfGefYjvmtG"
      }
    },
    {
      "cell_type": "code",
      "source": [
        "df.groupby('hotel').count().show()"
      ],
      "metadata": {
        "colab": {
          "base_uri": "https://localhost:8080/"
        },
        "id": "qx4r6J5Ovo1Q",
        "outputId": "fe2f64b2-5c7b-4818-b755-cb734e7b0231"
      },
      "execution_count": 21,
      "outputs": [
        {
          "output_type": "stream",
          "name": "stdout",
          "text": [
            "+------------+-----+\n",
            "|       hotel|count|\n",
            "+------------+-----+\n",
            "|  City Hotel|79330|\n",
            "|Resort Hotel|40060|\n",
            "+------------+-----+\n",
            "\n"
          ]
        }
      ]
    },
    {
      "cell_type": "markdown",
      "source": [
        "solution 9) **"
      ],
      "metadata": {
        "id": "xmR8yOT6iWdW"
      }
    },
    {
      "cell_type": "code",
      "source": [
        "df.printSchema()"
      ],
      "metadata": {
        "colab": {
          "base_uri": "https://localhost:8080/"
        },
        "id": "OXLkbuWQxPtH",
        "outputId": "41a4f2c2-f03b-4aa3-869f-c4f44e186a76"
      },
      "execution_count": 22,
      "outputs": [
        {
          "output_type": "stream",
          "name": "stdout",
          "text": [
            "root\n",
            " |-- hotel: string (nullable = true)\n",
            " |-- is_canceled: integer (nullable = true)\n",
            " |-- lead_time: integer (nullable = true)\n",
            " |-- arrival_date_year: string (nullable = true)\n",
            " |-- arrival_date_month: string (nullable = true)\n",
            " |-- arrival_date_week_number: integer (nullable = true)\n",
            " |-- arrival_date_day_of_month: integer (nullable = true)\n",
            " |-- stays_in_weekend_nights: integer (nullable = true)\n",
            " |-- stays_in_week_nights: integer (nullable = true)\n",
            " |-- adults: integer (nullable = true)\n",
            " |-- children: string (nullable = true)\n",
            " |-- babies: integer (nullable = true)\n",
            " |-- meal: string (nullable = true)\n",
            " |-- country: string (nullable = true)\n",
            " |-- market_segment: string (nullable = true)\n",
            " |-- distribution_channel: string (nullable = true)\n",
            " |-- is_repeated_guest: integer (nullable = true)\n",
            " |-- previous_cancellations: integer (nullable = true)\n",
            " |-- previous_bookings_not_canceled: integer (nullable = true)\n",
            " |-- reserved_room_type: string (nullable = true)\n",
            " |-- assigned_room_type: string (nullable = true)\n",
            " |-- booking_changes: integer (nullable = true)\n",
            " |-- deposit_type: string (nullable = true)\n",
            " |-- agent: integer (nullable = true)\n",
            " |-- company: integer (nullable = true)\n",
            " |-- days_in_waiting_list: integer (nullable = true)\n",
            " |-- customer_type: string (nullable = true)\n",
            " |-- adr: integer (nullable = true)\n",
            " |-- required_car_parking_spaces: integer (nullable = true)\n",
            " |-- total_of_special_requests: integer (nullable = true)\n",
            " |-- reservation_status: string (nullable = true)\n",
            " |-- reservation_status_date: string (nullable = true)\n",
            "\n"
          ]
        }
      ]
    },
    {
      "cell_type": "code",
      "source": [
        "df.groupby('country').count().sort('count',ascending=False).show(5)"
      ],
      "metadata": {
        "id": "mSG08bJ_xU3X",
        "colab": {
          "base_uri": "https://localhost:8080/"
        },
        "outputId": "1a7b7295-d9d1-453a-b384-7fe1e0043d3b"
      },
      "execution_count": 23,
      "outputs": [
        {
          "output_type": "stream",
          "name": "stdout",
          "text": [
            "+-------+-----+\n",
            "|country|count|\n",
            "+-------+-----+\n",
            "|    PRT|48590|\n",
            "|    GBR|12129|\n",
            "|    FRA|10415|\n",
            "|    ESP| 8568|\n",
            "|    DEU| 7287|\n",
            "+-------+-----+\n",
            "only showing top 5 rows\n",
            "\n"
          ]
        }
      ]
    },
    {
      "cell_type": "markdown",
      "source": [
        "solution 10) ***"
      ],
      "metadata": {
        "id": "N5L0_rhtjD7O"
      }
    },
    {
      "cell_type": "code",
      "source": [
        "df.groupby('customer_type').agg(F.mean(df.lead_time)).show()"
      ],
      "metadata": {
        "colab": {
          "base_uri": "https://localhost:8080/"
        },
        "id": "MVJItDSgjN9I",
        "outputId": "bc211954-aad0-4c42-e77f-841214bbe380"
      },
      "execution_count": 24,
      "outputs": [
        {
          "output_type": "stream",
          "name": "stdout",
          "text": [
            "+---------------+------------------+\n",
            "|  customer_type|    avg(lead_time)|\n",
            "+---------------+------------------+\n",
            "|      Transient| 93.29551515963085|\n",
            "|Transient-Party|137.03705620124185|\n",
            "|          Group| 55.05719237435009|\n",
            "|       Contract| 142.9698233562316|\n",
            "+---------------+------------------+\n",
            "\n"
          ]
        }
      ]
    },
    {
      "cell_type": "markdown",
      "source": [
        "solution 11) *****"
      ],
      "metadata": {
        "id": "36cT8KKS8udn"
      }
    },
    {
      "cell_type": "code",
      "source": [
        "df.show(5)"
      ],
      "metadata": {
        "colab": {
          "base_uri": "https://localhost:8080/"
        },
        "id": "H8kpNoGf8xlP",
        "outputId": "437bb392-181c-4e0e-bca3-16b9e488dfc9"
      },
      "execution_count": 25,
      "outputs": [
        {
          "output_type": "stream",
          "name": "stdout",
          "text": [
            "+------------+-----------+---------+-----------------+------------------+------------------------+-------------------------+-----------------------+--------------------+------+--------+------+----+-------+--------------+--------------------+-----------------+----------------------+------------------------------+------------------+------------------+---------------+------------+-----+-------+--------------------+-------------+---+---------------------------+-------------------------+------------------+-----------------------+\n",
            "|       hotel|is_canceled|lead_time|arrival_date_year|arrival_date_month|arrival_date_week_number|arrival_date_day_of_month|stays_in_weekend_nights|stays_in_week_nights|adults|children|babies|meal|country|market_segment|distribution_channel|is_repeated_guest|previous_cancellations|previous_bookings_not_canceled|reserved_room_type|assigned_room_type|booking_changes|deposit_type|agent|company|days_in_waiting_list|customer_type|adr|required_car_parking_spaces|total_of_special_requests|reservation_status|reservation_status_date|\n",
            "+------------+-----------+---------+-----------------+------------------+------------------------+-------------------------+-----------------------+--------------------+------+--------+------+----+-------+--------------+--------------------+-----------------+----------------------+------------------------------+------------------+------------------+---------------+------------+-----+-------+--------------------+-------------+---+---------------------------+-------------------------+------------------+-----------------------+\n",
            "|Resort Hotel|          0|      342|             2015|              July|                      27|                        1|                      0|                   0|     2|       0|     0|  BB|    PRT|        Direct|              Direct|                0|                     0|                             0|                 C|                 C|              3|  No Deposit| null|   null|                   0|    Transient|  0|                          0|                        0|         Check-Out|             2015-07-01|\n",
            "|Resort Hotel|          0|      737|             2015|              July|                      27|                        1|                      0|                   0|     2|       0|     0|  BB|    PRT|        Direct|              Direct|                0|                     0|                             0|                 C|                 C|              4|  No Deposit| null|   null|                   0|    Transient|  0|                          0|                        0|         Check-Out|             2015-07-01|\n",
            "|Resort Hotel|          0|        7|             2015|              July|                      27|                        1|                      0|                   1|     1|       0|     0|  BB|    GBR|        Direct|              Direct|                0|                     0|                             0|                 A|                 C|              0|  No Deposit| null|   null|                   0|    Transient| 75|                          0|                        0|         Check-Out|             2015-07-02|\n",
            "|Resort Hotel|          0|       13|             2015|              July|                      27|                        1|                      0|                   1|     1|       0|     0|  BB|    GBR|     Corporate|           Corporate|                0|                     0|                             0|                 A|                 A|              0|  No Deposit|  304|   null|                   0|    Transient| 75|                          0|                        0|         Check-Out|             2015-07-02|\n",
            "|Resort Hotel|          0|       14|             2015|              July|                      27|                        1|                      0|                   2|     2|       0|     0|  BB|    GBR|     Online TA|               TA/TO|                0|                     0|                             0|                 A|                 A|              0|  No Deposit|  240|   null|                   0|    Transient| 98|                          0|                        1|         Check-Out|             2015-07-03|\n",
            "+------------+-----------+---------+-----------------+------------------+------------------------+-------------------------+-----------------------+--------------------+------+--------+------+----+-------+--------------+--------------------+-----------------+----------------------+------------------------------+------------------+------------------+---------------+------------+-----+-------+--------------------+-------------+---+---------------------------+-------------------------+------------------+-----------------------+\n",
            "only showing top 5 rows\n",
            "\n"
          ]
        }
      ]
    },
    {
      "cell_type": "code",
      "source": [
        "from pyspark.sql.functions import concat,expr,col"
      ],
      "metadata": {
        "id": "7ig1ALe6GM_c"
      },
      "execution_count": 26,
      "outputs": []
    },
    {
      "cell_type": "code",
      "source": [
        "from pyspark.sql import functions as F"
      ],
      "metadata": {
        "id": "QAPUPt3JQhKU"
      },
      "execution_count": 27,
      "outputs": []
    },
    {
      "cell_type": "code",
      "source": [
        "newdf = df.withColumn('arrival_date', F.concat(F.col('arrival_date_year'),F.lit('_'), F.col('arrival_date_month'),F.lit('_'),F.col('arrival_date_day_of_month')))"
      ],
      "metadata": {
        "id": "2g1G-WjyP-fs"
      },
      "execution_count": 28,
      "outputs": []
    },
    {
      "cell_type": "code",
      "source": [
        "newdf.show(5)"
      ],
      "metadata": {
        "colab": {
          "base_uri": "https://localhost:8080/"
        },
        "id": "lTpsKGnaQv70",
        "outputId": "d4f81cce-315f-4446-b049-719f0cedae4c"
      },
      "execution_count": 29,
      "outputs": [
        {
          "output_type": "stream",
          "name": "stdout",
          "text": [
            "+------------+-----------+---------+-----------------+------------------+------------------------+-------------------------+-----------------------+--------------------+------+--------+------+----+-------+--------------+--------------------+-----------------+----------------------+------------------------------+------------------+------------------+---------------+------------+-----+-------+--------------------+-------------+---+---------------------------+-------------------------+------------------+-----------------------+------------+\n",
            "|       hotel|is_canceled|lead_time|arrival_date_year|arrival_date_month|arrival_date_week_number|arrival_date_day_of_month|stays_in_weekend_nights|stays_in_week_nights|adults|children|babies|meal|country|market_segment|distribution_channel|is_repeated_guest|previous_cancellations|previous_bookings_not_canceled|reserved_room_type|assigned_room_type|booking_changes|deposit_type|agent|company|days_in_waiting_list|customer_type|adr|required_car_parking_spaces|total_of_special_requests|reservation_status|reservation_status_date|arrival_date|\n",
            "+------------+-----------+---------+-----------------+------------------+------------------------+-------------------------+-----------------------+--------------------+------+--------+------+----+-------+--------------+--------------------+-----------------+----------------------+------------------------------+------------------+------------------+---------------+------------+-----+-------+--------------------+-------------+---+---------------------------+-------------------------+------------------+-----------------------+------------+\n",
            "|Resort Hotel|          0|      342|             2015|              July|                      27|                        1|                      0|                   0|     2|       0|     0|  BB|    PRT|        Direct|              Direct|                0|                     0|                             0|                 C|                 C|              3|  No Deposit| null|   null|                   0|    Transient|  0|                          0|                        0|         Check-Out|             2015-07-01| 2015_July_1|\n",
            "|Resort Hotel|          0|      737|             2015|              July|                      27|                        1|                      0|                   0|     2|       0|     0|  BB|    PRT|        Direct|              Direct|                0|                     0|                             0|                 C|                 C|              4|  No Deposit| null|   null|                   0|    Transient|  0|                          0|                        0|         Check-Out|             2015-07-01| 2015_July_1|\n",
            "|Resort Hotel|          0|        7|             2015|              July|                      27|                        1|                      0|                   1|     1|       0|     0|  BB|    GBR|        Direct|              Direct|                0|                     0|                             0|                 A|                 C|              0|  No Deposit| null|   null|                   0|    Transient| 75|                          0|                        0|         Check-Out|             2015-07-02| 2015_July_1|\n",
            "|Resort Hotel|          0|       13|             2015|              July|                      27|                        1|                      0|                   1|     1|       0|     0|  BB|    GBR|     Corporate|           Corporate|                0|                     0|                             0|                 A|                 A|              0|  No Deposit|  304|   null|                   0|    Transient| 75|                          0|                        0|         Check-Out|             2015-07-02| 2015_July_1|\n",
            "|Resort Hotel|          0|       14|             2015|              July|                      27|                        1|                      0|                   2|     2|       0|     0|  BB|    GBR|     Online TA|               TA/TO|                0|                     0|                             0|                 A|                 A|              0|  No Deposit|  240|   null|                   0|    Transient| 98|                          0|                        1|         Check-Out|             2015-07-03| 2015_July_1|\n",
            "+------------+-----------+---------+-----------------+------------------+------------------------+-------------------------+-----------------------+--------------------+------+--------+------+----+-------+--------------+--------------------+-----------------+----------------------+------------------------------+------------------+------------------+---------------+------------+-----+-------+--------------------+-------------+---+---------------------------+-------------------------+------------------+-----------------------+------------+\n",
            "only showing top 5 rows\n",
            "\n"
          ]
        }
      ]
    },
    {
      "cell_type": "markdown",
      "source": [
        "solution 12) *****"
      ],
      "metadata": {
        "id": "pc0xBtGnRAlj"
      }
    },
    {
      "cell_type": "markdown",
      "source": [
        "newdf.withColumn('people',newdf.adults+newdf.children+newdf.babies).show(5)"
      ],
      "metadata": {
        "id": "xVuHiMT4jJeC"
      }
    },
    {
      "cell_type": "code",
      "source": [
        "new13df = newdf.withColumn('people',newdf.adults+newdf.children+newdf.babies)"
      ],
      "metadata": {
        "id": "qlwecVrhkFsp"
      },
      "execution_count": 30,
      "outputs": []
    },
    {
      "cell_type": "code",
      "source": [
        "new13df.show(5)"
      ],
      "metadata": {
        "colab": {
          "base_uri": "https://localhost:8080/"
        },
        "id": "DHLjX8ackTkX",
        "outputId": "e27295da-7521-490a-aeab-0a78fc96559b"
      },
      "execution_count": 31,
      "outputs": [
        {
          "output_type": "stream",
          "name": "stdout",
          "text": [
            "+------------+-----------+---------+-----------------+------------------+------------------------+-------------------------+-----------------------+--------------------+------+--------+------+----+-------+--------------+--------------------+-----------------+----------------------+------------------------------+------------------+------------------+---------------+------------+-----+-------+--------------------+-------------+---+---------------------------+-------------------------+------------------+-----------------------+------------+------+\n",
            "|       hotel|is_canceled|lead_time|arrival_date_year|arrival_date_month|arrival_date_week_number|arrival_date_day_of_month|stays_in_weekend_nights|stays_in_week_nights|adults|children|babies|meal|country|market_segment|distribution_channel|is_repeated_guest|previous_cancellations|previous_bookings_not_canceled|reserved_room_type|assigned_room_type|booking_changes|deposit_type|agent|company|days_in_waiting_list|customer_type|adr|required_car_parking_spaces|total_of_special_requests|reservation_status|reservation_status_date|arrival_date|people|\n",
            "+------------+-----------+---------+-----------------+------------------+------------------------+-------------------------+-----------------------+--------------------+------+--------+------+----+-------+--------------+--------------------+-----------------+----------------------+------------------------------+------------------+------------------+---------------+------------+-----+-------+--------------------+-------------+---+---------------------------+-------------------------+------------------+-----------------------+------------+------+\n",
            "|Resort Hotel|          0|      342|             2015|              July|                      27|                        1|                      0|                   0|     2|       0|     0|  BB|    PRT|        Direct|              Direct|                0|                     0|                             0|                 C|                 C|              3|  No Deposit| null|   null|                   0|    Transient|  0|                          0|                        0|         Check-Out|             2015-07-01| 2015_July_1|   2.0|\n",
            "|Resort Hotel|          0|      737|             2015|              July|                      27|                        1|                      0|                   0|     2|       0|     0|  BB|    PRT|        Direct|              Direct|                0|                     0|                             0|                 C|                 C|              4|  No Deposit| null|   null|                   0|    Transient|  0|                          0|                        0|         Check-Out|             2015-07-01| 2015_July_1|   2.0|\n",
            "|Resort Hotel|          0|        7|             2015|              July|                      27|                        1|                      0|                   1|     1|       0|     0|  BB|    GBR|        Direct|              Direct|                0|                     0|                             0|                 A|                 C|              0|  No Deposit| null|   null|                   0|    Transient| 75|                          0|                        0|         Check-Out|             2015-07-02| 2015_July_1|   1.0|\n",
            "|Resort Hotel|          0|       13|             2015|              July|                      27|                        1|                      0|                   1|     1|       0|     0|  BB|    GBR|     Corporate|           Corporate|                0|                     0|                             0|                 A|                 A|              0|  No Deposit|  304|   null|                   0|    Transient| 75|                          0|                        0|         Check-Out|             2015-07-02| 2015_July_1|   1.0|\n",
            "|Resort Hotel|          0|       14|             2015|              July|                      27|                        1|                      0|                   2|     2|       0|     0|  BB|    GBR|     Online TA|               TA/TO|                0|                     0|                             0|                 A|                 A|              0|  No Deposit|  240|   null|                   0|    Transient| 98|                          0|                        1|         Check-Out|             2015-07-03| 2015_July_1|   2.0|\n",
            "+------------+-----------+---------+-----------------+------------------+------------------------+-------------------------+-----------------------+--------------------+------+--------+------+----+-------+--------------+--------------------+-----------------+----------------------+------------------------------+------------------+------------------+---------------+------------+-----+-------+--------------------+-------------+---+---------------------------+-------------------------+------------------+-----------------------+------------+------+\n",
            "only showing top 5 rows\n",
            "\n"
          ]
        }
      ]
    },
    {
      "cell_type": "code",
      "source": [
        "new13df.where('is_canceled=1').groupby('arrival_date').sum('people').sort('arrival_date',ascending=False).show()"
      ],
      "metadata": {
        "colab": {
          "base_uri": "https://localhost:8080/"
        },
        "id": "nd9GcHONRDZ7",
        "outputId": "9bab60d2-eb85-4fce-9728-f493c8350376"
      },
      "execution_count": 32,
      "outputs": [
        {
          "output_type": "stream",
          "name": "stdout",
          "text": [
            "+------------+-----------+\n",
            "|arrival_date|sum(people)|\n",
            "+------------+-----------+\n",
            "|  2017_May_9|      159.0|\n",
            "|  2017_May_8|      151.0|\n",
            "|  2017_May_7|       99.0|\n",
            "|  2017_May_6|      212.0|\n",
            "|  2017_May_5|      253.0|\n",
            "|  2017_May_4|      294.0|\n",
            "| 2017_May_31|      161.0|\n",
            "| 2017_May_30|      299.0|\n",
            "|  2017_May_3|      238.0|\n",
            "| 2017_May_29|       61.0|\n",
            "| 2017_May_28|      188.0|\n",
            "| 2017_May_27|      128.0|\n",
            "| 2017_May_26|      179.0|\n",
            "| 2017_May_25|      257.0|\n",
            "| 2017_May_24|      236.0|\n",
            "| 2017_May_23|       97.0|\n",
            "| 2017_May_22|      141.0|\n",
            "| 2017_May_21|      108.0|\n",
            "| 2017_May_20|      236.0|\n",
            "|  2017_May_2|       78.0|\n",
            "+------------+-----------+\n",
            "only showing top 20 rows\n",
            "\n"
          ]
        }
      ]
    },
    {
      "cell_type": "code",
      "source": [
        "new13_1df=new13df.where('is_canceled=1').groupby('arrival_date').sum('people').sort('arrival_date',ascending=False)"
      ],
      "metadata": {
        "id": "CUTHxM9TuhdX"
      },
      "execution_count": 92,
      "outputs": []
    },
    {
      "cell_type": "code",
      "source": [
        "new13_1df.printSchema()"
      ],
      "metadata": {
        "colab": {
          "base_uri": "https://localhost:8080/"
        },
        "id": "zVwvuyJLuq3v",
        "outputId": "e663f1f8-040e-4797-9e19-5d676ea54644"
      },
      "execution_count": 93,
      "outputs": [
        {
          "output_type": "stream",
          "name": "stdout",
          "text": [
            "root\n",
            " |-- arrival_date: string (nullable = true)\n",
            " |-- sum(people): double (nullable = true)\n",
            "\n"
          ]
        }
      ]
    },
    {
      "cell_type": "markdown",
      "source": [
        "solution 13)*******"
      ],
      "metadata": {
        "id": "r35tdgg3YBIi"
      }
    },
    {
      "cell_type": "code",
      "source": [
        "new14df = df.withColumn('yearmonth', F.concat(F.col('arrival_date_year'),F.lit('_'), F.col('arrival_date_month')))"
      ],
      "metadata": {
        "id": "nqVgta9inY6a"
      },
      "execution_count": 33,
      "outputs": []
    },
    {
      "cell_type": "code",
      "source": [
        "new14df.show(5)"
      ],
      "metadata": {
        "colab": {
          "base_uri": "https://localhost:8080/"
        },
        "id": "ZUXU7t_cnlU7",
        "outputId": "8593458b-656d-4aa1-d120-c2531a4f49e6"
      },
      "execution_count": 34,
      "outputs": [
        {
          "output_type": "stream",
          "name": "stdout",
          "text": [
            "+------------+-----------+---------+-----------------+------------------+------------------------+-------------------------+-----------------------+--------------------+------+--------+------+----+-------+--------------+--------------------+-----------------+----------------------+------------------------------+------------------+------------------+---------------+------------+-----+-------+--------------------+-------------+---+---------------------------+-------------------------+------------------+-----------------------+---------+\n",
            "|       hotel|is_canceled|lead_time|arrival_date_year|arrival_date_month|arrival_date_week_number|arrival_date_day_of_month|stays_in_weekend_nights|stays_in_week_nights|adults|children|babies|meal|country|market_segment|distribution_channel|is_repeated_guest|previous_cancellations|previous_bookings_not_canceled|reserved_room_type|assigned_room_type|booking_changes|deposit_type|agent|company|days_in_waiting_list|customer_type|adr|required_car_parking_spaces|total_of_special_requests|reservation_status|reservation_status_date|yearmonth|\n",
            "+------------+-----------+---------+-----------------+------------------+------------------------+-------------------------+-----------------------+--------------------+------+--------+------+----+-------+--------------+--------------------+-----------------+----------------------+------------------------------+------------------+------------------+---------------+------------+-----+-------+--------------------+-------------+---+---------------------------+-------------------------+------------------+-----------------------+---------+\n",
            "|Resort Hotel|          0|      342|             2015|              July|                      27|                        1|                      0|                   0|     2|       0|     0|  BB|    PRT|        Direct|              Direct|                0|                     0|                             0|                 C|                 C|              3|  No Deposit| null|   null|                   0|    Transient|  0|                          0|                        0|         Check-Out|             2015-07-01|2015_July|\n",
            "|Resort Hotel|          0|      737|             2015|              July|                      27|                        1|                      0|                   0|     2|       0|     0|  BB|    PRT|        Direct|              Direct|                0|                     0|                             0|                 C|                 C|              4|  No Deposit| null|   null|                   0|    Transient|  0|                          0|                        0|         Check-Out|             2015-07-01|2015_July|\n",
            "|Resort Hotel|          0|        7|             2015|              July|                      27|                        1|                      0|                   1|     1|       0|     0|  BB|    GBR|        Direct|              Direct|                0|                     0|                             0|                 A|                 C|              0|  No Deposit| null|   null|                   0|    Transient| 75|                          0|                        0|         Check-Out|             2015-07-02|2015_July|\n",
            "|Resort Hotel|          0|       13|             2015|              July|                      27|                        1|                      0|                   1|     1|       0|     0|  BB|    GBR|     Corporate|           Corporate|                0|                     0|                             0|                 A|                 A|              0|  No Deposit|  304|   null|                   0|    Transient| 75|                          0|                        0|         Check-Out|             2015-07-02|2015_July|\n",
            "|Resort Hotel|          0|       14|             2015|              July|                      27|                        1|                      0|                   2|     2|       0|     0|  BB|    GBR|     Online TA|               TA/TO|                0|                     0|                             0|                 A|                 A|              0|  No Deposit|  240|   null|                   0|    Transient| 98|                          0|                        1|         Check-Out|             2015-07-03|2015_July|\n",
            "+------------+-----------+---------+-----------------+------------------+------------------------+-------------------------+-----------------------+--------------------+------+--------+------+----+-------+--------------+--------------------+-----------------+----------------------+------------------------------+------------------+------------------+---------------+------------+-----+-------+--------------------+-------------+---+---------------------------+-------------------------+------------------+-----------------------+---------+\n",
            "only showing top 5 rows\n",
            "\n"
          ]
        }
      ]
    },
    {
      "cell_type": "code",
      "source": [
        "new14_1df =new14df[['hotel','yearmonth',]]"
      ],
      "metadata": {
        "id": "v1FsHjfgnrdB"
      },
      "execution_count": 35,
      "outputs": []
    },
    {
      "cell_type": "code",
      "source": [
        "new14_1df.show()"
      ],
      "metadata": {
        "colab": {
          "base_uri": "https://localhost:8080/"
        },
        "id": "oYN2NRLPoHC7",
        "outputId": "532d37f3-c23a-463f-b507-ee150509133b"
      },
      "execution_count": 36,
      "outputs": [
        {
          "output_type": "stream",
          "name": "stdout",
          "text": [
            "+------------+---------+\n",
            "|       hotel|yearmonth|\n",
            "+------------+---------+\n",
            "|Resort Hotel|2015_July|\n",
            "|Resort Hotel|2015_July|\n",
            "|Resort Hotel|2015_July|\n",
            "|Resort Hotel|2015_July|\n",
            "|Resort Hotel|2015_July|\n",
            "|Resort Hotel|2015_July|\n",
            "|Resort Hotel|2015_July|\n",
            "|Resort Hotel|2015_July|\n",
            "|Resort Hotel|2015_July|\n",
            "|Resort Hotel|2015_July|\n",
            "|Resort Hotel|2015_July|\n",
            "|Resort Hotel|2015_July|\n",
            "|Resort Hotel|2015_July|\n",
            "|Resort Hotel|2015_July|\n",
            "|Resort Hotel|2015_July|\n",
            "|Resort Hotel|2015_July|\n",
            "|Resort Hotel|2015_July|\n",
            "|Resort Hotel|2015_July|\n",
            "|Resort Hotel|2015_July|\n",
            "|Resort Hotel|2015_July|\n",
            "+------------+---------+\n",
            "only showing top 20 rows\n",
            "\n"
          ]
        }
      ]
    },
    {
      "cell_type": "code",
      "source": [
        "new14_1df.groupby('yearmonth','hotel').count().sort('yearmonth').show()"
      ],
      "metadata": {
        "colab": {
          "base_uri": "https://localhost:8080/"
        },
        "id": "wOmF-iUAoZxS",
        "outputId": "f3e769b0-962a-406a-bafe-8325ae4bc61b"
      },
      "execution_count": 37,
      "outputs": [
        {
          "output_type": "stream",
          "name": "stdout",
          "text": [
            "+--------------+------------+-----+\n",
            "|     yearmonth|       hotel|count|\n",
            "+--------------+------------+-----+\n",
            "|   2015_August|Resort Hotel| 1409|\n",
            "|   2015_August|  City Hotel| 2480|\n",
            "| 2015_December|  City Hotel| 1654|\n",
            "| 2015_December|Resort Hotel| 1266|\n",
            "|     2015_July|  City Hotel| 1398|\n",
            "|     2015_July|Resort Hotel| 1378|\n",
            "| 2015_November|  City Hotel| 1235|\n",
            "| 2015_November|Resort Hotel| 1105|\n",
            "|  2015_October|Resort Hotel| 1571|\n",
            "|  2015_October|  City Hotel| 3386|\n",
            "|2015_September|  City Hotel| 3529|\n",
            "|2015_September|Resort Hotel| 1585|\n",
            "|    2016_April|  City Hotel| 3561|\n",
            "|    2016_April|Resort Hotel| 1867|\n",
            "|   2016_August|  City Hotel| 3378|\n",
            "|   2016_August|Resort Hotel| 1685|\n",
            "| 2016_December|  City Hotel| 2478|\n",
            "| 2016_December|Resort Hotel| 1382|\n",
            "| 2016_February|Resort Hotel| 1520|\n",
            "| 2016_February|  City Hotel| 2371|\n",
            "+--------------+------------+-----+\n",
            "only showing top 20 rows\n",
            "\n"
          ]
        }
      ]
    },
    {
      "cell_type": "code",
      "source": [
        "new14_2df =new14_1df.groupby('yearmonth','hotel').count().sort('yearmonth')"
      ],
      "metadata": {
        "id": "mdobduLVjPJ0"
      },
      "execution_count": 56,
      "outputs": []
    },
    {
      "cell_type": "code",
      "source": [
        "new14_2df.show(5)"
      ],
      "metadata": {
        "colab": {
          "base_uri": "https://localhost:8080/"
        },
        "id": "bDSlO7bhjWA8",
        "outputId": "8bc0c0a6-eeb6-4482-bd89-e2dc715321e0"
      },
      "execution_count": 57,
      "outputs": [
        {
          "output_type": "stream",
          "name": "stdout",
          "text": [
            "+-------------+------------+-----+\n",
            "|    yearmonth|       hotel|count|\n",
            "+-------------+------------+-----+\n",
            "|  2015_August|  City Hotel| 2480|\n",
            "|  2015_August|Resort Hotel| 1409|\n",
            "|2015_December|  City Hotel| 1654|\n",
            "|2015_December|Resort Hotel| 1266|\n",
            "|    2015_July|Resort Hotel| 1378|\n",
            "+-------------+------------+-----+\n",
            "only showing top 5 rows\n",
            "\n"
          ]
        }
      ]
    },
    {
      "cell_type": "code",
      "source": [
        "new14_2df.printSchema()"
      ],
      "metadata": {
        "colab": {
          "base_uri": "https://localhost:8080/"
        },
        "id": "t_frb0vfjc5t",
        "outputId": "2caf22ec-edc4-4f57-8ecd-1875e87fbd99"
      },
      "execution_count": 58,
      "outputs": [
        {
          "output_type": "stream",
          "name": "stdout",
          "text": [
            "root\n",
            " |-- yearmonth: string (nullable = true)\n",
            " |-- hotel: string (nullable = true)\n",
            " |-- count: long (nullable = false)\n",
            "\n"
          ]
        }
      ]
    },
    {
      "cell_type": "markdown",
      "source": [
        "solution 14)******"
      ],
      "metadata": {
        "id": "IQTsh1HFpTZM"
      }
    },
    {
      "cell_type": "code",
      "source": [
        "from pyspark.sql import window"
      ],
      "metadata": {
        "id": "G9OXFC3FF5_M"
      },
      "execution_count": 38,
      "outputs": []
    },
    {
      "cell_type": "code",
      "source": [
        "window = F.window(new13df.arrival_date,'6 day')"
      ],
      "metadata": {
        "id": "iS_PV4UIEwwi"
      },
      "execution_count": 39,
      "outputs": []
    },
    {
      "cell_type": "code",
      "source": [
        "new13df.groupby(window).count().sort('window').show(truncate=False)"
      ],
      "metadata": {
        "colab": {
          "base_uri": "https://localhost:8080/"
        },
        "id": "786fTq0xFIkw",
        "outputId": "e1eb3775-6ad1-44b5-a6e3-a7097de8921f"
      },
      "execution_count": 40,
      "outputs": [
        {
          "output_type": "stream",
          "name": "stdout",
          "text": [
            "+------+-----+\n",
            "|window|count|\n",
            "+------+-----+\n",
            "+------+-----+\n",
            "\n"
          ]
        }
      ]
    },
    {
      "cell_type": "code",
      "source": [
        "new13df.filter((new13df.is_canceled==1)&(new13df.arrival_date<'2017_May_9')).groupby('arrival_date').sum('people').sort('arrival_date',ascending=False).show(7)"
      ],
      "metadata": {
        "colab": {
          "base_uri": "https://localhost:8080/"
        },
        "id": "nqufIO97pV_T",
        "outputId": "9d8c2e18-f248-4d21-cdba-4f0ad3a37c78"
      },
      "execution_count": 42,
      "outputs": [
        {
          "output_type": "stream",
          "name": "stdout",
          "text": [
            "+------------+-----------+\n",
            "|arrival_date|sum(people)|\n",
            "+------------+-----------+\n",
            "|  2017_May_8|      151.0|\n",
            "|  2017_May_7|       99.0|\n",
            "|  2017_May_6|      212.0|\n",
            "|  2017_May_5|      253.0|\n",
            "|  2017_May_4|      294.0|\n",
            "| 2017_May_31|      161.0|\n",
            "| 2017_May_30|      299.0|\n",
            "+------------+-----------+\n",
            "only showing top 7 rows\n",
            "\n"
          ]
        }
      ]
    },
    {
      "cell_type": "markdown",
      "source": [
        "solution 15)*****"
      ],
      "metadata": {
        "id": "VXscTGQ2qaK2"
      }
    },
    {
      "cell_type": "code",
      "source": [
        "isodf=spark.read.csv(\"/content/ISO3166.csv\", header=True)"
      ],
      "metadata": {
        "id": "WsANvm03qdGe"
      },
      "execution_count": 43,
      "outputs": []
    },
    {
      "cell_type": "code",
      "source": [
        "isodf.show()"
      ],
      "metadata": {
        "colab": {
          "base_uri": "https://localhost:8080/"
        },
        "id": "Q3jDE1F7-yM8",
        "outputId": "d63f01fc-74c6-4d1a-f5ec-106a95aec03a"
      },
      "execution_count": 121,
      "outputs": [
        {
          "output_type": "stream",
          "name": "stdout",
          "text": [
            "+-------------------+------------+------------+-------+\n",
            "|            Country|Alpha-2 code|Alpha-3 code|Numeric|\n",
            "+-------------------+------------+------------+-------+\n",
            "|        Afghanistan|          AF|         AFG|      4|\n",
            "|            Albania|          AL|         ALB|      8|\n",
            "|            Algeria|          DZ|         DZA|     12|\n",
            "|     American Samoa|          AS|         ASM|     16|\n",
            "|            Andorra|          AD|         AND|     20|\n",
            "|             Angola|          AO|         AGO|     24|\n",
            "|           Anguilla|          AI|         AIA|    660|\n",
            "|         Antarctica|          AQ|         ATA|     10|\n",
            "|Antigua and Barbuda|          AG|         ATG|     28|\n",
            "|          Argentina|          AR|         ARG|     32|\n",
            "|            Armenia|          AM|         ARM|     51|\n",
            "|              Aruba|          AW|         ABW|    533|\n",
            "|          Australia|          AU|         AUS|     36|\n",
            "|            Austria|          AT|         AUT|     40|\n",
            "|         Azerbaijan|          AZ|         AZE|     31|\n",
            "|      Bahamas (the)|          BS|         BHS|     44|\n",
            "|            Bahrain|          BH|         BHR|     48|\n",
            "|         Bangladesh|          BD|         BGD|     50|\n",
            "|           Barbados|          BB|         BRB|     52|\n",
            "|            Belarus|          BY|         BLR|    112|\n",
            "+-------------------+------------+------------+-------+\n",
            "only showing top 20 rows\n",
            "\n"
          ]
        }
      ]
    },
    {
      "cell_type": "code",
      "source": [
        "isodf.printSchema()"
      ],
      "metadata": {
        "colab": {
          "base_uri": "https://localhost:8080/"
        },
        "id": "vXbeP7mUAXFZ",
        "outputId": "c6f0b6a0-1efe-472e-b63a-9f9cb4b22268"
      },
      "execution_count": 45,
      "outputs": [
        {
          "output_type": "stream",
          "name": "stdout",
          "text": [
            "root\n",
            " |-- Country: string (nullable = true)\n",
            " |-- Alpha-2 code: string (nullable = true)\n",
            " |-- Alpha-3 code: string (nullable = true)\n",
            " |-- Numeric: string (nullable = true)\n",
            "\n"
          ]
        }
      ]
    },
    {
      "cell_type": "code",
      "source": [
        "isodf1=isodf[['Alpha-3 code','Country']]"
      ],
      "metadata": {
        "id": "tvFRfGv9BZja"
      },
      "execution_count": 46,
      "outputs": []
    },
    {
      "cell_type": "code",
      "source": [
        "df.show()"
      ],
      "metadata": {
        "colab": {
          "base_uri": "https://localhost:8080/"
        },
        "id": "fB03bbABHXkq",
        "outputId": "e03d10e3-daef-4190-b459-9a5e6d3a4c84"
      },
      "execution_count": 47,
      "outputs": [
        {
          "output_type": "stream",
          "name": "stdout",
          "text": [
            "+------------+-----------+---------+-----------------+------------------+------------------------+-------------------------+-----------------------+--------------------+------+--------+------+----+-------+--------------+--------------------+-----------------+----------------------+------------------------------+------------------+------------------+---------------+------------+-----+-------+--------------------+-------------+----+---------------------------+-------------------------+------------------+-----------------------+\n",
            "|       hotel|is_canceled|lead_time|arrival_date_year|arrival_date_month|arrival_date_week_number|arrival_date_day_of_month|stays_in_weekend_nights|stays_in_week_nights|adults|children|babies|meal|country|market_segment|distribution_channel|is_repeated_guest|previous_cancellations|previous_bookings_not_canceled|reserved_room_type|assigned_room_type|booking_changes|deposit_type|agent|company|days_in_waiting_list|customer_type| adr|required_car_parking_spaces|total_of_special_requests|reservation_status|reservation_status_date|\n",
            "+------------+-----------+---------+-----------------+------------------+------------------------+-------------------------+-----------------------+--------------------+------+--------+------+----+-------+--------------+--------------------+-----------------+----------------------+------------------------------+------------------+------------------+---------------+------------+-----+-------+--------------------+-------------+----+---------------------------+-------------------------+------------------+-----------------------+\n",
            "|Resort Hotel|          0|      342|             2015|              July|                      27|                        1|                      0|                   0|     2|       0|     0|  BB|    PRT|        Direct|              Direct|                0|                     0|                             0|                 C|                 C|              3|  No Deposit| null|   null|                   0|    Transient|   0|                          0|                        0|         Check-Out|             2015-07-01|\n",
            "|Resort Hotel|          0|      737|             2015|              July|                      27|                        1|                      0|                   0|     2|       0|     0|  BB|    PRT|        Direct|              Direct|                0|                     0|                             0|                 C|                 C|              4|  No Deposit| null|   null|                   0|    Transient|   0|                          0|                        0|         Check-Out|             2015-07-01|\n",
            "|Resort Hotel|          0|        7|             2015|              July|                      27|                        1|                      0|                   1|     1|       0|     0|  BB|    GBR|        Direct|              Direct|                0|                     0|                             0|                 A|                 C|              0|  No Deposit| null|   null|                   0|    Transient|  75|                          0|                        0|         Check-Out|             2015-07-02|\n",
            "|Resort Hotel|          0|       13|             2015|              July|                      27|                        1|                      0|                   1|     1|       0|     0|  BB|    GBR|     Corporate|           Corporate|                0|                     0|                             0|                 A|                 A|              0|  No Deposit|  304|   null|                   0|    Transient|  75|                          0|                        0|         Check-Out|             2015-07-02|\n",
            "|Resort Hotel|          0|       14|             2015|              July|                      27|                        1|                      0|                   2|     2|       0|     0|  BB|    GBR|     Online TA|               TA/TO|                0|                     0|                             0|                 A|                 A|              0|  No Deposit|  240|   null|                   0|    Transient|  98|                          0|                        1|         Check-Out|             2015-07-03|\n",
            "|Resort Hotel|          0|       14|             2015|              July|                      27|                        1|                      0|                   2|     2|       0|     0|  BB|    GBR|     Online TA|               TA/TO|                0|                     0|                             0|                 A|                 A|              0|  No Deposit|  240|   null|                   0|    Transient|  98|                          0|                        1|         Check-Out|             2015-07-03|\n",
            "|Resort Hotel|          0|        0|             2015|              July|                      27|                        1|                      0|                   2|     2|       0|     0|  BB|    PRT|        Direct|              Direct|                0|                     0|                             0|                 C|                 C|              0|  No Deposit| null|   null|                   0|    Transient| 107|                          0|                        0|         Check-Out|             2015-07-03|\n",
            "|Resort Hotel|          0|        9|             2015|              July|                      27|                        1|                      0|                   2|     2|       0|     0|  FB|    PRT|        Direct|              Direct|                0|                     0|                             0|                 C|                 C|              0|  No Deposit|  303|   null|                   0|    Transient| 103|                          0|                        1|         Check-Out|             2015-07-03|\n",
            "|Resort Hotel|          1|       85|             2015|              July|                      27|                        1|                      0|                   3|     2|       0|     0|  BB|    PRT|     Online TA|               TA/TO|                0|                     0|                             0|                 A|                 A|              0|  No Deposit|  240|   null|                   0|    Transient|  82|                          0|                        1|          Canceled|             2015-05-06|\n",
            "|Resort Hotel|          1|       75|             2015|              July|                      27|                        1|                      0|                   3|     2|       0|     0|  HB|    PRT| Offline TA/TO|               TA/TO|                0|                     0|                             0|                 D|                 D|              0|  No Deposit|   15|   null|                   0|    Transient|null|                          0|                        0|          Canceled|             2015-04-22|\n",
            "|Resort Hotel|          1|       23|             2015|              July|                      27|                        1|                      0|                   4|     2|       0|     0|  BB|    PRT|     Online TA|               TA/TO|                0|                     0|                             0|                 E|                 E|              0|  No Deposit|  240|   null|                   0|    Transient| 123|                          0|                        0|          Canceled|             2015-06-23|\n",
            "|Resort Hotel|          0|       35|             2015|              July|                      27|                        1|                      0|                   4|     2|       0|     0|  HB|    PRT|     Online TA|               TA/TO|                0|                     0|                             0|                 D|                 D|              0|  No Deposit|  240|   null|                   0|    Transient| 145|                          0|                        0|         Check-Out|             2015-07-05|\n",
            "|Resort Hotel|          0|       68|             2015|              July|                      27|                        1|                      0|                   4|     2|       0|     0|  BB|    USA|     Online TA|               TA/TO|                0|                     0|                             0|                 D|                 E|              0|  No Deposit|  240|   null|                   0|    Transient|  97|                          0|                        3|         Check-Out|             2015-07-05|\n",
            "|Resort Hotel|          0|       18|             2015|              July|                      27|                        1|                      0|                   4|     2|       1|     0|  HB|    ESP|     Online TA|               TA/TO|                0|                     0|                             0|                 G|                 G|              1|  No Deposit|  241|   null|                   0|    Transient|null|                          0|                        1|         Check-Out|             2015-07-05|\n",
            "|Resort Hotel|          0|       37|             2015|              July|                      27|                        1|                      0|                   4|     2|       0|     0|  BB|    PRT|     Online TA|               TA/TO|                0|                     0|                             0|                 E|                 E|              0|  No Deposit|  241|   null|                   0|    Transient|null|                          0|                        0|         Check-Out|             2015-07-05|\n",
            "|Resort Hotel|          0|       68|             2015|              July|                      27|                        1|                      0|                   4|     2|       0|     0|  BB|    IRL|     Online TA|               TA/TO|                0|                     0|                             0|                 D|                 E|              0|  No Deposit|  240|   null|                   0|    Transient|  97|                          0|                        3|         Check-Out|             2015-07-05|\n",
            "|Resort Hotel|          0|       37|             2015|              July|                      27|                        1|                      0|                   4|     2|       0|     0|  BB|    PRT| Offline TA/TO|               TA/TO|                0|                     0|                             0|                 E|                 E|              0|  No Deposit|    8|   null|                   0|     Contract|null|                          0|                        0|         Check-Out|             2015-07-05|\n",
            "|Resort Hotel|          0|       12|             2015|              July|                      27|                        1|                      0|                   1|     2|       0|     0|  BB|    IRL|     Online TA|               TA/TO|                0|                     0|                             0|                 A|                 E|              0|  No Deposit|  240|   null|                   0|    Transient|null|                          0|                        0|         Check-Out|             2015-07-02|\n",
            "|Resort Hotel|          0|        0|             2015|              July|                      27|                        1|                      0|                   1|     2|       0|     0|  BB|    FRA|     Corporate|           Corporate|                0|                     0|                             0|                 A|                 G|              0|  No Deposit| null|    110|                   0|    Transient|null|                          0|                        0|         Check-Out|             2015-07-02|\n",
            "|Resort Hotel|          0|        7|             2015|              July|                      27|                        1|                      0|                   4|     2|       0|     0|  BB|    GBR|        Direct|              Direct|                0|                     0|                             0|                 G|                 G|              0|  No Deposit|  250|   null|                   0|    Transient| 153|                          0|                        1|         Check-Out|             2015-07-05|\n",
            "+------------+-----------+---------+-----------------+------------------+------------------------+-------------------------+-----------------------+--------------------+------+--------+------+----+-------+--------------+--------------------+-----------------+----------------------+------------------------------+------------------+------------------+---------------+------------+-----+-------+--------------------+-------------+----+---------------------------+-------------------------+------------------+-----------------------+\n",
            "only showing top 20 rows\n",
            "\n"
          ]
        }
      ]
    },
    {
      "cell_type": "markdown",
      "source": [
        "solution 16) *****"
      ],
      "metadata": {
        "id": "2y7GGciPaOje"
      }
    },
    {
      "cell_type": "code",
      "source": [
        "new_isodf =isodf.drop_duplicates(['Country']).groupby('Country')"
      ],
      "metadata": {
        "id": "nfegcghRaVS-"
      },
      "execution_count": 107,
      "outputs": []
    },
    {
      "cell_type": "markdown",
      "source": [
        "solution 17)******"
      ],
      "metadata": {
        "id": "UvlCfWviaWPW"
      }
    },
    {
      "cell_type": "code",
      "source": [
        "df.show(5)"
      ],
      "metadata": {
        "id": "Ctiv271dJGmA",
        "colab": {
          "base_uri": "https://localhost:8080/"
        },
        "outputId": "cdd95076-d81c-4283-f922-cd3aee5f457b"
      },
      "execution_count": 48,
      "outputs": [
        {
          "output_type": "stream",
          "name": "stdout",
          "text": [
            "+------------+-----------+---------+-----------------+------------------+------------------------+-------------------------+-----------------------+--------------------+------+--------+------+----+-------+--------------+--------------------+-----------------+----------------------+------------------------------+------------------+------------------+---------------+------------+-----+-------+--------------------+-------------+---+---------------------------+-------------------------+------------------+-----------------------+\n",
            "|       hotel|is_canceled|lead_time|arrival_date_year|arrival_date_month|arrival_date_week_number|arrival_date_day_of_month|stays_in_weekend_nights|stays_in_week_nights|adults|children|babies|meal|country|market_segment|distribution_channel|is_repeated_guest|previous_cancellations|previous_bookings_not_canceled|reserved_room_type|assigned_room_type|booking_changes|deposit_type|agent|company|days_in_waiting_list|customer_type|adr|required_car_parking_spaces|total_of_special_requests|reservation_status|reservation_status_date|\n",
            "+------------+-----------+---------+-----------------+------------------+------------------------+-------------------------+-----------------------+--------------------+------+--------+------+----+-------+--------------+--------------------+-----------------+----------------------+------------------------------+------------------+------------------+---------------+------------+-----+-------+--------------------+-------------+---+---------------------------+-------------------------+------------------+-----------------------+\n",
            "|Resort Hotel|          0|      342|             2015|              July|                      27|                        1|                      0|                   0|     2|       0|     0|  BB|    PRT|        Direct|              Direct|                0|                     0|                             0|                 C|                 C|              3|  No Deposit| null|   null|                   0|    Transient|  0|                          0|                        0|         Check-Out|             2015-07-01|\n",
            "|Resort Hotel|          0|      737|             2015|              July|                      27|                        1|                      0|                   0|     2|       0|     0|  BB|    PRT|        Direct|              Direct|                0|                     0|                             0|                 C|                 C|              4|  No Deposit| null|   null|                   0|    Transient|  0|                          0|                        0|         Check-Out|             2015-07-01|\n",
            "|Resort Hotel|          0|        7|             2015|              July|                      27|                        1|                      0|                   1|     1|       0|     0|  BB|    GBR|        Direct|              Direct|                0|                     0|                             0|                 A|                 C|              0|  No Deposit| null|   null|                   0|    Transient| 75|                          0|                        0|         Check-Out|             2015-07-02|\n",
            "|Resort Hotel|          0|       13|             2015|              July|                      27|                        1|                      0|                   1|     1|       0|     0|  BB|    GBR|     Corporate|           Corporate|                0|                     0|                             0|                 A|                 A|              0|  No Deposit|  304|   null|                   0|    Transient| 75|                          0|                        0|         Check-Out|             2015-07-02|\n",
            "|Resort Hotel|          0|       14|             2015|              July|                      27|                        1|                      0|                   2|     2|       0|     0|  BB|    GBR|     Online TA|               TA/TO|                0|                     0|                             0|                 A|                 A|              0|  No Deposit|  240|   null|                   0|    Transient| 98|                          0|                        1|         Check-Out|             2015-07-03|\n",
            "+------------+-----------+---------+-----------------+------------------+------------------------+-------------------------+-----------------------+--------------------+------+--------+------+----+-------+--------------+--------------------+-----------------+----------------------+------------------------------+------------------+------------------+---------------+------------+-----+-------+--------------------+-------------+---+---------------------------+-------------------------+------------------+-----------------------+\n",
            "only showing top 5 rows\n",
            "\n"
          ]
        }
      ]
    },
    {
      "cell_type": "code",
      "source": [
        "df.printSchema()"
      ],
      "metadata": {
        "colab": {
          "base_uri": "https://localhost:8080/"
        },
        "id": "fhpVzXttdLlm",
        "outputId": "7def67bc-b833-43b0-d34c-4859b4755ef8"
      },
      "execution_count": 53,
      "outputs": [
        {
          "output_type": "stream",
          "name": "stdout",
          "text": [
            "root\n",
            " |-- hotel: string (nullable = true)\n",
            " |-- is_canceled: integer (nullable = true)\n",
            " |-- lead_time: integer (nullable = true)\n",
            " |-- arrival_date_year: string (nullable = true)\n",
            " |-- arrival_date_month: string (nullable = true)\n",
            " |-- arrival_date_week_number: integer (nullable = true)\n",
            " |-- arrival_date_day_of_month: integer (nullable = true)\n",
            " |-- stays_in_weekend_nights: integer (nullable = true)\n",
            " |-- stays_in_week_nights: integer (nullable = true)\n",
            " |-- adults: integer (nullable = true)\n",
            " |-- children: string (nullable = true)\n",
            " |-- babies: integer (nullable = true)\n",
            " |-- meal: string (nullable = true)\n",
            " |-- country: string (nullable = true)\n",
            " |-- market_segment: string (nullable = true)\n",
            " |-- distribution_channel: string (nullable = true)\n",
            " |-- is_repeated_guest: integer (nullable = true)\n",
            " |-- previous_cancellations: integer (nullable = true)\n",
            " |-- previous_bookings_not_canceled: integer (nullable = true)\n",
            " |-- reserved_room_type: string (nullable = true)\n",
            " |-- assigned_room_type: string (nullable = true)\n",
            " |-- booking_changes: integer (nullable = true)\n",
            " |-- deposit_type: string (nullable = true)\n",
            " |-- agent: integer (nullable = true)\n",
            " |-- company: integer (nullable = true)\n",
            " |-- days_in_waiting_list: integer (nullable = true)\n",
            " |-- customer_type: string (nullable = true)\n",
            " |-- adr: integer (nullable = true)\n",
            " |-- required_car_parking_spaces: integer (nullable = true)\n",
            " |-- total_of_special_requests: integer (nullable = true)\n",
            " |-- reservation_status: string (nullable = true)\n",
            " |-- reservation_status_date: string (nullable = true)\n",
            "\n"
          ]
        }
      ]
    },
    {
      "cell_type": "code",
      "source": [
        "import pandas as pd"
      ],
      "metadata": {
        "id": "JyzRGJqraAPD"
      },
      "execution_count": 49,
      "outputs": []
    },
    {
      "cell_type": "code",
      "source": [
        "pddf = df.toPandas()"
      ],
      "metadata": {
        "id": "GyTDGPmnaEpQ"
      },
      "execution_count": 50,
      "outputs": []
    },
    {
      "cell_type": "code",
      "source": [
        "pddf"
      ],
      "metadata": {
        "colab": {
          "base_uri": "https://localhost:8080/",
          "height": 661
        },
        "id": "4KQ19-KfbXZO",
        "outputId": "35cc55da-56ce-4399-9101-59e470c9ef65"
      },
      "execution_count": 51,
      "outputs": [
        {
          "output_type": "execute_result",
          "data": {
            "text/plain": [
              "               hotel  is_canceled  lead_time arrival_date_year  \\\n",
              "0       Resort Hotel            0        342              2015   \n",
              "1       Resort Hotel            0        737              2015   \n",
              "2       Resort Hotel            0          7              2015   \n",
              "3       Resort Hotel            0         13              2015   \n",
              "4       Resort Hotel            0         14              2015   \n",
              "...              ...          ...        ...               ...   \n",
              "119385    City Hotel            0         23              2017   \n",
              "119386    City Hotel            0        102              2017   \n",
              "119387    City Hotel            0         34              2017   \n",
              "119388    City Hotel            0        109              2017   \n",
              "119389    City Hotel            0        205              2017   \n",
              "\n",
              "       arrival_date_month  arrival_date_week_number  \\\n",
              "0                    July                        27   \n",
              "1                    July                        27   \n",
              "2                    July                        27   \n",
              "3                    July                        27   \n",
              "4                    July                        27   \n",
              "...                   ...                       ...   \n",
              "119385             August                        35   \n",
              "119386             August                        35   \n",
              "119387             August                        35   \n",
              "119388             August                        35   \n",
              "119389             August                        35   \n",
              "\n",
              "        arrival_date_day_of_month  stays_in_weekend_nights  \\\n",
              "0                               1                        0   \n",
              "1                               1                        0   \n",
              "2                               1                        0   \n",
              "3                               1                        0   \n",
              "4                               1                        0   \n",
              "...                           ...                      ...   \n",
              "119385                         30                        2   \n",
              "119386                         31                        2   \n",
              "119387                         31                        2   \n",
              "119388                         31                        2   \n",
              "119389                         29                        2   \n",
              "\n",
              "        stays_in_week_nights  adults  ... deposit_type  agent company  \\\n",
              "0                          0       2  ...   No Deposit    NaN     NaN   \n",
              "1                          0       2  ...   No Deposit    NaN     NaN   \n",
              "2                          1       1  ...   No Deposit    NaN     NaN   \n",
              "3                          1       1  ...   No Deposit  304.0     NaN   \n",
              "4                          2       2  ...   No Deposit  240.0     NaN   \n",
              "...                      ...     ...  ...          ...    ...     ...   \n",
              "119385                     5       2  ...   No Deposit  394.0     NaN   \n",
              "119386                     5       3  ...   No Deposit    9.0     NaN   \n",
              "119387                     5       2  ...   No Deposit    9.0     NaN   \n",
              "119388                     5       2  ...   No Deposit   89.0     NaN   \n",
              "119389                     7       2  ...   No Deposit    9.0     NaN   \n",
              "\n",
              "       days_in_waiting_list customer_type   adr  required_car_parking_spaces  \\\n",
              "0                         0     Transient   0.0                            0   \n",
              "1                         0     Transient   0.0                            0   \n",
              "2                         0     Transient  75.0                            0   \n",
              "3                         0     Transient  75.0                            0   \n",
              "4                         0     Transient  98.0                            0   \n",
              "...                     ...           ...   ...                          ...   \n",
              "119385                    0     Transient   NaN                            0   \n",
              "119386                    0     Transient   NaN                            0   \n",
              "119387                    0     Transient   NaN                            0   \n",
              "119388                    0     Transient   NaN                            0   \n",
              "119389                    0     Transient   NaN                            0   \n",
              "\n",
              "        total_of_special_requests  reservation_status reservation_status_date  \n",
              "0                               0           Check-Out              2015-07-01  \n",
              "1                               0           Check-Out              2015-07-01  \n",
              "2                               0           Check-Out              2015-07-02  \n",
              "3                               0           Check-Out              2015-07-02  \n",
              "4                               1           Check-Out              2015-07-03  \n",
              "...                           ...                 ...                     ...  \n",
              "119385                          0           Check-Out              2017-09-06  \n",
              "119386                          2           Check-Out              2017-09-07  \n",
              "119387                          4           Check-Out              2017-09-07  \n",
              "119388                          0           Check-Out              2017-09-07  \n",
              "119389                          2           Check-Out              2017-09-07  \n",
              "\n",
              "[119390 rows x 32 columns]"
            ],
            "text/html": [
              "\n",
              "  <div id=\"df-b3ddb0a5-2117-402e-9c79-84fbd7d30229\">\n",
              "    <div class=\"colab-df-container\">\n",
              "      <div>\n",
              "<style scoped>\n",
              "    .dataframe tbody tr th:only-of-type {\n",
              "        vertical-align: middle;\n",
              "    }\n",
              "\n",
              "    .dataframe tbody tr th {\n",
              "        vertical-align: top;\n",
              "    }\n",
              "\n",
              "    .dataframe thead th {\n",
              "        text-align: right;\n",
              "    }\n",
              "</style>\n",
              "<table border=\"1\" class=\"dataframe\">\n",
              "  <thead>\n",
              "    <tr style=\"text-align: right;\">\n",
              "      <th></th>\n",
              "      <th>hotel</th>\n",
              "      <th>is_canceled</th>\n",
              "      <th>lead_time</th>\n",
              "      <th>arrival_date_year</th>\n",
              "      <th>arrival_date_month</th>\n",
              "      <th>arrival_date_week_number</th>\n",
              "      <th>arrival_date_day_of_month</th>\n",
              "      <th>stays_in_weekend_nights</th>\n",
              "      <th>stays_in_week_nights</th>\n",
              "      <th>adults</th>\n",
              "      <th>...</th>\n",
              "      <th>deposit_type</th>\n",
              "      <th>agent</th>\n",
              "      <th>company</th>\n",
              "      <th>days_in_waiting_list</th>\n",
              "      <th>customer_type</th>\n",
              "      <th>adr</th>\n",
              "      <th>required_car_parking_spaces</th>\n",
              "      <th>total_of_special_requests</th>\n",
              "      <th>reservation_status</th>\n",
              "      <th>reservation_status_date</th>\n",
              "    </tr>\n",
              "  </thead>\n",
              "  <tbody>\n",
              "    <tr>\n",
              "      <th>0</th>\n",
              "      <td>Resort Hotel</td>\n",
              "      <td>0</td>\n",
              "      <td>342</td>\n",
              "      <td>2015</td>\n",
              "      <td>July</td>\n",
              "      <td>27</td>\n",
              "      <td>1</td>\n",
              "      <td>0</td>\n",
              "      <td>0</td>\n",
              "      <td>2</td>\n",
              "      <td>...</td>\n",
              "      <td>No Deposit</td>\n",
              "      <td>NaN</td>\n",
              "      <td>NaN</td>\n",
              "      <td>0</td>\n",
              "      <td>Transient</td>\n",
              "      <td>0.0</td>\n",
              "      <td>0</td>\n",
              "      <td>0</td>\n",
              "      <td>Check-Out</td>\n",
              "      <td>2015-07-01</td>\n",
              "    </tr>\n",
              "    <tr>\n",
              "      <th>1</th>\n",
              "      <td>Resort Hotel</td>\n",
              "      <td>0</td>\n",
              "      <td>737</td>\n",
              "      <td>2015</td>\n",
              "      <td>July</td>\n",
              "      <td>27</td>\n",
              "      <td>1</td>\n",
              "      <td>0</td>\n",
              "      <td>0</td>\n",
              "      <td>2</td>\n",
              "      <td>...</td>\n",
              "      <td>No Deposit</td>\n",
              "      <td>NaN</td>\n",
              "      <td>NaN</td>\n",
              "      <td>0</td>\n",
              "      <td>Transient</td>\n",
              "      <td>0.0</td>\n",
              "      <td>0</td>\n",
              "      <td>0</td>\n",
              "      <td>Check-Out</td>\n",
              "      <td>2015-07-01</td>\n",
              "    </tr>\n",
              "    <tr>\n",
              "      <th>2</th>\n",
              "      <td>Resort Hotel</td>\n",
              "      <td>0</td>\n",
              "      <td>7</td>\n",
              "      <td>2015</td>\n",
              "      <td>July</td>\n",
              "      <td>27</td>\n",
              "      <td>1</td>\n",
              "      <td>0</td>\n",
              "      <td>1</td>\n",
              "      <td>1</td>\n",
              "      <td>...</td>\n",
              "      <td>No Deposit</td>\n",
              "      <td>NaN</td>\n",
              "      <td>NaN</td>\n",
              "      <td>0</td>\n",
              "      <td>Transient</td>\n",
              "      <td>75.0</td>\n",
              "      <td>0</td>\n",
              "      <td>0</td>\n",
              "      <td>Check-Out</td>\n",
              "      <td>2015-07-02</td>\n",
              "    </tr>\n",
              "    <tr>\n",
              "      <th>3</th>\n",
              "      <td>Resort Hotel</td>\n",
              "      <td>0</td>\n",
              "      <td>13</td>\n",
              "      <td>2015</td>\n",
              "      <td>July</td>\n",
              "      <td>27</td>\n",
              "      <td>1</td>\n",
              "      <td>0</td>\n",
              "      <td>1</td>\n",
              "      <td>1</td>\n",
              "      <td>...</td>\n",
              "      <td>No Deposit</td>\n",
              "      <td>304.0</td>\n",
              "      <td>NaN</td>\n",
              "      <td>0</td>\n",
              "      <td>Transient</td>\n",
              "      <td>75.0</td>\n",
              "      <td>0</td>\n",
              "      <td>0</td>\n",
              "      <td>Check-Out</td>\n",
              "      <td>2015-07-02</td>\n",
              "    </tr>\n",
              "    <tr>\n",
              "      <th>4</th>\n",
              "      <td>Resort Hotel</td>\n",
              "      <td>0</td>\n",
              "      <td>14</td>\n",
              "      <td>2015</td>\n",
              "      <td>July</td>\n",
              "      <td>27</td>\n",
              "      <td>1</td>\n",
              "      <td>0</td>\n",
              "      <td>2</td>\n",
              "      <td>2</td>\n",
              "      <td>...</td>\n",
              "      <td>No Deposit</td>\n",
              "      <td>240.0</td>\n",
              "      <td>NaN</td>\n",
              "      <td>0</td>\n",
              "      <td>Transient</td>\n",
              "      <td>98.0</td>\n",
              "      <td>0</td>\n",
              "      <td>1</td>\n",
              "      <td>Check-Out</td>\n",
              "      <td>2015-07-03</td>\n",
              "    </tr>\n",
              "    <tr>\n",
              "      <th>...</th>\n",
              "      <td>...</td>\n",
              "      <td>...</td>\n",
              "      <td>...</td>\n",
              "      <td>...</td>\n",
              "      <td>...</td>\n",
              "      <td>...</td>\n",
              "      <td>...</td>\n",
              "      <td>...</td>\n",
              "      <td>...</td>\n",
              "      <td>...</td>\n",
              "      <td>...</td>\n",
              "      <td>...</td>\n",
              "      <td>...</td>\n",
              "      <td>...</td>\n",
              "      <td>...</td>\n",
              "      <td>...</td>\n",
              "      <td>...</td>\n",
              "      <td>...</td>\n",
              "      <td>...</td>\n",
              "      <td>...</td>\n",
              "      <td>...</td>\n",
              "    </tr>\n",
              "    <tr>\n",
              "      <th>119385</th>\n",
              "      <td>City Hotel</td>\n",
              "      <td>0</td>\n",
              "      <td>23</td>\n",
              "      <td>2017</td>\n",
              "      <td>August</td>\n",
              "      <td>35</td>\n",
              "      <td>30</td>\n",
              "      <td>2</td>\n",
              "      <td>5</td>\n",
              "      <td>2</td>\n",
              "      <td>...</td>\n",
              "      <td>No Deposit</td>\n",
              "      <td>394.0</td>\n",
              "      <td>NaN</td>\n",
              "      <td>0</td>\n",
              "      <td>Transient</td>\n",
              "      <td>NaN</td>\n",
              "      <td>0</td>\n",
              "      <td>0</td>\n",
              "      <td>Check-Out</td>\n",
              "      <td>2017-09-06</td>\n",
              "    </tr>\n",
              "    <tr>\n",
              "      <th>119386</th>\n",
              "      <td>City Hotel</td>\n",
              "      <td>0</td>\n",
              "      <td>102</td>\n",
              "      <td>2017</td>\n",
              "      <td>August</td>\n",
              "      <td>35</td>\n",
              "      <td>31</td>\n",
              "      <td>2</td>\n",
              "      <td>5</td>\n",
              "      <td>3</td>\n",
              "      <td>...</td>\n",
              "      <td>No Deposit</td>\n",
              "      <td>9.0</td>\n",
              "      <td>NaN</td>\n",
              "      <td>0</td>\n",
              "      <td>Transient</td>\n",
              "      <td>NaN</td>\n",
              "      <td>0</td>\n",
              "      <td>2</td>\n",
              "      <td>Check-Out</td>\n",
              "      <td>2017-09-07</td>\n",
              "    </tr>\n",
              "    <tr>\n",
              "      <th>119387</th>\n",
              "      <td>City Hotel</td>\n",
              "      <td>0</td>\n",
              "      <td>34</td>\n",
              "      <td>2017</td>\n",
              "      <td>August</td>\n",
              "      <td>35</td>\n",
              "      <td>31</td>\n",
              "      <td>2</td>\n",
              "      <td>5</td>\n",
              "      <td>2</td>\n",
              "      <td>...</td>\n",
              "      <td>No Deposit</td>\n",
              "      <td>9.0</td>\n",
              "      <td>NaN</td>\n",
              "      <td>0</td>\n",
              "      <td>Transient</td>\n",
              "      <td>NaN</td>\n",
              "      <td>0</td>\n",
              "      <td>4</td>\n",
              "      <td>Check-Out</td>\n",
              "      <td>2017-09-07</td>\n",
              "    </tr>\n",
              "    <tr>\n",
              "      <th>119388</th>\n",
              "      <td>City Hotel</td>\n",
              "      <td>0</td>\n",
              "      <td>109</td>\n",
              "      <td>2017</td>\n",
              "      <td>August</td>\n",
              "      <td>35</td>\n",
              "      <td>31</td>\n",
              "      <td>2</td>\n",
              "      <td>5</td>\n",
              "      <td>2</td>\n",
              "      <td>...</td>\n",
              "      <td>No Deposit</td>\n",
              "      <td>89.0</td>\n",
              "      <td>NaN</td>\n",
              "      <td>0</td>\n",
              "      <td>Transient</td>\n",
              "      <td>NaN</td>\n",
              "      <td>0</td>\n",
              "      <td>0</td>\n",
              "      <td>Check-Out</td>\n",
              "      <td>2017-09-07</td>\n",
              "    </tr>\n",
              "    <tr>\n",
              "      <th>119389</th>\n",
              "      <td>City Hotel</td>\n",
              "      <td>0</td>\n",
              "      <td>205</td>\n",
              "      <td>2017</td>\n",
              "      <td>August</td>\n",
              "      <td>35</td>\n",
              "      <td>29</td>\n",
              "      <td>2</td>\n",
              "      <td>7</td>\n",
              "      <td>2</td>\n",
              "      <td>...</td>\n",
              "      <td>No Deposit</td>\n",
              "      <td>9.0</td>\n",
              "      <td>NaN</td>\n",
              "      <td>0</td>\n",
              "      <td>Transient</td>\n",
              "      <td>NaN</td>\n",
              "      <td>0</td>\n",
              "      <td>2</td>\n",
              "      <td>Check-Out</td>\n",
              "      <td>2017-09-07</td>\n",
              "    </tr>\n",
              "  </tbody>\n",
              "</table>\n",
              "<p>119390 rows × 32 columns</p>\n",
              "</div>\n",
              "      <button class=\"colab-df-convert\" onclick=\"convertToInteractive('df-b3ddb0a5-2117-402e-9c79-84fbd7d30229')\"\n",
              "              title=\"Convert this dataframe to an interactive table.\"\n",
              "              style=\"display:none;\">\n",
              "        \n",
              "  <svg xmlns=\"http://www.w3.org/2000/svg\" height=\"24px\"viewBox=\"0 0 24 24\"\n",
              "       width=\"24px\">\n",
              "    <path d=\"M0 0h24v24H0V0z\" fill=\"none\"/>\n",
              "    <path d=\"M18.56 5.44l.94 2.06.94-2.06 2.06-.94-2.06-.94-.94-2.06-.94 2.06-2.06.94zm-11 1L8.5 8.5l.94-2.06 2.06-.94-2.06-.94L8.5 2.5l-.94 2.06-2.06.94zm10 10l.94 2.06.94-2.06 2.06-.94-2.06-.94-.94-2.06-.94 2.06-2.06.94z\"/><path d=\"M17.41 7.96l-1.37-1.37c-.4-.4-.92-.59-1.43-.59-.52 0-1.04.2-1.43.59L10.3 9.45l-7.72 7.72c-.78.78-.78 2.05 0 2.83L4 21.41c.39.39.9.59 1.41.59.51 0 1.02-.2 1.41-.59l7.78-7.78 2.81-2.81c.8-.78.8-2.07 0-2.86zM5.41 20L4 18.59l7.72-7.72 1.47 1.35L5.41 20z\"/>\n",
              "  </svg>\n",
              "      </button>\n",
              "      \n",
              "  <style>\n",
              "    .colab-df-container {\n",
              "      display:flex;\n",
              "      flex-wrap:wrap;\n",
              "      gap: 12px;\n",
              "    }\n",
              "\n",
              "    .colab-df-convert {\n",
              "      background-color: #E8F0FE;\n",
              "      border: none;\n",
              "      border-radius: 50%;\n",
              "      cursor: pointer;\n",
              "      display: none;\n",
              "      fill: #1967D2;\n",
              "      height: 32px;\n",
              "      padding: 0 0 0 0;\n",
              "      width: 32px;\n",
              "    }\n",
              "\n",
              "    .colab-df-convert:hover {\n",
              "      background-color: #E2EBFA;\n",
              "      box-shadow: 0px 1px 2px rgba(60, 64, 67, 0.3), 0px 1px 3px 1px rgba(60, 64, 67, 0.15);\n",
              "      fill: #174EA6;\n",
              "    }\n",
              "\n",
              "    [theme=dark] .colab-df-convert {\n",
              "      background-color: #3B4455;\n",
              "      fill: #D2E3FC;\n",
              "    }\n",
              "\n",
              "    [theme=dark] .colab-df-convert:hover {\n",
              "      background-color: #434B5C;\n",
              "      box-shadow: 0px 1px 3px 1px rgba(0, 0, 0, 0.15);\n",
              "      filter: drop-shadow(0px 1px 2px rgba(0, 0, 0, 0.3));\n",
              "      fill: #FFFFFF;\n",
              "    }\n",
              "  </style>\n",
              "\n",
              "      <script>\n",
              "        const buttonEl =\n",
              "          document.querySelector('#df-b3ddb0a5-2117-402e-9c79-84fbd7d30229 button.colab-df-convert');\n",
              "        buttonEl.style.display =\n",
              "          google.colab.kernel.accessAllowed ? 'block' : 'none';\n",
              "\n",
              "        async function convertToInteractive(key) {\n",
              "          const element = document.querySelector('#df-b3ddb0a5-2117-402e-9c79-84fbd7d30229');\n",
              "          const dataTable =\n",
              "            await google.colab.kernel.invokeFunction('convertToInteractive',\n",
              "                                                     [key], {});\n",
              "          if (!dataTable) return;\n",
              "\n",
              "          const docLinkHtml = 'Like what you see? Visit the ' +\n",
              "            '<a target=\"_blank\" href=https://colab.research.google.com/notebooks/data_table.ipynb>data table notebook</a>'\n",
              "            + ' to learn more about interactive tables.';\n",
              "          element.innerHTML = '';\n",
              "          dataTable['output_type'] = 'display_data';\n",
              "          await google.colab.output.renderOutput(dataTable, element);\n",
              "          const docLink = document.createElement('div');\n",
              "          docLink.innerHTML = docLinkHtml;\n",
              "          element.appendChild(docLink);\n",
              "        }\n",
              "      </script>\n",
              "    </div>\n",
              "  </div>\n",
              "  "
            ]
          },
          "metadata": {},
          "execution_count": 51
        }
      ]
    },
    {
      "cell_type": "code",
      "source": [
        "import matplotlib as ml\n",
        "import seaborn as sns"
      ],
      "metadata": {
        "id": "iXGiW1P7bZgv"
      },
      "execution_count": 52,
      "outputs": []
    },
    {
      "cell_type": "code",
      "source": [
        "from matplotlib.pyplot import box\n",
        "sns.catplot(data=pddf,y='lead_time',x='customer_type',kind='box')"
      ],
      "metadata": {
        "colab": {
          "base_uri": "https://localhost:8080/",
          "height": 386
        },
        "id": "g403WoSmbzya",
        "outputId": "9ad8c7d2-c58e-423b-8df8-3919440b95b3"
      },
      "execution_count": 72,
      "outputs": [
        {
          "output_type": "execute_result",
          "data": {
            "text/plain": [
              "<seaborn.axisgrid.FacetGrid at 0x7f7f1d217550>"
            ]
          },
          "metadata": {},
          "execution_count": 72
        },
        {
          "output_type": "display_data",
          "data": {
            "text/plain": [
              "<Figure size 360x360 with 1 Axes>"
            ],
            "image/png": "[encoded data removed]"
          },
          "metadata": {
            "needs_background": "light"
          }
        }
      ]
    },
    {
      "cell_type": "markdown",
      "source": [
        "solution 18)*******"
      ],
      "metadata": {
        "id": "9uVaqqdjdnj2"
      }
    },
    {
      "cell_type": "code",
      "source": [
        "df19 = new14_2df.toPandas()"
      ],
      "metadata": {
        "id": "i2hq57B6rD6g"
      },
      "execution_count": 73,
      "outputs": []
    },
    {
      "cell_type": "code",
      "source": [
        "new14_2df.printSchema()"
      ],
      "metadata": {
        "colab": {
          "base_uri": "https://localhost:8080/"
        },
        "id": "wWXnCmnDs-3A",
        "outputId": "a483c1b6-c52b-47e9-8f95-dbd43551d166"
      },
      "execution_count": 88,
      "outputs": [
        {
          "output_type": "stream",
          "name": "stdout",
          "text": [
            "root\n",
            " |-- yearmonth: string (nullable = true)\n",
            " |-- hotel: string (nullable = true)\n",
            " |-- count: long (nullable = false)\n",
            "\n"
          ]
        }
      ]
    },
    {
      "cell_type": "code",
      "source": [
        "import matplotlib.pyplot as plt\n",
        "import numpy as np"
      ],
      "metadata": {
        "id": "hjMDFUmWLEWh"
      },
      "execution_count": 117,
      "outputs": []
    },
    {
      "cell_type": "code",
      "source": [
        "sns.lineplot(data=df19,x='yearmonth',y='count',hue='hotel')\n",
        "plt.xticks(rotation = 'vertical')"
      ],
      "metadata": {
        "colab": {
          "base_uri": "https://localhost:8080/",
          "height": 823
        },
        "id": "I_Q8R2sgdqDu",
        "outputId": "7baf6461-24f6-460c-c1a7-fd5ee0eab365"
      },
      "execution_count": 120,
      "outputs": [
        {
          "output_type": "execute_result",
          "data": {
            "text/plain": [
              "([0,\n",
              "  1,\n",
              "  2,\n",
              "  3,\n",
              "  4,\n",
              "  5,\n",
              "  6,\n",
              "  7,\n",
              "  8,\n",
              "  9,\n",
              "  10,\n",
              "  11,\n",
              "  12,\n",
              "  13,\n",
              "  14,\n",
              "  15,\n",
              "  16,\n",
              "  17,\n",
              "  18,\n",
              "  19,\n",
              "  20,\n",
              "  21,\n",
              "  22,\n",
              "  23,\n",
              "  24,\n",
              "  25],\n",
              " <a list of 26 Text major ticklabel objects>)"
            ]
          },
          "metadata": {},
          "execution_count": 120
        },
        {
          "output_type": "display_data",
          "data": {
            "text/plain": [
              "<Figure size 432x288 with 1 Axes>"
            ],
            "image/png": "[encoded data removed]"
          },
          "metadata": {
            "needs_background": "light"
          }
        }
      ]
    },
    {
      "cell_type": "markdown",
      "source": [
        "solution 19)*******"
      ],
      "metadata": {
        "id": "YZeDoDV_t0wI"
      }
    },
    {
      "cell_type": "code",
      "source": [
        "df20 = new13_1df.toPandas()"
      ],
      "metadata": {
        "id": "b-hpkFS9t4M_"
      },
      "execution_count": 94,
      "outputs": []
    },
    {
      "cell_type": "code",
      "source": [
        "df20"
      ],
      "metadata": {
        "colab": {
          "base_uri": "https://localhost:8080/",
          "height": 424
        },
        "id": "Jx0eyj-vuSQs",
        "outputId": "e3ee0d96-581f-44b6-ef33-70288168c2d0"
      },
      "execution_count": 95,
      "outputs": [
        {
          "output_type": "execute_result",
          "data": {
            "text/plain": [
              "       arrival_date  sum(people)\n",
              "0        2017_May_9        159.0\n",
              "1        2017_May_8        151.0\n",
              "2        2017_May_7         99.0\n",
              "3        2017_May_6        212.0\n",
              "4        2017_May_5        253.0\n",
              "..              ...          ...\n",
              "788  2015_August_13        105.0\n",
              "789  2015_August_12         98.0\n",
              "790  2015_August_11         56.0\n",
              "791  2015_August_10        160.0\n",
              "792   2015_August_1        118.0\n",
              "\n",
              "[793 rows x 2 columns]"
            ],
            "text/html": [
              "\n",
              "  <div id=\"df-5a42d4d6-a7c5-4c9a-a324-d84bd156263a\">\n",
              "    <div class=\"colab-df-container\">\n",
              "      <div>\n",
              "<style scoped>\n",
              "    .dataframe tbody tr th:only-of-type {\n",
              "        vertical-align: middle;\n",
              "    }\n",
              "\n",
              "    .dataframe tbody tr th {\n",
              "        vertical-align: top;\n",
              "    }\n",
              "\n",
              "    .dataframe thead th {\n",
              "        text-align: right;\n",
              "    }\n",
              "</style>\n",
              "<table border=\"1\" class=\"dataframe\">\n",
              "  <thead>\n",
              "    <tr style=\"text-align: right;\">\n",
              "      <th></th>\n",
              "      <th>arrival_date</th>\n",
              "      <th>sum(people)</th>\n",
              "    </tr>\n",
              "  </thead>\n",
              "  <tbody>\n",
              "    <tr>\n",
              "      <th>0</th>\n",
              "      <td>2017_May_9</td>\n",
              "      <td>159.0</td>\n",
              "    </tr>\n",
              "    <tr>\n",
              "      <th>1</th>\n",
              "      <td>2017_May_8</td>\n",
              "      <td>151.0</td>\n",
              "    </tr>\n",
              "    <tr>\n",
              "      <th>2</th>\n",
              "      <td>2017_May_7</td>\n",
              "      <td>99.0</td>\n",
              "    </tr>\n",
              "    <tr>\n",
              "      <th>3</th>\n",
              "      <td>2017_May_6</td>\n",
              "      <td>212.0</td>\n",
              "    </tr>\n",
              "    <tr>\n",
              "      <th>4</th>\n",
              "      <td>2017_May_5</td>\n",
              "      <td>253.0</td>\n",
              "    </tr>\n",
              "    <tr>\n",
              "      <th>...</th>\n",
              "      <td>...</td>\n",
              "      <td>...</td>\n",
              "    </tr>\n",
              "    <tr>\n",
              "      <th>788</th>\n",
              "      <td>2015_August_13</td>\n",
              "      <td>105.0</td>\n",
              "    </tr>\n",
              "    <tr>\n",
              "      <th>789</th>\n",
              "      <td>2015_August_12</td>\n",
              "      <td>98.0</td>\n",
              "    </tr>\n",
              "    <tr>\n",
              "      <th>790</th>\n",
              "      <td>2015_August_11</td>\n",
              "      <td>56.0</td>\n",
              "    </tr>\n",
              "    <tr>\n",
              "      <th>791</th>\n",
              "      <td>2015_August_10</td>\n",
              "      <td>160.0</td>\n",
              "    </tr>\n",
              "    <tr>\n",
              "      <th>792</th>\n",
              "      <td>2015_August_1</td>\n",
              "      <td>118.0</td>\n",
              "    </tr>\n",
              "  </tbody>\n",
              "</table>\n",
              "<p>793 rows × 2 columns</p>\n",
              "</div>\n",
              "      <button class=\"colab-df-convert\" onclick=\"convertToInteractive('df-5a42d4d6-a7c5-4c9a-a324-d84bd156263a')\"\n",
              "              title=\"Convert this dataframe to an interactive table.\"\n",
              "              style=\"display:none;\">\n",
              "        \n",
              "  <svg xmlns=\"http://www.w3.org/2000/svg\" height=\"24px\"viewBox=\"0 0 24 24\"\n",
              "       width=\"24px\">\n",
              "    <path d=\"M0 0h24v24H0V0z\" fill=\"none\"/>\n",
              "    <path d=\"M18.56 5.44l.94 2.06.94-2.06 2.06-.94-2.06-.94-.94-2.06-.94 2.06-2.06.94zm-11 1L8.5 8.5l.94-2.06 2.06-.94-2.06-.94L8.5 2.5l-.94 2.06-2.06.94zm10 10l.94 2.06.94-2.06 2.06-.94-2.06-.94-.94-2.06-.94 2.06-2.06.94z\"/><path d=\"M17.41 7.96l-1.37-1.37c-.4-.4-.92-.59-1.43-.59-.52 0-1.04.2-1.43.59L10.3 9.45l-7.72 7.72c-.78.78-.78 2.05 0 2.83L4 21.41c.39.39.9.59 1.41.59.51 0 1.02-.2 1.41-.59l7.78-7.78 2.81-2.81c.8-.78.8-2.07 0-2.86zM5.41 20L4 18.59l7.72-7.72 1.47 1.35L5.41 20z\"/>\n",
              "  </svg>\n",
              "      </button>\n",
              "      \n",
              "  <style>\n",
              "    .colab-df-container {\n",
              "      display:flex;\n",
              "      flex-wrap:wrap;\n",
              "      gap: 12px;\n",
              "    }\n",
              "\n",
              "    .colab-df-convert {\n",
              "      background-color: #E8F0FE;\n",
              "      border: none;\n",
              "      border-radius: 50%;\n",
              "      cursor: pointer;\n",
              "      display: none;\n",
              "      fill: #1967D2;\n",
              "      height: 32px;\n",
              "      padding: 0 0 0 0;\n",
              "      width: 32px;\n",
              "    }\n",
              "\n",
              "    .colab-df-convert:hover {\n",
              "      background-color: #E2EBFA;\n",
              "      box-shadow: 0px 1px 2px rgba(60, 64, 67, 0.3), 0px 1px 3px 1px rgba(60, 64, 67, 0.15);\n",
              "      fill: #174EA6;\n",
              "    }\n",
              "\n",
              "    [theme=dark] .colab-df-convert {\n",
              "      background-color: #3B4455;\n",
              "      fill: #D2E3FC;\n",
              "    }\n",
              "\n",
              "    [theme=dark] .colab-df-convert:hover {\n",
              "      background-color: #434B5C;\n",
              "      box-shadow: 0px 1px 3px 1px rgba(0, 0, 0, 0.15);\n",
              "      filter: drop-shadow(0px 1px 2px rgba(0, 0, 0, 0.3));\n",
              "      fill: #FFFFFF;\n",
              "    }\n",
              "  </style>\n",
              "\n",
              "      <script>\n",
              "        const buttonEl =\n",
              "          document.querySelector('#df-5a42d4d6-a7c5-4c9a-a324-d84bd156263a button.colab-df-convert');\n",
              "        buttonEl.style.display =\n",
              "          google.colab.kernel.accessAllowed ? 'block' : 'none';\n",
              "\n",
              "        async function convertToInteractive(key) {\n",
              "          const element = document.querySelector('#df-5a42d4d6-a7c5-4c9a-a324-d84bd156263a');\n",
              "          const dataTable =\n",
              "            await google.colab.kernel.invokeFunction('convertToInteractive',\n",
              "                                                     [key], {});\n",
              "          if (!dataTable) return;\n",
              "\n",
              "          const docLinkHtml = 'Like what you see? Visit the ' +\n",
              "            '<a target=\"_blank\" href=https://colab.research.google.com/notebooks/data_table.ipynb>data table notebook</a>'\n",
              "            + ' to learn more about interactive tables.';\n",
              "          element.innerHTML = '';\n",
              "          dataTable['output_type'] = 'display_data';\n",
              "          await google.colab.output.renderOutput(dataTable, element);\n",
              "          const docLink = document.createElement('div');\n",
              "          docLink.innerHTML = docLinkHtml;\n",
              "          element.appendChild(docLink);\n",
              "        }\n",
              "      </script>\n",
              "    </div>\n",
              "  </div>\n",
              "  "
            ]
          },
          "metadata": {},
          "execution_count": 95
        }
      ]
    },
    {
      "cell_type": "code",
      "source": [
        "sns.displot(data=df20,x='sum(people)', kind='hist')"
      ],
      "metadata": {
        "colab": {
          "base_uri": "https://localhost:8080/",
          "height": 386
        },
        "id": "2XnMAdMRdKNj",
        "outputId": "4a5baf21-b6b7-4429-aa88-81fc71b67c7f"
      },
      "execution_count": 99,
      "outputs": [
        {
          "output_type": "execute_result",
          "data": {
            "text/plain": [
              "<seaborn.axisgrid.FacetGrid at 0x7f7f0374d610>"
            ]
          },
          "metadata": {},
          "execution_count": 99
        },
        {
          "output_type": "display_data",
          "data": {
            "text/plain": [
              "<Figure size 360x360 with 1 Axes>"
            ],
            "image/png": "[encoded data removed]"
          },
          "metadata": {
            "needs_background": "light"
          }
        }
      ]
    },
    {
      "cell_type": "markdown",
      "source": [
        "solution 20)******"
      ],
      "metadata": {
        "id": "xrqEgiyNvDY_"
      }
    }
  ]
}