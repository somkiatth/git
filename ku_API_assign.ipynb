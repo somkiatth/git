{
  "nbformat": 4,
  "nbformat_minor": 0,
  "metadata": {
    "colab": {
      "name": "ku-API-assign.ipynb",
      "provenance": [],
      "collapsed_sections": [],
      "authorship_tag": "ABX9TyMveJqwpsZC85hzQ5izitpn",
      "include_colab_link": true
    },
    "kernelspec": {
      "name": "python3",
      "display_name": "Python 3"
    },
    "language_info": {
      "name": "python"
    }
  },
  "cells": [
    {
      "cell_type": "markdown",
      "metadata": {
        "id": "view-in-github",
        "colab_type": "text"
      },
      "source": [
        "<a href=\"https://colab.research.google.com/github/somkiatth/git/blob/master/ku_API_assign.ipynb\" target=\"_parent\"><img src=\"https://colab.research.google.com/assets/colab-badge.svg\" alt=\"Open In Colab\"/></a>"
      ]
    },
    {
      "cell_type": "code",
      "execution_count": 1,
      "metadata": {
        "colab": {
          "base_uri": "https://localhost:8080/"
        },
        "id": "Qr-hSPidch0S",
        "outputId": "aab38efe-fe50-4ea8-aa4c-a96fb5f72eee"
      },
      "outputs": [
        {
          "output_type": "stream",
          "name": "stdout",
          "text": [
            "Looking in indexes: https://pypi.org/simple, https://us-python.pkg.dev/colab-wheels/public/simple/\n",
            "Collecting pyspark\n",
            "  Downloading pyspark-3.3.0.tar.gz (281.3 MB)\n",
            "\u001b[K     |████████████████████████████████| 281.3 MB 45 kB/s \n",
            "\u001b[?25hCollecting py4j==0.10.9.5\n",
            "  Downloading py4j-0.10.9.5-py2.py3-none-any.whl (199 kB)\n",
            "\u001b[K     |████████████████████████████████| 199 kB 63.3 MB/s \n",
            "\u001b[?25hBuilding wheels for collected packages: pyspark\n",
            "  Building wheel for pyspark (setup.py) ... \u001b[?25l\u001b[?25hdone\n",
            "  Created wheel for pyspark: filename=pyspark-3.3.0-py2.py3-none-any.whl size=281764026 sha256=221264f942dc5878e2688eeba26598be96b10841eb229cc64e655fbf16a24e9e\n",
            "  Stored in directory: /root/.cache/pip/wheels/7a/8e/1b/f73a52650d2e5f337708d9f6a1750d451a7349a867f928b885\n",
            "Successfully built pyspark\n",
            "Installing collected packages: py4j, pyspark\n",
            "Successfully installed py4j-0.10.9.5 pyspark-3.3.0\n"
          ]
        }
      ],
      "source": [
        "!pip install pyspark"
      ]
    },
    {
      "cell_type": "markdown",
      "source": [
        "solution 1) *********************"
      ],
      "metadata": {
        "id": "iAkq-mHldRm9"
      }
    },
    {
      "cell_type": "code",
      "source": [
        "from pyspark.sql import SparkSession"
      ],
      "metadata": {
        "id": "MnhzczrbdWqK"
      },
      "execution_count": 2,
      "outputs": []
    },
    {
      "cell_type": "code",
      "source": [
        "spark = SparkSession.builder.getOrCreate()"
      ],
      "metadata": {
        "id": "yv1IsFj5d73X"
      },
      "execution_count": 3,
      "outputs": []
    },
    {
      "cell_type": "code",
      "source": [
        "schema = \"hotel string ,is_canceled int,\tlead_time int,\tarrival_date_year string,\tarrival_date_month string,\tarrival_date_week_number int,\tarrival_date_day_of_month int,\tstays_in_weekend_nights int,\tstays_in_week_nights int,\tadults int,\tchildren int,\tbabies int,\tmeal string,\tcountry string,\tmarket_segment string,\tdistribution_channel string,\tis_repeated_guest int,\tprevious_cancellations int ,\tprevious_bookings_not_canceled int,\treserved_room_type string,\tassigned_room_type string,\tbooking_changes int,\tdeposit_type string,\tagent int,\tcompany int,\tdays_in_waiting_list int,\tcustomer_type string,\tadr int,\trequired_car_parking_spaces int,\ttotal_of_special_requests int,\treservation_status string,\treservation_status_date string\""
      ],
      "metadata": {
        "id": "HhIq5hXFkS9A"
      },
      "execution_count": 39,
      "outputs": []
    },
    {
      "cell_type": "code",
      "source": [
        "df=spark.read.csv(\"/content/hotel_bookings.csv\", header=True, schema=schema)"
      ],
      "metadata": {
        "id": "giSYFwtFeWai"
      },
      "execution_count": 53,
      "outputs": []
    },
    {
      "cell_type": "code",
      "source": [
        "df.createOrReplaceTempView(\"dfhotel\")"
      ],
      "metadata": {
        "id": "79CQm3l5h5dI"
      },
      "execution_count": 54,
      "outputs": []
    },
    {
      "cell_type": "code",
      "source": [
        "df.show()"
      ],
      "metadata": {
        "colab": {
          "base_uri": "https://localhost:8080/"
        },
        "id": "Eq7BJXlxejPs",
        "outputId": "76dc6401-8a2d-43fe-aaa1-a0451546d12a"
      },
      "execution_count": 55,
      "outputs": [
        {
          "output_type": "stream",
          "name": "stdout",
          "text": [
            "+----------+-----------+---------+-----------------+------------------+------------------------+-------------------------+-----------------------+--------------------+------+--------+------+----+-------+--------------+--------------------+-----------------+----------------------+------------------------------+------------------+------------------+---------------+------------+-----+-------+--------------------+---------------+----+---------------------------+-------------------------+------------------+-----------------------+\n",
            "|     hotel|is_canceled|lead_time|arrival_date_year|arrival_date_month|arrival_date_week_number|arrival_date_day_of_month|stays_in_weekend_nights|stays_in_week_nights|adults|children|babies|meal|country|market_segment|distribution_channel|is_repeated_guest|previous_cancellations|previous_bookings_not_canceled|reserved_room_type|assigned_room_type|booking_changes|deposit_type|agent|company|days_in_waiting_list|  customer_type| adr|required_car_parking_spaces|total_of_special_requests|reservation_status|reservation_status_date|\n",
            "+----------+-----------+---------+-----------------+------------------+------------------------+-------------------------+-----------------------+--------------------+------+--------+------+----+-------+--------------+--------------------+-----------------+----------------------+------------------------------+------------------+------------------+---------------+------------+-----+-------+--------------------+---------------+----+---------------------------+-------------------------+------------------+-----------------------+\n",
            "|City Hotel|          0|       31|             2016|               May|                      19|                        2|                      1|                   2|     2|       0|     0|  BB|    AUS|     Online TA|               TA/TO|                0|                     0|                             0|                 A|                 A|              0|  No Deposit|    9|   null|                   0|      Transient|null|                          0|                        1|         Check-Out|             2016-05-05|\n",
            "|City Hotel|          0|       79|             2016|             April|                      18|                       30|                      2|                   3|     2|       0|     0|  HB|    PRT| Offline TA/TO|               TA/TO|                0|                     0|                             0|                 A|                 D|              0|  No Deposit|   28|   null|                   0|      Transient| 105|                          0|                        0|         Check-Out|             2016-05-05|\n",
            "|City Hotel|          0|       95|             2016|             April|                      18|                       30|                      2|                   3|     2|       0|     0|  BB|    FRA|     Online TA|               TA/TO|                0|                     0|                             0|                 A|                 A|              0|  No Deposit|    9|   null|                   0|      Transient|null|                          0|                        1|         Check-Out|             2016-05-05|\n",
            "|City Hotel|          0|       52|             2016|               May|                      19|                        4|                      0|                   1|     2|       0|     0|  BB|    FRA|     Online TA|               TA/TO|                0|                     0|                             0|                 D|                 D|              0|  No Deposit|    9|   null|                   0|      Transient|null|                          0|                        1|         Check-Out|             2016-05-05|\n",
            "|City Hotel|          0|       19|             2016|               May|                      19|                        2|                      1|                   2|     2|       0|     0|  BB|    BOL|     Online TA|               TA/TO|                0|                     0|                             0|                 A|                 A|              0|  No Deposit|   15|   null|                   0|Transient-Party| 130|                          0|                        0|         Check-Out|             2016-05-05|\n",
            "|City Hotel|          0|       37|             2016|             April|                      18|                       30|                      2|                   3|     2|       0|     0|  BB|    DEU| Offline TA/TO|               TA/TO|                0|                     0|                             0|                 D|                 D|              0|  No Deposit|   16|   null|                   0|      Transient|null|                          0|                        0|         Check-Out|             2016-05-05|\n",
            "|City Hotel|          0|       61|             2016|               May|                      19|                        4|                      0|                   1|     3|       0|     0|  BB|    SWE|     Online TA|               TA/TO|                0|                     0|                             0|                 A|                 D|              0|  No Deposit|    9|   null|                   0|      Transient|null|                          0|                        1|         Check-Out|             2016-05-05|\n",
            "|City Hotel|          0|      103|             2016|               May|                      19|                        1|                      2|                   2|     2|       0|     1|  BB|    DNK|     Online TA|               TA/TO|                0|                     0|                             0|                 A|                 A|              1|  No Deposit|    8|   null|                   0|      Transient|null|                          0|                        2|         Check-Out|             2016-05-05|\n",
            "|City Hotel|          0|       28|             2016|               May|                      19|                        1|                      2|                   2|     2|       0|     0|  BB|    FRA|     Online TA|               TA/TO|                0|                     0|                             0|                 A|                 A|              0|  No Deposit|    9|   null|                   0|      Transient|null|                          0|                        1|         Check-Out|             2016-05-05|\n",
            "|City Hotel|          0|       79|             2016|               May|                      19|                        2|                      1|                   2|     2|       0|     0|  BB|    BEL|        Direct|              Direct|                0|                     0|                             0|                 A|                 A|              0|  No Deposit|   14|   null|                   0|      Transient|null|                          0|                        0|         Check-Out|             2016-05-05|\n",
            "|City Hotel|          0|       21|             2016|               May|                      19|                        4|                      0|                   1|     2|       0|     0|  BB|    GBR|     Online TA|               TA/TO|                0|                     0|                             0|                 D|                 D|              0|  No Deposit|    9|   null|                   0|      Transient| 165|                          1|                        1|         Check-Out|             2016-05-05|\n",
            "|City Hotel|          0|       19|             2016|               May|                      19|                        2|                      1|                   2|     2|       0|     0|  BB|    BOL|     Online TA|               TA/TO|                0|                     0|                             0|                 A|                 A|              0|  No Deposit|   15|   null|                   0|Transient-Party| 130|                          0|                        0|         Check-Out|             2016-05-05|\n",
            "|City Hotel|          0|      112|             2016|               May|                      19|                        1|                      2|                   2|     2|       0|     0|  BB|    RUS|        Direct|              Direct|                0|                     0|                             0|                 A|                 A|              0|  No Deposit|   14|   null|                   0|      Transient|null|                          0|                        0|         Check-Out|             2016-05-05|\n",
            "|City Hotel|          0|       99|             2016|             April|                      18|                       27|                      2|                   6|     2|       0|     0|  BB|    NLD| Offline TA/TO|               TA/TO|                0|                     0|                             0|                 A|                 A|              0|  No Deposit|  121|   null|                   0|Transient-Party|null|                          0|                        1|         Check-Out|             2016-05-05|\n",
            "|City Hotel|          0|       19|             2016|               May|                      19|                        2|                      1|                   2|     2|       0|     0|  BB|    BOL|     Online TA|               TA/TO|                0|                     0|                             0|                 A|                 A|              0|  No Deposit|   15|   null|                   0|Transient-Party| 130|                          0|                        0|         Check-Out|             2016-05-05|\n",
            "|City Hotel|          0|       19|             2016|               May|                      19|                        2|                      1|                   2|     1|       0|     0|  BB|    BOL|     Online TA|               TA/TO|                0|                     0|                             0|                 A|                 D|              1|  No Deposit|   15|   null|                   0|Transient-Party| 120|                          0|                        0|         Check-Out|             2016-05-05|\n",
            "|City Hotel|          0|      105|             2016|               May|                      19|                        2|                      1|                   2|     2|       0|     0|  BB|    PRT|        Direct|              Direct|                0|                     0|                             0|                 A|                 A|              0|  No Deposit|   14|   null|                   0|      Transient|null|                          0|                        1|         Check-Out|             2016-05-05|\n",
            "|City Hotel|          0|       19|             2016|               May|                      19|                        2|                      1|                   2|     2|       0|     0|  BB|    BOL|     Online TA|               TA/TO|                0|                     0|                             0|                 A|                 A|              0|  No Deposit|   15|   null|                   0|Transient-Party| 130|                          0|                        0|         Check-Out|             2016-05-05|\n",
            "|City Hotel|          0|       99|             2016|             April|                      18|                       27|                      2|                   6|     2|       0|     0|  BB|    PRT| Offline TA/TO|               TA/TO|                0|                     0|                             0|                 A|                 A|              0|  No Deposit|  121|   null|                   0|Transient-Party|null|                          0|                        1|         Check-Out|             2016-05-05|\n",
            "|City Hotel|          0|       19|             2016|               May|                      19|                        2|                      1|                   2|     1|       0|     0|  BB|    BOL|     Online TA|               TA/TO|                0|                     0|                             0|                 A|                 D|              1|  No Deposit|   15|   null|                   0|Transient-Party| 120|                          0|                        0|         Check-Out|             2016-05-05|\n",
            "+----------+-----------+---------+-----------------+------------------+------------------------+-------------------------+-----------------------+--------------------+------+--------+------+----+-------+--------------+--------------------+-----------------+----------------------+------------------------------+------------------+------------------+---------------+------------+-----+-------+--------------------+---------------+----+---------------------------+-------------------------+------------------+-----------------------+\n",
            "only showing top 20 rows\n",
            "\n"
          ]
        }
      ]
    },
    {
      "cell_type": "markdown",
      "source": [
        "solution 2) **********************"
      ],
      "metadata": {
        "id": "l7mSGZmweogs"
      }
    },
    {
      "cell_type": "code",
      "source": [
        "df.printSchema()"
      ],
      "metadata": {
        "colab": {
          "base_uri": "https://localhost:8080/"
        },
        "id": "fbuwWgv7err_",
        "outputId": "bd9b49e3-a462-481b-9da6-44e713aa06a6"
      },
      "execution_count": 43,
      "outputs": [
        {
          "output_type": "stream",
          "name": "stdout",
          "text": [
            "root\n",
            " |-- hotel: string (nullable = true)\n",
            " |-- is_canceled: integer (nullable = true)\n",
            " |-- lead_time: integer (nullable = true)\n",
            " |-- arrival_date_year: string (nullable = true)\n",
            " |-- arrival_date_month: string (nullable = true)\n",
            " |-- arrival_date_week_number: integer (nullable = true)\n",
            " |-- arrival_date_day_of_month: integer (nullable = true)\n",
            " |-- stays_in_weekend_nights: integer (nullable = true)\n",
            " |-- stays_in_week_nights: integer (nullable = true)\n",
            " |-- adults: integer (nullable = true)\n",
            " |-- children: integer (nullable = true)\n",
            " |-- babies: integer (nullable = true)\n",
            " |-- meal: string (nullable = true)\n",
            " |-- country: string (nullable = true)\n",
            " |-- market_segment: string (nullable = true)\n",
            " |-- distribution_channel: string (nullable = true)\n",
            " |-- is_repeated_guest: integer (nullable = true)\n",
            " |-- previous_cancellations: integer (nullable = true)\n",
            " |-- previous_bookings_not_canceled: integer (nullable = true)\n",
            " |-- reserved_room_type: string (nullable = true)\n",
            " |-- assigned_room_type: string (nullable = true)\n",
            " |-- booking_changes: integer (nullable = true)\n",
            " |-- deposit_type: string (nullable = true)\n",
            " |-- agent: integer (nullable = true)\n",
            " |-- company: integer (nullable = true)\n",
            " |-- days_in_waiting_list: integer (nullable = true)\n",
            " |-- customer_type: string (nullable = true)\n",
            " |-- adr: integer (nullable = true)\n",
            " |-- required_car_parking_spaces: integer (nullable = true)\n",
            " |-- total_of_special_requests: integer (nullable = true)\n",
            " |-- reservation_status: string (nullable = true)\n",
            " |-- reservation_status_date: string (nullable = true)\n",
            "\n"
          ]
        }
      ]
    },
    {
      "cell_type": "code",
      "source": [
        "df.count()"
      ],
      "metadata": {
        "colab": {
          "base_uri": "https://localhost:8080/"
        },
        "id": "x0lgsnhwf3cs",
        "outputId": "d7d67f54-a04f-4cca-fbb4-978f8b8afdbe"
      },
      "execution_count": 44,
      "outputs": [
        {
          "output_type": "execute_result",
          "data": {
            "text/plain": [
              "84449"
            ]
          },
          "metadata": {},
          "execution_count": 44
        }
      ]
    },
    {
      "cell_type": "code",
      "source": [
        "df.columns"
      ],
      "metadata": {
        "colab": {
          "base_uri": "https://localhost:8080/"
        },
        "id": "0Rc2zkQ0f6nM",
        "outputId": "283f2880-a2d1-4d43-f3c0-9c106e9ffca1"
      },
      "execution_count": 45,
      "outputs": [
        {
          "output_type": "execute_result",
          "data": {
            "text/plain": [
              "['hotel',\n",
              " 'is_canceled',\n",
              " 'lead_time',\n",
              " 'arrival_date_year',\n",
              " 'arrival_date_month',\n",
              " 'arrival_date_week_number',\n",
              " 'arrival_date_day_of_month',\n",
              " 'stays_in_weekend_nights',\n",
              " 'stays_in_week_nights',\n",
              " 'adults',\n",
              " 'children',\n",
              " 'babies',\n",
              " 'meal',\n",
              " 'country',\n",
              " 'market_segment',\n",
              " 'distribution_channel',\n",
              " 'is_repeated_guest',\n",
              " 'previous_cancellations',\n",
              " 'previous_bookings_not_canceled',\n",
              " 'reserved_room_type',\n",
              " 'assigned_room_type',\n",
              " 'booking_changes',\n",
              " 'deposit_type',\n",
              " 'agent',\n",
              " 'company',\n",
              " 'days_in_waiting_list',\n",
              " 'customer_type',\n",
              " 'adr',\n",
              " 'required_car_parking_spaces',\n",
              " 'total_of_special_requests',\n",
              " 'reservation_status',\n",
              " 'reservation_status_date']"
            ]
          },
          "metadata": {},
          "execution_count": 45
        }
      ]
    },
    {
      "cell_type": "code",
      "source": [
        "len(df.columns)"
      ],
      "metadata": {
        "colab": {
          "base_uri": "https://localhost:8080/"
        },
        "id": "GLSbUyZjgHzN",
        "outputId": "9da05873-f8ef-4d12-c4f3-fa40f11e8b62"
      },
      "execution_count": 46,
      "outputs": [
        {
          "output_type": "execute_result",
          "data": {
            "text/plain": [
              "32"
            ]
          },
          "metadata": {},
          "execution_count": 46
        }
      ]
    },
    {
      "cell_type": "code",
      "source": [
        "spark.sql(\"select * from dfhotel\").show()"
      ],
      "metadata": {
        "colab": {
          "base_uri": "https://localhost:8080/"
        },
        "id": "fh94LnRWiNJ6",
        "outputId": "0f0e553a-9ae1-4d3d-9c53-710b36d133d1"
      },
      "execution_count": 47,
      "outputs": [
        {
          "output_type": "stream",
          "name": "stdout",
          "text": [
            "+----------+-----------+---------+-----------------+------------------+------------------------+-------------------------+-----------------------+--------------------+------+--------+------+----+-------+--------------+--------------------+-----------------+----------------------+------------------------------+------------------+------------------+---------------+------------+-----+-------+--------------------+---------------+----+---------------------------+-------------------------+------------------+-----------------------+\n",
            "|     hotel|is_canceled|lead_time|arrival_date_year|arrival_date_month|arrival_date_week_number|arrival_date_day_of_month|stays_in_weekend_nights|stays_in_week_nights|adults|children|babies|meal|country|market_segment|distribution_channel|is_repeated_guest|previous_cancellations|previous_bookings_not_canceled|reserved_room_type|assigned_room_type|booking_changes|deposit_type|agent|company|days_in_waiting_list|  customer_type| adr|required_car_parking_spaces|total_of_special_requests|reservation_status|reservation_status_date|\n",
            "+----------+-----------+---------+-----------------+------------------+------------------------+-------------------------+-----------------------+--------------------+------+--------+------+----+-------+--------------+--------------------+-----------------+----------------------+------------------------------+------------------+------------------+---------------+------------+-----+-------+--------------------+---------------+----+---------------------------+-------------------------+------------------+-----------------------+\n",
            "|City Hotel|          0|       31|             2016|               May|                      19|                        2|                      1|                   2|     2|       0|     0|  BB|    AUS|     Online TA|               TA/TO|                0|                     0|                             0|                 A|                 A|              0|  No Deposit|    9|   null|                   0|      Transient|null|                          0|                        1|         Check-Out|             2016-05-05|\n",
            "|City Hotel|          0|       79|             2016|             April|                      18|                       30|                      2|                   3|     2|       0|     0|  HB|    PRT| Offline TA/TO|               TA/TO|                0|                     0|                             0|                 A|                 D|              0|  No Deposit|   28|   null|                   0|      Transient| 105|                          0|                        0|         Check-Out|             2016-05-05|\n",
            "|City Hotel|          0|       95|             2016|             April|                      18|                       30|                      2|                   3|     2|       0|     0|  BB|    FRA|     Online TA|               TA/TO|                0|                     0|                             0|                 A|                 A|              0|  No Deposit|    9|   null|                   0|      Transient|null|                          0|                        1|         Check-Out|             2016-05-05|\n",
            "|City Hotel|          0|       52|             2016|               May|                      19|                        4|                      0|                   1|     2|       0|     0|  BB|    FRA|     Online TA|               TA/TO|                0|                     0|                             0|                 D|                 D|              0|  No Deposit|    9|   null|                   0|      Transient|null|                          0|                        1|         Check-Out|             2016-05-05|\n",
            "|City Hotel|          0|       19|             2016|               May|                      19|                        2|                      1|                   2|     2|       0|     0|  BB|    BOL|     Online TA|               TA/TO|                0|                     0|                             0|                 A|                 A|              0|  No Deposit|   15|   null|                   0|Transient-Party| 130|                          0|                        0|         Check-Out|             2016-05-05|\n",
            "|City Hotel|          0|       37|             2016|             April|                      18|                       30|                      2|                   3|     2|       0|     0|  BB|    DEU| Offline TA/TO|               TA/TO|                0|                     0|                             0|                 D|                 D|              0|  No Deposit|   16|   null|                   0|      Transient|null|                          0|                        0|         Check-Out|             2016-05-05|\n",
            "|City Hotel|          0|       61|             2016|               May|                      19|                        4|                      0|                   1|     3|       0|     0|  BB|    SWE|     Online TA|               TA/TO|                0|                     0|                             0|                 A|                 D|              0|  No Deposit|    9|   null|                   0|      Transient|null|                          0|                        1|         Check-Out|             2016-05-05|\n",
            "|City Hotel|          0|      103|             2016|               May|                      19|                        1|                      2|                   2|     2|       0|     1|  BB|    DNK|     Online TA|               TA/TO|                0|                     0|                             0|                 A|                 A|              1|  No Deposit|    8|   null|                   0|      Transient|null|                          0|                        2|         Check-Out|             2016-05-05|\n",
            "|City Hotel|          0|       28|             2016|               May|                      19|                        1|                      2|                   2|     2|       0|     0|  BB|    FRA|     Online TA|               TA/TO|                0|                     0|                             0|                 A|                 A|              0|  No Deposit|    9|   null|                   0|      Transient|null|                          0|                        1|         Check-Out|             2016-05-05|\n",
            "|City Hotel|          0|       79|             2016|               May|                      19|                        2|                      1|                   2|     2|       0|     0|  BB|    BEL|        Direct|              Direct|                0|                     0|                             0|                 A|                 A|              0|  No Deposit|   14|   null|                   0|      Transient|null|                          0|                        0|         Check-Out|             2016-05-05|\n",
            "|City Hotel|          0|       21|             2016|               May|                      19|                        4|                      0|                   1|     2|       0|     0|  BB|    GBR|     Online TA|               TA/TO|                0|                     0|                             0|                 D|                 D|              0|  No Deposit|    9|   null|                   0|      Transient| 165|                          1|                        1|         Check-Out|             2016-05-05|\n",
            "|City Hotel|          0|       19|             2016|               May|                      19|                        2|                      1|                   2|     2|       0|     0|  BB|    BOL|     Online TA|               TA/TO|                0|                     0|                             0|                 A|                 A|              0|  No Deposit|   15|   null|                   0|Transient-Party| 130|                          0|                        0|         Check-Out|             2016-05-05|\n",
            "|City Hotel|          0|      112|             2016|               May|                      19|                        1|                      2|                   2|     2|       0|     0|  BB|    RUS|        Direct|              Direct|                0|                     0|                             0|                 A|                 A|              0|  No Deposit|   14|   null|                   0|      Transient|null|                          0|                        0|         Check-Out|             2016-05-05|\n",
            "|City Hotel|          0|       99|             2016|             April|                      18|                       27|                      2|                   6|     2|       0|     0|  BB|    NLD| Offline TA/TO|               TA/TO|                0|                     0|                             0|                 A|                 A|              0|  No Deposit|  121|   null|                   0|Transient-Party|null|                          0|                        1|         Check-Out|             2016-05-05|\n",
            "|City Hotel|          0|       19|             2016|               May|                      19|                        2|                      1|                   2|     2|       0|     0|  BB|    BOL|     Online TA|               TA/TO|                0|                     0|                             0|                 A|                 A|              0|  No Deposit|   15|   null|                   0|Transient-Party| 130|                          0|                        0|         Check-Out|             2016-05-05|\n",
            "|City Hotel|          0|       19|             2016|               May|                      19|                        2|                      1|                   2|     1|       0|     0|  BB|    BOL|     Online TA|               TA/TO|                0|                     0|                             0|                 A|                 D|              1|  No Deposit|   15|   null|                   0|Transient-Party| 120|                          0|                        0|         Check-Out|             2016-05-05|\n",
            "|City Hotel|          0|      105|             2016|               May|                      19|                        2|                      1|                   2|     2|       0|     0|  BB|    PRT|        Direct|              Direct|                0|                     0|                             0|                 A|                 A|              0|  No Deposit|   14|   null|                   0|      Transient|null|                          0|                        1|         Check-Out|             2016-05-05|\n",
            "|City Hotel|          0|       19|             2016|               May|                      19|                        2|                      1|                   2|     2|       0|     0|  BB|    BOL|     Online TA|               TA/TO|                0|                     0|                             0|                 A|                 A|              0|  No Deposit|   15|   null|                   0|Transient-Party| 130|                          0|                        0|         Check-Out|             2016-05-05|\n",
            "|City Hotel|          0|       99|             2016|             April|                      18|                       27|                      2|                   6|     2|       0|     0|  BB|    PRT| Offline TA/TO|               TA/TO|                0|                     0|                             0|                 A|                 A|              0|  No Deposit|  121|   null|                   0|Transient-Party|null|                          0|                        1|         Check-Out|             2016-05-05|\n",
            "|City Hotel|          0|       19|             2016|               May|                      19|                        2|                      1|                   2|     1|       0|     0|  BB|    BOL|     Online TA|               TA/TO|                0|                     0|                             0|                 A|                 D|              1|  No Deposit|   15|   null|                   0|Transient-Party| 120|                          0|                        0|         Check-Out|             2016-05-05|\n",
            "+----------+-----------+---------+-----------------+------------------+------------------------+-------------------------+-----------------------+--------------------+------+--------+------+----+-------+--------------+--------------------+-----------------+----------------------+------------------------------+------------------+------------------+---------------+------------+-----+-------+--------------------+---------------+----+---------------------------+-------------------------+------------------+-----------------------+\n",
            "only showing top 20 rows\n",
            "\n"
          ]
        }
      ]
    },
    {
      "cell_type": "markdown",
      "source": [
        "hotel string ,is_canceled int,\tlead_time int,\tarrival_date_year string,\tarrival_date_month string,\tarrival_date_week_number int,\tarrival_date_day_of_month int,\tstays_in_weekend_nights int,\tstays_in_week_nights int,\tadults int,\tchildren int,\tbabies int,\tmeal string,\tcountry string,\tmarket_segment string,\tdistribution_channel string,\tis_repeated_guest int,\tprevious_cancellations int ,\tprevious_bookings_not_canceled int,\treserved_room_type string,\tassigned_room_type string,\tbooking_changes int,\tdeposit_type string,\tagent int,\tcompany int,\tdays_in_waiting_list int,\tcustomer_type string,\tadr int,\trequired_car_parking_spaces int,\ttotal_of_special_requests int,\treservation_status string,\treservation_status_date string"
      ],
      "metadata": {
        "id": "ySmxQyYokwBR"
      }
    },
    {
      "cell_type": "code",
      "source": [
        "df[  'arrival_date_year', 'arrival_date_month',  'arrival_date_day_of_month'].show(5)"
      ],
      "metadata": {
        "colab": {
          "base_uri": "https://localhost:8080/"
        },
        "id": "BVfiK5-2kxWQ",
        "outputId": "65f8832a-3de5-4612-a2f8-8a29c3a3fad7"
      },
      "execution_count": 57,
      "outputs": [
        {
          "output_type": "stream",
          "name": "stdout",
          "text": [
            "+-----------------+------------------+-------------------------+\n",
            "|arrival_date_year|arrival_date_month|arrival_date_day_of_month|\n",
            "+-----------------+------------------+-------------------------+\n",
            "|             2016|               May|                        2|\n",
            "|             2016|             April|                       30|\n",
            "|             2016|             April|                       30|\n",
            "|             2016|               May|                        4|\n",
            "|             2016|               May|                        2|\n",
            "+-----------------+------------------+-------------------------+\n",
            "only showing top 5 rows\n",
            "\n"
          ]
        }
      ]
    },
    {
      "cell_type": "markdown",
      "source": [
        "solution 3) **************"
      ],
      "metadata": {
        "id": "qAGdr3cWlpTM"
      }
    },
    {
      "cell_type": "code",
      "source": [
        ""
      ],
      "metadata": {
        "id": "Uh_fLJ59lsmU"
      },
      "execution_count": null,
      "outputs": []
    }
  ]
}