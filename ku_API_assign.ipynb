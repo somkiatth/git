{
  "nbformat": 4,
  "nbformat_minor": 0,
  "metadata": {
    "colab": {
      "name": "ku-API-assign.ipynb",
      "provenance": [],
      "collapsed_sections": [],
      "authorship_tag": "ABX9TyMTkjdrhAhR5PY+bgDQT88r",
      "include_colab_link": true
    },
    "kernelspec": {
      "name": "python3",
      "display_name": "Python 3"
    },
    "language_info": {
      "name": "python"
    }
  },
  "cells": [
    {
      "cell_type": "markdown",
      "metadata": {
        "id": "view-in-github",
        "colab_type": "text"
      },
      "source": [
        "<a href=\"https://colab.research.google.com/github/somkiatth/git/blob/master/ku_API_assign.ipynb\" target=\"_parent\"><img src=\"https://colab.research.google.com/assets/colab-badge.svg\" alt=\"Open In Colab\"/></a>"
      ]
    },
    {
      "cell_type": "code",
      "execution_count": null,
      "metadata": {
        "colab": {
          "base_uri": "https://localhost:8080/"
        },
        "id": "Qr-hSPidch0S",
        "outputId": "814bf25a-6e6f-4796-92da-53fcd0128d7e"
      },
      "outputs": [
        {
          "output_type": "stream",
          "name": "stdout",
          "text": [
            "Looking in indexes: https://pypi.org/simple, https://us-python.pkg.dev/colab-wheels/public/simple/\n",
            "Collecting pyspark\n",
            "  Downloading pyspark-3.3.0.tar.gz (281.3 MB)\n",
            "\u001b[K     |████████████████████████████████| 281.3 MB 36 kB/s \n",
            "\u001b[?25hCollecting py4j==0.10.9.5\n",
            "  Downloading py4j-0.10.9.5-py2.py3-none-any.whl (199 kB)\n",
            "\u001b[K     |████████████████████████████████| 199 kB 46.9 MB/s \n",
            "\u001b[?25hBuilding wheels for collected packages: pyspark\n",
            "  Building wheel for pyspark (setup.py) ... \u001b[?25l\u001b[?25hdone\n",
            "  Created wheel for pyspark: filename=pyspark-3.3.0-py2.py3-none-any.whl size=281764026 sha256=c3ff8170aa5a843dc522e965e8b6be1e7fd3505aaa0e1a7df4ca93546518e36c\n",
            "  Stored in directory: /root/.cache/pip/wheels/7a/8e/1b/f73a52650d2e5f337708d9f6a1750d451a7349a867f928b885\n",
            "Successfully built pyspark\n",
            "Installing collected packages: py4j, pyspark\n",
            "Successfully installed py4j-0.10.9.5 pyspark-3.3.0\n"
          ]
        }
      ],
      "source": [
        "!pip install pyspark"
      ]
    },
    {
      "cell_type": "markdown",
      "source": [
        "solution 1) *********************"
      ],
      "metadata": {
        "id": "iAkq-mHldRm9"
      }
    },
    {
      "cell_type": "code",
      "source": [
        "from pyspark.sql import SparkSession"
      ],
      "metadata": {
        "id": "MnhzczrbdWqK"
      },
      "execution_count": 53,
      "outputs": []
    },
    {
      "cell_type": "code",
      "source": [
        "spark = SparkSession.builder.getOrCreate()"
      ],
      "metadata": {
        "id": "yv1IsFj5d73X"
      },
      "execution_count": 54,
      "outputs": []
    },
    {
      "cell_type": "code",
      "source": [
        "schema = \"hotel string ,is_canceled int,\tlead_time int,\tarrival_date_year string,\tarrival_date_month string,\tarrival_date_week_number int,\tarrival_date_day_of_month int,\tstays_in_weekend_nights int,\tstays_in_week_nights int,\tadults int,\tchildren string,\tbabies int,\tmeal string,\tcountry string,\tmarket_segment string,\tdistribution_channel string,\tis_repeated_guest int,\tprevious_cancellations int ,\tprevious_bookings_not_canceled int,\treserved_room_type string,\tassigned_room_type string,\tbooking_changes int,\tdeposit_type string,\tagent int,\tcompany int,\tdays_in_waiting_list int,\tcustomer_type string,\tadr int,\trequired_car_parking_spaces int,\ttotal_of_special_requests int,\treservation_status string,\treservation_status_date string\""
      ],
      "metadata": {
        "id": "HhIq5hXFkS9A"
      },
      "execution_count": 55,
      "outputs": []
    },
    {
      "cell_type": "code",
      "source": [
        "df=spark.read.csv(\"/content/hotel_bookings.csv\", header=True, schema=schema)"
      ],
      "metadata": {
        "id": "giSYFwtFeWai"
      },
      "execution_count": 56,
      "outputs": []
    },
    {
      "cell_type": "code",
      "source": [
        "df.createOrReplaceTempView(\"dfhotel\")"
      ],
      "metadata": {
        "id": "79CQm3l5h5dI"
      },
      "execution_count": 57,
      "outputs": []
    },
    {
      "cell_type": "code",
      "source": [
        "df.show()"
      ],
      "metadata": {
        "colab": {
          "base_uri": "https://localhost:8080/"
        },
        "id": "Eq7BJXlxejPs",
        "outputId": "4ce9ccfe-9a53-49f0-d7de-42ca925440a6"
      },
      "execution_count": 58,
      "outputs": [
        {
          "output_type": "stream",
          "name": "stdout",
          "text": [
            "+------------+-----------+---------+-----------------+------------------+------------------------+-------------------------+-----------------------+--------------------+------+--------+------+----+-------+--------------+--------------------+-----------------+----------------------+------------------------------+------------------+------------------+---------------+------------+-----+-------+--------------------+-------------+----+---------------------------+-------------------------+------------------+-----------------------+\n",
            "|       hotel|is_canceled|lead_time|arrival_date_year|arrival_date_month|arrival_date_week_number|arrival_date_day_of_month|stays_in_weekend_nights|stays_in_week_nights|adults|children|babies|meal|country|market_segment|distribution_channel|is_repeated_guest|previous_cancellations|previous_bookings_not_canceled|reserved_room_type|assigned_room_type|booking_changes|deposit_type|agent|company|days_in_waiting_list|customer_type| adr|required_car_parking_spaces|total_of_special_requests|reservation_status|reservation_status_date|\n",
            "+------------+-----------+---------+-----------------+------------------+------------------------+-------------------------+-----------------------+--------------------+------+--------+------+----+-------+--------------+--------------------+-----------------+----------------------+------------------------------+------------------+------------------+---------------+------------+-----+-------+--------------------+-------------+----+---------------------------+-------------------------+------------------+-----------------------+\n",
            "|Resort Hotel|          0|      342|             2015|              July|                      27|                        1|                      0|                   0|     2|       0|     0|  BB|    PRT|        Direct|              Direct|                0|                     0|                             0|                 C|                 C|              3|  No Deposit| null|   null|                   0|    Transient|   0|                          0|                        0|         Check-Out|             2015-07-01|\n",
            "|Resort Hotel|          0|      737|             2015|              July|                      27|                        1|                      0|                   0|     2|       0|     0|  BB|    PRT|        Direct|              Direct|                0|                     0|                             0|                 C|                 C|              4|  No Deposit| null|   null|                   0|    Transient|   0|                          0|                        0|         Check-Out|             2015-07-01|\n",
            "|Resort Hotel|          0|        7|             2015|              July|                      27|                        1|                      0|                   1|     1|       0|     0|  BB|    GBR|        Direct|              Direct|                0|                     0|                             0|                 A|                 C|              0|  No Deposit| null|   null|                   0|    Transient|  75|                          0|                        0|         Check-Out|             2015-07-02|\n",
            "|Resort Hotel|          0|       13|             2015|              July|                      27|                        1|                      0|                   1|     1|       0|     0|  BB|    GBR|     Corporate|           Corporate|                0|                     0|                             0|                 A|                 A|              0|  No Deposit|  304|   null|                   0|    Transient|  75|                          0|                        0|         Check-Out|             2015-07-02|\n",
            "|Resort Hotel|          0|       14|             2015|              July|                      27|                        1|                      0|                   2|     2|       0|     0|  BB|    GBR|     Online TA|               TA/TO|                0|                     0|                             0|                 A|                 A|              0|  No Deposit|  240|   null|                   0|    Transient|  98|                          0|                        1|         Check-Out|             2015-07-03|\n",
            "|Resort Hotel|          0|       14|             2015|              July|                      27|                        1|                      0|                   2|     2|       0|     0|  BB|    GBR|     Online TA|               TA/TO|                0|                     0|                             0|                 A|                 A|              0|  No Deposit|  240|   null|                   0|    Transient|  98|                          0|                        1|         Check-Out|             2015-07-03|\n",
            "|Resort Hotel|          0|        0|             2015|              July|                      27|                        1|                      0|                   2|     2|       0|     0|  BB|    PRT|        Direct|              Direct|                0|                     0|                             0|                 C|                 C|              0|  No Deposit| null|   null|                   0|    Transient| 107|                          0|                        0|         Check-Out|             2015-07-03|\n",
            "|Resort Hotel|          0|        9|             2015|              July|                      27|                        1|                      0|                   2|     2|       0|     0|  FB|    PRT|        Direct|              Direct|                0|                     0|                             0|                 C|                 C|              0|  No Deposit|  303|   null|                   0|    Transient| 103|                          0|                        1|         Check-Out|             2015-07-03|\n",
            "|Resort Hotel|          1|       85|             2015|              July|                      27|                        1|                      0|                   3|     2|       0|     0|  BB|    PRT|     Online TA|               TA/TO|                0|                     0|                             0|                 A|                 A|              0|  No Deposit|  240|   null|                   0|    Transient|  82|                          0|                        1|          Canceled|             2015-05-06|\n",
            "|Resort Hotel|          1|       75|             2015|              July|                      27|                        1|                      0|                   3|     2|       0|     0|  HB|    PRT| Offline TA/TO|               TA/TO|                0|                     0|                             0|                 D|                 D|              0|  No Deposit|   15|   null|                   0|    Transient|null|                          0|                        0|          Canceled|             2015-04-22|\n",
            "|Resort Hotel|          1|       23|             2015|              July|                      27|                        1|                      0|                   4|     2|       0|     0|  BB|    PRT|     Online TA|               TA/TO|                0|                     0|                             0|                 E|                 E|              0|  No Deposit|  240|   null|                   0|    Transient| 123|                          0|                        0|          Canceled|             2015-06-23|\n",
            "|Resort Hotel|          0|       35|             2015|              July|                      27|                        1|                      0|                   4|     2|       0|     0|  HB|    PRT|     Online TA|               TA/TO|                0|                     0|                             0|                 D|                 D|              0|  No Deposit|  240|   null|                   0|    Transient| 145|                          0|                        0|         Check-Out|             2015-07-05|\n",
            "|Resort Hotel|          0|       68|             2015|              July|                      27|                        1|                      0|                   4|     2|       0|     0|  BB|    USA|     Online TA|               TA/TO|                0|                     0|                             0|                 D|                 E|              0|  No Deposit|  240|   null|                   0|    Transient|  97|                          0|                        3|         Check-Out|             2015-07-05|\n",
            "|Resort Hotel|          0|       18|             2015|              July|                      27|                        1|                      0|                   4|     2|       1|     0|  HB|    ESP|     Online TA|               TA/TO|                0|                     0|                             0|                 G|                 G|              1|  No Deposit|  241|   null|                   0|    Transient|null|                          0|                        1|         Check-Out|             2015-07-05|\n",
            "|Resort Hotel|          0|       37|             2015|              July|                      27|                        1|                      0|                   4|     2|       0|     0|  BB|    PRT|     Online TA|               TA/TO|                0|                     0|                             0|                 E|                 E|              0|  No Deposit|  241|   null|                   0|    Transient|null|                          0|                        0|         Check-Out|             2015-07-05|\n",
            "|Resort Hotel|          0|       68|             2015|              July|                      27|                        1|                      0|                   4|     2|       0|     0|  BB|    IRL|     Online TA|               TA/TO|                0|                     0|                             0|                 D|                 E|              0|  No Deposit|  240|   null|                   0|    Transient|  97|                          0|                        3|         Check-Out|             2015-07-05|\n",
            "|Resort Hotel|          0|       37|             2015|              July|                      27|                        1|                      0|                   4|     2|       0|     0|  BB|    PRT| Offline TA/TO|               TA/TO|                0|                     0|                             0|                 E|                 E|              0|  No Deposit|    8|   null|                   0|     Contract|null|                          0|                        0|         Check-Out|             2015-07-05|\n",
            "|Resort Hotel|          0|       12|             2015|              July|                      27|                        1|                      0|                   1|     2|       0|     0|  BB|    IRL|     Online TA|               TA/TO|                0|                     0|                             0|                 A|                 E|              0|  No Deposit|  240|   null|                   0|    Transient|null|                          0|                        0|         Check-Out|             2015-07-02|\n",
            "|Resort Hotel|          0|        0|             2015|              July|                      27|                        1|                      0|                   1|     2|       0|     0|  BB|    FRA|     Corporate|           Corporate|                0|                     0|                             0|                 A|                 G|              0|  No Deposit| null|    110|                   0|    Transient|null|                          0|                        0|         Check-Out|             2015-07-02|\n",
            "|Resort Hotel|          0|        7|             2015|              July|                      27|                        1|                      0|                   4|     2|       0|     0|  BB|    GBR|        Direct|              Direct|                0|                     0|                             0|                 G|                 G|              0|  No Deposit|  250|   null|                   0|    Transient| 153|                          0|                        1|         Check-Out|             2015-07-05|\n",
            "+------------+-----------+---------+-----------------+------------------+------------------------+-------------------------+-----------------------+--------------------+------+--------+------+----+-------+--------------+--------------------+-----------------+----------------------+------------------------------+------------------+------------------+---------------+------------+-----+-------+--------------------+-------------+----+---------------------------+-------------------------+------------------+-----------------------+\n",
            "only showing top 20 rows\n",
            "\n"
          ]
        }
      ]
    },
    {
      "cell_type": "markdown",
      "source": [
        "solution 2) **********************"
      ],
      "metadata": {
        "id": "l7mSGZmweogs"
      }
    },
    {
      "cell_type": "code",
      "source": [
        "df.printSchema()"
      ],
      "metadata": {
        "colab": {
          "base_uri": "https://localhost:8080/"
        },
        "id": "fbuwWgv7err_",
        "outputId": "22995940-e9d8-4eb7-f208-235f089c6227"
      },
      "execution_count": 59,
      "outputs": [
        {
          "output_type": "stream",
          "name": "stdout",
          "text": [
            "root\n",
            " |-- hotel: string (nullable = true)\n",
            " |-- is_canceled: integer (nullable = true)\n",
            " |-- lead_time: integer (nullable = true)\n",
            " |-- arrival_date_year: string (nullable = true)\n",
            " |-- arrival_date_month: string (nullable = true)\n",
            " |-- arrival_date_week_number: integer (nullable = true)\n",
            " |-- arrival_date_day_of_month: integer (nullable = true)\n",
            " |-- stays_in_weekend_nights: integer (nullable = true)\n",
            " |-- stays_in_week_nights: integer (nullable = true)\n",
            " |-- adults: integer (nullable = true)\n",
            " |-- children: string (nullable = true)\n",
            " |-- babies: integer (nullable = true)\n",
            " |-- meal: string (nullable = true)\n",
            " |-- country: string (nullable = true)\n",
            " |-- market_segment: string (nullable = true)\n",
            " |-- distribution_channel: string (nullable = true)\n",
            " |-- is_repeated_guest: integer (nullable = true)\n",
            " |-- previous_cancellations: integer (nullable = true)\n",
            " |-- previous_bookings_not_canceled: integer (nullable = true)\n",
            " |-- reserved_room_type: string (nullable = true)\n",
            " |-- assigned_room_type: string (nullable = true)\n",
            " |-- booking_changes: integer (nullable = true)\n",
            " |-- deposit_type: string (nullable = true)\n",
            " |-- agent: integer (nullable = true)\n",
            " |-- company: integer (nullable = true)\n",
            " |-- days_in_waiting_list: integer (nullable = true)\n",
            " |-- customer_type: string (nullable = true)\n",
            " |-- adr: integer (nullable = true)\n",
            " |-- required_car_parking_spaces: integer (nullable = true)\n",
            " |-- total_of_special_requests: integer (nullable = true)\n",
            " |-- reservation_status: string (nullable = true)\n",
            " |-- reservation_status_date: string (nullable = true)\n",
            "\n"
          ]
        }
      ]
    },
    {
      "cell_type": "code",
      "source": [
        "df.count()"
      ],
      "metadata": {
        "colab": {
          "base_uri": "https://localhost:8080/"
        },
        "id": "x0lgsnhwf3cs",
        "outputId": "480b79b3-d481-48cb-ee23-b1192ca8f322"
      },
      "execution_count": null,
      "outputs": [
        {
          "output_type": "execute_result",
          "data": {
            "text/plain": [
              "119390"
            ]
          },
          "metadata": {},
          "execution_count": 14
        }
      ]
    },
    {
      "cell_type": "code",
      "source": [
        "df.columns"
      ],
      "metadata": {
        "colab": {
          "base_uri": "https://localhost:8080/"
        },
        "id": "0Rc2zkQ0f6nM",
        "outputId": "4b25b99d-7102-40d5-9d9e-1e3c04850187"
      },
      "execution_count": 60,
      "outputs": [
        {
          "output_type": "execute_result",
          "data": {
            "text/plain": [
              "['hotel',\n",
              " 'is_canceled',\n",
              " 'lead_time',\n",
              " 'arrival_date_year',\n",
              " 'arrival_date_month',\n",
              " 'arrival_date_week_number',\n",
              " 'arrival_date_day_of_month',\n",
              " 'stays_in_weekend_nights',\n",
              " 'stays_in_week_nights',\n",
              " 'adults',\n",
              " 'children',\n",
              " 'babies',\n",
              " 'meal',\n",
              " 'country',\n",
              " 'market_segment',\n",
              " 'distribution_channel',\n",
              " 'is_repeated_guest',\n",
              " 'previous_cancellations',\n",
              " 'previous_bookings_not_canceled',\n",
              " 'reserved_room_type',\n",
              " 'assigned_room_type',\n",
              " 'booking_changes',\n",
              " 'deposit_type',\n",
              " 'agent',\n",
              " 'company',\n",
              " 'days_in_waiting_list',\n",
              " 'customer_type',\n",
              " 'adr',\n",
              " 'required_car_parking_spaces',\n",
              " 'total_of_special_requests',\n",
              " 'reservation_status',\n",
              " 'reservation_status_date']"
            ]
          },
          "metadata": {},
          "execution_count": 60
        }
      ]
    },
    {
      "cell_type": "code",
      "source": [
        "len(df.columns)"
      ],
      "metadata": {
        "colab": {
          "base_uri": "https://localhost:8080/"
        },
        "id": "GLSbUyZjgHzN",
        "outputId": "4417acaf-862f-4c19-ed3e-9a01edf00b38"
      },
      "execution_count": 61,
      "outputs": [
        {
          "output_type": "execute_result",
          "data": {
            "text/plain": [
              "32"
            ]
          },
          "metadata": {},
          "execution_count": 61
        }
      ]
    },
    {
      "cell_type": "code",
      "source": [
        "spark.sql(\"select * from dfhotel\").show()"
      ],
      "metadata": {
        "colab": {
          "base_uri": "https://localhost:8080/"
        },
        "id": "fh94LnRWiNJ6",
        "outputId": "e558dc7c-db77-43a2-c262-5cecce64ab76"
      },
      "execution_count": 62,
      "outputs": [
        {
          "output_type": "stream",
          "name": "stdout",
          "text": [
            "+------------+-----------+---------+-----------------+------------------+------------------------+-------------------------+-----------------------+--------------------+------+--------+------+----+-------+--------------+--------------------+-----------------+----------------------+------------------------------+------------------+------------------+---------------+------------+-----+-------+--------------------+-------------+----+---------------------------+-------------------------+------------------+-----------------------+\n",
            "|       hotel|is_canceled|lead_time|arrival_date_year|arrival_date_month|arrival_date_week_number|arrival_date_day_of_month|stays_in_weekend_nights|stays_in_week_nights|adults|children|babies|meal|country|market_segment|distribution_channel|is_repeated_guest|previous_cancellations|previous_bookings_not_canceled|reserved_room_type|assigned_room_type|booking_changes|deposit_type|agent|company|days_in_waiting_list|customer_type| adr|required_car_parking_spaces|total_of_special_requests|reservation_status|reservation_status_date|\n",
            "+------------+-----------+---------+-----------------+------------------+------------------------+-------------------------+-----------------------+--------------------+------+--------+------+----+-------+--------------+--------------------+-----------------+----------------------+------------------------------+------------------+------------------+---------------+------------+-----+-------+--------------------+-------------+----+---------------------------+-------------------------+------------------+-----------------------+\n",
            "|Resort Hotel|          0|      342|             2015|              July|                      27|                        1|                      0|                   0|     2|       0|     0|  BB|    PRT|        Direct|              Direct|                0|                     0|                             0|                 C|                 C|              3|  No Deposit| null|   null|                   0|    Transient|   0|                          0|                        0|         Check-Out|             2015-07-01|\n",
            "|Resort Hotel|          0|      737|             2015|              July|                      27|                        1|                      0|                   0|     2|       0|     0|  BB|    PRT|        Direct|              Direct|                0|                     0|                             0|                 C|                 C|              4|  No Deposit| null|   null|                   0|    Transient|   0|                          0|                        0|         Check-Out|             2015-07-01|\n",
            "|Resort Hotel|          0|        7|             2015|              July|                      27|                        1|                      0|                   1|     1|       0|     0|  BB|    GBR|        Direct|              Direct|                0|                     0|                             0|                 A|                 C|              0|  No Deposit| null|   null|                   0|    Transient|  75|                          0|                        0|         Check-Out|             2015-07-02|\n",
            "|Resort Hotel|          0|       13|             2015|              July|                      27|                        1|                      0|                   1|     1|       0|     0|  BB|    GBR|     Corporate|           Corporate|                0|                     0|                             0|                 A|                 A|              0|  No Deposit|  304|   null|                   0|    Transient|  75|                          0|                        0|         Check-Out|             2015-07-02|\n",
            "|Resort Hotel|          0|       14|             2015|              July|                      27|                        1|                      0|                   2|     2|       0|     0|  BB|    GBR|     Online TA|               TA/TO|                0|                     0|                             0|                 A|                 A|              0|  No Deposit|  240|   null|                   0|    Transient|  98|                          0|                        1|         Check-Out|             2015-07-03|\n",
            "|Resort Hotel|          0|       14|             2015|              July|                      27|                        1|                      0|                   2|     2|       0|     0|  BB|    GBR|     Online TA|               TA/TO|                0|                     0|                             0|                 A|                 A|              0|  No Deposit|  240|   null|                   0|    Transient|  98|                          0|                        1|         Check-Out|             2015-07-03|\n",
            "|Resort Hotel|          0|        0|             2015|              July|                      27|                        1|                      0|                   2|     2|       0|     0|  BB|    PRT|        Direct|              Direct|                0|                     0|                             0|                 C|                 C|              0|  No Deposit| null|   null|                   0|    Transient| 107|                          0|                        0|         Check-Out|             2015-07-03|\n",
            "|Resort Hotel|          0|        9|             2015|              July|                      27|                        1|                      0|                   2|     2|       0|     0|  FB|    PRT|        Direct|              Direct|                0|                     0|                             0|                 C|                 C|              0|  No Deposit|  303|   null|                   0|    Transient| 103|                          0|                        1|         Check-Out|             2015-07-03|\n",
            "|Resort Hotel|          1|       85|             2015|              July|                      27|                        1|                      0|                   3|     2|       0|     0|  BB|    PRT|     Online TA|               TA/TO|                0|                     0|                             0|                 A|                 A|              0|  No Deposit|  240|   null|                   0|    Transient|  82|                          0|                        1|          Canceled|             2015-05-06|\n",
            "|Resort Hotel|          1|       75|             2015|              July|                      27|                        1|                      0|                   3|     2|       0|     0|  HB|    PRT| Offline TA/TO|               TA/TO|                0|                     0|                             0|                 D|                 D|              0|  No Deposit|   15|   null|                   0|    Transient|null|                          0|                        0|          Canceled|             2015-04-22|\n",
            "|Resort Hotel|          1|       23|             2015|              July|                      27|                        1|                      0|                   4|     2|       0|     0|  BB|    PRT|     Online TA|               TA/TO|                0|                     0|                             0|                 E|                 E|              0|  No Deposit|  240|   null|                   0|    Transient| 123|                          0|                        0|          Canceled|             2015-06-23|\n",
            "|Resort Hotel|          0|       35|             2015|              July|                      27|                        1|                      0|                   4|     2|       0|     0|  HB|    PRT|     Online TA|               TA/TO|                0|                     0|                             0|                 D|                 D|              0|  No Deposit|  240|   null|                   0|    Transient| 145|                          0|                        0|         Check-Out|             2015-07-05|\n",
            "|Resort Hotel|          0|       68|             2015|              July|                      27|                        1|                      0|                   4|     2|       0|     0|  BB|    USA|     Online TA|               TA/TO|                0|                     0|                             0|                 D|                 E|              0|  No Deposit|  240|   null|                   0|    Transient|  97|                          0|                        3|         Check-Out|             2015-07-05|\n",
            "|Resort Hotel|          0|       18|             2015|              July|                      27|                        1|                      0|                   4|     2|       1|     0|  HB|    ESP|     Online TA|               TA/TO|                0|                     0|                             0|                 G|                 G|              1|  No Deposit|  241|   null|                   0|    Transient|null|                          0|                        1|         Check-Out|             2015-07-05|\n",
            "|Resort Hotel|          0|       37|             2015|              July|                      27|                        1|                      0|                   4|     2|       0|     0|  BB|    PRT|     Online TA|               TA/TO|                0|                     0|                             0|                 E|                 E|              0|  No Deposit|  241|   null|                   0|    Transient|null|                          0|                        0|         Check-Out|             2015-07-05|\n",
            "|Resort Hotel|          0|       68|             2015|              July|                      27|                        1|                      0|                   4|     2|       0|     0|  BB|    IRL|     Online TA|               TA/TO|                0|                     0|                             0|                 D|                 E|              0|  No Deposit|  240|   null|                   0|    Transient|  97|                          0|                        3|         Check-Out|             2015-07-05|\n",
            "|Resort Hotel|          0|       37|             2015|              July|                      27|                        1|                      0|                   4|     2|       0|     0|  BB|    PRT| Offline TA/TO|               TA/TO|                0|                     0|                             0|                 E|                 E|              0|  No Deposit|    8|   null|                   0|     Contract|null|                          0|                        0|         Check-Out|             2015-07-05|\n",
            "|Resort Hotel|          0|       12|             2015|              July|                      27|                        1|                      0|                   1|     2|       0|     0|  BB|    IRL|     Online TA|               TA/TO|                0|                     0|                             0|                 A|                 E|              0|  No Deposit|  240|   null|                   0|    Transient|null|                          0|                        0|         Check-Out|             2015-07-02|\n",
            "|Resort Hotel|          0|        0|             2015|              July|                      27|                        1|                      0|                   1|     2|       0|     0|  BB|    FRA|     Corporate|           Corporate|                0|                     0|                             0|                 A|                 G|              0|  No Deposit| null|    110|                   0|    Transient|null|                          0|                        0|         Check-Out|             2015-07-02|\n",
            "|Resort Hotel|          0|        7|             2015|              July|                      27|                        1|                      0|                   4|     2|       0|     0|  BB|    GBR|        Direct|              Direct|                0|                     0|                             0|                 G|                 G|              0|  No Deposit|  250|   null|                   0|    Transient| 153|                          0|                        1|         Check-Out|             2015-07-05|\n",
            "+------------+-----------+---------+-----------------+------------------+------------------------+-------------------------+-----------------------+--------------------+------+--------+------+----+-------+--------------+--------------------+-----------------+----------------------+------------------------------+------------------+------------------+---------------+------------+-----+-------+--------------------+-------------+----+---------------------------+-------------------------+------------------+-----------------------+\n",
            "only showing top 20 rows\n",
            "\n"
          ]
        }
      ]
    },
    {
      "cell_type": "markdown",
      "source": [
        "hotel string ,is_canceled int,\tlead_time int,\tarrival_date_year string,\tarrival_date_month string,\tarrival_date_week_number int,\tarrival_date_day_of_month int,\tstays_in_weekend_nights int,\tstays_in_week_nights int,\tadults int,\tchildren string,\tbabies int,\tmeal string,\tcountry string,\tmarket_segment string,\tdistribution_channel string,\tis_repeated_guest int,\tprevious_cancellations int ,\tprevious_bookings_not_canceled int,\treserved_room_type string,\tassigned_room_type string,\tbooking_changes int,\tdeposit_type string,\tagent int,\tcompany int,\tdays_in_waiting_list int,\tcustomer_type string,\tadr int,\trequired_car_parking_spaces int,\ttotal_of_special_requests int,\treservation_status string,\treservation_status_date string"
      ],
      "metadata": {
        "id": "ySmxQyYokwBR"
      }
    },
    {
      "cell_type": "code",
      "source": [
        "df[  'arrival_date_year', 'arrival_date_month',  'arrival_date_day_of_month'].show(5)"
      ],
      "metadata": {
        "colab": {
          "base_uri": "https://localhost:8080/"
        },
        "id": "BVfiK5-2kxWQ",
        "outputId": "d51eda44-db53-4fda-c5ab-6ff2e013d3e8"
      },
      "execution_count": 63,
      "outputs": [
        {
          "output_type": "stream",
          "name": "stdout",
          "text": [
            "+-----------------+------------------+-------------------------+\n",
            "|arrival_date_year|arrival_date_month|arrival_date_day_of_month|\n",
            "+-----------------+------------------+-------------------------+\n",
            "|             2015|              July|                        1|\n",
            "|             2015|              July|                        1|\n",
            "|             2015|              July|                        1|\n",
            "|             2015|              July|                        1|\n",
            "|             2015|              July|                        1|\n",
            "+-----------------+------------------+-------------------------+\n",
            "only showing top 5 rows\n",
            "\n"
          ]
        }
      ]
    },
    {
      "cell_type": "markdown",
      "source": [
        "solution 3) **************"
      ],
      "metadata": {
        "id": "qAGdr3cWlpTM"
      }
    },
    {
      "cell_type": "code",
      "source": [
        "df.filter(df.lead_time>365).count()"
      ],
      "metadata": {
        "colab": {
          "base_uri": "https://localhost:8080/"
        },
        "id": "Uh_fLJ59lsmU",
        "outputId": "4ba293e0-cbd8-47f8-945c-ebe6f25b7f05"
      },
      "execution_count": 64,
      "outputs": [
        {
          "output_type": "execute_result",
          "data": {
            "text/plain": [
              "3148"
            ]
          },
          "metadata": {},
          "execution_count": 64
        }
      ]
    },
    {
      "cell_type": "markdown",
      "source": [
        "solution 4) ****\n"
      ],
      "metadata": {
        "id": "I0G7bgxhofBH"
      }
    },
    {
      "cell_type": "code",
      "source": [
        " df.filter( (df.stays_in_weekend_nights >0) & (df.stays_in_week_nights >0) ).count()"
      ],
      "metadata": {
        "colab": {
          "base_uri": "https://localhost:8080/"
        },
        "id": "5T_VZ-6_ohUW",
        "outputId": "83840383-6737-48ac-de1a-c1d5d9b8e672"
      },
      "execution_count": 67,
      "outputs": [
        {
          "output_type": "execute_result",
          "data": {
            "text/plain": [
              "60462"
            ]
          },
          "metadata": {},
          "execution_count": 67
        }
      ]
    },
    {
      "cell_type": "markdown",
      "source": [
        "solution 5) ********"
      ],
      "metadata": {
        "id": "bWDsxbsapuDo"
      }
    },
    {
      "cell_type": "code",
      "source": [
        "import pyspark.sql.functions as F"
      ],
      "metadata": {
        "id": "VnSPGtE4pwYq"
      },
      "execution_count": 68,
      "outputs": []
    },
    {
      "cell_type": "code",
      "source": [
        "df.select ( F.when (df.children =='NA', '0' ) .otherwise (df.children)).count()"
      ],
      "metadata": {
        "colab": {
          "base_uri": "https://localhost:8080/"
        },
        "id": "n9X7qt8Vreca",
        "outputId": "d1136709-466d-44e5-f2d6-501a951fdce1"
      },
      "execution_count": 69,
      "outputs": [
        {
          "output_type": "execute_result",
          "data": {
            "text/plain": [
              "119390"
            ]
          },
          "metadata": {},
          "execution_count": 69
        }
      ]
    },
    {
      "cell_type": "markdown",
      "source": [
        "solution 6) *********"
      ],
      "metadata": {
        "id": "GTe29yu3uLO3"
      }
    },
    {
      "cell_type": "code",
      "source": [
        "df.agg(F.mean(df.children)).show()"
      ],
      "metadata": {
        "colab": {
          "base_uri": "https://localhost:8080/"
        },
        "id": "b7fAmxkXuOLJ",
        "outputId": "a7ced820-5a9c-42fe-b871-592dd9c2e775"
      },
      "execution_count": 70,
      "outputs": [
        {
          "output_type": "stream",
          "name": "stdout",
          "text": [
            "+-------------------+\n",
            "|      avg(children)|\n",
            "+-------------------+\n",
            "|0.10388990333874994|\n",
            "+-------------------+\n",
            "\n"
          ]
        }
      ]
    },
    {
      "cell_type": "markdown",
      "source": [
        "solution 7) ******"
      ],
      "metadata": {
        "id": "D1p9YLOOvISF"
      }
    },
    {
      "cell_type": "code",
      "source": [
        "df.select('country').distinct().collect()"
      ],
      "metadata": {
        "colab": {
          "base_uri": "https://localhost:8080/"
        },
        "id": "uDlbwtuJu4a3",
        "outputId": "48a88632-9755-479a-b43c-48db122f92c7"
      },
      "execution_count": 71,
      "outputs": [
        {
          "output_type": "execute_result",
          "data": {
            "text/plain": [
              "[Row(country='POL'),\n",
              " Row(country='LVA'),\n",
              " Row(country='ZMB'),\n",
              " Row(country='JAM'),\n",
              " Row(country='BRA'),\n",
              " Row(country='ARM'),\n",
              " Row(country='MOZ'),\n",
              " Row(country='CUB'),\n",
              " Row(country='JOR'),\n",
              " Row(country='FRA'),\n",
              " Row(country='URY'),\n",
              " Row(country='GIB'),\n",
              " Row(country='ETH'),\n",
              " Row(country='CN'),\n",
              " Row(country='ITA'),\n",
              " Row(country='UKR'),\n",
              " Row(country='CMR'),\n",
              " Row(country='GHA'),\n",
              " Row(country='SEN'),\n",
              " Row(country='COM'),\n",
              " Row(country='HRV'),\n",
              " Row(country='QAT'),\n",
              " Row(country='BHS'),\n",
              " Row(country='GBR'),\n",
              " Row(country='ARE'),\n",
              " Row(country='FRO'),\n",
              " Row(country='CRI'),\n",
              " Row(country='TJK'),\n",
              " Row(country='NPL'),\n",
              " Row(country='UGA'),\n",
              " Row(country='AZE'),\n",
              " Row(country='AUS'),\n",
              " Row(country='MLT'),\n",
              " Row(country='KNA'),\n",
              " Row(country='MEX'),\n",
              " Row(country='BGD'),\n",
              " Row(country='BLR'),\n",
              " Row(country='SVK'),\n",
              " Row(country='SYC'),\n",
              " Row(country='STP'),\n",
              " Row(country='HUN'),\n",
              " Row(country='NZL'),\n",
              " Row(country='THA'),\n",
              " Row(country='DJI'),\n",
              " Row(country='NOR'),\n",
              " Row(country='IRQ'),\n",
              " Row(country='VEN'),\n",
              " Row(country='GNB'),\n",
              " Row(country='FIN'),\n",
              " Row(country='BWA'),\n",
              " Row(country='SAU'),\n",
              " Row(country='DOM'),\n",
              " Row(country='ALB'),\n",
              " Row(country='TGO'),\n",
              " Row(country='BHR'),\n",
              " Row(country='NIC'),\n",
              " Row(country='GGY'),\n",
              " Row(country='SUR'),\n",
              " Row(country='BIH'),\n",
              " Row(country='TMP'),\n",
              " Row(country='KWT'),\n",
              " Row(country='MWI'),\n",
              " Row(country='FJI'),\n",
              " Row(country='AND'),\n",
              " Row(country='CAF'),\n",
              " Row(country='PER'),\n",
              " Row(country='NLD'),\n",
              " Row(country='PAK'),\n",
              " Row(country='LUX'),\n",
              " Row(country='TUR'),\n",
              " Row(country='CYM'),\n",
              " Row(country='RWA'),\n",
              " Row(country='MNE'),\n",
              " Row(country='AUT'),\n",
              " Row(country='CPV'),\n",
              " Row(country='BDI'),\n",
              " Row(country='USA'),\n",
              " Row(country='MAR'),\n",
              " Row(country='MDG'),\n",
              " Row(country='OMN'),\n",
              " Row(country='GEO'),\n",
              " Row(country='VNM'),\n",
              " Row(country='CIV'),\n",
              " Row(country='KOR'),\n",
              " Row(country='LIE'),\n",
              " Row(country='ZAF'),\n",
              " Row(country='ISR'),\n",
              " Row(country='UMI'),\n",
              " Row(country='PRT'),\n",
              " Row(country='TUN'),\n",
              " Row(country='SMR'),\n",
              " Row(country='LTU'),\n",
              " Row(country='IRN'),\n",
              " Row(country='CYP'),\n",
              " Row(country='TWN'),\n",
              " Row(country='IMN'),\n",
              " Row(country='ZWE'),\n",
              " Row(country='MYS'),\n",
              " Row(country='CHL'),\n",
              " Row(country='MAC'),\n",
              " Row(country='MUS'),\n",
              " Row(country='RUS'),\n",
              " Row(country='COL'),\n",
              " Row(country='ROU'),\n",
              " Row(country='ARG'),\n",
              " Row(country='DNK'),\n",
              " Row(country='PRI'),\n",
              " Row(country='ESP'),\n",
              " Row(country='KEN'),\n",
              " Row(country='LKA'),\n",
              " Row(country='MYT'),\n",
              " Row(country='MDV'),\n",
              " Row(country='EST'),\n",
              " Row(country='LBN'),\n",
              " Row(country='AGO'),\n",
              " Row(country='IRL'),\n",
              " Row(country='SWE'),\n",
              " Row(country='NGA'),\n",
              " Row(country='GAB'),\n",
              " Row(country='HND'),\n",
              " Row(country='SVN'),\n",
              " Row(country='ECU'),\n",
              " Row(country='GLP'),\n",
              " Row(country='GRC'),\n",
              " Row(country='SYR'),\n",
              " Row(country='SGP'),\n",
              " Row(country='IND'),\n",
              " Row(country='KAZ'),\n",
              " Row(country='HKG'),\n",
              " Row(country='KHM'),\n",
              " Row(country='BEL'),\n",
              " Row(country='MKD'),\n",
              " Row(country='CHN'),\n",
              " Row(country='IDN'),\n",
              " Row(country='DEU'),\n",
              " Row(country='DZA'),\n",
              " Row(country='BGR'),\n",
              " Row(country='UZB'),\n",
              " Row(country='MCO'),\n",
              " Row(country='JPN'),\n",
              " Row(country='SRB'),\n",
              " Row(country='TZA'),\n",
              " Row(country='NULL'),\n",
              " Row(country='PLW'),\n",
              " Row(country='CHE'),\n",
              " Row(country='JEY'),\n",
              " Row(country='CZE'),\n",
              " Row(country='PHL'),\n",
              " Row(country='EGY'),\n",
              " Row(country='ISL'),\n",
              " Row(country='BEN'),\n",
              " Row(country='VGB'),\n",
              " Row(country='BRB'),\n",
              " Row(country='ABW'),\n",
              " Row(country='BOL'),\n",
              " Row(country='LBY'),\n",
              " Row(country='GTM'),\n",
              " Row(country='GUY'),\n",
              " Row(country='LCA'),\n",
              " Row(country='PRY'),\n",
              " Row(country='MLI'),\n",
              " Row(country='DMA'),\n",
              " Row(country='BFA'),\n",
              " Row(country='MRT'),\n",
              " Row(country='NCL'),\n",
              " Row(country='SLE'),\n",
              " Row(country='SDN'),\n",
              " Row(country='PAN'),\n",
              " Row(country='NAM'),\n",
              " Row(country='ATA'),\n",
              " Row(country='ASM'),\n",
              " Row(country='AIA'),\n",
              " Row(country='KIR'),\n",
              " Row(country='SLV'),\n",
              " Row(country='PYF'),\n",
              " Row(country='MMR'),\n",
              " Row(country='LAO'),\n",
              " Row(country='ATF')]"
            ]
          },
          "metadata": {},
          "execution_count": 71
        }
      ]
    },
    {
      "cell_type": "markdown",
      "source": [
        "solution 8) ******"
      ],
      "metadata": {
        "id": "SJfGefYjvmtG"
      }
    },
    {
      "cell_type": "code",
      "source": [
        "df.groupby('hotel').count().show()"
      ],
      "metadata": {
        "colab": {
          "base_uri": "https://localhost:8080/"
        },
        "id": "qx4r6J5Ovo1Q",
        "outputId": "3b651e57-ccce-41d4-e572-326f44093235"
      },
      "execution_count": 72,
      "outputs": [
        {
          "output_type": "stream",
          "name": "stdout",
          "text": [
            "+------------+-----+\n",
            "|       hotel|count|\n",
            "+------------+-----+\n",
            "|  City Hotel|79330|\n",
            "|Resort Hotel|40060|\n",
            "+------------+-----+\n",
            "\n"
          ]
        }
      ]
    },
    {
      "cell_type": "markdown",
      "source": [
        "solution 9) **"
      ],
      "metadata": {
        "id": "xmR8yOT6iWdW"
      }
    },
    {
      "cell_type": "code",
      "source": [
        "df.printSchema()"
      ],
      "metadata": {
        "colab": {
          "base_uri": "https://localhost:8080/"
        },
        "id": "OXLkbuWQxPtH",
        "outputId": "b1ca6d7a-8fa9-4d15-b77f-2e6e562a0e5f"
      },
      "execution_count": 73,
      "outputs": [
        {
          "output_type": "stream",
          "name": "stdout",
          "text": [
            "root\n",
            " |-- hotel: string (nullable = true)\n",
            " |-- is_canceled: integer (nullable = true)\n",
            " |-- lead_time: integer (nullable = true)\n",
            " |-- arrival_date_year: string (nullable = true)\n",
            " |-- arrival_date_month: string (nullable = true)\n",
            " |-- arrival_date_week_number: integer (nullable = true)\n",
            " |-- arrival_date_day_of_month: integer (nullable = true)\n",
            " |-- stays_in_weekend_nights: integer (nullable = true)\n",
            " |-- stays_in_week_nights: integer (nullable = true)\n",
            " |-- adults: integer (nullable = true)\n",
            " |-- children: string (nullable = true)\n",
            " |-- babies: integer (nullable = true)\n",
            " |-- meal: string (nullable = true)\n",
            " |-- country: string (nullable = true)\n",
            " |-- market_segment: string (nullable = true)\n",
            " |-- distribution_channel: string (nullable = true)\n",
            " |-- is_repeated_guest: integer (nullable = true)\n",
            " |-- previous_cancellations: integer (nullable = true)\n",
            " |-- previous_bookings_not_canceled: integer (nullable = true)\n",
            " |-- reserved_room_type: string (nullable = true)\n",
            " |-- assigned_room_type: string (nullable = true)\n",
            " |-- booking_changes: integer (nullable = true)\n",
            " |-- deposit_type: string (nullable = true)\n",
            " |-- agent: integer (nullable = true)\n",
            " |-- company: integer (nullable = true)\n",
            " |-- days_in_waiting_list: integer (nullable = true)\n",
            " |-- customer_type: string (nullable = true)\n",
            " |-- adr: integer (nullable = true)\n",
            " |-- required_car_parking_spaces: integer (nullable = true)\n",
            " |-- total_of_special_requests: integer (nullable = true)\n",
            " |-- reservation_status: string (nullable = true)\n",
            " |-- reservation_status_date: string (nullable = true)\n",
            "\n"
          ]
        }
      ]
    },
    {
      "cell_type": "code",
      "source": [
        "df.groupby('country').count().sort('count',ascending=False).show(5)"
      ],
      "metadata": {
        "id": "mSG08bJ_xU3X",
        "colab": {
          "base_uri": "https://localhost:8080/"
        },
        "outputId": "93479981-93ba-4d1a-8d83-f23cb9cbb140"
      },
      "execution_count": 74,
      "outputs": [
        {
          "output_type": "stream",
          "name": "stdout",
          "text": [
            "+-------+-----+\n",
            "|country|count|\n",
            "+-------+-----+\n",
            "|    PRT|48590|\n",
            "|    GBR|12129|\n",
            "|    FRA|10415|\n",
            "|    ESP| 8568|\n",
            "|    DEU| 7287|\n",
            "+-------+-----+\n",
            "only showing top 5 rows\n",
            "\n"
          ]
        }
      ]
    },
    {
      "cell_type": "markdown",
      "source": [
        "solution 10) ***"
      ],
      "metadata": {
        "id": "N5L0_rhtjD7O"
      }
    },
    {
      "cell_type": "code",
      "source": [
        "df.groupby('customer_type').agg(F.mean(df.lead_time)).show()"
      ],
      "metadata": {
        "colab": {
          "base_uri": "https://localhost:8080/"
        },
        "id": "MVJItDSgjN9I",
        "outputId": "ca617fea-0259-4530-c230-5edd8252c887"
      },
      "execution_count": 138,
      "outputs": [
        {
          "output_type": "stream",
          "name": "stdout",
          "text": [
            "+---------------+------------------+\n",
            "|  customer_type|    avg(lead_time)|\n",
            "+---------------+------------------+\n",
            "|      Transient| 93.29551515963085|\n",
            "|Transient-Party|137.03705620124185|\n",
            "|          Group| 55.05719237435009|\n",
            "|       Contract| 142.9698233562316|\n",
            "+---------------+------------------+\n",
            "\n"
          ]
        }
      ]
    },
    {
      "cell_type": "markdown",
      "source": [
        "solution 11) *****"
      ],
      "metadata": {
        "id": "36cT8KKS8udn"
      }
    },
    {
      "cell_type": "code",
      "source": [
        "df.show(5)"
      ],
      "metadata": {
        "colab": {
          "base_uri": "https://localhost:8080/"
        },
        "id": "H8kpNoGf8xlP",
        "outputId": "2e9e9cd5-40d6-4b18-a419-c62161d0109d"
      },
      "execution_count": 139,
      "outputs": [
        {
          "output_type": "stream",
          "name": "stdout",
          "text": [
            "+------------+-----------+---------+-----------------+------------------+------------------------+-------------------------+-----------------------+--------------------+------+--------+------+----+-------+--------------+--------------------+-----------------+----------------------+------------------------------+------------------+------------------+---------------+------------+-----+-------+--------------------+-------------+---+---------------------------+-------------------------+------------------+-----------------------+\n",
            "|       hotel|is_canceled|lead_time|arrival_date_year|arrival_date_month|arrival_date_week_number|arrival_date_day_of_month|stays_in_weekend_nights|stays_in_week_nights|adults|children|babies|meal|country|market_segment|distribution_channel|is_repeated_guest|previous_cancellations|previous_bookings_not_canceled|reserved_room_type|assigned_room_type|booking_changes|deposit_type|agent|company|days_in_waiting_list|customer_type|adr|required_car_parking_spaces|total_of_special_requests|reservation_status|reservation_status_date|\n",
            "+------------+-----------+---------+-----------------+------------------+------------------------+-------------------------+-----------------------+--------------------+------+--------+------+----+-------+--------------+--------------------+-----------------+----------------------+------------------------------+------------------+------------------+---------------+------------+-----+-------+--------------------+-------------+---+---------------------------+-------------------------+------------------+-----------------------+\n",
            "|Resort Hotel|          0|      342|             2015|              July|                      27|                        1|                      0|                   0|     2|       0|     0|  BB|    PRT|        Direct|              Direct|                0|                     0|                             0|                 C|                 C|              3|  No Deposit| null|   null|                   0|    Transient|  0|                          0|                        0|         Check-Out|             2015-07-01|\n",
            "|Resort Hotel|          0|      737|             2015|              July|                      27|                        1|                      0|                   0|     2|       0|     0|  BB|    PRT|        Direct|              Direct|                0|                     0|                             0|                 C|                 C|              4|  No Deposit| null|   null|                   0|    Transient|  0|                          0|                        0|         Check-Out|             2015-07-01|\n",
            "|Resort Hotel|          0|        7|             2015|              July|                      27|                        1|                      0|                   1|     1|       0|     0|  BB|    GBR|        Direct|              Direct|                0|                     0|                             0|                 A|                 C|              0|  No Deposit| null|   null|                   0|    Transient| 75|                          0|                        0|         Check-Out|             2015-07-02|\n",
            "|Resort Hotel|          0|       13|             2015|              July|                      27|                        1|                      0|                   1|     1|       0|     0|  BB|    GBR|     Corporate|           Corporate|                0|                     0|                             0|                 A|                 A|              0|  No Deposit|  304|   null|                   0|    Transient| 75|                          0|                        0|         Check-Out|             2015-07-02|\n",
            "|Resort Hotel|          0|       14|             2015|              July|                      27|                        1|                      0|                   2|     2|       0|     0|  BB|    GBR|     Online TA|               TA/TO|                0|                     0|                             0|                 A|                 A|              0|  No Deposit|  240|   null|                   0|    Transient| 98|                          0|                        1|         Check-Out|             2015-07-03|\n",
            "+------------+-----------+---------+-----------------+------------------+------------------------+-------------------------+-----------------------+--------------------+------+--------+------+----+-------+--------------+--------------------+-----------------+----------------------+------------------------------+------------------+------------------+---------------+------------+-----+-------+--------------------+-------------+---+---------------------------+-------------------------+------------------+-----------------------+\n",
            "only showing top 5 rows\n",
            "\n"
          ]
        }
      ]
    },
    {
      "cell_type": "code",
      "source": [
        "from pyspark.sql.functions import concat,expr,col"
      ],
      "metadata": {
        "id": "7ig1ALe6GM_c"
      },
      "execution_count": 87,
      "outputs": []
    },
    {
      "cell_type": "code",
      "source": [
        "from pyspark.sql import functions as F"
      ],
      "metadata": {
        "id": "QAPUPt3JQhKU"
      },
      "execution_count": 131,
      "outputs": []
    },
    {
      "cell_type": "code",
      "source": [
        "newdf = df.withColumn('arrival_date', F.concat(F.col('arrival_date_year'),F.lit('_'), F.col('arrival_date_month'),F.lit('_'),F.col('arrival_date_day_of_month')))"
      ],
      "metadata": {
        "id": "2g1G-WjyP-fs"
      },
      "execution_count": 147,
      "outputs": []
    },
    {
      "cell_type": "code",
      "source": [
        "newdf.show(5)"
      ],
      "metadata": {
        "colab": {
          "base_uri": "https://localhost:8080/"
        },
        "id": "lTpsKGnaQv70",
        "outputId": "f66cdf3e-e5e4-4110-8df3-a0f387cb08f8"
      },
      "execution_count": 146,
      "outputs": [
        {
          "output_type": "stream",
          "name": "stdout",
          "text": [
            "+------------+-----------+---------+-----------------+------------------+------------------------+-------------------------+-----------------------+--------------------+------+--------+------+----+-------+--------------+--------------------+-----------------+----------------------+------------------------------+------------------+------------------+---------------+------------+-----+-------+--------------------+-------------+---+---------------------------+-------------------------+------------------+-----------------------+------------+\n",
            "|       hotel|is_canceled|lead_time|arrival_date_year|arrival_date_month|arrival_date_week_number|arrival_date_day_of_month|stays_in_weekend_nights|stays_in_week_nights|adults|children|babies|meal|country|market_segment|distribution_channel|is_repeated_guest|previous_cancellations|previous_bookings_not_canceled|reserved_room_type|assigned_room_type|booking_changes|deposit_type|agent|company|days_in_waiting_list|customer_type|adr|required_car_parking_spaces|total_of_special_requests|reservation_status|reservation_status_date|arrival_date|\n",
            "+------------+-----------+---------+-----------------+------------------+------------------------+-------------------------+-----------------------+--------------------+------+--------+------+----+-------+--------------+--------------------+-----------------+----------------------+------------------------------+------------------+------------------+---------------+------------+-----+-------+--------------------+-------------+---+---------------------------+-------------------------+------------------+-----------------------+------------+\n",
            "|Resort Hotel|          0|      342|             2015|              July|                      27|                        1|                      0|                   0|     2|       0|     0|  BB|    PRT|        Direct|              Direct|                0|                     0|                             0|                 C|                 C|              3|  No Deposit| null|   null|                   0|    Transient|  0|                          0|                        0|         Check-Out|             2015-07-01| 2015_July_1|\n",
            "|Resort Hotel|          0|      737|             2015|              July|                      27|                        1|                      0|                   0|     2|       0|     0|  BB|    PRT|        Direct|              Direct|                0|                     0|                             0|                 C|                 C|              4|  No Deposit| null|   null|                   0|    Transient|  0|                          0|                        0|         Check-Out|             2015-07-01| 2015_July_1|\n",
            "|Resort Hotel|          0|        7|             2015|              July|                      27|                        1|                      0|                   1|     1|       0|     0|  BB|    GBR|        Direct|              Direct|                0|                     0|                             0|                 A|                 C|              0|  No Deposit| null|   null|                   0|    Transient| 75|                          0|                        0|         Check-Out|             2015-07-02| 2015_July_1|\n",
            "|Resort Hotel|          0|       13|             2015|              July|                      27|                        1|                      0|                   1|     1|       0|     0|  BB|    GBR|     Corporate|           Corporate|                0|                     0|                             0|                 A|                 A|              0|  No Deposit|  304|   null|                   0|    Transient| 75|                          0|                        0|         Check-Out|             2015-07-02| 2015_July_1|\n",
            "|Resort Hotel|          0|       14|             2015|              July|                      27|                        1|                      0|                   2|     2|       0|     0|  BB|    GBR|     Online TA|               TA/TO|                0|                     0|                             0|                 A|                 A|              0|  No Deposit|  240|   null|                   0|    Transient| 98|                          0|                        1|         Check-Out|             2015-07-03| 2015_July_1|\n",
            "+------------+-----------+---------+-----------------+------------------+------------------------+-------------------------+-----------------------+--------------------+------+--------+------+----+-------+--------------+--------------------+-----------------+----------------------+------------------------------+------------------+------------------+---------------+------------+-----+-------+--------------------+-------------+---+---------------------------+-------------------------+------------------+-----------------------+------------+\n",
            "only showing top 5 rows\n",
            "\n"
          ]
        }
      ]
    },
    {
      "cell_type": "markdown",
      "source": [
        "solution 12) *****"
      ],
      "metadata": {
        "id": "pc0xBtGnRAlj"
      }
    },
    {
      "cell_type": "markdown",
      "source": [
        "newdf.withColumn('people',newdf.adults+newdf.children+newdf.babies).show(5)"
      ],
      "metadata": {
        "id": "xVuHiMT4jJeC"
      }
    },
    {
      "cell_type": "code",
      "source": [
        "new13df = newdf.withColumn('people',newdf.adults+newdf.children+newdf.babies)"
      ],
      "metadata": {
        "id": "qlwecVrhkFsp"
      },
      "execution_count": 170,
      "outputs": []
    },
    {
      "cell_type": "code",
      "source": [
        "new13df.show(5)"
      ],
      "metadata": {
        "colab": {
          "base_uri": "https://localhost:8080/"
        },
        "id": "DHLjX8ackTkX",
        "outputId": "b4a222d7-a0cb-4e3e-a4fc-7f8ee739d72b"
      },
      "execution_count": 171,
      "outputs": [
        {
          "output_type": "stream",
          "name": "stdout",
          "text": [
            "+------------+-----------+---------+-----------------+------------------+------------------------+-------------------------+-----------------------+--------------------+------+--------+------+----+-------+--------------+--------------------+-----------------+----------------------+------------------------------+------------------+------------------+---------------+------------+-----+-------+--------------------+-------------+---+---------------------------+-------------------------+------------------+-----------------------+------------+------+\n",
            "|       hotel|is_canceled|lead_time|arrival_date_year|arrival_date_month|arrival_date_week_number|arrival_date_day_of_month|stays_in_weekend_nights|stays_in_week_nights|adults|children|babies|meal|country|market_segment|distribution_channel|is_repeated_guest|previous_cancellations|previous_bookings_not_canceled|reserved_room_type|assigned_room_type|booking_changes|deposit_type|agent|company|days_in_waiting_list|customer_type|adr|required_car_parking_spaces|total_of_special_requests|reservation_status|reservation_status_date|arrival_date|people|\n",
            "+------------+-----------+---------+-----------------+------------------+------------------------+-------------------------+-----------------------+--------------------+------+--------+------+----+-------+--------------+--------------------+-----------------+----------------------+------------------------------+------------------+------------------+---------------+------------+-----+-------+--------------------+-------------+---+---------------------------+-------------------------+------------------+-----------------------+------------+------+\n",
            "|Resort Hotel|          0|      342|             2015|              July|                      27|                        1|                      0|                   0|     2|       0|     0|  BB|    PRT|        Direct|              Direct|                0|                     0|                             0|                 C|                 C|              3|  No Deposit| null|   null|                   0|    Transient|  0|                          0|                        0|         Check-Out|             2015-07-01| 2015_July_1|   2.0|\n",
            "|Resort Hotel|          0|      737|             2015|              July|                      27|                        1|                      0|                   0|     2|       0|     0|  BB|    PRT|        Direct|              Direct|                0|                     0|                             0|                 C|                 C|              4|  No Deposit| null|   null|                   0|    Transient|  0|                          0|                        0|         Check-Out|             2015-07-01| 2015_July_1|   2.0|\n",
            "|Resort Hotel|          0|        7|             2015|              July|                      27|                        1|                      0|                   1|     1|       0|     0|  BB|    GBR|        Direct|              Direct|                0|                     0|                             0|                 A|                 C|              0|  No Deposit| null|   null|                   0|    Transient| 75|                          0|                        0|         Check-Out|             2015-07-02| 2015_July_1|   1.0|\n",
            "|Resort Hotel|          0|       13|             2015|              July|                      27|                        1|                      0|                   1|     1|       0|     0|  BB|    GBR|     Corporate|           Corporate|                0|                     0|                             0|                 A|                 A|              0|  No Deposit|  304|   null|                   0|    Transient| 75|                          0|                        0|         Check-Out|             2015-07-02| 2015_July_1|   1.0|\n",
            "|Resort Hotel|          0|       14|             2015|              July|                      27|                        1|                      0|                   2|     2|       0|     0|  BB|    GBR|     Online TA|               TA/TO|                0|                     0|                             0|                 A|                 A|              0|  No Deposit|  240|   null|                   0|    Transient| 98|                          0|                        1|         Check-Out|             2015-07-03| 2015_July_1|   2.0|\n",
            "+------------+-----------+---------+-----------------+------------------+------------------------+-------------------------+-----------------------+--------------------+------+--------+------+----+-------+--------------+--------------------+-----------------+----------------------+------------------------------+------------------+------------------+---------------+------------+-----+-------+--------------------+-------------+---+---------------------------+-------------------------+------------------+-----------------------+------------+------+\n",
            "only showing top 5 rows\n",
            "\n"
          ]
        }
      ]
    },
    {
      "cell_type": "code",
      "source": [
        "new13df.where('is_canceled=1').groupby('arrival_date').sum('people').sort('arrival_date',ascending=False).show()"
      ],
      "metadata": {
        "colab": {
          "base_uri": "https://localhost:8080/"
        },
        "id": "nd9GcHONRDZ7",
        "outputId": "5ee39354-beff-47fa-93fa-8b4f10e9ed56"
      },
      "execution_count": 172,
      "outputs": [
        {
          "output_type": "stream",
          "name": "stdout",
          "text": [
            "+------------+-----------+\n",
            "|arrival_date|sum(people)|\n",
            "+------------+-----------+\n",
            "|  2017_May_9|      159.0|\n",
            "|  2017_May_8|      151.0|\n",
            "|  2017_May_7|       99.0|\n",
            "|  2017_May_6|      212.0|\n",
            "|  2017_May_5|      253.0|\n",
            "|  2017_May_4|      294.0|\n",
            "| 2017_May_31|      161.0|\n",
            "| 2017_May_30|      299.0|\n",
            "|  2017_May_3|      238.0|\n",
            "| 2017_May_29|       61.0|\n",
            "| 2017_May_28|      188.0|\n",
            "| 2017_May_27|      128.0|\n",
            "| 2017_May_26|      179.0|\n",
            "| 2017_May_25|      257.0|\n",
            "| 2017_May_24|      236.0|\n",
            "| 2017_May_23|       97.0|\n",
            "| 2017_May_22|      141.0|\n",
            "| 2017_May_21|      108.0|\n",
            "| 2017_May_20|      236.0|\n",
            "|  2017_May_2|       78.0|\n",
            "+------------+-----------+\n",
            "only showing top 20 rows\n",
            "\n"
          ]
        }
      ]
    },
    {
      "cell_type": "markdown",
      "source": [
        "solution 13)*******"
      ],
      "metadata": {
        "id": "r35tdgg3YBIi"
      }
    },
    {
      "cell_type": "code",
      "source": [
        "new14df = df.withColumn('yearmonth', F.concat(F.col('arrival_date_year'),F.lit('_'), F.col('arrival_date_month')))"
      ],
      "metadata": {
        "id": "nqVgta9inY6a"
      },
      "execution_count": 173,
      "outputs": []
    },
    {
      "cell_type": "code",
      "source": [
        "new14df.show(5)"
      ],
      "metadata": {
        "colab": {
          "base_uri": "https://localhost:8080/"
        },
        "id": "ZUXU7t_cnlU7",
        "outputId": "5e421dd9-1c50-43ee-aed0-56c5dde6d432"
      },
      "execution_count": 174,
      "outputs": [
        {
          "output_type": "stream",
          "name": "stdout",
          "text": [
            "+------------+-----------+---------+-----------------+------------------+------------------------+-------------------------+-----------------------+--------------------+------+--------+------+----+-------+--------------+--------------------+-----------------+----------------------+------------------------------+------------------+------------------+---------------+------------+-----+-------+--------------------+-------------+---+---------------------------+-------------------------+------------------+-----------------------+---------+\n",
            "|       hotel|is_canceled|lead_time|arrival_date_year|arrival_date_month|arrival_date_week_number|arrival_date_day_of_month|stays_in_weekend_nights|stays_in_week_nights|adults|children|babies|meal|country|market_segment|distribution_channel|is_repeated_guest|previous_cancellations|previous_bookings_not_canceled|reserved_room_type|assigned_room_type|booking_changes|deposit_type|agent|company|days_in_waiting_list|customer_type|adr|required_car_parking_spaces|total_of_special_requests|reservation_status|reservation_status_date|yearmonth|\n",
            "+------------+-----------+---------+-----------------+------------------+------------------------+-------------------------+-----------------------+--------------------+------+--------+------+----+-------+--------------+--------------------+-----------------+----------------------+------------------------------+------------------+------------------+---------------+------------+-----+-------+--------------------+-------------+---+---------------------------+-------------------------+------------------+-----------------------+---------+\n",
            "|Resort Hotel|          0|      342|             2015|              July|                      27|                        1|                      0|                   0|     2|       0|     0|  BB|    PRT|        Direct|              Direct|                0|                     0|                             0|                 C|                 C|              3|  No Deposit| null|   null|                   0|    Transient|  0|                          0|                        0|         Check-Out|             2015-07-01|2015_July|\n",
            "|Resort Hotel|          0|      737|             2015|              July|                      27|                        1|                      0|                   0|     2|       0|     0|  BB|    PRT|        Direct|              Direct|                0|                     0|                             0|                 C|                 C|              4|  No Deposit| null|   null|                   0|    Transient|  0|                          0|                        0|         Check-Out|             2015-07-01|2015_July|\n",
            "|Resort Hotel|          0|        7|             2015|              July|                      27|                        1|                      0|                   1|     1|       0|     0|  BB|    GBR|        Direct|              Direct|                0|                     0|                             0|                 A|                 C|              0|  No Deposit| null|   null|                   0|    Transient| 75|                          0|                        0|         Check-Out|             2015-07-02|2015_July|\n",
            "|Resort Hotel|          0|       13|             2015|              July|                      27|                        1|                      0|                   1|     1|       0|     0|  BB|    GBR|     Corporate|           Corporate|                0|                     0|                             0|                 A|                 A|              0|  No Deposit|  304|   null|                   0|    Transient| 75|                          0|                        0|         Check-Out|             2015-07-02|2015_July|\n",
            "|Resort Hotel|          0|       14|             2015|              July|                      27|                        1|                      0|                   2|     2|       0|     0|  BB|    GBR|     Online TA|               TA/TO|                0|                     0|                             0|                 A|                 A|              0|  No Deposit|  240|   null|                   0|    Transient| 98|                          0|                        1|         Check-Out|             2015-07-03|2015_July|\n",
            "+------------+-----------+---------+-----------------+------------------+------------------------+-------------------------+-----------------------+--------------------+------+--------+------+----+-------+--------------+--------------------+-----------------+----------------------+------------------------------+------------------+------------------+---------------+------------+-----+-------+--------------------+-------------+---+---------------------------+-------------------------+------------------+-----------------------+---------+\n",
            "only showing top 5 rows\n",
            "\n"
          ]
        }
      ]
    },
    {
      "cell_type": "code",
      "source": [
        "new14_1df =new14df[['hotel','yearmonth',]]"
      ],
      "metadata": {
        "id": "v1FsHjfgnrdB"
      },
      "execution_count": 176,
      "outputs": []
    },
    {
      "cell_type": "code",
      "source": [
        "new14_1df.show()"
      ],
      "metadata": {
        "colab": {
          "base_uri": "https://localhost:8080/"
        },
        "id": "oYN2NRLPoHC7",
        "outputId": "945f0b58-1103-4e3d-c7ad-37de6bf0bdc1"
      },
      "execution_count": 177,
      "outputs": [
        {
          "output_type": "stream",
          "name": "stdout",
          "text": [
            "+------------+---------+\n",
            "|       hotel|yearmonth|\n",
            "+------------+---------+\n",
            "|Resort Hotel|2015_July|\n",
            "|Resort Hotel|2015_July|\n",
            "|Resort Hotel|2015_July|\n",
            "|Resort Hotel|2015_July|\n",
            "|Resort Hotel|2015_July|\n",
            "|Resort Hotel|2015_July|\n",
            "|Resort Hotel|2015_July|\n",
            "|Resort Hotel|2015_July|\n",
            "|Resort Hotel|2015_July|\n",
            "|Resort Hotel|2015_July|\n",
            "|Resort Hotel|2015_July|\n",
            "|Resort Hotel|2015_July|\n",
            "|Resort Hotel|2015_July|\n",
            "|Resort Hotel|2015_July|\n",
            "|Resort Hotel|2015_July|\n",
            "|Resort Hotel|2015_July|\n",
            "|Resort Hotel|2015_July|\n",
            "|Resort Hotel|2015_July|\n",
            "|Resort Hotel|2015_July|\n",
            "|Resort Hotel|2015_July|\n",
            "+------------+---------+\n",
            "only showing top 20 rows\n",
            "\n"
          ]
        }
      ]
    },
    {
      "cell_type": "code",
      "source": [
        "new14_1df.groupby('yearmonth','hotel').count().sort('yearmonth').show()"
      ],
      "metadata": {
        "colab": {
          "base_uri": "https://localhost:8080/"
        },
        "id": "wOmF-iUAoZxS",
        "outputId": "d8e6c66e-0b32-497e-e2eb-585f0b436d62"
      },
      "execution_count": 180,
      "outputs": [
        {
          "output_type": "stream",
          "name": "stdout",
          "text": [
            "+--------------+------------+-----+\n",
            "|     yearmonth|       hotel|count|\n",
            "+--------------+------------+-----+\n",
            "|   2015_August|Resort Hotel| 1409|\n",
            "|   2015_August|  City Hotel| 2480|\n",
            "| 2015_December|  City Hotel| 1654|\n",
            "| 2015_December|Resort Hotel| 1266|\n",
            "|     2015_July|  City Hotel| 1398|\n",
            "|     2015_July|Resort Hotel| 1378|\n",
            "| 2015_November|  City Hotel| 1235|\n",
            "| 2015_November|Resort Hotel| 1105|\n",
            "|  2015_October|Resort Hotel| 1571|\n",
            "|  2015_October|  City Hotel| 3386|\n",
            "|2015_September|  City Hotel| 3529|\n",
            "|2015_September|Resort Hotel| 1585|\n",
            "|    2016_April|  City Hotel| 3561|\n",
            "|    2016_April|Resort Hotel| 1867|\n",
            "|   2016_August|  City Hotel| 3378|\n",
            "|   2016_August|Resort Hotel| 1685|\n",
            "| 2016_December|  City Hotel| 2478|\n",
            "| 2016_December|Resort Hotel| 1382|\n",
            "| 2016_February|Resort Hotel| 1520|\n",
            "| 2016_February|  City Hotel| 2371|\n",
            "+--------------+------------+-----+\n",
            "only showing top 20 rows\n",
            "\n"
          ]
        }
      ]
    },
    {
      "cell_type": "markdown",
      "source": [
        "solution 14)******"
      ],
      "metadata": {
        "id": "IQTsh1HFpTZM"
      }
    },
    {
      "cell_type": "code",
      "source": [
        "new13df.filter((new13df.is_canceled==1)&(new13df.arrival_date<'2017_May_9')).groupby('arrival_date').sum('people').sort('arrival_date',ascending=False).show(7)"
      ],
      "metadata": {
        "colab": {
          "base_uri": "https://localhost:8080/"
        },
        "id": "nqufIO97pV_T",
        "outputId": "f32028d7-5892-4f51-fa5c-984026b33640"
      },
      "execution_count": 187,
      "outputs": [
        {
          "output_type": "stream",
          "name": "stdout",
          "text": [
            "+------------+-----------+\n",
            "|arrival_date|sum(people)|\n",
            "+------------+-----------+\n",
            "|  2017_May_8|      151.0|\n",
            "|  2017_May_7|       99.0|\n",
            "|  2017_May_6|      212.0|\n",
            "|  2017_May_5|      253.0|\n",
            "|  2017_May_4|      294.0|\n",
            "| 2017_May_31|      161.0|\n",
            "| 2017_May_30|      299.0|\n",
            "+------------+-----------+\n",
            "only showing top 7 rows\n",
            "\n"
          ]
        }
      ]
    },
    {
      "cell_type": "markdown",
      "source": [
        "solution 15)*****"
      ],
      "metadata": {
        "id": "VXscTGQ2qaK2"
      }
    },
    {
      "cell_type": "code",
      "source": [
        ""
      ],
      "metadata": {
        "id": "WsANvm03qdGe"
      },
      "execution_count": null,
      "outputs": []
    }
  ]
}