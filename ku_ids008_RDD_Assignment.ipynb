{
  "nbformat": 4,
  "nbformat_minor": 0,
  "metadata": {
    "colab": {
      "name": "ku-ids008-RDD Assignment.ipynb",
      "provenance": [],
      "collapsed_sections": [],
      "authorship_tag": "ABX9TyMvJGthzrMl5hjz+aWsajIa",
      "include_colab_link": true
    },
    "kernelspec": {
      "name": "python3",
      "display_name": "Python 3"
    },
    "language_info": {
      "name": "python"
    }
  },
  "cells": [
    {
      "cell_type": "markdown",
      "metadata": {
        "id": "view-in-github",
        "colab_type": "text"
      },
      "source": [
        "<a href=\"https://colab.research.google.com/github/somkiatth/git/blob/master/ku_ids008_RDD_Assignment.ipynb\" target=\"_parent\"><img src=\"https://colab.research.google.com/assets/colab-badge.svg\" alt=\"Open In Colab\"/></a>"
      ]
    },
    {
      "cell_type": "code",
      "execution_count": 2,
      "metadata": {
        "colab": {
          "base_uri": "https://localhost:8080/"
        },
        "id": "tigVomGJxUcG",
        "outputId": "1cfdbf77-b07d-42d4-aed6-8ea5229379ca"
      },
      "outputs": [
        {
          "output_type": "stream",
          "name": "stdout",
          "text": [
            "Looking in indexes: https://pypi.org/simple, https://us-python.pkg.dev/colab-wheels/public/simple/\n",
            "Collecting pyspark\n",
            "  Downloading pyspark-3.3.0.tar.gz (281.3 MB)\n",
            "\u001b[K     |████████████████████████████████| 281.3 MB 38 kB/s \n",
            "\u001b[?25hCollecting py4j==0.10.9.5\n",
            "  Downloading py4j-0.10.9.5-py2.py3-none-any.whl (199 kB)\n",
            "\u001b[K     |████████████████████████████████| 199 kB 45.0 MB/s \n",
            "\u001b[?25hBuilding wheels for collected packages: pyspark\n",
            "  Building wheel for pyspark (setup.py) ... \u001b[?25l\u001b[?25hdone\n",
            "  Created wheel for pyspark: filename=pyspark-3.3.0-py2.py3-none-any.whl size=281764026 sha256=43ea69be8ec8595a42a0f4389d48d1fdd5ca9f6392467563ae04930d22d4b79f\n",
            "  Stored in directory: /root/.cache/pip/wheels/7a/8e/1b/f73a52650d2e5f337708d9f6a1750d451a7349a867f928b885\n",
            "Successfully built pyspark\n",
            "Installing collected packages: py4j, pyspark\n",
            "Successfully installed py4j-0.10.9.5 pyspark-3.3.0\n"
          ]
        }
      ],
      "source": [
        "!pip install pyspark"
      ]
    },
    {
      "cell_type": "code",
      "source": [
        "from pyspark.sql import SparkSession"
      ],
      "metadata": {
        "id": "3aSY9oHJ0ztN"
      },
      "execution_count": 3,
      "outputs": []
    },
    {
      "cell_type": "code",
      "source": [
        "spark=SparkSession.builder.appName(\"demo\").getOrCreate()"
      ],
      "metadata": {
        "id": "a79nSzxF1O5l"
      },
      "execution_count": 4,
      "outputs": []
    },
    {
      "cell_type": "code",
      "source": [
        "file_path =\"/content/rdd_problem.csv\"\n",
        "sp_rdd=spark.sparkContext.textFile(file_path)\n"
      ],
      "metadata": {
        "id": "qpuZHs1SxaTP"
      },
      "execution_count": 5,
      "outputs": []
    },
    {
      "cell_type": "code",
      "source": [
        "sp_rdd.take(5)"
      ],
      "metadata": {
        "colab": {
          "base_uri": "https://localhost:8080/"
        },
        "id": "Nr14y8uE1K4E",
        "outputId": "8b07ab7e-9474-4e61-b07c-325b0ab321d8"
      },
      "execution_count": 6,
      "outputs": [
        {
          "output_type": "execute_result",
          "data": {
            "text/plain": [
              "['0,B,93', '1,B,42', '2,C,37', '3,B,83', '4,C,93']"
            ]
          },
          "metadata": {},
          "execution_count": 6
        }
      ]
    },
    {
      "cell_type": "code",
      "source": [
        "sp_x1_rdd=sp_rdd.flatMap(lambda x:x.split())\n",
        "sp_x1_rdd.take(10)"
      ],
      "metadata": {
        "colab": {
          "base_uri": "https://localhost:8080/"
        },
        "id": "9OzsmAG2HJ5T",
        "outputId": "f9d84aba-e02e-4821-f4bc-0bee94131f83"
      },
      "execution_count": 7,
      "outputs": [
        {
          "output_type": "execute_result",
          "data": {
            "text/plain": [
              "['0,B,93',\n",
              " '1,B,42',\n",
              " '2,C,37',\n",
              " '3,B,83',\n",
              " '4,C,93',\n",
              " '5,B,65',\n",
              " '6,B,81',\n",
              " '7,C,75',\n",
              " '8,C,93',\n",
              " '9,C,100']"
            ]
          },
          "metadata": {},
          "execution_count": 7
        }
      ]
    },
    {
      "cell_type": "code",
      "source": [
        "sp_x_rdd=sp_rdd.flatMap(lambda x:x.split(\",\"))\n",
        "sp_x_rdd.take(10)"
      ],
      "metadata": {
        "colab": {
          "base_uri": "https://localhost:8080/"
        },
        "id": "ccPlNcwl1mIm",
        "outputId": "2c1c1160-b775-425a-b927-787963de8811"
      },
      "execution_count": 8,
      "outputs": [
        {
          "output_type": "execute_result",
          "data": {
            "text/plain": [
              "['0', 'B', '93', '1', 'B', '42', '2', 'C', '37', '3']"
            ]
          },
          "metadata": {},
          "execution_count": 8
        }
      ]
    },
    {
      "cell_type": "code",
      "source": [
        "sp_x_rdd.count()"
      ],
      "metadata": {
        "colab": {
          "base_uri": "https://localhost:8080/"
        },
        "id": "qD-h0Ks56ow0",
        "outputId": "4062ad3c-d705-442e-8090-d487885bc117"
      },
      "execution_count": 9,
      "outputs": [
        {
          "output_type": "execute_result",
          "data": {
            "text/plain": [
              "1500000"
            ]
          },
          "metadata": {},
          "execution_count": 9
        }
      ]
    },
    {
      "cell_type": "code",
      "source": [
        "def tag_100(x):\n",
        "  if x==\"100\":\n",
        "    return 1\n",
        "  else:\n",
        "    return 0\n"
      ],
      "metadata": {
        "id": "lJlOOqto4ThH"
      },
      "execution_count": 10,
      "outputs": []
    },
    {
      "cell_type": "code",
      "source": [
        "sp_x_rdd.map(tag_100).reduce(lambda x,y: x+y)"
      ],
      "metadata": {
        "colab": {
          "base_uri": "https://localhost:8080/"
        },
        "id": "xoVeu2pI5aS5",
        "outputId": "6c457353-8aa2-4d93-f0cf-5170184dc432"
      },
      "execution_count": 13,
      "outputs": [
        {
          "output_type": "execute_result",
          "data": {
            "text/plain": [
              "7080"
            ]
          },
          "metadata": {},
          "execution_count": 13
        }
      ]
    },
    {
      "cell_type": "markdown",
      "source": [
        "solution (a) ---------------------------------------"
      ],
      "metadata": {
        "id": "dDuM4edd64rp"
      }
    },
    {
      "cell_type": "code",
      "source": [
        "sp_group_rdd=sp_x_rdd.map(lambda x:(x,1))\n",
        "sp_group_rdd.take(5)"
      ],
      "metadata": {
        "colab": {
          "base_uri": "https://localhost:8080/"
        },
        "id": "mICbDQnB64Eb",
        "outputId": "05c8fab5-8138-446e-dc55-02124fc6dedc"
      },
      "execution_count": 14,
      "outputs": [
        {
          "output_type": "execute_result",
          "data": {
            "text/plain": [
              "[('0', 1), ('B', 1), ('93', 1), ('1', 1), ('B', 1)]"
            ]
          },
          "metadata": {},
          "execution_count": 14
        }
      ]
    },
    {
      "cell_type": "code",
      "source": [
        "sp_group1_rdd=sp_group_rdd.groupByKey()\n",
        "sp_group1_rdd.take(10)"
      ],
      "metadata": {
        "colab": {
          "base_uri": "https://localhost:8080/"
        },
        "id": "szt93sNl7Nqf",
        "outputId": "3b0ccd3e-14bf-464d-bf8a-a7e71658f231"
      },
      "execution_count": 15,
      "outputs": [
        {
          "output_type": "execute_result",
          "data": {
            "text/plain": [
              "[('0', <pyspark.resultiterable.ResultIterable at 0x7fb696729210>),\n",
              " ('93', <pyspark.resultiterable.ResultIterable at 0x7fb696729790>),\n",
              " ('1', <pyspark.resultiterable.ResultIterable at 0x7fb696729a50>),\n",
              " ('C', <pyspark.resultiterable.ResultIterable at 0x7fb696729450>),\n",
              " ('83', <pyspark.resultiterable.ResultIterable at 0x7fb6967294d0>),\n",
              " ('4', <pyspark.resultiterable.ResultIterable at 0x7fb696729c50>),\n",
              " ('8', <pyspark.resultiterable.ResultIterable at 0x7fb696729d50>),\n",
              " ('9', <pyspark.resultiterable.ResultIterable at 0x7fb6967297d0>),\n",
              " ('100', <pyspark.resultiterable.ResultIterable at 0x7fb696729e50>),\n",
              " ('10', <pyspark.resultiterable.ResultIterable at 0x7fb696729910>)]"
            ]
          },
          "metadata": {},
          "execution_count": 15
        }
      ]
    },
    {
      "cell_type": "code",
      "source": [
        "sp_test_rdd=sp_group1_rdd.map(lambda x: (x[0], sum(x[1])))"
      ],
      "metadata": {
        "id": "3jjkSGMF7laK"
      },
      "execution_count": 16,
      "outputs": []
    },
    {
      "cell_type": "code",
      "source": [
        "sp_test_rdd.take(10)"
      ],
      "metadata": {
        "colab": {
          "base_uri": "https://localhost:8080/"
        },
        "id": "NjoXlS0FBaNL",
        "outputId": "66773be8-d518-4d74-ebe1-84225bc95602"
      },
      "execution_count": 17,
      "outputs": [
        {
          "output_type": "execute_result",
          "data": {
            "text/plain": [
              "[('0', 1),\n",
              " ('93', 6976),\n",
              " ('1', 1),\n",
              " ('C', 125202),\n",
              " ('83', 7233),\n",
              " ('4', 1),\n",
              " ('8', 1),\n",
              " ('9', 1),\n",
              " ('100', 7080),\n",
              " ('10', 1)]"
            ]
          },
          "metadata": {},
          "execution_count": 17
        }
      ]
    },
    {
      "cell_type": "code",
      "source": [
        "sp_test_rdd.sortByKey(ascending=False).take(3)"
      ],
      "metadata": {
        "colab": {
          "base_uri": "https://localhost:8080/"
        },
        "id": "YjiyAzBbB3Mu",
        "outputId": "7e1a96e4-f0ad-49cc-bd48-f4f4580a8f6c"
      },
      "execution_count": 18,
      "outputs": [
        {
          "output_type": "execute_result",
          "data": {
            "text/plain": [
              "[('C', 125202), ('B', 174806), ('A', 199992)]"
            ]
          },
          "metadata": {},
          "execution_count": 18
        }
      ]
    },
    {
      "cell_type": "code",
      "source": [
        "sp_group2_rdd=sp_group_rdd.reduceByKey(lambda x,y: x+y)\n",
        "sp_group2_rdd.take(10)"
      ],
      "metadata": {
        "colab": {
          "base_uri": "https://localhost:8080/"
        },
        "id": "D4D_8YSj8idw",
        "outputId": "001e0e48-c142-4ef7-b6b5-fec69c097452"
      },
      "execution_count": 19,
      "outputs": [
        {
          "output_type": "execute_result",
          "data": {
            "text/plain": [
              "[('0', 1),\n",
              " ('93', 6976),\n",
              " ('1', 1),\n",
              " ('C', 125202),\n",
              " ('83', 7233),\n",
              " ('4', 1),\n",
              " ('8', 1),\n",
              " ('9', 1),\n",
              " ('100', 7080),\n",
              " ('10', 1)]"
            ]
          },
          "metadata": {},
          "execution_count": 19
        }
      ]
    },
    {
      "cell_type": "markdown",
      "source": [
        "solution เดียวกัน"
      ],
      "metadata": {
        "id": "-u3D5Ly-8-Fn"
      }
    },
    {
      "cell_type": "code",
      "source": [
        "sp_group2_rdd.sortByKey(ascending=False).take(3)"
      ],
      "metadata": {
        "colab": {
          "base_uri": "https://localhost:8080/"
        },
        "id": "7l4Jcck89EBI",
        "outputId": "41d86384-968d-4299-d84c-b83bec91c104"
      },
      "execution_count": 20,
      "outputs": [
        {
          "output_type": "execute_result",
          "data": {
            "text/plain": [
              "[('C', 125202), ('B', 174806), ('A', 199992)]"
            ]
          },
          "metadata": {},
          "execution_count": 20
        }
      ]
    },
    {
      "cell_type": "markdown",
      "source": [
        "solution (b) ------------------------------------"
      ],
      "metadata": {
        "id": "FBcPHs0h_Qb3"
      }
    }
  ]
}