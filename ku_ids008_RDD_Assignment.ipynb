{
  "nbformat": 4,
  "nbformat_minor": 0,
  "metadata": {
    "colab": {
      "name": "ku-ids008-RDD Assignment.ipynb",
      "provenance": [],
      "collapsed_sections": [],
      "authorship_tag": "ABX9TyPmo46uO1C9yqanN9yB9hmQ",
      "include_colab_link": true
    },
    "kernelspec": {
      "name": "python3",
      "display_name": "Python 3"
    },
    "language_info": {
      "name": "python"
    }
  },
  "cells": [
    {
      "cell_type": "markdown",
      "metadata": {
        "id": "view-in-github",
        "colab_type": "text"
      },
      "source": [
        "<a href=\"https://colab.research.google.com/github/somkiatth/git/blob/master/ku_ids008_RDD_Assignment.ipynb\" target=\"_parent\"><img src=\"https://colab.research.google.com/assets/colab-badge.svg\" alt=\"Open In Colab\"/></a>"
      ]
    },
    {
      "cell_type": "code",
      "execution_count": null,
      "metadata": {
        "colab": {
          "base_uri": "https://localhost:8080/"
        },
        "id": "tigVomGJxUcG",
        "outputId": "2c87e012-867b-4473-d959-9787a8f24149"
      },
      "outputs": [
        {
          "output_type": "stream",
          "name": "stdout",
          "text": [
            "Looking in indexes: https://pypi.org/simple, https://us-python.pkg.dev/colab-wheels/public/simple/\n",
            "Collecting pyspark\n",
            "  Downloading pyspark-3.3.0.tar.gz (281.3 MB)\n",
            "\u001b[K     |████████████████████████████████| 281.3 MB 56 kB/s \n",
            "\u001b[?25hCollecting py4j==0.10.9.5\n",
            "  Downloading py4j-0.10.9.5-py2.py3-none-any.whl (199 kB)\n",
            "\u001b[K     |████████████████████████████████| 199 kB 65.7 MB/s \n",
            "\u001b[?25hBuilding wheels for collected packages: pyspark\n",
            "  Building wheel for pyspark (setup.py) ... \u001b[?25l\u001b[?25hdone\n",
            "  Created wheel for pyspark: filename=pyspark-3.3.0-py2.py3-none-any.whl size=281764026 sha256=7a8aa064f1d283316a4f0c786db7fa5e618dd550246abce540f8911d60cf507c\n",
            "  Stored in directory: /root/.cache/pip/wheels/7a/8e/1b/f73a52650d2e5f337708d9f6a1750d451a7349a867f928b885\n",
            "Successfully built pyspark\n",
            "Installing collected packages: py4j, pyspark\n",
            "Successfully installed py4j-0.10.9.5 pyspark-3.3.0\n"
          ]
        }
      ],
      "source": [
        "!pip install pyspark"
      ]
    },
    {
      "cell_type": "code",
      "source": [
        "from pyspark.sql import SparkSession"
      ],
      "metadata": {
        "id": "3aSY9oHJ0ztN"
      },
      "execution_count": null,
      "outputs": []
    },
    {
      "cell_type": "code",
      "source": [
        "spark=SparkSession.builder.appName(\"demo\").getOrCreate()"
      ],
      "metadata": {
        "id": "a79nSzxF1O5l"
      },
      "execution_count": null,
      "outputs": []
    },
    {
      "cell_type": "code",
      "source": [
        "file_path =\"/content/rdd_problem.csv\"\n",
        "sp_rdd=spark.sparkContext.textFile(file_path)\n"
      ],
      "metadata": {
        "id": "qpuZHs1SxaTP"
      },
      "execution_count": null,
      "outputs": []
    },
    {
      "cell_type": "code",
      "source": [
        "sp_rdd.take(5)"
      ],
      "metadata": {
        "colab": {
          "base_uri": "https://localhost:8080/"
        },
        "id": "Nr14y8uE1K4E",
        "outputId": "526ae6dd-ef94-465e-d7d6-ec7601f9f8bf"
      },
      "execution_count": null,
      "outputs": [
        {
          "output_type": "execute_result",
          "data": {
            "text/plain": [
              "['0,B,93', '1,B,42', '2,C,37', '3,B,83', '4,C,93']"
            ]
          },
          "metadata": {},
          "execution_count": 10
        }
      ]
    },
    {
      "cell_type": "code",
      "source": [
        "sp_x1_rdd=sp_rdd.flatMap(lambda x:x.split())\n",
        "sp_x1_rdd.take(10)"
      ],
      "metadata": {
        "colab": {
          "base_uri": "https://localhost:8080/"
        },
        "id": "9OzsmAG2HJ5T",
        "outputId": "bde40c3e-f10b-47ca-a9b0-4660a8350c17"
      },
      "execution_count": null,
      "outputs": [
        {
          "output_type": "execute_result",
          "data": {
            "text/plain": [
              "['0,B,93',\n",
              " '1,B,42',\n",
              " '2,C,37',\n",
              " '3,B,83',\n",
              " '4,C,93',\n",
              " '5,B,65',\n",
              " '6,B,81',\n",
              " '7,C,75',\n",
              " '8,C,93',\n",
              " '9,C,100']"
            ]
          },
          "metadata": {},
          "execution_count": 84
        }
      ]
    },
    {
      "cell_type": "code",
      "source": [
        "sp_x_rdd=sp_rdd.flatMap(lambda x:x.split(\",\"))\n",
        "sp_x_rdd.take(10)"
      ],
      "metadata": {
        "colab": {
          "base_uri": "https://localhost:8080/"
        },
        "id": "ccPlNcwl1mIm",
        "outputId": "179a6911-f27f-4931-e01c-7285f8e4ba7c"
      },
      "execution_count": null,
      "outputs": [
        {
          "output_type": "execute_result",
          "data": {
            "text/plain": [
              "['0', 'B', '93', '1', 'B', '42', '2', 'C', '37', '3']"
            ]
          },
          "metadata": {},
          "execution_count": 85
        }
      ]
    },
    {
      "cell_type": "code",
      "source": [
        "sp_x_rdd.count()"
      ],
      "metadata": {
        "colab": {
          "base_uri": "https://localhost:8080/"
        },
        "id": "qD-h0Ks56ow0",
        "outputId": "342bccaa-b347-4dc3-f6ca-528c28697912"
      },
      "execution_count": null,
      "outputs": [
        {
          "output_type": "execute_result",
          "data": {
            "text/plain": [
              "2735385"
            ]
          },
          "metadata": {},
          "execution_count": 38
        }
      ]
    },
    {
      "cell_type": "code",
      "source": [
        "def tag_100(x):\n",
        "  if x==\"100\":\n",
        "    return 1\n",
        "  else:\n",
        "    return 0\n"
      ],
      "metadata": {
        "id": "lJlOOqto4ThH"
      },
      "execution_count": null,
      "outputs": []
    },
    {
      "cell_type": "code",
      "source": [
        "sp_x_rdd.map(tag_100).reduce(lambda x,y: x+y)"
      ],
      "metadata": {
        "colab": {
          "base_uri": "https://localhost:8080/"
        },
        "id": "xoVeu2pI5aS5",
        "outputId": "abdfa1a0-e1c4-4d8c-be80-54610bea8492"
      },
      "execution_count": null,
      "outputs": [
        {
          "output_type": "execute_result",
          "data": {
            "text/plain": [
              "12933"
            ]
          },
          "metadata": {},
          "execution_count": 47
        }
      ]
    },
    {
      "cell_type": "markdown",
      "source": [
        "solution (a) ---------------------------------------"
      ],
      "metadata": {
        "id": "dDuM4edd64rp"
      }
    },
    {
      "cell_type": "code",
      "source": [
        "sp_group_rdd=sp_x_rdd.map(lambda x:(x,1))\n",
        "sp_group_rdd.take(5)"
      ],
      "metadata": {
        "colab": {
          "base_uri": "https://localhost:8080/"
        },
        "id": "mICbDQnB64Eb",
        "outputId": "496dc077-1584-458c-a4f8-9f1926e59244"
      },
      "execution_count": null,
      "outputs": [
        {
          "output_type": "execute_result",
          "data": {
            "text/plain": [
              "[('0', 1), ('B', 1), ('93', 1), ('1', 1), ('B', 1)]"
            ]
          },
          "metadata": {},
          "execution_count": 64
        }
      ]
    },
    {
      "cell_type": "code",
      "source": [
        "sp_group1_rdd=sp_group_rdd.groupByKey()\n",
        "sp_group1_rdd.take(10)"
      ],
      "metadata": {
        "colab": {
          "base_uri": "https://localhost:8080/"
        },
        "id": "szt93sNl7Nqf",
        "outputId": "28bfa8a3-f6c5-4b06-ca63-477a0e691886"
      },
      "execution_count": null,
      "outputs": [
        {
          "output_type": "execute_result",
          "data": {
            "text/plain": [
              "[('0', <pyspark.resultiterable.ResultIterable at 0x7ff9bf1eab10>),\n",
              " ('93', <pyspark.resultiterable.ResultIterable at 0x7ff9bf1ea790>),\n",
              " ('1', <pyspark.resultiterable.ResultIterable at 0x7ff9b6192450>),\n",
              " ('C', <pyspark.resultiterable.ResultIterable at 0x7ff9b6192f90>),\n",
              " ('83', <pyspark.resultiterable.ResultIterable at 0x7ff9b6192390>),\n",
              " ('4', <pyspark.resultiterable.ResultIterable at 0x7ff9b61925d0>),\n",
              " ('8', <pyspark.resultiterable.ResultIterable at 0x7ff9b6192850>),\n",
              " ('9', <pyspark.resultiterable.ResultIterable at 0x7ff9b6192650>),\n",
              " ('100', <pyspark.resultiterable.ResultIterable at 0x7ff9b6192f10>),\n",
              " ('10', <pyspark.resultiterable.ResultIterable at 0x7ff9b6192810>)]"
            ]
          },
          "metadata": {},
          "execution_count": 43
        }
      ]
    },
    {
      "cell_type": "code",
      "source": [
        "sp_test_rdd=sp_group1_rdd.map(lambda x: (x[0], sum(x[1])))"
      ],
      "metadata": {
        "id": "3jjkSGMF7laK"
      },
      "execution_count": null,
      "outputs": []
    },
    {
      "cell_type": "code",
      "source": [
        "sp_test_rdd.take(10)"
      ],
      "metadata": {
        "colab": {
          "base_uri": "https://localhost:8080/"
        },
        "id": "NjoXlS0FBaNL",
        "outputId": "bc279731-64d2-47a6-ab7e-f7c9b297e917"
      },
      "execution_count": null,
      "outputs": [
        {
          "output_type": "execute_result",
          "data": {
            "text/plain": [
              "[('0', 1),\n",
              " ('93', 12720),\n",
              " ('1', 1),\n",
              " ('C', 228256),\n",
              " ('83', 13198),\n",
              " ('4', 1),\n",
              " ('8', 1),\n",
              " ('9', 1),\n",
              " ('100', 12933),\n",
              " ('10', 1)]"
            ]
          },
          "metadata": {},
          "execution_count": 68
        }
      ]
    },
    {
      "cell_type": "code",
      "source": [
        "sp_test_rdd.sortByKey(ascending=False).take(3)"
      ],
      "metadata": {
        "colab": {
          "base_uri": "https://localhost:8080/"
        },
        "id": "YjiyAzBbB3Mu",
        "outputId": "3eadfb32-abf2-43d3-e14b-cd0bd254208c"
      },
      "execution_count": null,
      "outputs": [
        {
          "output_type": "execute_result",
          "data": {
            "text/plain": [
              "[('C', 228256), ('B', 318890), ('A', 364649)]"
            ]
          },
          "metadata": {},
          "execution_count": 70
        }
      ]
    },
    {
      "cell_type": "code",
      "source": [
        "sp_group2_rdd=sp_group_rdd.reduceByKey(lambda x,y: x+y)\n",
        "sp_group2_rdd.take(10)"
      ],
      "metadata": {
        "colab": {
          "base_uri": "https://localhost:8080/"
        },
        "id": "D4D_8YSj8idw",
        "outputId": "dd88ce3c-8dc5-4231-d84a-a1393fd6c62c"
      },
      "execution_count": null,
      "outputs": [
        {
          "output_type": "execute_result",
          "data": {
            "text/plain": [
              "[('0', 1),\n",
              " ('93', 12720),\n",
              " ('1', 1),\n",
              " ('C', 228256),\n",
              " ('83', 13198),\n",
              " ('4', 1),\n",
              " ('8', 1),\n",
              " ('9', 1),\n",
              " ('100', 12933),\n",
              " ('10', 1)]"
            ]
          },
          "metadata": {},
          "execution_count": 51
        }
      ]
    },
    {
      "cell_type": "markdown",
      "source": [
        "solution เดียวกัน"
      ],
      "metadata": {
        "id": "-u3D5Ly-8-Fn"
      }
    },
    {
      "cell_type": "code",
      "source": [
        "sp_group2_rdd.sortByKey(ascending=False).take(3)"
      ],
      "metadata": {
        "colab": {
          "base_uri": "https://localhost:8080/"
        },
        "id": "7l4Jcck89EBI",
        "outputId": "65dceb8f-1421-42b9-9475-65393de115f4"
      },
      "execution_count": null,
      "outputs": [
        {
          "output_type": "execute_result",
          "data": {
            "text/plain": [
              "[('C', 228256), ('B', 318890), ('A', 364649)]"
            ]
          },
          "metadata": {},
          "execution_count": 59
        }
      ]
    },
    {
      "cell_type": "markdown",
      "source": [
        "solution (b) ------------------------------------"
      ],
      "metadata": {
        "id": "FBcPHs0h_Qb3"
      }
    },
    {
      "cell_type": "code",
      "source": [
        "import pandas as pd\n"
      ],
      "metadata": {
        "id": "_fogP9YxR6WW"
      },
      "execution_count": null,
      "outputs": []
    }
  ]
}