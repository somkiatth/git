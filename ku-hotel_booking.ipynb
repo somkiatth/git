{
  "nbformat": 4,
  "nbformat_minor": 0,
  "metadata": {
    "colab": {
      "name": "hotel_booking.ipynb",
      "provenance": [],
      "collapsed_sections": [],
      "include_colab_link": true
    },
    "kernelspec": {
      "name": "python3",
      "display_name": "Python 3"
    },
    "language_info": {
      "name": "python"
    }
  },
  "cells": [
    {
      "cell_type": "markdown",
      "metadata": {
        "id": "view-in-github",
        "colab_type": "text"
      },
      "source": [
        "<a href=\"https://colab.research.google.com/github/somkiatth/git/blob/master/ku-hotel_booking.ipynb\" target=\"_parent\"><img src=\"https://colab.research.google.com/assets/colab-badge.svg\" alt=\"Open In Colab\"/></a>"
      ]
    },
    {
      "cell_type": "markdown",
      "source": [
        "# 1. ลง PySpark"
      ],
      "metadata": {
        "id": "O7At6fmhS2Q_"
      }
    },
    {
      "cell_type": "code",
      "execution_count": null,
      "metadata": {
        "colab": {
          "base_uri": "https://localhost:8080/"
        },
        "id": "YWkBNOjFRxuD",
        "outputId": "43fd2487-c769-4c53-cfb2-88aca0c55878"
      },
      "outputs": [
        {
          "output_type": "stream",
          "name": "stdout",
          "text": [
            "Looking in indexes: https://pypi.org/simple, https://us-python.pkg.dev/colab-wheels/public/simple/\n",
            "Collecting pyspark\n",
            "  Downloading pyspark-3.3.0.tar.gz (281.3 MB)\n",
            "\u001b[K     |████████████████████████████████| 281.3 MB 44 kB/s \n",
            "\u001b[?25hCollecting py4j==0.10.9.5\n",
            "  Downloading py4j-0.10.9.5-py2.py3-none-any.whl (199 kB)\n",
            "\u001b[K     |████████████████████████████████| 199 kB 69.3 MB/s \n",
            "\u001b[?25hBuilding wheels for collected packages: pyspark\n",
            "  Building wheel for pyspark (setup.py) ... \u001b[?25l\u001b[?25hdone\n",
            "  Created wheel for pyspark: filename=pyspark-3.3.0-py2.py3-none-any.whl size=281764026 sha256=5757b345bca3a9d52f677463cbdd9a2a5bb5b9b4d91199cf538a5bc603d35aef\n",
            "  Stored in directory: /root/.cache/pip/wheels/7a/8e/1b/f73a52650d2e5f337708d9f6a1750d451a7349a867f928b885\n",
            "Successfully built pyspark\n",
            "Installing collected packages: py4j, pyspark\n",
            "Successfully installed py4j-0.10.9.5 pyspark-3.3.0\n"
          ]
        }
      ],
      "source": [
        "!pip install pyspark"
      ]
    },
    {
      "cell_type": "code",
      "source": [
        "from pyspark.sql import SparkSession"
      ],
      "metadata": {
        "id": "Vyw1ywarTII5"
      },
      "execution_count": null,
      "outputs": []
    },
    {
      "cell_type": "code",
      "source": [
        "spark = SparkSession.builder.appName('hotel_booking').getOrCreate()"
      ],
      "metadata": {
        "id": "6eleNFOJTOPF"
      },
      "execution_count": null,
      "outputs": []
    },
    {
      "cell_type": "markdown",
      "source": [
        "# 2. เปิดไฟล์สร้างเป็นตาราง"
      ],
      "metadata": {
        "id": "KYfRjSUjS1o9"
      }
    },
    {
      "cell_type": "code",
      "source": [
        "df = spark.read.csv('/content/drive/MyDrive/Datasets/hotel_bookings.csv',\n",
        "                     header=True, inferSchema=True)"
      ],
      "metadata": {
        "id": "_5TuJn-BSGyK"
      },
      "execution_count": null,
      "outputs": []
    },
    {
      "cell_type": "code",
      "source": [
        "df.printSchema()"
      ],
      "metadata": {
        "colab": {
          "base_uri": "https://localhost:8080/"
        },
        "id": "xASy-6vHTaN0",
        "outputId": "298753ae-e8aa-418d-9d11-b32c0e1b1d48"
      },
      "execution_count": null,
      "outputs": [
        {
          "output_type": "stream",
          "name": "stdout",
          "text": [
            "root\n",
            " |-- hotel: string (nullable = true)\n",
            " |-- is_canceled: integer (nullable = true)\n",
            " |-- lead_time: integer (nullable = true)\n",
            " |-- arrival_date_year: integer (nullable = true)\n",
            " |-- arrival_date_month: string (nullable = true)\n",
            " |-- arrival_date_week_number: integer (nullable = true)\n",
            " |-- arrival_date_day_of_month: integer (nullable = true)\n",
            " |-- stays_in_weekend_nights: integer (nullable = true)\n",
            " |-- stays_in_week_nights: integer (nullable = true)\n",
            " |-- adults: integer (nullable = true)\n",
            " |-- children: string (nullable = true)\n",
            " |-- babies: integer (nullable = true)\n",
            " |-- meal: string (nullable = true)\n",
            " |-- country: string (nullable = true)\n",
            " |-- market_segment: string (nullable = true)\n",
            " |-- distribution_channel: string (nullable = true)\n",
            " |-- is_repeated_guest: integer (nullable = true)\n",
            " |-- previous_cancellations: integer (nullable = true)\n",
            " |-- previous_bookings_not_canceled: integer (nullable = true)\n",
            " |-- reserved_room_type: string (nullable = true)\n",
            " |-- assigned_room_type: string (nullable = true)\n",
            " |-- booking_changes: integer (nullable = true)\n",
            " |-- deposit_type: string (nullable = true)\n",
            " |-- agent: string (nullable = true)\n",
            " |-- company: string (nullable = true)\n",
            " |-- days_in_waiting_list: integer (nullable = true)\n",
            " |-- customer_type: string (nullable = true)\n",
            " |-- adr: double (nullable = true)\n",
            " |-- required_car_parking_spaces: integer (nullable = true)\n",
            " |-- total_of_special_requests: integer (nullable = true)\n",
            " |-- reservation_status: string (nullable = true)\n",
            " |-- reservation_status_date: timestamp (nullable = true)\n",
            "\n"
          ]
        }
      ]
    },
    {
      "cell_type": "code",
      "source": [
        "df.count()"
      ],
      "metadata": {
        "colab": {
          "base_uri": "https://localhost:8080/"
        },
        "id": "P-weTLEWUkgw",
        "outputId": "9815ac89-0900-4e05-fe04-6078c2afc723"
      },
      "execution_count": null,
      "outputs": [
        {
          "output_type": "execute_result",
          "data": {
            "text/plain": [
              "119390"
            ]
          },
          "metadata": {},
          "execution_count": 6
        }
      ]
    },
    {
      "cell_type": "code",
      "source": [
        "len(df.columns)"
      ],
      "metadata": {
        "colab": {
          "base_uri": "https://localhost:8080/"
        },
        "id": "eXqWTC1_UnWJ",
        "outputId": "d65d8a4b-226c-4ae7-94e1-03d76e8bbfc7"
      },
      "execution_count": null,
      "outputs": [
        {
          "output_type": "execute_result",
          "data": {
            "text/plain": [
              "32"
            ]
          },
          "metadata": {},
          "execution_count": 7
        }
      ]
    },
    {
      "cell_type": "markdown",
      "source": [
        "# 3.\tแสดงข้อมูล 5 แถวแรกของตารางและคอลัมน์ชื่อ arrival_date_year, arrival_date_month และ arrival_date_day_of_month"
      ],
      "metadata": {
        "id": "raZLU5JvT8F_"
      }
    },
    {
      "cell_type": "code",
      "source": [
        "df.select('arrival_date_year', 'arrival_date_month', 'arrival_date_day_of_month').show(5)"
      ],
      "metadata": {
        "colab": {
          "base_uri": "https://localhost:8080/"
        },
        "id": "b_vDDXuUTc-A",
        "outputId": "7c12724b-659c-479b-c3a3-71d8686818b9"
      },
      "execution_count": null,
      "outputs": [
        {
          "output_type": "stream",
          "name": "stdout",
          "text": [
            "+-----------------+------------------+-------------------------+\n",
            "|arrival_date_year|arrival_date_month|arrival_date_day_of_month|\n",
            "+-----------------+------------------+-------------------------+\n",
            "|             2015|              July|                        1|\n",
            "|             2015|              July|                        1|\n",
            "|             2015|              July|                        1|\n",
            "|             2015|              July|                        1|\n",
            "|             2015|              July|                        1|\n",
            "+-----------------+------------------+-------------------------+\n",
            "only showing top 5 rows\n",
            "\n"
          ]
        }
      ]
    },
    {
      "cell_type": "markdown",
      "source": [
        "# 4.\tลูกค้าที่จองล่วงหน้า (lead_time) มากกว่า 365 วันมีกี่ราย"
      ],
      "metadata": {
        "id": "-oaKOD7cUKVA"
      }
    },
    {
      "cell_type": "code",
      "source": [
        "from pyspark.sql import functions as F"
      ],
      "metadata": {
        "id": "cso8KFdAUTDJ"
      },
      "execution_count": null,
      "outputs": []
    },
    {
      "cell_type": "code",
      "source": [
        "df.where('lead_time > 365').count()"
      ],
      "metadata": {
        "colab": {
          "base_uri": "https://localhost:8080/"
        },
        "id": "3B0prJNVUHk5",
        "outputId": "15c2be27-39fd-41f4-b5c7-43583b5d5548"
      },
      "execution_count": null,
      "outputs": [
        {
          "output_type": "execute_result",
          "data": {
            "text/plain": [
              "3148"
            ]
          },
          "metadata": {},
          "execution_count": 10
        }
      ]
    },
    {
      "cell_type": "markdown",
      "source": [
        "# 5.\tลูกค้าที่จองห้องต่อเนื่องทั้งวันธรรมดา (stays_in_week_nights) และวันสุดสัปดาห์ (stays_in_weekend_nights) มีกี่ราย"
      ],
      "metadata": {
        "id": "86Wn03RgU182"
      }
    },
    {
      "cell_type": "code",
      "source": [
        "df.where('stays_in_week_nights > 0 AND stays_in_weekend_nights > 0').count()"
      ],
      "metadata": {
        "colab": {
          "base_uri": "https://localhost:8080/"
        },
        "id": "8PcDmYbDUf9F",
        "outputId": "46cb8814-4999-438c-c64a-f8f5b7fae84c"
      },
      "execution_count": null,
      "outputs": [
        {
          "output_type": "execute_result",
          "data": {
            "text/plain": [
              "60462"
            ]
          },
          "metadata": {},
          "execution_count": 11
        }
      ]
    },
    {
      "cell_type": "markdown",
      "source": [
        "# 6. คอลัมน์ children เป็นประเภท string เพราะมีคำว่า “NA” อยู่ ให้เปลี่ยนคำว่า NA ให้เป็น 0 "
      ],
      "metadata": {
        "id": "uvfstLy_VGak"
      }
    },
    {
      "cell_type": "code",
      "source": [
        "df.drop_duplicates(['children']).show()"
      ],
      "metadata": {
        "colab": {
          "base_uri": "https://localhost:8080/"
        },
        "id": "12_wQ0XTVAF5",
        "outputId": "7c274121-a6b6-42c0-9b4b-f72027b4baba"
      },
      "execution_count": null,
      "outputs": [
        {
          "output_type": "stream",
          "name": "stdout",
          "text": [
            "+------------+-----------+---------+-----------------+------------------+------------------------+-------------------------+-----------------------+--------------------+------+--------+------+----+-------+--------------+--------------------+-----------------+----------------------+------------------------------+------------------+------------------+---------------+------------+-----+-------+--------------------+---------------+------+---------------------------+-------------------------+------------------+-----------------------+\n",
            "|       hotel|is_canceled|lead_time|arrival_date_year|arrival_date_month|arrival_date_week_number|arrival_date_day_of_month|stays_in_weekend_nights|stays_in_week_nights|adults|children|babies|meal|country|market_segment|distribution_channel|is_repeated_guest|previous_cancellations|previous_bookings_not_canceled|reserved_room_type|assigned_room_type|booking_changes|deposit_type|agent|company|days_in_waiting_list|  customer_type|   adr|required_car_parking_spaces|total_of_special_requests|reservation_status|reservation_status_date|\n",
            "+------------+-----------+---------+-----------------+------------------+------------------------+-------------------------+-----------------------+--------------------+------+--------+------+----+-------+--------------+--------------------+-----------------+----------------------+------------------------------+------------------+------------------+---------------+------------+-----+-------+--------------------+---------------+------+---------------------------+-------------------------+------------------+-----------------------+\n",
            "|Resort Hotel|          0|      342|             2015|              July|                      27|                        1|                      0|                   0|     2|       0|     0|  BB|    PRT|        Direct|              Direct|                0|                     0|                             0|                 C|                 C|              3|  No Deposit| NULL|   NULL|                   0|      Transient|   0.0|                          0|                        0|         Check-Out|    2015-07-01 00:00:00|\n",
            "|Resort Hotel|          0|       18|             2015|              July|                      27|                        1|                      0|                   4|     2|       1|     0|  HB|    ESP|     Online TA|               TA/TO|                0|                     0|                             0|                 G|                 G|              1|  No Deposit|  241|   NULL|                   0|      Transient|154.77|                          0|                        1|         Check-Out|    2015-07-05 00:00:00|\n",
            "|Resort Hotel|          1|       55|             2015|              July|                      29|                       12|                      4|                  10|     2|      10|     0|  BB|    PRT| Offline TA/TO|               TA/TO|                0|                     0|                             0|                 D|                 D|              2|  No Deposit|    8|   NULL|                   0|       Contract|133.16|                          0|                        1|           No-Show|    2015-07-12 00:00:00|\n",
            "|Resort Hotel|          1|       47|             2015|              July|                      27|                        2|                      2|                   5|     2|       2|     0|  BB|    PRT|     Online TA|               TA/TO|                0|                     0|                             0|                 G|                 G|              0|  No Deposit|  240|   NULL|                   0|      Transient| 153.0|                          0|                        0|          Canceled|    2015-06-02 00:00:00|\n",
            "|Resort Hotel|          1|      266|             2016|              June|                      27|                       28|                      2|                   8|     2|       3|     0|  BB|    PRT|     Online TA|               TA/TO|                0|                     0|                             0|                 H|                 H|              0|  No Deposit|  240|   NULL|                   0|      Transient| 151.8|                          0|                        0|          Canceled|    2015-10-12 00:00:00|\n",
            "|  City Hotel|          1|        2|             2015|            August|                      32|                        3|                      1|                   0|     2|      NA|     0|  BB|    PRT|     Undefined|           Undefined|                0|                     0|                             0|                 B|                 B|              0|  No Deposit| NULL|   NULL|                   0|Transient-Party|  12.0|                          0|                        1|          Canceled|    2015-08-01 00:00:00|\n",
            "+------------+-----------+---------+-----------------+------------------+------------------------+-------------------------+-----------------------+--------------------+------+--------+------+----+-------+--------------+--------------------+-----------------+----------------------+------------------------------+------------------+------------------+---------------+------------+-----+-------+--------------------+---------------+------+---------------------------+-------------------------+------------------+-----------------------+\n",
            "\n"
          ]
        }
      ]
    },
    {
      "cell_type": "code",
      "source": [
        "df.where('children = \"NA\"').show()"
      ],
      "metadata": {
        "colab": {
          "base_uri": "https://localhost:8080/"
        },
        "id": "CnpRHorOV5TL",
        "outputId": "519142c5-2145-4a4f-ad13-a9e612e1d3f1"
      },
      "execution_count": null,
      "outputs": [
        {
          "output_type": "stream",
          "name": "stdout",
          "text": [
            "+----------+-----------+---------+-----------------+------------------+------------------------+-------------------------+-----------------------+--------------------+------+--------+------+----+-------+--------------+--------------------+-----------------+----------------------+------------------------------+------------------+------------------+---------------+------------+-----+-------+--------------------+---------------+----+---------------------------+-------------------------+------------------+-----------------------+\n",
            "|     hotel|is_canceled|lead_time|arrival_date_year|arrival_date_month|arrival_date_week_number|arrival_date_day_of_month|stays_in_weekend_nights|stays_in_week_nights|adults|children|babies|meal|country|market_segment|distribution_channel|is_repeated_guest|previous_cancellations|previous_bookings_not_canceled|reserved_room_type|assigned_room_type|booking_changes|deposit_type|agent|company|days_in_waiting_list|  customer_type| adr|required_car_parking_spaces|total_of_special_requests|reservation_status|reservation_status_date|\n",
            "+----------+-----------+---------+-----------------+------------------+------------------------+-------------------------+-----------------------+--------------------+------+--------+------+----+-------+--------------+--------------------+-----------------+----------------------+------------------------------+------------------+------------------+---------------+------------+-----+-------+--------------------+---------------+----+---------------------------+-------------------------+------------------+-----------------------+\n",
            "|City Hotel|          1|        2|             2015|            August|                      32|                        3|                      1|                   0|     2|      NA|     0|  BB|    PRT|     Undefined|           Undefined|                0|                     0|                             0|                 B|                 B|              0|  No Deposit| NULL|   NULL|                   0|Transient-Party|12.0|                          0|                        1|          Canceled|    2015-08-01 00:00:00|\n",
            "|City Hotel|          1|        1|             2015|            August|                      32|                        5|                      0|                   2|     2|      NA|     0|  BB|    PRT|        Direct|           Undefined|                0|                     0|                             0|                 B|                 B|              0|  No Deposit|   14|   NULL|                   0|Transient-Party|12.0|                          0|                        1|          Canceled|    2015-08-04 00:00:00|\n",
            "|City Hotel|          1|        1|             2015|            August|                      32|                        5|                      0|                   2|     3|      NA|     0|  BB|    PRT|     Undefined|           Undefined|                0|                     0|                             0|                 B|                 B|              0|  No Deposit| NULL|   NULL|                   0|Transient-Party|18.0|                          0|                        2|          Canceled|    2015-08-04 00:00:00|\n",
            "|City Hotel|          1|        8|             2015|            August|                      33|                       13|                      2|                   5|     2|      NA|     0|  BB|    PRT|     Online TA|           Undefined|                0|                     0|                             0|                 B|                 B|              0|  No Deposit|    9|   NULL|                   0|Transient-Party|76.5|                          0|                        1|          Canceled|    2015-08-09 00:00:00|\n",
            "+----------+-----------+---------+-----------------+------------------+------------------------+-------------------------+-----------------------+--------------------+------+--------+------+----+-------+--------------+--------------------+-----------------+----------------------+------------------------------+------------------+------------------+---------------+------------+-----+-------+--------------------+---------------+----+---------------------------+-------------------------+------------------+-----------------------+\n",
            "\n"
          ]
        }
      ]
    },
    {
      "cell_type": "code",
      "source": [
        "df = df.withColumn('children', F.when(df.children == 'NA', 0).otherwise(df.children) )"
      ],
      "metadata": {
        "id": "WsC0UH2VW692"
      },
      "execution_count": null,
      "outputs": []
    },
    {
      "cell_type": "markdown",
      "source": [
        "# 7.\tหาค่าเฉลี่ยของจำนวนเด็ก (children) ของการจองแต่ละครั้ง"
      ],
      "metadata": {
        "id": "LufvNS1IWVuA"
      }
    },
    {
      "cell_type": "code",
      "source": [
        "df.agg({'children':'mean'}).show()"
      ],
      "metadata": {
        "colab": {
          "base_uri": "https://localhost:8080/"
        },
        "id": "eCZ1gC3ZZAEr",
        "outputId": "ab6bc3ad-6b20-4871-a754-aba5c7438864"
      },
      "execution_count": null,
      "outputs": [
        {
          "output_type": "stream",
          "name": "stdout",
          "text": [
            "+-------------------+\n",
            "|      avg(children)|\n",
            "+-------------------+\n",
            "|0.10388642264846303|\n",
            "+-------------------+\n",
            "\n"
          ]
        }
      ]
    },
    {
      "cell_type": "code",
      "source": [
        "df.groupby('children').count().show()"
      ],
      "metadata": {
        "colab": {
          "base_uri": "https://localhost:8080/"
        },
        "id": "OkCmaog8V8uA",
        "outputId": "95ad8f7f-e79f-466b-acd2-134fe7b97133"
      },
      "execution_count": null,
      "outputs": [
        {
          "output_type": "stream",
          "name": "stdout",
          "text": [
            "+--------+------+\n",
            "|children| count|\n",
            "+--------+------+\n",
            "|       3|    76|\n",
            "|       0|110800|\n",
            "|       1|  4861|\n",
            "|      10|     1|\n",
            "|       2|  3652|\n",
            "+--------+------+\n",
            "\n"
          ]
        }
      ]
    },
    {
      "cell_type": "markdown",
      "source": [
        "# 8.\tผู้จองโรงแรมมาจากกี่ประเทศ (country) (นับจำนวนประเทศที่ไม่ซ้ำ)"
      ],
      "metadata": {
        "id": "i9XersBFanr8"
      }
    },
    {
      "cell_type": "code",
      "source": [
        "df.select( F.count_distinct('country') ).show()"
      ],
      "metadata": {
        "colab": {
          "base_uri": "https://localhost:8080/"
        },
        "id": "Quv1THEtaofW",
        "outputId": "9650a68a-fd1b-4d04-ae06-cc2c74554541"
      },
      "execution_count": null,
      "outputs": [
        {
          "output_type": "stream",
          "name": "stdout",
          "text": [
            "+-----------------------+\n",
            "|count(DISTINCT country)|\n",
            "+-----------------------+\n",
            "|                    178|\n",
            "+-----------------------+\n",
            "\n"
          ]
        }
      ]
    },
    {
      "cell_type": "markdown",
      "source": [
        "# 9.\tนับจำนวนผู้จองแยกตามโรงแรม (hotel)"
      ],
      "metadata": {
        "id": "KGEt0UhVbTpH"
      }
    },
    {
      "cell_type": "code",
      "source": [
        "df.groupby('hotel').count().show()"
      ],
      "metadata": {
        "colab": {
          "base_uri": "https://localhost:8080/"
        },
        "id": "CA5W6q7Ia2YU",
        "outputId": "04cc47d8-a3f2-4b97-e90a-48f189273c55"
      },
      "execution_count": null,
      "outputs": [
        {
          "output_type": "stream",
          "name": "stdout",
          "text": [
            "+------------+-----+\n",
            "|       hotel|count|\n",
            "+------------+-----+\n",
            "|  City Hotel|79330|\n",
            "|Resort Hotel|40060|\n",
            "+------------+-----+\n",
            "\n"
          ]
        }
      ]
    },
    {
      "cell_type": "markdown",
      "source": [
        "# 10.\tนับจำนวนผู้จองแยกตามประเทศ (country) เรียงตามลำดับจากมากไปน้อย แสดงแค่ 5 ประเทศแรก"
      ],
      "metadata": {
        "id": "b0W9EuG8bpN6"
      }
    },
    {
      "cell_type": "code",
      "source": [
        "df.groupby('country').count().sort('count', ascending=False).show(5)"
      ],
      "metadata": {
        "colab": {
          "base_uri": "https://localhost:8080/"
        },
        "id": "Af91beehbWe4",
        "outputId": "b94bb2ea-f736-4c50-c976-e23575d9a59f"
      },
      "execution_count": null,
      "outputs": [
        {
          "output_type": "stream",
          "name": "stdout",
          "text": [
            "+-------+-----+\n",
            "|country|count|\n",
            "+-------+-----+\n",
            "|    PRT|48590|\n",
            "|    GBR|12129|\n",
            "|    FRA|10415|\n",
            "|    ESP| 8568|\n",
            "|    DEU| 7287|\n",
            "+-------+-----+\n",
            "only showing top 5 rows\n",
            "\n"
          ]
        }
      ]
    },
    {
      "cell_type": "markdown",
      "source": [
        "# 11.\tหาค่าเฉลี่ยของจำนวนวันที่จองล่วงหน้า (lead_time) แยกตามประเภทลูกค้า (customer_type)"
      ],
      "metadata": {
        "id": "wU40xiqtdYLZ"
      }
    },
    {
      "cell_type": "code",
      "source": [
        "df.groupby('customer_type').agg({'lead_time':'mean'}).show()"
      ],
      "metadata": {
        "colab": {
          "base_uri": "https://localhost:8080/"
        },
        "id": "fU6lfmtmb2cG",
        "outputId": "e054a65a-3882-451f-875b-8d5e4297cf20"
      },
      "execution_count": null,
      "outputs": [
        {
          "output_type": "stream",
          "name": "stdout",
          "text": [
            "+---------------+------------------+\n",
            "|  customer_type|    avg(lead_time)|\n",
            "+---------------+------------------+\n",
            "|      Transient| 93.29551515963085|\n",
            "|Transient-Party|137.03705620124185|\n",
            "|          Group| 55.05719237435009|\n",
            "|       Contract| 142.9698233562316|\n",
            "+---------------+------------------+\n",
            "\n"
          ]
        }
      ]
    },
    {
      "cell_type": "markdown",
      "source": [
        "# 12.\tสร้างคอลัมน์ใหม่ชื่อ arrival_date ที่เก็บ timestamp ของวันที่ผู้เข้าพักมาถึงโรงแรม คอลัมน์นี้สร้างได้ด้วยการนำคอลัมน์ arrival_date_year, arrival_date_month และ arrival_date_day_of_month มาต่อกันคั่นด้วยเครื่องหมาย “-“ แล้วแปลงเป็น timestamp"
      ],
      "metadata": {
        "id": "9IX5t_wMe10k"
      }
    },
    {
      "cell_type": "code",
      "source": [
        "df.select( F.concat(df.arrival_date_year.astype('string'),\n",
        "                    F.lit(\"-\"),\n",
        "                    df.arrival_date_month,\n",
        "                    F.lit(\"-\"),\n",
        "                    df.arrival_date_day_of_month.astype('string') ) ).show()"
      ],
      "metadata": {
        "colab": {
          "base_uri": "https://localhost:8080/"
        },
        "id": "ksEL07UudiqY",
        "outputId": "00a19d22-0b12-4743-c959-d46ec21c9df9"
      },
      "execution_count": null,
      "outputs": [
        {
          "output_type": "stream",
          "name": "stdout",
          "text": [
            "+--------------------------------------------------------------------------------------------------------------+\n",
            "|concat(CAST(arrival_date_year AS STRING), -, arrival_date_month, -, CAST(arrival_date_day_of_month AS STRING))|\n",
            "+--------------------------------------------------------------------------------------------------------------+\n",
            "|                                                                                                   2015-July-1|\n",
            "|                                                                                                   2015-July-1|\n",
            "|                                                                                                   2015-July-1|\n",
            "|                                                                                                   2015-July-1|\n",
            "|                                                                                                   2015-July-1|\n",
            "|                                                                                                   2015-July-1|\n",
            "|                                                                                                   2015-July-1|\n",
            "|                                                                                                   2015-July-1|\n",
            "|                                                                                                   2015-July-1|\n",
            "|                                                                                                   2015-July-1|\n",
            "|                                                                                                   2015-July-1|\n",
            "|                                                                                                   2015-July-1|\n",
            "|                                                                                                   2015-July-1|\n",
            "|                                                                                                   2015-July-1|\n",
            "|                                                                                                   2015-July-1|\n",
            "|                                                                                                   2015-July-1|\n",
            "|                                                                                                   2015-July-1|\n",
            "|                                                                                                   2015-July-1|\n",
            "|                                                                                                   2015-July-1|\n",
            "|                                                                                                   2015-July-1|\n",
            "+--------------------------------------------------------------------------------------------------------------+\n",
            "only showing top 20 rows\n",
            "\n"
          ]
        }
      ]
    },
    {
      "cell_type": "code",
      "source": [
        "df = df.withColumn('arrival_date', F.to_timestamp(F.concat(df.arrival_date_year.astype('string'),\n",
        "                    F.lit(\"-\"),\n",
        "                    df.arrival_date_month,\n",
        "                    F.lit(\"-\"),\n",
        "                    df.arrival_date_day_of_month.astype('string') ), format='yyyy-MMMM-d' ) )"
      ],
      "metadata": {
        "id": "DcUaNzJYjFmb"
      },
      "execution_count": null,
      "outputs": []
    },
    {
      "cell_type": "code",
      "source": [
        "df.select('arrival_date_year', 'arrival_date_month', 'arrival_date_day_of_month', 'arrival_date').sample(0.0001).show()"
      ],
      "metadata": {
        "colab": {
          "base_uri": "https://localhost:8080/"
        },
        "id": "rpuS-k_Jk5EV",
        "outputId": "59ff0ec0-3d2a-407f-bc34-1d3ba5355e9c"
      },
      "execution_count": null,
      "outputs": [
        {
          "output_type": "stream",
          "name": "stdout",
          "text": [
            "+-----------------+------------------+-------------------------+-------------------+\n",
            "|arrival_date_year|arrival_date_month|arrival_date_day_of_month|       arrival_date|\n",
            "+-----------------+------------------+-------------------------+-------------------+\n",
            "|             2015|            August|                        8|2015-08-08 00:00:00|\n",
            "|             2017|              July|                       24|2017-07-24 00:00:00|\n",
            "|             2015|              July|                       31|2015-07-31 00:00:00|\n",
            "|             2015|           October|                       24|2015-10-24 00:00:00|\n",
            "|             2016|          February|                       21|2016-02-21 00:00:00|\n",
            "|             2015|              July|                       25|2015-07-25 00:00:00|\n",
            "|             2015|            August|                        5|2015-08-05 00:00:00|\n",
            "|             2015|           October|                        4|2015-10-04 00:00:00|\n",
            "|             2015|          December|                       29|2015-12-29 00:00:00|\n",
            "|             2016|         September|                       26|2016-09-26 00:00:00|\n",
            "|             2017|               May|                        1|2017-05-01 00:00:00|\n",
            "|             2017|            August|                        9|2017-08-09 00:00:00|\n",
            "|             2016|               May|                       13|2016-05-13 00:00:00|\n",
            "|             2017|           January|                        5|2017-01-05 00:00:00|\n",
            "|             2017|             April|                       15|2017-04-15 00:00:00|\n",
            "+-----------------+------------------+-------------------------+-------------------+\n",
            "\n"
          ]
        }
      ]
    },
    {
      "cell_type": "markdown",
      "source": [
        "# 13.\tสรุปจำนวนผู้เข้าพักที่มาถึงโรงแรมในแต่ละวัน ให้ใช้คอลัมน์ arrival_date ในการระบุวันมาถึง ไม่นับลูกค้าที่ไม่มา (is_canceled เป็น 1) เรียงลำดับตามวันที่เข้าพัก"
      ],
      "metadata": {
        "id": "wYj5M4-TrcKO"
      }
    },
    {
      "cell_type": "code",
      "source": [
        "window = F.window('arrival_date', '1 day')"
      ],
      "metadata": {
        "id": "SyQochoL2ejD"
      },
      "execution_count": null,
      "outputs": []
    },
    {
      "cell_type": "code",
      "source": [
        "df.filter('is_canceled = 0').groupby(window).count().sort('window').show(truncate=False)"
      ],
      "metadata": {
        "colab": {
          "base_uri": "https://localhost:8080/"
        },
        "id": "PGGg-vEjsTSP",
        "outputId": "7fe76ead-a38d-40a8-f912-bbd29e78f773"
      },
      "execution_count": null,
      "outputs": [
        {
          "output_type": "stream",
          "name": "stdout",
          "text": [
            "+------------------------------------------+-----+\n",
            "|window                                    |count|\n",
            "+------------------------------------------+-----+\n",
            "|{2015-07-01 00:00:00, 2015-07-02 00:00:00}|103  |\n",
            "|{2015-07-02 00:00:00, 2015-07-03 00:00:00}|36   |\n",
            "|{2015-07-03 00:00:00, 2015-07-04 00:00:00}|37   |\n",
            "|{2015-07-04 00:00:00, 2015-07-05 00:00:00}|45   |\n",
            "|{2015-07-05 00:00:00, 2015-07-06 00:00:00}|37   |\n",
            "|{2015-07-06 00:00:00, 2015-07-07 00:00:00}|41   |\n",
            "|{2015-07-07 00:00:00, 2015-07-08 00:00:00}|29   |\n",
            "|{2015-07-08 00:00:00, 2015-07-09 00:00:00}|45   |\n",
            "|{2015-07-09 00:00:00, 2015-07-10 00:00:00}|29   |\n",
            "|{2015-07-10 00:00:00, 2015-07-11 00:00:00}|42   |\n",
            "|{2015-07-11 00:00:00, 2015-07-12 00:00:00}|61   |\n",
            "|{2015-07-12 00:00:00, 2015-07-13 00:00:00}|37   |\n",
            "|{2015-07-13 00:00:00, 2015-07-14 00:00:00}|39   |\n",
            "|{2015-07-14 00:00:00, 2015-07-15 00:00:00}|24   |\n",
            "|{2015-07-15 00:00:00, 2015-07-16 00:00:00}|54   |\n",
            "|{2015-07-16 00:00:00, 2015-07-17 00:00:00}|41   |\n",
            "|{2015-07-17 00:00:00, 2015-07-18 00:00:00}|106  |\n",
            "|{2015-07-18 00:00:00, 2015-07-19 00:00:00}|77   |\n",
            "|{2015-07-19 00:00:00, 2015-07-20 00:00:00}|36   |\n",
            "|{2015-07-20 00:00:00, 2015-07-21 00:00:00}|53   |\n",
            "+------------------------------------------+-----+\n",
            "only showing top 20 rows\n",
            "\n"
          ]
        }
      ]
    },
    {
      "cell_type": "markdown",
      "source": [
        "# 14.\tแสดงจำนวนการจองรายเดือนแยกตามโรงแรม (hotel) ให้ใช้คอลัมน์ arrival_date เป็นหลักในการตัดสินใจว่าการจองเกิดขึ้นในเดือนไหน (ระวังว่าต้องสรุปข้อมูลตามช่วงเวลาหนึ่งเดือน ไม่ได้สรุปข้อมูลเดือนที่ชื่อเหมือนกันแต่คนละปี)"
      ],
      "metadata": {
        "id": "PilnMG5nmmyY"
      }
    },
    {
      "cell_type": "code",
      "source": [
        "df.withColumn('year_month_arrival', F.date_format(df.arrival_date, 'yyyy-MM'))\\\n",
        "  .groupby('hotel','year_month_arrival').count()\\\n",
        "  .sort('year_month_arrival', 'hotel').show()"
      ],
      "metadata": {
        "colab": {
          "base_uri": "https://localhost:8080/"
        },
        "id": "A-14cCSMtz1S",
        "outputId": "359c12e5-dea8-4e98-f8a0-493cd006c09c"
      },
      "execution_count": null,
      "outputs": [
        {
          "output_type": "stream",
          "name": "stdout",
          "text": [
            "+------------+------------------+-----+\n",
            "|       hotel|year_month_arrival|count|\n",
            "+------------+------------------+-----+\n",
            "|  City Hotel|           2015-07| 1398|\n",
            "|Resort Hotel|           2015-07| 1378|\n",
            "|  City Hotel|           2015-08| 2480|\n",
            "|Resort Hotel|           2015-08| 1409|\n",
            "|  City Hotel|           2015-09| 3529|\n",
            "|Resort Hotel|           2015-09| 1585|\n",
            "|  City Hotel|           2015-10| 3386|\n",
            "|Resort Hotel|           2015-10| 1571|\n",
            "|  City Hotel|           2015-11| 1235|\n",
            "|Resort Hotel|           2015-11| 1105|\n",
            "|  City Hotel|           2015-12| 1654|\n",
            "|Resort Hotel|           2015-12| 1266|\n",
            "|  City Hotel|           2016-01| 1364|\n",
            "|Resort Hotel|           2016-01|  884|\n",
            "|  City Hotel|           2016-02| 2371|\n",
            "|Resort Hotel|           2016-02| 1520|\n",
            "|  City Hotel|           2016-03| 3046|\n",
            "|Resort Hotel|           2016-03| 1778|\n",
            "|  City Hotel|           2016-04| 3561|\n",
            "|Resort Hotel|           2016-04| 1867|\n",
            "+------------+------------------+-----+\n",
            "only showing top 20 rows\n",
            "\n"
          ]
        }
      ]
    },
    {
      "cell_type": "markdown",
      "source": [
        "# 15. สรุปจำนวนผู้เข้าพักที่มาถึงโรงแรมในแต่ละวันรวมย้อนหลังไป 6 วัน นั่นคือแถวที่แสดงวันที่ 2017-03-07 จะบวกรวมจำนวนผู้เข้าพักตั้งแต่วันที่ 2017-03-07 ย้อนไปจนถึง 2017-03-01 ให้ใช้คอลัมน์ arrival_date ในการระบุวันมาถึง ไม่นับลูกค้าที่ไม่มา (is_canceled เป็น 1)"
      ],
      "metadata": {
        "id": "hVElECCitKaU"
      }
    },
    {
      "cell_type": "code",
      "source": [
        "from pyspark.sql import Window"
      ],
      "metadata": {
        "id": "8bAVd5Ddrew3"
      },
      "execution_count": null,
      "outputs": []
    },
    {
      "cell_type": "code",
      "source": [
        "daily_count_df = df.filter('is_canceled = 0').groupby('arrival_date').count().sort('arrival_date')"
      ],
      "metadata": {
        "id": "6neQP7TTxbQp"
      },
      "execution_count": null,
      "outputs": []
    },
    {
      "cell_type": "code",
      "source": [
        "window_7days = Window.orderBy('arrival_date').rowsBetween(-6, Window.currentRow)"
      ],
      "metadata": {
        "id": "jxuOazftmC9q"
      },
      "execution_count": null,
      "outputs": []
    },
    {
      "cell_type": "code",
      "source": [
        "daily_count_df.select('arrival_date', 'count', F.sum('count').over(window_7days).alias('count 7 days')).show()"
      ],
      "metadata": {
        "colab": {
          "base_uri": "https://localhost:8080/"
        },
        "id": "xkODLMjBmvUC",
        "outputId": "15851d55-9cb3-4309-8548-aa891d234461"
      },
      "execution_count": null,
      "outputs": [
        {
          "output_type": "stream",
          "name": "stdout",
          "text": [
            "+-------------------+-----+------------+\n",
            "|       arrival_date|count|count 7 days|\n",
            "+-------------------+-----+------------+\n",
            "|2015-07-01 00:00:00|  103|         103|\n",
            "|2015-07-02 00:00:00|   36|         139|\n",
            "|2015-07-03 00:00:00|   37|         176|\n",
            "|2015-07-04 00:00:00|   45|         221|\n",
            "|2015-07-05 00:00:00|   37|         258|\n",
            "|2015-07-06 00:00:00|   41|         299|\n",
            "|2015-07-07 00:00:00|   29|         328|\n",
            "|2015-07-08 00:00:00|   45|         270|\n",
            "|2015-07-09 00:00:00|   29|         263|\n",
            "|2015-07-10 00:00:00|   42|         268|\n",
            "|2015-07-11 00:00:00|   61|         284|\n",
            "|2015-07-12 00:00:00|   37|         284|\n",
            "|2015-07-13 00:00:00|   39|         282|\n",
            "|2015-07-14 00:00:00|   24|         277|\n",
            "|2015-07-15 00:00:00|   54|         286|\n",
            "|2015-07-16 00:00:00|   41|         298|\n",
            "|2015-07-17 00:00:00|  106|         362|\n",
            "|2015-07-18 00:00:00|   77|         378|\n",
            "|2015-07-19 00:00:00|   36|         377|\n",
            "|2015-07-20 00:00:00|   53|         391|\n",
            "+-------------------+-----+------------+\n",
            "only showing top 20 rows\n",
            "\n"
          ]
        }
      ]
    },
    {
      "cell_type": "markdown",
      "source": [
        "# 16.\tเปิดไฟล์ชื่อ ISO3166.csv ซึ่งมีรหัสประเทศ 3 ตัวอักษรกับชื่อประเทศ แสดงรหัสประเทศที่มีในตารางแต่ไม่มีในไฟล์ ISO3166.csv (คำใบ้: มี 3 รหัส) ก่อน join ให้เปลี่ยนชื่อคอลัมน์ของตารางจากไฟล์ ISO3166.csv ก่อนให้ชื่อคอลัมน์ของรหัสประเทศตรงกัน"
      ],
      "metadata": {
        "id": "gocBrEKnzsvq"
      }
    },
    {
      "cell_type": "code",
      "source": [
        "cname_df = spark.read.csv('/content/drive/MyDrive/Datasets/ISO3166.csv', header=True)\n",
        "cname_df.show()"
      ],
      "metadata": {
        "colab": {
          "base_uri": "https://localhost:8080/"
        },
        "id": "avB7J1lMyEJB",
        "outputId": "6b5199e5-c565-4d15-9206-f08cda961031"
      },
      "execution_count": null,
      "outputs": [
        {
          "output_type": "stream",
          "name": "stdout",
          "text": [
            "+-------------------+------------+------------+-------+\n",
            "|            Country|Alpha-2 code|Alpha-3 code|Numeric|\n",
            "+-------------------+------------+------------+-------+\n",
            "|        Afghanistan|          AF|         AFG|      4|\n",
            "|            Albania|          AL|         ALB|      8|\n",
            "|            Algeria|          DZ|         DZA|     12|\n",
            "|     American Samoa|          AS|         ASM|     16|\n",
            "|            Andorra|          AD|         AND|     20|\n",
            "|             Angola|          AO|         AGO|     24|\n",
            "|           Anguilla|          AI|         AIA|    660|\n",
            "|         Antarctica|          AQ|         ATA|     10|\n",
            "|Antigua and Barbuda|          AG|         ATG|     28|\n",
            "|          Argentina|          AR|         ARG|     32|\n",
            "|            Armenia|          AM|         ARM|     51|\n",
            "|              Aruba|          AW|         ABW|    533|\n",
            "|          Australia|          AU|         AUS|     36|\n",
            "|            Austria|          AT|         AUT|     40|\n",
            "|         Azerbaijan|          AZ|         AZE|     31|\n",
            "|      Bahamas (the)|          BS|         BHS|     44|\n",
            "|            Bahrain|          BH|         BHR|     48|\n",
            "|         Bangladesh|          BD|         BGD|     50|\n",
            "|           Barbados|          BB|         BRB|     52|\n",
            "|            Belarus|          BY|         BLR|    112|\n",
            "+-------------------+------------+------------+-------+\n",
            "only showing top 20 rows\n",
            "\n"
          ]
        }
      ]
    },
    {
      "cell_type": "code",
      "source": [
        "cname_df.withColumnRenamed('Alpha-3 code', 'country').join(df.drop_duplicates(['country']), on='country', how='left').show()"
      ],
      "metadata": {
        "colab": {
          "base_uri": "https://localhost:8080/"
        },
        "id": "MTpW-N1jz3xW",
        "outputId": "7c853dad-9180-4af2-fec5-9c357bc24f12"
      },
      "execution_count": null,
      "outputs": [
        {
          "output_type": "stream",
          "name": "stdout",
          "text": [
            "+-------------------+------------+-------+-------+-----+-----------+---------+-----------------+------------------+------------------------+-------------------------+-----------------------+--------------------+------+--------+------+----+--------------+--------------------+-----------------+----------------------+------------------------------+------------------+------------------+---------------+------------+-----+-------+--------------------+-------------+----+---------------------------+-------------------------+------------------+-----------------------+------------+\n",
            "|            Country|Alpha-2 code|country|Numeric|hotel|is_canceled|lead_time|arrival_date_year|arrival_date_month|arrival_date_week_number|arrival_date_day_of_month|stays_in_weekend_nights|stays_in_week_nights|adults|children|babies|meal|market_segment|distribution_channel|is_repeated_guest|previous_cancellations|previous_bookings_not_canceled|reserved_room_type|assigned_room_type|booking_changes|deposit_type|agent|company|days_in_waiting_list|customer_type| adr|required_car_parking_spaces|total_of_special_requests|reservation_status|reservation_status_date|arrival_date|\n",
            "+-------------------+------------+-------+-------+-----+-----------+---------+-----------------+------------------+------------------------+-------------------------+-----------------------+--------------------+------+--------+------+----+--------------+--------------------+-----------------+----------------------+------------------------------+------------------+------------------+---------------+------------+-----+-------+--------------------+-------------+----+---------------------------+-------------------------+------------------+-----------------------+------------+\n",
            "|           Anguilla|          AI|    AIA|    660| null|       null|     null|             null|              null|                    null|                     null|                   null|                null|  null|    null|  null|null|          null|                null|             null|                  null|                          null|              null|              null|           null|        null| null|   null|                null|         null|null|                       null|                     null|              null|                   null|        null|\n",
            "|        Afghanistan|          AF|    AFG|      4| null|       null|     null|             null|              null|                    null|                     null|                   null|                null|  null|    null|  null|null|          null|                null|             null|                  null|                          null|              null|              null|           null|        null| null|   null|                null|         null|null|                       null|                     null|              null|                   null|        null|\n",
            "|            Algeria|          DZ|    DZA|     12| null|       null|     null|             null|              null|                    null|                     null|                   null|                null|  null|    null|  null|null|          null|                null|             null|                  null|                          null|              null|              null|           null|        null| null|   null|                null|         null|null|                       null|                     null|              null|                   null|        null|\n",
            "|          Argentina|          AR|    ARG|     32| null|       null|     null|             null|              null|                    null|                     null|                   null|                null|  null|    null|  null|null|          null|                null|             null|                  null|                          null|              null|              null|           null|        null| null|   null|                null|         null|null|                       null|                     null|              null|                   null|        null|\n",
            "|             Angola|          AO|    AGO|     24| null|       null|     null|             null|              null|                    null|                     null|                   null|                null|  null|    null|  null|null|          null|                null|             null|                  null|                          null|              null|              null|           null|        null| null|   null|                null|         null|null|                       null|                     null|              null|                   null|        null|\n",
            "|            Belgium|          BE|    BEL|     56| null|       null|     null|             null|              null|                    null|                     null|                   null|                null|  null|    null|  null|null|          null|                null|             null|                  null|                          null|              null|              null|           null|        null| null|   null|                null|         null|null|                       null|                     null|              null|                   null|        null|\n",
            "|            Albania|          AL|    ALB|      8| null|       null|     null|             null|              null|                    null|                     null|                   null|                null|  null|    null|  null|null|          null|                null|             null|                  null|                          null|              null|              null|           null|        null| null|   null|                null|         null|null|                       null|                     null|              null|                   null|        null|\n",
            "|            Belarus|          BY|    BLR|    112| null|       null|     null|             null|              null|                    null|                     null|                   null|                null|  null|    null|  null|null|          null|                null|             null|                  null|                          null|              null|              null|           null|        null| null|   null|                null|         null|null|                       null|                     null|              null|                   null|        null|\n",
            "|     American Samoa|          AS|    ASM|     16| null|       null|     null|             null|              null|                    null|                     null|                   null|                null|  null|    null|  null|null|          null|                null|             null|                  null|                          null|              null|              null|           null|        null| null|   null|                null|         null|null|                       null|                     null|              null|                   null|        null|\n",
            "|            Andorra|          AD|    AND|     20| null|       null|     null|             null|              null|                    null|                     null|                   null|                null|  null|    null|  null|null|          null|                null|             null|                  null|                          null|              null|              null|           null|        null| null|   null|                null|         null|null|                       null|                     null|              null|                   null|        null|\n",
            "|         Bangladesh|          BD|    BGD|     50| null|       null|     null|             null|              null|                    null|                     null|                   null|                null|  null|    null|  null|null|          null|                null|             null|                  null|                          null|              null|              null|           null|        null| null|   null|                null|         null|null|                       null|                     null|              null|                   null|        null|\n",
            "|           Barbados|          BB|    BRB|     52| null|       null|     null|             null|              null|                    null|                     null|                   null|                null|  null|    null|  null|null|          null|                null|             null|                  null|                          null|              null|              null|           null|        null| null|   null|                null|         null|null|                       null|                     null|              null|                   null|        null|\n",
            "|         Antarctica|          AQ|    ATA|     10| null|       null|     null|             null|              null|                    null|                     null|                   null|                null|  null|    null|  null|null|          null|                null|             null|                  null|                          null|              null|              null|           null|        null| null|   null|                null|         null|null|                       null|                     null|              null|                   null|        null|\n",
            "|              Aruba|          AW|    ABW|    533| null|       null|     null|             null|              null|                    null|                     null|                   null|                null|  null|    null|  null|null|          null|                null|             null|                  null|                          null|              null|              null|           null|        null| null|   null|                null|         null|null|                       null|                     null|              null|                   null|        null|\n",
            "|         Azerbaijan|          AZ|    AZE|     31| null|       null|     null|             null|              null|                    null|                     null|                   null|                null|  null|    null|  null|null|          null|                null|             null|                  null|                          null|              null|              null|           null|        null| null|   null|                null|         null|null|                       null|                     null|              null|                   null|        null|\n",
            "|            Armenia|          AM|    ARM|     51| null|       null|     null|             null|              null|                    null|                     null|                   null|                null|  null|    null|  null|null|          null|                null|             null|                  null|                          null|              null|              null|           null|        null| null|   null|                null|         null|null|                       null|                     null|              null|                   null|        null|\n",
            "|      Bahamas (the)|          BS|    BHS|     44| null|       null|     null|             null|              null|                    null|                     null|                   null|                null|  null|    null|  null|null|          null|                null|             null|                  null|                          null|              null|              null|           null|        null| null|   null|                null|         null|null|                       null|                     null|              null|                   null|        null|\n",
            "|Antigua and Barbuda|          AG|    ATG|     28| null|       null|     null|             null|              null|                    null|                     null|                   null|                null|  null|    null|  null|null|          null|                null|             null|                  null|                          null|              null|              null|           null|        null| null|   null|                null|         null|null|                       null|                     null|              null|                   null|        null|\n",
            "|          Australia|          AU|    AUS|     36| null|       null|     null|             null|              null|                    null|                     null|                   null|                null|  null|    null|  null|null|          null|                null|             null|                  null|                          null|              null|              null|           null|        null| null|   null|                null|         null|null|                       null|                     null|              null|                   null|        null|\n",
            "|            Austria|          AT|    AUT|     40| null|       null|     null|             null|              null|                    null|                     null|                   null|                null|  null|    null|  null|null|          null|                null|             null|                  null|                          null|              null|              null|           null|        null| null|   null|                null|         null|null|                       null|                     null|              null|                   null|        null|\n",
            "+-------------------+------------+-------+-------+-----+-----------+---------+-----------------+------------------+------------------------+-------------------------+-----------------------+--------------------+------+--------+------+----+--------------+--------------------+-----------------+----------------------+------------------------------+------------------+------------------+---------------+------------+-----+-------+--------------------+-------------+----+---------------------------+-------------------------+------------------+-----------------------+------------+\n",
            "only showing top 20 rows\n",
            "\n"
          ]
        }
      ]
    },
    {
      "cell_type": "code",
      "source": [
        "cname_df = cname_df.withColumnRenamed('Country','cname').withColumnRenamed('Alpha-3 code', 'country')"
      ],
      "metadata": {
        "id": "QgQBMVZ4AzH4"
      },
      "execution_count": null,
      "outputs": []
    },
    {
      "cell_type": "code",
      "source": [
        "joined_df = df.drop_duplicates(['country']).join(cname_df, on='country',\n",
        "                                     how='left')"
      ],
      "metadata": {
        "id": "pMPmOwxq1Zw3"
      },
      "execution_count": null,
      "outputs": []
    },
    {
      "cell_type": "code",
      "source": [
        "joined_df.filter(joined_df.cname.isNull()).select('country').show()"
      ],
      "metadata": {
        "colab": {
          "base_uri": "https://localhost:8080/"
        },
        "id": "Ipuom-xV_SpC",
        "outputId": "1cb641ea-45b0-4288-e45a-a22ac7d67df2"
      },
      "execution_count": null,
      "outputs": [
        {
          "output_type": "stream",
          "name": "stdout",
          "text": [
            "+-------+\n",
            "|country|\n",
            "+-------+\n",
            "|     CN|\n",
            "|    TMP|\n",
            "|   NULL|\n",
            "+-------+\n",
            "\n"
          ]
        }
      ]
    },
    {
      "cell_type": "markdown",
      "source": [
        "# 17.\tให้นำชื่อประเทศที่ตรงกับรหัสประเทศของผู้เข้าพักมาเพิ่มเป็นคอลัมน์ใหม่ในตารางโดยคงแถวของตารางการจองไว้"
      ],
      "metadata": {
        "id": "0WgxUEX_CxeP"
      }
    },
    {
      "cell_type": "code",
      "source": [
        "df.join(cname_df.select('country', 'cname'), on='country', how='left').show()"
      ],
      "metadata": {
        "colab": {
          "base_uri": "https://localhost:8080/"
        },
        "id": "cKvHeDdTCWhj",
        "outputId": "57eab51b-00b7-42f0-a0b5-f7c2c6149250"
      },
      "execution_count": null,
      "outputs": [
        {
          "output_type": "stream",
          "name": "stdout",
          "text": [
            "+-------+------------+-----------+---------+-----------------+------------------+------------------------+-------------------------+-----------------------+--------------------+------+--------+------+----+--------------+--------------------+-----------------+----------------------+------------------------------+------------------+------------------+---------------+------------+-----+-------+--------------------+-------------+------+---------------------------+-------------------------+------------------+-----------------------+-------------------+--------------------+\n",
            "|country|       hotel|is_canceled|lead_time|arrival_date_year|arrival_date_month|arrival_date_week_number|arrival_date_day_of_month|stays_in_weekend_nights|stays_in_week_nights|adults|children|babies|meal|market_segment|distribution_channel|is_repeated_guest|previous_cancellations|previous_bookings_not_canceled|reserved_room_type|assigned_room_type|booking_changes|deposit_type|agent|company|days_in_waiting_list|customer_type|   adr|required_car_parking_spaces|total_of_special_requests|reservation_status|reservation_status_date|       arrival_date|               cname|\n",
            "+-------+------------+-----------+---------+-----------------+------------------+------------------------+-------------------------+-----------------------+--------------------+------+--------+------+----+--------------+--------------------+-----------------+----------------------+------------------------------+------------------+------------------+---------------+------------+-----+-------+--------------------+-------------+------+---------------------------+-------------------------+------------------+-----------------------+-------------------+--------------------+\n",
            "|    PRT|Resort Hotel|          0|      342|             2015|              July|                      27|                        1|                      0|                   0|     2|       0|     0|  BB|        Direct|              Direct|                0|                     0|                             0|                 C|                 C|              3|  No Deposit| NULL|   NULL|                   0|    Transient|   0.0|                          0|                        0|         Check-Out|    2015-07-01 00:00:00|2015-07-01 00:00:00|            Portugal|\n",
            "|    PRT|Resort Hotel|          0|      737|             2015|              July|                      27|                        1|                      0|                   0|     2|       0|     0|  BB|        Direct|              Direct|                0|                     0|                             0|                 C|                 C|              4|  No Deposit| NULL|   NULL|                   0|    Transient|   0.0|                          0|                        0|         Check-Out|    2015-07-01 00:00:00|2015-07-01 00:00:00|            Portugal|\n",
            "|    GBR|Resort Hotel|          0|        7|             2015|              July|                      27|                        1|                      0|                   1|     1|       0|     0|  BB|        Direct|              Direct|                0|                     0|                             0|                 A|                 C|              0|  No Deposit| NULL|   NULL|                   0|    Transient|  75.0|                          0|                        0|         Check-Out|    2015-07-02 00:00:00|2015-07-01 00:00:00|United Kingdom of...|\n",
            "|    GBR|Resort Hotel|          0|       13|             2015|              July|                      27|                        1|                      0|                   1|     1|       0|     0|  BB|     Corporate|           Corporate|                0|                     0|                             0|                 A|                 A|              0|  No Deposit|  304|   NULL|                   0|    Transient|  75.0|                          0|                        0|         Check-Out|    2015-07-02 00:00:00|2015-07-01 00:00:00|United Kingdom of...|\n",
            "|    GBR|Resort Hotel|          0|       14|             2015|              July|                      27|                        1|                      0|                   2|     2|       0|     0|  BB|     Online TA|               TA/TO|                0|                     0|                             0|                 A|                 A|              0|  No Deposit|  240|   NULL|                   0|    Transient|  98.0|                          0|                        1|         Check-Out|    2015-07-03 00:00:00|2015-07-01 00:00:00|United Kingdom of...|\n",
            "|    GBR|Resort Hotel|          0|       14|             2015|              July|                      27|                        1|                      0|                   2|     2|       0|     0|  BB|     Online TA|               TA/TO|                0|                     0|                             0|                 A|                 A|              0|  No Deposit|  240|   NULL|                   0|    Transient|  98.0|                          0|                        1|         Check-Out|    2015-07-03 00:00:00|2015-07-01 00:00:00|United Kingdom of...|\n",
            "|    PRT|Resort Hotel|          0|        0|             2015|              July|                      27|                        1|                      0|                   2|     2|       0|     0|  BB|        Direct|              Direct|                0|                     0|                             0|                 C|                 C|              0|  No Deposit| NULL|   NULL|                   0|    Transient| 107.0|                          0|                        0|         Check-Out|    2015-07-03 00:00:00|2015-07-01 00:00:00|            Portugal|\n",
            "|    PRT|Resort Hotel|          0|        9|             2015|              July|                      27|                        1|                      0|                   2|     2|       0|     0|  FB|        Direct|              Direct|                0|                     0|                             0|                 C|                 C|              0|  No Deposit|  303|   NULL|                   0|    Transient| 103.0|                          0|                        1|         Check-Out|    2015-07-03 00:00:00|2015-07-01 00:00:00|            Portugal|\n",
            "|    PRT|Resort Hotel|          1|       85|             2015|              July|                      27|                        1|                      0|                   3|     2|       0|     0|  BB|     Online TA|               TA/TO|                0|                     0|                             0|                 A|                 A|              0|  No Deposit|  240|   NULL|                   0|    Transient|  82.0|                          0|                        1|          Canceled|    2015-05-06 00:00:00|2015-07-01 00:00:00|            Portugal|\n",
            "|    PRT|Resort Hotel|          1|       75|             2015|              July|                      27|                        1|                      0|                   3|     2|       0|     0|  HB| Offline TA/TO|               TA/TO|                0|                     0|                             0|                 D|                 D|              0|  No Deposit|   15|   NULL|                   0|    Transient| 105.5|                          0|                        0|          Canceled|    2015-04-22 00:00:00|2015-07-01 00:00:00|            Portugal|\n",
            "|    PRT|Resort Hotel|          1|       23|             2015|              July|                      27|                        1|                      0|                   4|     2|       0|     0|  BB|     Online TA|               TA/TO|                0|                     0|                             0|                 E|                 E|              0|  No Deposit|  240|   NULL|                   0|    Transient| 123.0|                          0|                        0|          Canceled|    2015-06-23 00:00:00|2015-07-01 00:00:00|            Portugal|\n",
            "|    PRT|Resort Hotel|          0|       35|             2015|              July|                      27|                        1|                      0|                   4|     2|       0|     0|  HB|     Online TA|               TA/TO|                0|                     0|                             0|                 D|                 D|              0|  No Deposit|  240|   NULL|                   0|    Transient| 145.0|                          0|                        0|         Check-Out|    2015-07-05 00:00:00|2015-07-01 00:00:00|            Portugal|\n",
            "|    USA|Resort Hotel|          0|       68|             2015|              July|                      27|                        1|                      0|                   4|     2|       0|     0|  BB|     Online TA|               TA/TO|                0|                     0|                             0|                 D|                 E|              0|  No Deposit|  240|   NULL|                   0|    Transient|  97.0|                          0|                        3|         Check-Out|    2015-07-05 00:00:00|2015-07-01 00:00:00|United States of ...|\n",
            "|    ESP|Resort Hotel|          0|       18|             2015|              July|                      27|                        1|                      0|                   4|     2|       1|     0|  HB|     Online TA|               TA/TO|                0|                     0|                             0|                 G|                 G|              1|  No Deposit|  241|   NULL|                   0|    Transient|154.77|                          0|                        1|         Check-Out|    2015-07-05 00:00:00|2015-07-01 00:00:00|               Spain|\n",
            "|    PRT|Resort Hotel|          0|       37|             2015|              July|                      27|                        1|                      0|                   4|     2|       0|     0|  BB|     Online TA|               TA/TO|                0|                     0|                             0|                 E|                 E|              0|  No Deposit|  241|   NULL|                   0|    Transient| 94.71|                          0|                        0|         Check-Out|    2015-07-05 00:00:00|2015-07-01 00:00:00|            Portugal|\n",
            "|    IRL|Resort Hotel|          0|       68|             2015|              July|                      27|                        1|                      0|                   4|     2|       0|     0|  BB|     Online TA|               TA/TO|                0|                     0|                             0|                 D|                 E|              0|  No Deposit|  240|   NULL|                   0|    Transient|  97.0|                          0|                        3|         Check-Out|    2015-07-05 00:00:00|2015-07-01 00:00:00|             Ireland|\n",
            "|    PRT|Resort Hotel|          0|       37|             2015|              July|                      27|                        1|                      0|                   4|     2|       0|     0|  BB| Offline TA/TO|               TA/TO|                0|                     0|                             0|                 E|                 E|              0|  No Deposit|    8|   NULL|                   0|     Contract|  97.5|                          0|                        0|         Check-Out|    2015-07-05 00:00:00|2015-07-01 00:00:00|            Portugal|\n",
            "|    IRL|Resort Hotel|          0|       12|             2015|              July|                      27|                        1|                      0|                   1|     2|       0|     0|  BB|     Online TA|               TA/TO|                0|                     0|                             0|                 A|                 E|              0|  No Deposit|  240|   NULL|                   0|    Transient|  88.2|                          0|                        0|         Check-Out|    2015-07-02 00:00:00|2015-07-01 00:00:00|             Ireland|\n",
            "|    FRA|Resort Hotel|          0|        0|             2015|              July|                      27|                        1|                      0|                   1|     2|       0|     0|  BB|     Corporate|           Corporate|                0|                     0|                             0|                 A|                 G|              0|  No Deposit| NULL|    110|                   0|    Transient|107.42|                          0|                        0|         Check-Out|    2015-07-02 00:00:00|2015-07-01 00:00:00|              France|\n",
            "|    GBR|Resort Hotel|          0|        7|             2015|              July|                      27|                        1|                      0|                   4|     2|       0|     0|  BB|        Direct|              Direct|                0|                     0|                             0|                 G|                 G|              0|  No Deposit|  250|   NULL|                   0|    Transient| 153.0|                          0|                        1|         Check-Out|    2015-07-05 00:00:00|2015-07-01 00:00:00|United Kingdom of...|\n",
            "+-------+------------+-----------+---------+-----------------+------------------+------------------------+-------------------------+-----------------------+--------------------+------+--------+------+----+--------------+--------------------+-----------------+----------------------+------------------------------+------------------+------------------+---------------+------------+-----+-------+--------------------+-------------+------+---------------------------+-------------------------+------------------+-----------------------+-------------------+--------------------+\n",
            "only showing top 20 rows\n",
            "\n"
          ]
        }
      ]
    },
    {
      "cell_type": "markdown",
      "source": [
        "# 18. พล็อตกราฟแสดง Boxplot ของจํานวนวันที่จองล่วงหน้า (lead_time) แยกตามประเภทลูกค้า (customer_type)"
      ],
      "metadata": {
        "id": "UbixtNpj3jk_"
      }
    },
    {
      "cell_type": "code",
      "source": [
        "import pandas as pd\n",
        "import seaborn as sns"
      ],
      "metadata": {
        "id": "osLH5W-73hhx"
      },
      "execution_count": null,
      "outputs": []
    },
    {
      "cell_type": "code",
      "source": [
        "pandas_df = df.toPandas()"
      ],
      "metadata": {
        "id": "HhslXxOhxIfs"
      },
      "execution_count": null,
      "outputs": []
    },
    {
      "cell_type": "code",
      "source": [
        "sns.catplot(data=pandas_df, x='customer_type', y='lead_time', kind='box')"
      ],
      "metadata": {
        "colab": {
          "base_uri": "https://localhost:8080/",
          "height": 387
        },
        "id": "IRqoCK2bxPfV",
        "outputId": "e1f86713-007d-47da-abcd-a268b8b7e1bd"
      },
      "execution_count": null,
      "outputs": [
        {
          "output_type": "execute_result",
          "data": {
            "text/plain": [
              "<seaborn.axisgrid.FacetGrid at 0x7f5bf68f34d0>"
            ]
          },
          "metadata": {},
          "execution_count": 44
        },
        {
          "output_type": "display_data",
          "data": {
            "text/plain": [
              "<Figure size 360x360 with 1 Axes>"
            ],
            "image/png": "[encoded data removed]"
          },
          "metadata": {
            "needs_background": "light"
          }
        }
      ]
    },
    {
      "cell_type": "markdown",
      "source": [
        "# 19. พล็อตกราฟเส้นแสดงข้อมูลจํานวนผู้เข้าพักรายเดือนแยกสีของเส้นตามโรงแรม (hotel) ใช้ข้อมูลจากข้อ 14 มาพล็อตได้"
      ],
      "metadata": {
        "id": "B7XKg8Mlxb3d"
      }
    },
    {
      "cell_type": "code",
      "source": [
        "plot_df = df.withColumn('year_month_arrival', F.date_format(df.arrival_date, 'yyyy-MM'))\\\n",
        "  .groupby('hotel','year_month_arrival').count()\\\n",
        "  .sort('year_month_arrival', 'hotel').toPandas()"
      ],
      "metadata": {
        "id": "7v6vCkswxo2t"
      },
      "execution_count": null,
      "outputs": []
    },
    {
      "cell_type": "code",
      "source": [
        "plot_df"
      ],
      "metadata": {
        "colab": {
          "base_uri": "https://localhost:8080/",
          "height": 1000
        },
        "id": "xLXXOplex9R0",
        "outputId": "056f7297-885a-4c8f-9f24-ed805d96708b"
      },
      "execution_count": null,
      "outputs": [
        {
          "output_type": "execute_result",
          "data": {
            "text/plain": [
              "           hotel year_month_arrival  count\n",
              "0     City Hotel            2015-07   1398\n",
              "1   Resort Hotel            2015-07   1378\n",
              "2     City Hotel            2015-08   2480\n",
              "3   Resort Hotel            2015-08   1409\n",
              "4     City Hotel            2015-09   3529\n",
              "5   Resort Hotel            2015-09   1585\n",
              "6     City Hotel            2015-10   3386\n",
              "7   Resort Hotel            2015-10   1571\n",
              "8     City Hotel            2015-11   1235\n",
              "9   Resort Hotel            2015-11   1105\n",
              "10    City Hotel            2015-12   1654\n",
              "11  Resort Hotel            2015-12   1266\n",
              "12    City Hotel            2016-01   1364\n",
              "13  Resort Hotel            2016-01    884\n",
              "14    City Hotel            2016-02   2371\n",
              "15  Resort Hotel            2016-02   1520\n",
              "16    City Hotel            2016-03   3046\n",
              "17  Resort Hotel            2016-03   1778\n",
              "18    City Hotel            2016-04   3561\n",
              "19  Resort Hotel            2016-04   1867\n",
              "20    City Hotel            2016-05   3676\n",
              "21  Resort Hotel            2016-05   1802\n",
              "22    City Hotel            2016-06   3923\n",
              "23  Resort Hotel            2016-06   1369\n",
              "24    City Hotel            2016-07   3131\n",
              "25  Resort Hotel            2016-07   1441\n",
              "26    City Hotel            2016-08   3378\n",
              "27  Resort Hotel            2016-08   1685\n",
              "28    City Hotel            2016-09   3871\n",
              "29  Resort Hotel            2016-09   1523\n",
              "30    City Hotel            2016-10   4219\n",
              "31  Resort Hotel            2016-10   1984\n",
              "32    City Hotel            2016-11   3122\n",
              "33  Resort Hotel            2016-11   1332\n",
              "34    City Hotel            2016-12   2478\n",
              "35  Resort Hotel            2016-12   1382\n",
              "36    City Hotel            2017-01   2372\n",
              "37  Resort Hotel            2017-01   1309\n",
              "38    City Hotel            2017-02   2594\n",
              "39  Resort Hotel            2017-02   1583\n",
              "40    City Hotel            2017-03   3412\n",
              "41  Resort Hotel            2017-03   1558\n",
              "42    City Hotel            2017-04   3919\n",
              "43  Resort Hotel            2017-04   1742\n",
              "44    City Hotel            2017-05   4556\n",
              "45  Resort Hotel            2017-05   1757\n",
              "46    City Hotel            2017-06   3971\n",
              "47  Resort Hotel            2017-06   1676\n",
              "48    City Hotel            2017-07   3559\n",
              "49  Resort Hotel            2017-07   1754\n",
              "50    City Hotel            2017-08   3125\n",
              "51  Resort Hotel            2017-08   1800"
            ],
            "text/html": [
              "\n",
              "  <div id=\"df-e71275c1-dec3-46fc-815d-e121d8a7f330\">\n",
              "    <div class=\"colab-df-container\">\n",
              "      <div>\n",
              "<style scoped>\n",
              "    .dataframe tbody tr th:only-of-type {\n",
              "        vertical-align: middle;\n",
              "    }\n",
              "\n",
              "    .dataframe tbody tr th {\n",
              "        vertical-align: top;\n",
              "    }\n",
              "\n",
              "    .dataframe thead th {\n",
              "        text-align: right;\n",
              "    }\n",
              "</style>\n",
              "<table border=\"1\" class=\"dataframe\">\n",
              "  <thead>\n",
              "    <tr style=\"text-align: right;\">\n",
              "      <th></th>\n",
              "      <th>hotel</th>\n",
              "      <th>year_month_arrival</th>\n",
              "      <th>count</th>\n",
              "    </tr>\n",
              "  </thead>\n",
              "  <tbody>\n",
              "    <tr>\n",
              "      <th>0</th>\n",
              "      <td>City Hotel</td>\n",
              "      <td>2015-07</td>\n",
              "      <td>1398</td>\n",
              "    </tr>\n",
              "    <tr>\n",
              "      <th>1</th>\n",
              "      <td>Resort Hotel</td>\n",
              "      <td>2015-07</td>\n",
              "      <td>1378</td>\n",
              "    </tr>\n",
              "    <tr>\n",
              "      <th>2</th>\n",
              "      <td>City Hotel</td>\n",
              "      <td>2015-08</td>\n",
              "      <td>2480</td>\n",
              "    </tr>\n",
              "    <tr>\n",
              "      <th>3</th>\n",
              "      <td>Resort Hotel</td>\n",
              "      <td>2015-08</td>\n",
              "      <td>1409</td>\n",
              "    </tr>\n",
              "    <tr>\n",
              "      <th>4</th>\n",
              "      <td>City Hotel</td>\n",
              "      <td>2015-09</td>\n",
              "      <td>3529</td>\n",
              "    </tr>\n",
              "    <tr>\n",
              "      <th>5</th>\n",
              "      <td>Resort Hotel</td>\n",
              "      <td>2015-09</td>\n",
              "      <td>1585</td>\n",
              "    </tr>\n",
              "    <tr>\n",
              "      <th>6</th>\n",
              "      <td>City Hotel</td>\n",
              "      <td>2015-10</td>\n",
              "      <td>3386</td>\n",
              "    </tr>\n",
              "    <tr>\n",
              "      <th>7</th>\n",
              "      <td>Resort Hotel</td>\n",
              "      <td>2015-10</td>\n",
              "      <td>1571</td>\n",
              "    </tr>\n",
              "    <tr>\n",
              "      <th>8</th>\n",
              "      <td>City Hotel</td>\n",
              "      <td>2015-11</td>\n",
              "      <td>1235</td>\n",
              "    </tr>\n",
              "    <tr>\n",
              "      <th>9</th>\n",
              "      <td>Resort Hotel</td>\n",
              "      <td>2015-11</td>\n",
              "      <td>1105</td>\n",
              "    </tr>\n",
              "    <tr>\n",
              "      <th>10</th>\n",
              "      <td>City Hotel</td>\n",
              "      <td>2015-12</td>\n",
              "      <td>1654</td>\n",
              "    </tr>\n",
              "    <tr>\n",
              "      <th>11</th>\n",
              "      <td>Resort Hotel</td>\n",
              "      <td>2015-12</td>\n",
              "      <td>1266</td>\n",
              "    </tr>\n",
              "    <tr>\n",
              "      <th>12</th>\n",
              "      <td>City Hotel</td>\n",
              "      <td>2016-01</td>\n",
              "      <td>1364</td>\n",
              "    </tr>\n",
              "    <tr>\n",
              "      <th>13</th>\n",
              "      <td>Resort Hotel</td>\n",
              "      <td>2016-01</td>\n",
              "      <td>884</td>\n",
              "    </tr>\n",
              "    <tr>\n",
              "      <th>14</th>\n",
              "      <td>City Hotel</td>\n",
              "      <td>2016-02</td>\n",
              "      <td>2371</td>\n",
              "    </tr>\n",
              "    <tr>\n",
              "      <th>15</th>\n",
              "      <td>Resort Hotel</td>\n",
              "      <td>2016-02</td>\n",
              "      <td>1520</td>\n",
              "    </tr>\n",
              "    <tr>\n",
              "      <th>16</th>\n",
              "      <td>City Hotel</td>\n",
              "      <td>2016-03</td>\n",
              "      <td>3046</td>\n",
              "    </tr>\n",
              "    <tr>\n",
              "      <th>17</th>\n",
              "      <td>Resort Hotel</td>\n",
              "      <td>2016-03</td>\n",
              "      <td>1778</td>\n",
              "    </tr>\n",
              "    <tr>\n",
              "      <th>18</th>\n",
              "      <td>City Hotel</td>\n",
              "      <td>2016-04</td>\n",
              "      <td>3561</td>\n",
              "    </tr>\n",
              "    <tr>\n",
              "      <th>19</th>\n",
              "      <td>Resort Hotel</td>\n",
              "      <td>2016-04</td>\n",
              "      <td>1867</td>\n",
              "    </tr>\n",
              "    <tr>\n",
              "      <th>20</th>\n",
              "      <td>City Hotel</td>\n",
              "      <td>2016-05</td>\n",
              "      <td>3676</td>\n",
              "    </tr>\n",
              "    <tr>\n",
              "      <th>21</th>\n",
              "      <td>Resort Hotel</td>\n",
              "      <td>2016-05</td>\n",
              "      <td>1802</td>\n",
              "    </tr>\n",
              "    <tr>\n",
              "      <th>22</th>\n",
              "      <td>City Hotel</td>\n",
              "      <td>2016-06</td>\n",
              "      <td>3923</td>\n",
              "    </tr>\n",
              "    <tr>\n",
              "      <th>23</th>\n",
              "      <td>Resort Hotel</td>\n",
              "      <td>2016-06</td>\n",
              "      <td>1369</td>\n",
              "    </tr>\n",
              "    <tr>\n",
              "      <th>24</th>\n",
              "      <td>City Hotel</td>\n",
              "      <td>2016-07</td>\n",
              "      <td>3131</td>\n",
              "    </tr>\n",
              "    <tr>\n",
              "      <th>25</th>\n",
              "      <td>Resort Hotel</td>\n",
              "      <td>2016-07</td>\n",
              "      <td>1441</td>\n",
              "    </tr>\n",
              "    <tr>\n",
              "      <th>26</th>\n",
              "      <td>City Hotel</td>\n",
              "      <td>2016-08</td>\n",
              "      <td>3378</td>\n",
              "    </tr>\n",
              "    <tr>\n",
              "      <th>27</th>\n",
              "      <td>Resort Hotel</td>\n",
              "      <td>2016-08</td>\n",
              "      <td>1685</td>\n",
              "    </tr>\n",
              "    <tr>\n",
              "      <th>28</th>\n",
              "      <td>City Hotel</td>\n",
              "      <td>2016-09</td>\n",
              "      <td>3871</td>\n",
              "    </tr>\n",
              "    <tr>\n",
              "      <th>29</th>\n",
              "      <td>Resort Hotel</td>\n",
              "      <td>2016-09</td>\n",
              "      <td>1523</td>\n",
              "    </tr>\n",
              "    <tr>\n",
              "      <th>30</th>\n",
              "      <td>City Hotel</td>\n",
              "      <td>2016-10</td>\n",
              "      <td>4219</td>\n",
              "    </tr>\n",
              "    <tr>\n",
              "      <th>31</th>\n",
              "      <td>Resort Hotel</td>\n",
              "      <td>2016-10</td>\n",
              "      <td>1984</td>\n",
              "    </tr>\n",
              "    <tr>\n",
              "      <th>32</th>\n",
              "      <td>City Hotel</td>\n",
              "      <td>2016-11</td>\n",
              "      <td>3122</td>\n",
              "    </tr>\n",
              "    <tr>\n",
              "      <th>33</th>\n",
              "      <td>Resort Hotel</td>\n",
              "      <td>2016-11</td>\n",
              "      <td>1332</td>\n",
              "    </tr>\n",
              "    <tr>\n",
              "      <th>34</th>\n",
              "      <td>City Hotel</td>\n",
              "      <td>2016-12</td>\n",
              "      <td>2478</td>\n",
              "    </tr>\n",
              "    <tr>\n",
              "      <th>35</th>\n",
              "      <td>Resort Hotel</td>\n",
              "      <td>2016-12</td>\n",
              "      <td>1382</td>\n",
              "    </tr>\n",
              "    <tr>\n",
              "      <th>36</th>\n",
              "      <td>City Hotel</td>\n",
              "      <td>2017-01</td>\n",
              "      <td>2372</td>\n",
              "    </tr>\n",
              "    <tr>\n",
              "      <th>37</th>\n",
              "      <td>Resort Hotel</td>\n",
              "      <td>2017-01</td>\n",
              "      <td>1309</td>\n",
              "    </tr>\n",
              "    <tr>\n",
              "      <th>38</th>\n",
              "      <td>City Hotel</td>\n",
              "      <td>2017-02</td>\n",
              "      <td>2594</td>\n",
              "    </tr>\n",
              "    <tr>\n",
              "      <th>39</th>\n",
              "      <td>Resort Hotel</td>\n",
              "      <td>2017-02</td>\n",
              "      <td>1583</td>\n",
              "    </tr>\n",
              "    <tr>\n",
              "      <th>40</th>\n",
              "      <td>City Hotel</td>\n",
              "      <td>2017-03</td>\n",
              "      <td>3412</td>\n",
              "    </tr>\n",
              "    <tr>\n",
              "      <th>41</th>\n",
              "      <td>Resort Hotel</td>\n",
              "      <td>2017-03</td>\n",
              "      <td>1558</td>\n",
              "    </tr>\n",
              "    <tr>\n",
              "      <th>42</th>\n",
              "      <td>City Hotel</td>\n",
              "      <td>2017-04</td>\n",
              "      <td>3919</td>\n",
              "    </tr>\n",
              "    <tr>\n",
              "      <th>43</th>\n",
              "      <td>Resort Hotel</td>\n",
              "      <td>2017-04</td>\n",
              "      <td>1742</td>\n",
              "    </tr>\n",
              "    <tr>\n",
              "      <th>44</th>\n",
              "      <td>City Hotel</td>\n",
              "      <td>2017-05</td>\n",
              "      <td>4556</td>\n",
              "    </tr>\n",
              "    <tr>\n",
              "      <th>45</th>\n",
              "      <td>Resort Hotel</td>\n",
              "      <td>2017-05</td>\n",
              "      <td>1757</td>\n",
              "    </tr>\n",
              "    <tr>\n",
              "      <th>46</th>\n",
              "      <td>City Hotel</td>\n",
              "      <td>2017-06</td>\n",
              "      <td>3971</td>\n",
              "    </tr>\n",
              "    <tr>\n",
              "      <th>47</th>\n",
              "      <td>Resort Hotel</td>\n",
              "      <td>2017-06</td>\n",
              "      <td>1676</td>\n",
              "    </tr>\n",
              "    <tr>\n",
              "      <th>48</th>\n",
              "      <td>City Hotel</td>\n",
              "      <td>2017-07</td>\n",
              "      <td>3559</td>\n",
              "    </tr>\n",
              "    <tr>\n",
              "      <th>49</th>\n",
              "      <td>Resort Hotel</td>\n",
              "      <td>2017-07</td>\n",
              "      <td>1754</td>\n",
              "    </tr>\n",
              "    <tr>\n",
              "      <th>50</th>\n",
              "      <td>City Hotel</td>\n",
              "      <td>2017-08</td>\n",
              "      <td>3125</td>\n",
              "    </tr>\n",
              "    <tr>\n",
              "      <th>51</th>\n",
              "      <td>Resort Hotel</td>\n",
              "      <td>2017-08</td>\n",
              "      <td>1800</td>\n",
              "    </tr>\n",
              "  </tbody>\n",
              "</table>\n",
              "</div>\n",
              "      <button class=\"colab-df-convert\" onclick=\"convertToInteractive('df-e71275c1-dec3-46fc-815d-e121d8a7f330')\"\n",
              "              title=\"Convert this dataframe to an interactive table.\"\n",
              "              style=\"display:none;\">\n",
              "        \n",
              "  <svg xmlns=\"http://www.w3.org/2000/svg\" height=\"24px\"viewBox=\"0 0 24 24\"\n",
              "       width=\"24px\">\n",
              "    <path d=\"M0 0h24v24H0V0z\" fill=\"none\"/>\n",
              "    <path d=\"M18.56 5.44l.94 2.06.94-2.06 2.06-.94-2.06-.94-.94-2.06-.94 2.06-2.06.94zm-11 1L8.5 8.5l.94-2.06 2.06-.94-2.06-.94L8.5 2.5l-.94 2.06-2.06.94zm10 10l.94 2.06.94-2.06 2.06-.94-2.06-.94-.94-2.06-.94 2.06-2.06.94z\"/><path d=\"M17.41 7.96l-1.37-1.37c-.4-.4-.92-.59-1.43-.59-.52 0-1.04.2-1.43.59L10.3 9.45l-7.72 7.72c-.78.78-.78 2.05 0 2.83L4 21.41c.39.39.9.59 1.41.59.51 0 1.02-.2 1.41-.59l7.78-7.78 2.81-2.81c.8-.78.8-2.07 0-2.86zM5.41 20L4 18.59l7.72-7.72 1.47 1.35L5.41 20z\"/>\n",
              "  </svg>\n",
              "      </button>\n",
              "      \n",
              "  <style>\n",
              "    .colab-df-container {\n",
              "      display:flex;\n",
              "      flex-wrap:wrap;\n",
              "      gap: 12px;\n",
              "    }\n",
              "\n",
              "    .colab-df-convert {\n",
              "      background-color: #E8F0FE;\n",
              "      border: none;\n",
              "      border-radius: 50%;\n",
              "      cursor: pointer;\n",
              "      display: none;\n",
              "      fill: #1967D2;\n",
              "      height: 32px;\n",
              "      padding: 0 0 0 0;\n",
              "      width: 32px;\n",
              "    }\n",
              "\n",
              "    .colab-df-convert:hover {\n",
              "      background-color: #E2EBFA;\n",
              "      box-shadow: 0px 1px 2px rgba(60, 64, 67, 0.3), 0px 1px 3px 1px rgba(60, 64, 67, 0.15);\n",
              "      fill: #174EA6;\n",
              "    }\n",
              "\n",
              "    [theme=dark] .colab-df-convert {\n",
              "      background-color: #3B4455;\n",
              "      fill: #D2E3FC;\n",
              "    }\n",
              "\n",
              "    [theme=dark] .colab-df-convert:hover {\n",
              "      background-color: #434B5C;\n",
              "      box-shadow: 0px 1px 3px 1px rgba(0, 0, 0, 0.15);\n",
              "      filter: drop-shadow(0px 1px 2px rgba(0, 0, 0, 0.3));\n",
              "      fill: #FFFFFF;\n",
              "    }\n",
              "  </style>\n",
              "\n",
              "      <script>\n",
              "        const buttonEl =\n",
              "          document.querySelector('#df-e71275c1-dec3-46fc-815d-e121d8a7f330 button.colab-df-convert');\n",
              "        buttonEl.style.display =\n",
              "          google.colab.kernel.accessAllowed ? 'block' : 'none';\n",
              "\n",
              "        async function convertToInteractive(key) {\n",
              "          const element = document.querySelector('#df-e71275c1-dec3-46fc-815d-e121d8a7f330');\n",
              "          const dataTable =\n",
              "            await google.colab.kernel.invokeFunction('convertToInteractive',\n",
              "                                                     [key], {});\n",
              "          if (!dataTable) return;\n",
              "\n",
              "          const docLinkHtml = 'Like what you see? Visit the ' +\n",
              "            '<a target=\"_blank\" href=https://colab.research.google.com/notebooks/data_table.ipynb>data table notebook</a>'\n",
              "            + ' to learn more about interactive tables.';\n",
              "          element.innerHTML = '';\n",
              "          dataTable['output_type'] = 'display_data';\n",
              "          await google.colab.output.renderOutput(dataTable, element);\n",
              "          const docLink = document.createElement('div');\n",
              "          docLink.innerHTML = docLinkHtml;\n",
              "          element.appendChild(docLink);\n",
              "        }\n",
              "      </script>\n",
              "    </div>\n",
              "  </div>\n",
              "  "
            ]
          },
          "metadata": {},
          "execution_count": 47
        }
      ]
    },
    {
      "cell_type": "code",
      "source": [
        "sns.relplot(data=plot_df, x='year_month_arrival', y='count', hue='hotel', kind='line').set_xticklabels(rotation=90)"
      ],
      "metadata": {
        "colab": {
          "base_uri": "https://localhost:8080/",
          "height": 420
        },
        "id": "Un2UcTKHxvyh",
        "outputId": "e859807d-374b-433d-d518-6b58a8df641b"
      },
      "execution_count": null,
      "outputs": [
        {
          "output_type": "execute_result",
          "data": {
            "text/plain": [
              "<seaborn.axisgrid.FacetGrid at 0x7f5bf97d6f90>"
            ]
          },
          "metadata": {},
          "execution_count": 48
        },
        {
          "output_type": "display_data",
          "data": {
            "text/plain": [
              "<Figure size 457.25x360 with 1 Axes>"
            ],
            "image/png": "[encoded data removed]"
          },
          "metadata": {
            "needs_background": "light"
          }
        }
      ]
    },
    {
      "cell_type": "markdown",
      "source": [
        "# 20. พล็อต histogram แสดงการกระจายตัวของจํานวนผู้เข้าพักในหนึ่งวัน (นํามาจากตารางที่คํานวณในข้อ 13 ได้)"
      ],
      "metadata": {
        "id": "2qxdwSQXyynE"
      }
    },
    {
      "cell_type": "code",
      "source": [
        "booking_df = daily_count_df.withColumnRenamed('count', 'daily_customer').toPandas()"
      ],
      "metadata": {
        "id": "4yzlmAc14Jwf"
      },
      "execution_count": null,
      "outputs": []
    },
    {
      "cell_type": "code",
      "source": [
        "sns.displot(booking_df['daily_customer'], kind='hist')"
      ],
      "metadata": {
        "colab": {
          "base_uri": "https://localhost:8080/",
          "height": 387
        },
        "id": "ADfxS1Ux4RPb",
        "outputId": "dcb2b3ea-e3b6-40a6-fb96-2ee0d3167fb4"
      },
      "execution_count": null,
      "outputs": [
        {
          "output_type": "execute_result",
          "data": {
            "text/plain": [
              "<seaborn.axisgrid.FacetGrid at 0x7f5bf9b8ef90>"
            ]
          },
          "metadata": {},
          "execution_count": 42
        },
        {
          "output_type": "display_data",
          "data": {
            "text/plain": [
              "<Figure size 360x360 with 1 Axes>"
            ],
            "image/png": "[encoded data removed]"
          },
          "metadata": {
            "needs_background": "light"
          }
        }
      ]
    },
    {
      "cell_type": "code",
      "source": [
        ""
      ],
      "metadata": {
        "id": "1Lsv2yiSGj3p"
      },
      "execution_count": null,
      "outputs": []
    }
  ]
}