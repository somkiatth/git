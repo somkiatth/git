{
  "nbformat": 4,
  "nbformat_minor": 0,
  "metadata": {
    "colab": {
      "provenance": [],
      "include_colab_link": true
    },
    "kernelspec": {
      "name": "python3",
      "display_name": "Python 3"
    },
    "language_info": {
      "name": "python"
    }
  },
  "cells": [
    {
      "cell_type": "markdown",
      "metadata": {
        "id": "view-in-github",
        "colab_type": "text"
      },
      "source": [
        "<a href=\"https://colab.research.google.com/github/somkiatth/git/blob/master/TUCopy_of_Name_EDA_LAB2.ipynb\" target=\"_parent\"><img src=\"https://colab.research.google.com/assets/colab-badge.svg\" alt=\"Open In Colab\"/></a>"
      ]
    },
    {
      "cell_type": "markdown",
      "source": [
        "# Import library\n",
        "\n",
        "\n"
      ],
      "metadata": {
        "id": "ART_phTBwaYq"
      }
    },
    {
      "cell_type": "code",
      "source": [
        "# import package library\n",
        "import numpy as np\n",
        "import pandas as pd\n",
        "# some imports to set up plotting\n",
        "import matplotlib.pyplot as plt\n",
        "import seaborn as sns"
      ],
      "metadata": {
        "id": "B7YQv3_8EMkc"
      },
      "execution_count": null,
      "outputs": []
    },
    {
      "cell_type": "markdown",
      "source": [
        "# Data Preprocessing"
      ],
      "metadata": {
        "id": "srQyo4RmcURR"
      }
    },
    {
      "cell_type": "markdown",
      "source": [
        "## Dealing with missing values"
      ],
      "metadata": {
        "id": "ilutfSmPp2mY"
      }
    },
    {
      "cell_type": "markdown",
      "source": [
        "Import data from temporary storage:"
      ],
      "metadata": {
        "id": "NQRvd2anm9qT"
      }
    },
    {
      "cell_type": "code",
      "source": [],
      "metadata": {
        "id": "1d_Pub2ngVBX"
      },
      "execution_count": null,
      "outputs": []
    },
    {
      "cell_type": "code",
      "source": [
        "df = pd.read_csv('Operations_empty.csv')\n",
        "df.head()"
      ],
      "metadata": {
        "id": "ho4CkQSSEjOv"
      },
      "execution_count": null,
      "outputs": []
    },
    {
      "cell_type": "code",
      "source": [],
      "metadata": {
        "id": "z2aVUK50hDBM"
      },
      "execution_count": null,
      "outputs": []
    },
    {
      "cell_type": "code",
      "source": [],
      "metadata": {
        "id": "KcQp1LQM1vln"
      },
      "execution_count": null,
      "outputs": []
    },
    {
      "cell_type": "markdown",
      "source": [
        "### Drop NA"
      ],
      "metadata": {
        "id": "HAmvaG4ttuNS"
      }
    },
    {
      "cell_type": "code",
      "source": [
        "# count NAN in each column\n"
      ],
      "metadata": {
        "id": "MOdwzetvaw8I"
      },
      "execution_count": null,
      "outputs": []
    },
    {
      "cell_type": "code",
      "source": [
        "# drop na"
      ],
      "metadata": {
        "id": "rEdTKV1FEnS4"
      },
      "execution_count": null,
      "outputs": []
    },
    {
      "cell_type": "code",
      "source": [],
      "metadata": {
        "id": "3mNpfbyGg979"
      },
      "execution_count": null,
      "outputs": []
    },
    {
      "cell_type": "code",
      "source": [
        "# ลบแถวของข้อมูลที่มีค่า NaN ในคอลัมน์ 'Purchases'\n",
        "df.dropna(subset = ['Purchases'], axis = 0, inplace = True)\n",
        "df"
      ],
      "metadata": {
        "id": "o_RWmxOh9JkU"
      },
      "execution_count": null,
      "outputs": []
    },
    {
      "cell_type": "markdown",
      "source": [
        "### Replace NA with Mean"
      ],
      "metadata": {
        "id": "FnIfXka_txcr"
      }
    },
    {
      "cell_type": "code",
      "source": [
        "# find mean of 'Sales'\n",
        "sales_mean ="
      ],
      "metadata": {
        "id": "gkgoLJZJbqee"
      },
      "execution_count": null,
      "outputs": []
    },
    {
      "cell_type": "code",
      "source": [
        "sales_mean"
      ],
      "metadata": {
        "id": "MdAkoi37cIP_"
      },
      "execution_count": null,
      "outputs": []
    },
    {
      "cell_type": "code",
      "source": [
        "# แทนค่าข้อมูลที่มีค่า NaN ด้วยค่าเฉลี่ยของ Sales ในคอลัมน์ Sales\n",
        "df_testfill = df.copy()\n",
        "df['Sales'].fillna(value = int(df['Sales'].mean()), inplace=True)\n",
        "df"
      ],
      "metadata": {
        "id": "jFk9P0tTBvMb"
      },
      "execution_count": null,
      "outputs": []
    },
    {
      "cell_type": "code",
      "source": [
        "# นับค่า NaN ของ df_testfill"
      ],
      "metadata": {
        "id": "d0giWKp9C5DG"
      },
      "execution_count": null,
      "outputs": []
    },
    {
      "cell_type": "code",
      "source": [
        "sales_mean = df['Sales'].mean()\n",
        "df['Sales'] = df['Sales'].replace(np.nan, int(sales_mean))\n",
        "df"
      ],
      "metadata": {
        "id": "CbQaFicQcOg0"
      },
      "execution_count": null,
      "outputs": []
    },
    {
      "cell_type": "code",
      "source": [
        "df.isna().sum()"
      ],
      "metadata": {
        "id": "NhqSZY3ecxhg"
      },
      "execution_count": null,
      "outputs": []
    },
    {
      "cell_type": "markdown",
      "source": [
        "## Dealing with duplicate data"
      ],
      "metadata": {
        "id": "W_ZhDMS9vF-p"
      }
    },
    {
      "cell_type": "code",
      "source": [
        "# Construct new data frame from dictionary, data_df\n",
        "data_df  = {'Name': ['Arpit', 'Riya', 'Priyanka', 'Aman', 'Arpit', 'Rohan', 'Riya', 'Sakshi'],\n",
        "\n",
        "           'Employment Type': ['Full-time Employee', 'Part-time Employee', 'Intern', 'Intern',\n",
        "                               'Full-time Employee', 'Part-time Employee', 'Part-time Employee', 'Full-time Employee'],\n",
        "\n",
        "           'Department': ['Administration', 'Marketing', 'Technical', 'Marketing',\n",
        "                          'Administration', 'Technical', 'Marketing', 'Administration']}\n",
        "\n",
        "# data_df\n",
        "\n",
        "df_emp = pd.DataFrame(data_df)\n",
        "df_emp"
      ],
      "metadata": {
        "id": "LMf_B2AHEpwG"
      },
      "execution_count": null,
      "outputs": []
    },
    {
      "cell_type": "code",
      "source": [
        "#นับจำนวนข้อมูลที่มีค่าซ้ำ"
      ],
      "metadata": {
        "id": "CJd8_h9-EtNo"
      },
      "execution_count": null,
      "outputs": []
    },
    {
      "cell_type": "markdown",
      "source": [
        "### Drop duplicate keep first"
      ],
      "metadata": {
        "id": "jqxIpcvKiL9u"
      }
    },
    {
      "cell_type": "code",
      "source": [
        "bool_series = df_emp.duplicated()\n",
        "bool_series"
      ],
      "metadata": {
        "id": "O5OGLNOJiLTe"
      },
      "execution_count": null,
      "outputs": []
    },
    {
      "cell_type": "code",
      "source": [
        "df_emp[~bool_series]"
      ],
      "metadata": {
        "id": "R9R2l4uwik6v"
      },
      "execution_count": null,
      "outputs": []
    },
    {
      "cell_type": "markdown",
      "source": [
        "## Data Formatting"
      ],
      "metadata": {
        "id": "rhsTWxTrzo4b"
      }
    },
    {
      "cell_type": "code",
      "source": [
        "df"
      ],
      "metadata": {
        "id": "AYCufwMF0OYD"
      },
      "execution_count": null,
      "outputs": []
    },
    {
      "cell_type": "code",
      "source": [
        "#สร้าง column ใหม่\n",
        "df['Purchases in thousands'] =\n",
        "df['Sales in thousands'] =\n",
        "df['Refunds in thousands'] =\n",
        "df"
      ],
      "metadata": {
        "id": "tTiqa58OlYT5"
      },
      "execution_count": null,
      "outputs": []
    },
    {
      "cell_type": "code",
      "source": [
        "#ตรวจสอบชนิดข้อมูลในแต่ละคอลัมน์\n",
        "df.dtypes"
      ],
      "metadata": {
        "id": "ryCw9hu_lx_S"
      },
      "execution_count": null,
      "outputs": []
    },
    {
      "cell_type": "code",
      "source": [
        "#เปลี่ยนชนิดข้อมูล\n",
        "df = df.astype({'Customer': object})"
      ],
      "metadata": {
        "id": "WzFDhO6al866"
      },
      "execution_count": null,
      "outputs": []
    },
    {
      "cell_type": "code",
      "source": [
        "#ลองเช็คชนิดข้อมูลในแต่ละคอลัมน์อีกรอบ\n",
        "df.dtypes"
      ],
      "metadata": {
        "id": "s_t8zL-hmNwY"
      },
      "execution_count": null,
      "outputs": []
    },
    {
      "cell_type": "markdown",
      "source": [
        "## Data Scaling"
      ],
      "metadata": {
        "id": "-zj2JoCj2akX"
      }
    },
    {
      "cell_type": "code",
      "source": [
        "df_employee = pd.read_csv('Employees.csv')\n",
        "df_employee"
      ],
      "metadata": {
        "id": "Em4-O2JME5vF"
      },
      "execution_count": null,
      "outputs": []
    },
    {
      "cell_type": "markdown",
      "source": [
        "### Simple Feature Scaling"
      ],
      "metadata": {
        "id": "j9fkHnaT2m5K"
      }
    },
    {
      "cell_type": "code",
      "source": [
        "df_norm1 = df_employee.copy()\n",
        "df_norm1"
      ],
      "metadata": {
        "id": "3LlzqVzOFunb"
      },
      "execution_count": null,
      "outputs": []
    },
    {
      "cell_type": "code",
      "source": [
        "df_norm1['Age'].max()"
      ],
      "metadata": {
        "id": "qEsBhpacooKg"
      },
      "execution_count": null,
      "outputs": []
    },
    {
      "cell_type": "code",
      "source": [
        "df_norm1['Age'] = df_norm1['Age']/df_norm1['Age'].max()\n",
        "df_norm1['Salary'] = df_norm1['Salary']/df_norm1['Salary'].max()\n",
        "df_norm1"
      ],
      "metadata": {
        "id": "2DfX2X4boboT"
      },
      "execution_count": null,
      "outputs": []
    },
    {
      "cell_type": "markdown",
      "source": [
        "### Min-Max scaling"
      ],
      "metadata": {
        "id": "Lo80ha8J3DCm"
      }
    },
    {
      "cell_type": "code",
      "source": [
        "from sklearn.preprocessing import MinMaxScaler"
      ],
      "metadata": {
        "id": "3eDJI-9GFvkc"
      },
      "execution_count": null,
      "outputs": []
    },
    {
      "cell_type": "code",
      "source": [
        "df_norm2 = df_employee.copy()"
      ],
      "metadata": {
        "id": "1psoPOjEqc7b"
      },
      "execution_count": null,
      "outputs": []
    },
    {
      "cell_type": "code",
      "source": [
        "scaler = MinMaxScaler()\n",
        "df_norm2[['Age', 'Salary']] = scaler.fit_transform(df_norm2[['Age', 'Salary']])\n",
        "df_norm2"
      ],
      "metadata": {
        "id": "61OK01khp-xs"
      },
      "execution_count": null,
      "outputs": []
    },
    {
      "cell_type": "markdown",
      "source": [
        "### Standard Scaling"
      ],
      "metadata": {
        "id": "LTlvH7QM3KsF"
      }
    },
    {
      "cell_type": "code",
      "source": [
        "from sklearn.preprocessing import StandardScaler"
      ],
      "metadata": {
        "id": "BEWVfDmMFweW"
      },
      "execution_count": null,
      "outputs": []
    },
    {
      "cell_type": "code",
      "source": [
        "df_norm3 = df_employee.copy()"
      ],
      "metadata": {
        "id": "20Ty6pOFrJHc"
      },
      "execution_count": null,
      "outputs": []
    },
    {
      "cell_type": "code",
      "source": [
        "scaler = StandardScaler()\n",
        "df_norm3[['Age', 'Salary']] = scaler.fit_transform(df_norm3[['Age', 'Salary']])\n",
        "df_norm3"
      ],
      "metadata": {
        "id": "pQtfZcJVrNvx"
      },
      "execution_count": null,
      "outputs": []
    },
    {
      "cell_type": "markdown",
      "source": [
        "## Grouping Numerical Value into Classes"
      ],
      "metadata": {
        "id": "kw3uF3myEq22"
      }
    },
    {
      "cell_type": "code",
      "source": [
        "df"
      ],
      "metadata": {
        "id": "SkS4q0tWdS7q"
      },
      "execution_count": null,
      "outputs": []
    },
    {
      "cell_type": "code",
      "source": [
        "df.head()"
      ],
      "metadata": {
        "id": "LBYY2rGUFDKe"
      },
      "execution_count": null,
      "outputs": []
    },
    {
      "cell_type": "code",
      "source": [
        "my_class = np.linspace(start=min(df['Sales']), stop=max(df['Sales']), num=4)"
      ],
      "metadata": {
        "id": "2P4ipqKPsYsL"
      },
      "execution_count": null,
      "outputs": []
    },
    {
      "cell_type": "code",
      "source": [
        "my_class"
      ],
      "metadata": {
        "id": "ntL_xJb4tDza"
      },
      "execution_count": null,
      "outputs": []
    },
    {
      "cell_type": "code",
      "source": [
        "group_names = [\"Low\", \"Medium\", \"High\"]"
      ],
      "metadata": {
        "id": "82V7ZOyRtFjJ"
      },
      "execution_count": null,
      "outputs": []
    },
    {
      "cell_type": "code",
      "source": [
        "df['Group Sales'] = pd.cut(df['Sales'], my_class, labels=group_names, include_lowest=True)"
      ],
      "metadata": {
        "id": "3fneUoiZtSyf"
      },
      "execution_count": null,
      "outputs": []
    },
    {
      "cell_type": "code",
      "source": [
        "df"
      ],
      "metadata": {
        "id": "G_tneaaYt0b7"
      },
      "execution_count": null,
      "outputs": []
    },
    {
      "cell_type": "markdown",
      "source": [
        "## Converting a categorical variable to numeric."
      ],
      "metadata": {
        "id": "PY2ICp0YEqnL"
      }
    },
    {
      "cell_type": "code",
      "source": [
        "df.head(3)"
      ],
      "metadata": {
        "id": "bFzag34mFC3V"
      },
      "execution_count": null,
      "outputs": []
    },
    {
      "cell_type": "code",
      "source": [
        "df['Payment Type'].unique()"
      ],
      "metadata": {
        "id": "aepQ6uxMedRU"
      },
      "execution_count": null,
      "outputs": []
    },
    {
      "cell_type": "code",
      "source": [
        "df_dummies = pd.get_dummies(df['Payment Type'])"
      ],
      "metadata": {
        "id": "KG5HEGyTvPJ4"
      },
      "execution_count": null,
      "outputs": []
    },
    {
      "cell_type": "code",
      "source": [
        "df_dummies"
      ],
      "metadata": {
        "id": "37mYn8_me6Yl"
      },
      "execution_count": null,
      "outputs": []
    },
    {
      "cell_type": "code",
      "source": [
        "pd.concat([df, df_dummies], axis=1)"
      ],
      "metadata": {
        "id": "HmYajPArvni7"
      },
      "execution_count": null,
      "outputs": []
    },
    {
      "cell_type": "markdown",
      "source": [
        "# EDA"
      ],
      "metadata": {
        "id": "O6l8XrFYEqxm"
      }
    },
    {
      "cell_type": "markdown",
      "source": [
        "## Univariate non-graphical EDA: Categorical Data"
      ],
      "metadata": {
        "id": "RlCo8mxJFK8Z"
      }
    },
    {
      "cell_type": "code",
      "source": [
        "df_operations = pd.read_csv('Operations.csv')\n",
        "df_operations.head(3)"
      ],
      "metadata": {
        "id": "qp8UEbqhFtI7"
      },
      "execution_count": null,
      "outputs": []
    },
    {
      "cell_type": "code",
      "source": [],
      "metadata": {
        "id": "ElOFgAzaEFOD"
      },
      "execution_count": null,
      "outputs": []
    },
    {
      "cell_type": "code",
      "source": [],
      "metadata": {
        "id": "n1ytOR-3fisR"
      },
      "execution_count": null,
      "outputs": []
    },
    {
      "cell_type": "code",
      "source": [],
      "metadata": {
        "id": "7fqfvboaEKgD"
      },
      "execution_count": null,
      "outputs": []
    },
    {
      "cell_type": "code",
      "source": [],
      "metadata": {
        "id": "IaHFsfzOEcxp"
      },
      "execution_count": null,
      "outputs": []
    },
    {
      "cell_type": "markdown",
      "source": [
        "## Univariate non-graphical EDA: Numerical Data"
      ],
      "metadata": {
        "id": "AyqFAxzfFRkr"
      }
    },
    {
      "cell_type": "code",
      "source": [],
      "metadata": {
        "id": "NN3L9lMJFs4F"
      },
      "execution_count": null,
      "outputs": []
    },
    {
      "cell_type": "markdown",
      "source": [
        "## Univariate Graphical EDA: Categorical Data"
      ],
      "metadata": {
        "id": "cR2lIzkLFV3i"
      }
    },
    {
      "cell_type": "code",
      "source": [],
      "metadata": {
        "id": "wTic9XdoclTz"
      },
      "execution_count": null,
      "outputs": []
    },
    {
      "cell_type": "code",
      "source": [
        "#สร้าง Bar plot ของ Payment Type"
      ],
      "metadata": {
        "id": "dEVQLzCYFKPE"
      },
      "execution_count": null,
      "outputs": []
    },
    {
      "cell_type": "code",
      "source": [
        "#สร้าง Bar plot ของ Continent"
      ],
      "metadata": {
        "id": "NnP9QWE1G9sH"
      },
      "execution_count": null,
      "outputs": []
    },
    {
      "cell_type": "markdown",
      "source": [
        "## Univariate Graphical EDA: Numerical Data"
      ],
      "metadata": {
        "id": "ILtJzBBzFYfP"
      }
    },
    {
      "cell_type": "markdown",
      "source": [
        "### Histogram"
      ],
      "metadata": {
        "id": "UxspW4YPWl5O"
      }
    },
    {
      "cell_type": "code",
      "source": [
        "df_operations.head()"
      ],
      "metadata": {
        "id": "9wyOo2gIFrAs"
      },
      "execution_count": null,
      "outputs": []
    },
    {
      "cell_type": "code",
      "source": [
        "df_operations['Purchases'].plot.hist(bins=30)"
      ],
      "metadata": {
        "id": "_n-CjwMGGN9m"
      },
      "execution_count": null,
      "outputs": []
    },
    {
      "cell_type": "markdown",
      "source": [
        "### Boxplot"
      ],
      "metadata": {
        "id": "7cpP7fbeWofd"
      }
    },
    {
      "cell_type": "code",
      "source": [
        "df_operations['Purchases'].plot(kind='box')\n",
        "plt.title(\"Box Plot\")"
      ],
      "metadata": {
        "id": "pipZ_SlwFrzT"
      },
      "execution_count": null,
      "outputs": []
    },
    {
      "cell_type": "markdown",
      "source": [
        "## Multivariate Graphical EDA"
      ],
      "metadata": {
        "id": "WZ-1Vae4Fdoy"
      }
    },
    {
      "cell_type": "code",
      "source": [
        "df_operations.head()"
      ],
      "metadata": {
        "id": "aVoN4Y0eFqej"
      },
      "execution_count": null,
      "outputs": []
    },
    {
      "cell_type": "code",
      "source": [],
      "metadata": {
        "id": "nJ8Akqu5K1fY"
      },
      "execution_count": null,
      "outputs": []
    },
    {
      "cell_type": "markdown",
      "source": [
        "### Scatter Plot"
      ],
      "metadata": {
        "id": "o8agi9qGe-Yh"
      }
    },
    {
      "cell_type": "code",
      "source": [
        "df_fat = pd.read_csv('Fat_Supply_Quantity_Data.csv')\n",
        "df_fat.head(3)"
      ],
      "metadata": {
        "id": "ziS9F4udFqMm"
      },
      "execution_count": null,
      "outputs": []
    },
    {
      "cell_type": "code",
      "source": [
        "df_fat.dtypes"
      ],
      "metadata": {
        "id": "zR1Z32a4PVvm"
      },
      "execution_count": null,
      "outputs": []
    },
    {
      "cell_type": "code",
      "source": [
        "df_fat.shape"
      ],
      "metadata": {
        "id": "5u_kiqWjMqay"
      },
      "execution_count": null,
      "outputs": []
    },
    {
      "cell_type": "code",
      "source": [
        "df_fat.isna().sum()"
      ],
      "metadata": {
        "id": "NjEaHNHpMvyt"
      },
      "execution_count": null,
      "outputs": []
    },
    {
      "cell_type": "code",
      "source": [
        "df_fat = df_fat.dropna()"
      ],
      "metadata": {
        "id": "zFD1sAPjM1zq"
      },
      "execution_count": null,
      "outputs": []
    },
    {
      "cell_type": "code",
      "source": [
        "df_fat.isna().sum()"
      ],
      "metadata": {
        "id": "jAcxvpNPM64H"
      },
      "execution_count": null,
      "outputs": []
    },
    {
      "cell_type": "code",
      "source": [
        "df_fat.plot.scatter(x='Animal fats', y='Animal Products')"
      ],
      "metadata": {
        "id": "A5aGv1CMNWQD"
      },
      "execution_count": null,
      "outputs": []
    },
    {
      "cell_type": "code",
      "source": [],
      "metadata": {
        "id": "L4KQ2wEhNA2C"
      },
      "execution_count": null,
      "outputs": []
    },
    {
      "cell_type": "code",
      "source": [
        "sns.lmplot(x='Vegetable Oils',y= 'Animal Products', data=df_fat)"
      ],
      "metadata": {
        "id": "j6lrwKszNioz"
      },
      "execution_count": null,
      "outputs": []
    },
    {
      "cell_type": "markdown",
      "source": [
        "### Correlation Analysis"
      ],
      "metadata": {
        "id": "jhNHQExWlK4m"
      }
    },
    {
      "cell_type": "code",
      "source": [
        "from scipy import stats"
      ],
      "metadata": {
        "id": "C06mKImcwOJ2"
      },
      "execution_count": null,
      "outputs": []
    },
    {
      "cell_type": "code",
      "source": [
        "pearson_coef, p_value = stats.pearsonr(df_fat['Animal Products'], df_fat['Meat'])"
      ],
      "metadata": {
        "id": "It63CXPwSfJa"
      },
      "execution_count": null,
      "outputs": []
    },
    {
      "cell_type": "code",
      "source": [
        "pearson_coef"
      ],
      "metadata": {
        "id": "BAVwIEFrSyHS"
      },
      "execution_count": null,
      "outputs": []
    },
    {
      "cell_type": "code",
      "source": [
        "p_value"
      ],
      "metadata": {
        "id": "kKjqFj_4Sz4z"
      },
      "execution_count": null,
      "outputs": []
    },
    {
      "cell_type": "code",
      "source": [
        "if p_value < 0.001:\n",
        "    print(\"High certainty\")\n",
        "elif p_value < 0.05:\n",
        "    print(\"Moderate certainty\")\n",
        "elif p_value < 0.1:\n",
        "    print(\"Low certainty\")\n",
        "else:\n",
        "    print(\"Lack of certainty\")"
      ],
      "metadata": {
        "colab": {
          "base_uri": "https://localhost:8080/"
        },
        "id": "GYypwZRPS6O9",
        "outputId": "c65931af-68e2-4255-962b-969791b228bc"
      },
      "execution_count": null,
      "outputs": [
        {
          "output_type": "stream",
          "name": "stdout",
          "text": [
            "High certainty\n"
          ]
        }
      ]
    },
    {
      "cell_type": "code",
      "source": [
        "#หาค่า correlation ของ df_fat"
      ],
      "metadata": {
        "id": "e5t-hWv3TCZC"
      },
      "execution_count": null,
      "outputs": []
    },
    {
      "cell_type": "code",
      "source": [
        "plt.figure(figsize=(20, 10))\n",
        "sns.heatmap(c)"
      ],
      "metadata": {
        "id": "6b9Yd69lTaAz"
      },
      "execution_count": null,
      "outputs": []
    },
    {
      "cell_type": "code",
      "source": [
        "#หาค่า correlation ของคอลัมน์ Obesity และ Animal Products ใน df_fat"
      ],
      "metadata": {
        "id": "TQdYLS33TMlZ"
      },
      "execution_count": null,
      "outputs": []
    },
    {
      "cell_type": "code",
      "source": [
        "plt.figure(figsize=(10, 5))\n",
        "sns.heatmap(c2, annot=True)"
      ],
      "metadata": {
        "id": "ennOYTJNUYti"
      },
      "execution_count": null,
      "outputs": []
    },
    {
      "cell_type": "code",
      "source": [
        "from pandas.plotting import scatter_matrix"
      ],
      "metadata": {
        "id": "XiOxTwmMUu1g"
      },
      "execution_count": null,
      "outputs": []
    },
    {
      "cell_type": "code",
      "source": [
        "scatter_matrix(df_fat[['Animal Products', 'Meat', 'Obesity']])"
      ],
      "metadata": {
        "id": "s44_WEtdZvn1"
      },
      "execution_count": null,
      "outputs": []
    },
    {
      "cell_type": "markdown",
      "source": [
        "### Cross Tab (Categorical)"
      ],
      "metadata": {
        "id": "75VkTqTPaPCg"
      }
    },
    {
      "cell_type": "code",
      "source": [
        "df_operations.head()"
      ],
      "metadata": {
        "id": "vovvf_kLZ3rd"
      },
      "execution_count": null,
      "outputs": []
    },
    {
      "cell_type": "code",
      "source": [
        "cross_tab = pd.crosstab(index=df_operations['Country'], columns=df_operations['Payment Type'])"
      ],
      "metadata": {
        "id": "y1T-EWmCaNy1"
      },
      "execution_count": null,
      "outputs": []
    },
    {
      "cell_type": "code",
      "source": [
        "cross_tab"
      ],
      "metadata": {
        "id": "hvjb9TeSawOM"
      },
      "execution_count": null,
      "outputs": []
    },
    {
      "cell_type": "code",
      "source": [
        "# Country Payment Type\n",
        "cross_tab_prob = pd.crosstab(index=df_operations['Country'], columns=df_operations['Payment Type'], normalize=\"index\")"
      ],
      "metadata": {
        "id": "3n6p8HVMaxPC"
      },
      "execution_count": null,
      "outputs": []
    },
    {
      "cell_type": "code",
      "source": [
        "cross_tab_prob"
      ],
      "metadata": {
        "id": "HQoSZj9HbHkU"
      },
      "execution_count": null,
      "outputs": []
    },
    {
      "cell_type": "code",
      "source": [
        "cross_tab_prob.plot(kind='bar', stacked=True)"
      ],
      "metadata": {
        "id": "YtUpw7bFbbmu"
      },
      "execution_count": null,
      "outputs": []
    }
  ]
}