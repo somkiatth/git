{
  "nbformat": 4,
  "nbformat_minor": 0,
  "metadata": {
    "colab": {
      "provenance": [],
      "include_colab_link": true
    },
    "kernelspec": {
      "name": "python3",
      "display_name": "Python 3"
    }
  },
  "cells": [
    {
      "cell_type": "markdown",
      "metadata": {
        "id": "view-in-github",
        "colab_type": "text"
      },
      "source": [
        "<a href=\"https://colab.research.google.com/github/somkiatth/git/blob/master/TU_Copy_of_Name_EDA_LAB1.ipynb\" target=\"_parent\"><img src=\"https://colab.research.google.com/assets/colab-badge.svg\" alt=\"Open In Colab\"/></a>"
      ]
    },
    {
      "cell_type": "markdown",
      "metadata": {
        "id": "WPRVSBiUrkIp"
      },
      "source": [
        "#Exploratory Data Analysis"
      ]
    },
    {
      "cell_type": "code",
      "metadata": {
        "id": "jsNotq2SQB1a"
      },
      "source": [
        "# import package library\n",
        "import numpy as np\n",
        "import pandas as pd\n",
        "# some imports to set up plotting\n",
        "import matplotlib.pyplot as plt\n",
        "import seaborn as sns\n"
      ],
      "execution_count": 9,
      "outputs": []
    },
    {
      "cell_type": "markdown",
      "metadata": {
        "id": "1PXdpGXL0njE"
      },
      "source": [
        "ในกรณีที่ใช้ Matplotlib บน Jupyther Notebook หรือ Google Colab อาจจะต้องมีการเพิ่ม Code ด้านล่างลงไปเพื่อให้สามารถแสดงได้ โดยที่ไม่ต้องใช้คำสั่ง plt.show()"
      ]
    },
    {
      "cell_type": "code",
      "metadata": {
        "id": "VA7K5iidZihI"
      },
      "source": [
        "%matplotlib inline"
      ],
      "execution_count": 10,
      "outputs": []
    },
    {
      "cell_type": "markdown",
      "metadata": {
        "id": "Ac9aR4N40qEp"
      },
      "source": [
        "ในกรณีใช้ IDE อื่นที่ไม่ใช่ Jupyther Notebook หรือ Google Colab ต้องเพิ่ม plt.show() เมื่อต้องการวาดกราฟออกมาทางหน้าจอ"
      ]
    },
    {
      "cell_type": "markdown",
      "metadata": {
        "id": "rXwNiUJ407Pn"
      },
      "source": [
        "# 1) นำเข้าข้อมูล\n",
        "อ่านไฟล์ข้อมูล \"churn_telecom.csv\""
      ]
    },
    {
      "cell_type": "code",
      "metadata": {
        "id": "QBaqPS1sX93F"
      },
      "source": [
        "df=pd.read_csv('churn_telecom.csv')"
      ],
      "execution_count": 4,
      "outputs": []
    },
    {
      "cell_type": "code",
      "source": [
        "#ดูตัวอย่างข้อมูล 5 แถวแรก\n"
      ],
      "metadata": {
        "id": "_2NeBtJcnbSr"
      },
      "execution_count": 11,
      "outputs": []
    },
    {
      "cell_type": "markdown",
      "source": [],
      "metadata": {
        "id": "yKQRIzOl_eOT"
      }
    },
    {
      "cell_type": "code",
      "source": [],
      "metadata": {
        "id": "1mXQeHo5_eiY"
      },
      "execution_count": null,
      "outputs": []
    },
    {
      "cell_type": "code",
      "metadata": {
        "id": "2RlAPGby2ZDz"
      },
      "source": [
        "#ดูข้อมูล 10 แถวสุดท้าย\n"
      ],
      "execution_count": 6,
      "outputs": []
    },
    {
      "cell_type": "code",
      "metadata": {
        "id": "ejqYngSf2qII"
      },
      "source": [
        "#สุ่มข้อมูลมา 3 แถว\n"
      ],
      "execution_count": 7,
      "outputs": []
    },
    {
      "cell_type": "markdown",
      "metadata": {
        "id": "jj7Axp2t5pzN"
      },
      "source": [
        "#2) สำรวจข้อมูล"
      ]
    },
    {
      "cell_type": "code",
      "metadata": {
        "id": "B1MhzjZKYHz8",
        "colab": {
          "base_uri": "https://localhost:8080/"
        },
        "outputId": "55899240-ef36-4172-bb10-0e3062b1fd8c"
      },
      "source": [
        "#ดูรายละเอียดข้อมูล\n",
        "df.info()"
      ],
      "execution_count": 14,
      "outputs": [
        {
          "output_type": "stream",
          "name": "stdout",
          "text": [
            "<class 'pandas.core.frame.DataFrame'>\n",
            "RangeIndex: 667 entries, 0 to 666\n",
            "Data columns (total 20 columns):\n",
            " #   Column                  Non-Null Count  Dtype  \n",
            "---  ------                  --------------  -----  \n",
            " 0   State                   667 non-null    object \n",
            " 1   Account length          667 non-null    int64  \n",
            " 2   Area code               667 non-null    int64  \n",
            " 3   International plan      667 non-null    object \n",
            " 4   Voice mail plan         667 non-null    object \n",
            " 5   Number vmail messages   667 non-null    int64  \n",
            " 6   Total day minutes       667 non-null    float64\n",
            " 7   Total day calls         667 non-null    int64  \n",
            " 8   Total day charge        667 non-null    float64\n",
            " 9   Total eve minutes       667 non-null    float64\n",
            " 10  Total eve calls         667 non-null    int64  \n",
            " 11  Total eve charge        667 non-null    float64\n",
            " 12  Total night minutes     667 non-null    float64\n",
            " 13  Total night calls       667 non-null    int64  \n",
            " 14  Total night charge      667 non-null    float64\n",
            " 15  Total intl minutes      667 non-null    float64\n",
            " 16  Total intl calls        667 non-null    int64  \n",
            " 17  Total intl charge       667 non-null    float64\n",
            " 18  Customer service calls  667 non-null    int64  \n",
            " 19  Churn                   667 non-null    bool   \n",
            "dtypes: bool(1), float64(8), int64(8), object(3)\n",
            "memory usage: 99.8+ KB\n"
          ]
        }
      ]
    },
    {
      "cell_type": "code",
      "source": [],
      "metadata": {
        "id": "aXl7zSwR_iD3"
      },
      "execution_count": null,
      "outputs": []
    },
    {
      "cell_type": "code",
      "source": [],
      "metadata": {
        "id": "qD0G-31-_iSI"
      },
      "execution_count": null,
      "outputs": []
    },
    {
      "cell_type": "code",
      "source": [
        "#เรียกดูชื่อคอลัมน์\n",
        "df.columns"
      ],
      "metadata": {
        "id": "FeVtyQvYbZ5O",
        "colab": {
          "base_uri": "https://localhost:8080/"
        },
        "outputId": "02b52431-69e1-41c0-c237-03c11f04ddd9"
      },
      "execution_count": 16,
      "outputs": [
        {
          "output_type": "execute_result",
          "data": {
            "text/plain": [
              "Index(['State', 'Account length', 'Area code', 'International plan',\n",
              "       'Voice mail plan', 'Number vmail messages', 'Total day minutes',\n",
              "       'Total day calls', 'Total day charge', 'Total eve minutes',\n",
              "       'Total eve calls', 'Total eve charge', 'Total night minutes',\n",
              "       'Total night calls', 'Total night charge', 'Total intl minutes',\n",
              "       'Total intl calls', 'Total intl charge', 'Customer service calls',\n",
              "       'Churn'],\n",
              "      dtype='object')"
            ]
          },
          "metadata": {},
          "execution_count": 16
        }
      ]
    },
    {
      "cell_type": "code",
      "source": [
        "#ดูชนิดข้อมูล\n"
      ],
      "metadata": {
        "id": "MJHqQfT0ag_-"
      },
      "execution_count": null,
      "outputs": []
    },
    {
      "cell_type": "code",
      "metadata": {
        "id": "gEaLI_f7Zjg_"
      },
      "source": [
        "#ดูค่าทางสถิติพื้นฐาน\n"
      ],
      "execution_count": null,
      "outputs": []
    },
    {
      "cell_type": "code",
      "metadata": {
        "id": "-8FMS-fLZ_5C"
      },
      "source": [
        "#ดูค่าทางสถิติพื้นฐานสำหรับข้อมูลที่เป็น object และ bool\n",
        "df.describe(include=['object',bool])"
      ],
      "execution_count": null,
      "outputs": []
    },
    {
      "cell_type": "code",
      "metadata": {
        "id": "GGtlnbboaMxN"
      },
      "source": [
        "#นับจำนวนข้อมูล Churn ในแต่ละค่า\n",
        "df['Churn'].value_counts()"
      ],
      "execution_count": null,
      "outputs": []
    },
    {
      "cell_type": "code",
      "metadata": {
        "id": "EVGU9T9jaUHc"
      },
      "source": [
        "#นับจำนวนข้อมูล International plan ในแต่ละค่า\n"
      ],
      "execution_count": null,
      "outputs": []
    },
    {
      "cell_type": "code",
      "metadata": {
        "id": "dx57Oskj984z"
      },
      "source": [
        "#ลองทำเอง นับจำนวนข้อมูลแบ่งตาม Voice mail plan\n"
      ],
      "execution_count": null,
      "outputs": []
    },
    {
      "cell_type": "code",
      "metadata": {
        "id": "b01sU_c787yT"
      },
      "source": [
        "#Summary tables\n",
        "pd.crosstab(df['Churn'], df['International plan'])"
      ],
      "execution_count": null,
      "outputs": []
    },
    {
      "cell_type": "code",
      "metadata": {
        "id": "GupDSngv9GVY"
      },
      "source": [
        "#ลองทำเอง ดูจำนวนคน แยกตาม Churn และ แยกตาม State\n"
      ],
      "execution_count": null,
      "outputs": []
    },
    {
      "cell_type": "code",
      "metadata": {
        "id": "Cu2T65KR-gM1"
      },
      "source": [
        "#นับค่า Null\n",
        "df.isnull().sum()"
      ],
      "execution_count": null,
      "outputs": []
    },
    {
      "cell_type": "code",
      "metadata": {
        "id": "OJ5foj19VnLX"
      },
      "source": [
        "#pivot table\n",
        "df.pivot_table(['Total day calls', 'Total eve calls', 'Total night calls'],\n",
        "               ['Area code'], aggfunc='mean')"
      ],
      "execution_count": null,
      "outputs": []
    },
    {
      "cell_type": "code",
      "metadata": {
        "id": "n5M6EilLV3NT"
      },
      "source": [
        "#ลองทำเอง สร้าง Pivot Table 'Total day calls', 'Total eve calls', 'Total night calls'\n",
        "#แบ่งตาม Churn\n"
      ],
      "execution_count": null,
      "outputs": []
    },
    {
      "cell_type": "markdown",
      "metadata": {
        "id": "CAfn6hIxXVMl"
      },
      "source": [
        "#3) ลบคอลัมน์ที่ไม่ต้องการทิ้ง"
      ]
    },
    {
      "cell_type": "code",
      "source": [
        "df.columns"
      ],
      "metadata": {
        "id": "SqVs0g9tVq22"
      },
      "execution_count": null,
      "outputs": []
    },
    {
      "cell_type": "code",
      "metadata": {
        "id": "sZ37A9koWOoC"
      },
      "source": [
        "#ลบคอลัมน์ State\n",
        "df.drop(columns= ['State'], inplace=True)\n",
        "df.columns"
      ],
      "execution_count": null,
      "outputs": []
    },
    {
      "cell_type": "markdown",
      "metadata": {
        "id": "8A8KU4QOYHi9"
      },
      "source": [
        "#4) Data Visualization"
      ]
    },
    {
      "cell_type": "code",
      "metadata": {
        "id": "B0Ub8OfRdoQm"
      },
      "source": [
        "#Bar Plot\n",
        "#Appropriate for lots of values in a categorical variable or discrete numeric variable\n",
        "\n",
        "sns.countplot(x=\"Area code\", data=df)\n",
        "plt.title('Number of customers');"
      ],
      "execution_count": null,
      "outputs": []
    },
    {
      "cell_type": "code",
      "metadata": {
        "id": "d1u8gY_FeuQ9"
      },
      "source": [
        "#Comparation (Churn)\n",
        "\n",
        "sns.countplot(x=\"Area code\", hue='Churn', data=df)\n",
        "plt.title('Number of customers');"
      ],
      "execution_count": null,
      "outputs": []
    },
    {
      "cell_type": "code",
      "metadata": {
        "id": "82Xv9E6gZy_q"
      },
      "source": [
        "#ลองทำเอง\n",
        "#กราฟเปรียบเทียบจำนวนลูกค้าที่ Churn กับ Voice mail plan\n"
      ],
      "execution_count": null,
      "outputs": []
    },
    {
      "cell_type": "code",
      "metadata": {
        "id": "nAAJKxP8gHIV"
      },
      "source": [
        "#กราฟเปรียบเทียบจำนวนลูกค้าที่ Churn กับ International plan\n"
      ],
      "execution_count": null,
      "outputs": []
    },
    {
      "cell_type": "code",
      "source": [
        "# boxplot ของ Total day minutes"
      ],
      "metadata": {
        "id": "il856IyAe4Ly"
      },
      "execution_count": null,
      "outputs": []
    },
    {
      "cell_type": "code",
      "source": [
        "# boxplot ของ cols"
      ],
      "metadata": {
        "colab": {
          "base_uri": "https://localhost:8080/",
          "height": 447
        },
        "id": "Y5sQktmjtshh",
        "outputId": "0428769b-148d-4c3a-a506-c522bed3d289"
      },
      "execution_count": null,
      "outputs": [
        {
          "output_type": "execute_result",
          "data": {
            "text/plain": [
              "<Axes: >"
            ]
          },
          "metadata": {},
          "execution_count": 5
        },
        {
          "output_type": "display_data",
          "data": {
            "text/plain": [
              "<Figure size 640x480 with 1 Axes>"
            ],
            "image/png": "[encoded data removed]"
          },
          "metadata": {}
        }
      ]
    },
    {
      "cell_type": "code",
      "source": [
        "sns.boxplot([df['Total day minutes'], df['Total eve minutes'], df['Total night minutes']])"
      ],
      "metadata": {
        "colab": {
          "base_uri": "https://localhost:8080/",
          "height": 447
        },
        "id": "m7182RUr318l",
        "outputId": "618d1a47-e80e-4b62-d682-8132f85b6a58"
      },
      "execution_count": null,
      "outputs": [
        {
          "output_type": "execute_result",
          "data": {
            "text/plain": [
              "<Axes: >"
            ]
          },
          "metadata": {},
          "execution_count": 11
        },
        {
          "output_type": "display_data",
          "data": {
            "text/plain": [
              "<Figure size 640x480 with 1 Axes>"
            ],
            "image/png": "[encoded data removed]"
          },
          "metadata": {}
        }
      ]
    },
    {
      "cell_type": "code",
      "source": [
        "df.hist()"
      ],
      "metadata": {
        "id": "cRyA4H-FucJO"
      },
      "execution_count": null,
      "outputs": []
    },
    {
      "cell_type": "code",
      "source": [
        "#Histogram ของ Total night minutes"
      ],
      "metadata": {
        "colab": {
          "base_uri": "https://localhost:8080/",
          "height": 447
        },
        "id": "K_8lRDcwuQor",
        "outputId": "193e29c0-bef5-4821-f4e7-73dab5ecf117"
      },
      "execution_count": null,
      "outputs": [
        {
          "output_type": "execute_result",
          "data": {
            "text/plain": [
              "<Axes: >"
            ]
          },
          "metadata": {},
          "execution_count": 6
        },
        {
          "output_type": "display_data",
          "data": {
            "text/plain": [
              "<Figure size 640x480 with 1 Axes>"
            ],
            "image/png": "[encoded data removed]"
          },
          "metadata": {}
        }
      ]
    },
    {
      "cell_type": "code",
      "source": [
        "#Histogram ของ Total day minutes"
      ],
      "metadata": {
        "id": "EtGCQXMiWmxN"
      },
      "execution_count": null,
      "outputs": []
    },
    {
      "cell_type": "code",
      "source": [
        "#Histogram ของ Total eve minutes"
      ],
      "metadata": {
        "id": "owWXFyG2WoMy"
      },
      "execution_count": null,
      "outputs": []
    },
    {
      "cell_type": "code",
      "source": [
        "cols = ['Total day minutes', 'Total eve minutes', 'Total night minutes']"
      ],
      "metadata": {
        "id": "TjdHTko5fDFi"
      },
      "execution_count": null,
      "outputs": []
    },
    {
      "cell_type": "code",
      "source": [],
      "metadata": {
        "id": "Ml3AEmiNW135"
      },
      "execution_count": null,
      "outputs": []
    },
    {
      "cell_type": "code",
      "metadata": {
        "id": "HHoRNWx6r0DD"
      },
      "source": [
        "#เปรียบเทียบจำนวนนาทีการโทรในช่วงกลางวัน ตอนเย็น และกลางคืน\n",
        "plt.figure(figsize=(12,6))\n",
        "sns.distplot( df[\"Total day minutes\"] , color=\"skyblue\",label=\"Day\")\n",
        "sns.distplot( df[\"Total eve minutes\"] , color=\"green\",label=\"Evening\")\n",
        "sns.distplot( df[\"Total night minutes\"] , color=\"orange\",label=\"night\")\n",
        "plt.legend();"
      ],
      "execution_count": null,
      "outputs": []
    },
    {
      "cell_type": "code",
      "metadata": {
        "id": "8I4KhANgklbH"
      },
      "source": [
        "#แบ่งข้อมูลออกเป็น 2 กลุ่ม\n",
        "df_not_churn=df[df[\"Churn\"]==False]\n",
        "df_churn=df[df[\"Churn\"]==True]"
      ],
      "execution_count": null,
      "outputs": []
    },
    {
      "cell_type": "code",
      "metadata": {
        "id": "MtYJzlIKh3Gr"
      },
      "source": [
        "#Distribution of Total day minutes, comparing churn and not churn\n",
        "plt.figure(figsize=(12,6))\n",
        "sns.distplot( df_not_churn[\"Total day minutes\"] , color=\"skyblue\",label=\"Not Churn\")\n",
        "sns.distplot( df_churn[\"Total day minutes\"] , color=\"red\",label=\"Churn\")\n",
        "plt.legend();"
      ],
      "execution_count": null,
      "outputs": []
    },
    {
      "cell_type": "code",
      "metadata": {
        "id": "B29MF9Upj9ET"
      },
      "source": [
        "#Distribution of Total eve minutes, comparing churn and not churn\n"
      ],
      "execution_count": null,
      "outputs": []
    },
    {
      "cell_type": "code",
      "metadata": {
        "id": "sPFF9EQqnLzi"
      },
      "source": [
        "#Distribution of Total night minutes, comparing churn and not churn\n",
        "\n"
      ],
      "execution_count": null,
      "outputs": []
    },
    {
      "cell_type": "markdown",
      "metadata": {
        "id": "y1ejdN0bntwr"
      },
      "source": [
        "##Exercise\n",
        "**แล้วถ้าอยากรู้ว่าลูกค้าที่เป็น Internation Plan มีลักษณะการโทรต่างกับลูกค้าธรรมดาอย่างไร จะ Plot อย่างไรดี ???**"
      ]
    },
    {
      "cell_type": "code",
      "metadata": {
        "id": "JZndhU2voJZ-"
      },
      "source": [
        "#สร้าง Data Frame แยก Internationa plan กับธรรมดา\n"
      ],
      "execution_count": null,
      "outputs": []
    },
    {
      "cell_type": "code",
      "metadata": {
        "id": "X-ghmcZuqOga"
      },
      "source": [
        "#Distribution of Total day minutes, comparing by International plan\n"
      ],
      "execution_count": null,
      "outputs": []
    },
    {
      "cell_type": "code",
      "metadata": {
        "id": "Wz4gWlCeruFm"
      },
      "source": [
        "#Distribution of Total eve minutes, comparing by International plan\n"
      ],
      "execution_count": null,
      "outputs": []
    },
    {
      "cell_type": "code",
      "metadata": {
        "id": "FmM3DE_9ruRN"
      },
      "source": [
        "#Distribution of Total night minutes, comparing by International plan\n"
      ],
      "execution_count": null,
      "outputs": []
    }
  ]
}