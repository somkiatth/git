{
  "nbformat": 4,
  "nbformat_minor": 0,
  "metadata": {
    "colab": {
      "name": "kupyspark_time.ipynb",
      "provenance": [],
      "collapsed_sections": [],
      "authorship_tag": "ABX9TyPCCCHJgAxj5ShypZpFAcTI",
      "include_colab_link": true
    },
    "kernelspec": {
      "name": "python3",
      "display_name": "Python 3"
    },
    "language_info": {
      "name": "python"
    }
  },
  "cells": [
    {
      "cell_type": "markdown",
      "metadata": {
        "id": "view-in-github",
        "colab_type": "text"
      },
      "source": [
        "<a href=\"https://colab.research.google.com/github/somkiatth/git/blob/master/kupyspark_time.ipynb\" target=\"_parent\"><img src=\"https://colab.research.google.com/assets/colab-badge.svg\" alt=\"Open In Colab\"/></a>"
      ]
    },
    {
      "cell_type": "code",
      "execution_count": 1,
      "metadata": {
        "colab": {
          "base_uri": "https://localhost:8080/"
        },
        "id": "T5QYyVJZ4xjG",
        "outputId": "d39c5104-7f9f-46b6-f0f5-45731f77055a"
      },
      "outputs": [
        {
          "output_type": "stream",
          "name": "stdout",
          "text": [
            "Looking in indexes: https://pypi.org/simple, https://us-python.pkg.dev/colab-wheels/public/simple/\n",
            "Collecting pyspark\n",
            "  Downloading pyspark-3.3.0.tar.gz (281.3 MB)\n",
            "\u001b[K     |████████████████████████████████| 281.3 MB 47 kB/s \n",
            "\u001b[?25hCollecting py4j==0.10.9.5\n",
            "  Downloading py4j-0.10.9.5-py2.py3-none-any.whl (199 kB)\n",
            "\u001b[K     |████████████████████████████████| 199 kB 39.7 MB/s \n",
            "\u001b[?25hBuilding wheels for collected packages: pyspark\n",
            "  Building wheel for pyspark (setup.py) ... \u001b[?25l\u001b[?25hdone\n",
            "  Created wheel for pyspark: filename=pyspark-3.3.0-py2.py3-none-any.whl size=281764026 sha256=1f5a988084dcac4052a3f770405b0312864eb1576416c072da023adb6d68b596\n",
            "  Stored in directory: /root/.cache/pip/wheels/7a/8e/1b/f73a52650d2e5f337708d9f6a1750d451a7349a867f928b885\n",
            "Successfully built pyspark\n",
            "Installing collected packages: py4j, pyspark\n",
            "Successfully installed py4j-0.10.9.5 pyspark-3.3.0\n"
          ]
        }
      ],
      "source": [
        "!pip install pyspark"
      ]
    },
    {
      "cell_type": "code",
      "source": [
        "from pyspark.sql import SparkSession"
      ],
      "metadata": {
        "id": "v6c4w-hm-rQH"
      },
      "execution_count": 2,
      "outputs": []
    },
    {
      "cell_type": "code",
      "source": [
        "spark=SparkSession.builder.getOrCreate()"
      ],
      "metadata": {
        "id": "t-onqQtaHXL4"
      },
      "execution_count": 3,
      "outputs": []
    },
    {
      "cell_type": "code",
      "source": [
        "from pyspark.sql.functions import col"
      ],
      "metadata": {
        "id": "fyj_53YsIbDa"
      },
      "execution_count": 17,
      "outputs": []
    },
    {
      "cell_type": "code",
      "source": [
        "spark.read.csv(\"/content/earthquakes.csv\",header=True,inferSchema=True).printSchema() "
      ],
      "metadata": {
        "colab": {
          "base_uri": "https://localhost:8080/"
        },
        "id": "CyVZDf8fHbB4",
        "outputId": "15294d76-6825-41ab-fe89-5cab608646b9"
      },
      "execution_count": 28,
      "outputs": [
        {
          "output_type": "stream",
          "name": "stdout",
          "text": [
            "root\n",
            " |-- Time: timestamp (nullable = true)\n",
            " |-- Latitude: double (nullable = true)\n",
            " |-- Longitude: double (nullable = true)\n",
            " |-- Depth/Km: double (nullable = true)\n",
            " |-- Magnitude: double (nullable = true)\n",
            "\n"
          ]
        }
      ]
    },
    {
      "cell_type": "code",
      "source": [
        "dft = spark.read.csv(\"/content/earthquakes.csv\",header=True) "
      ],
      "metadata": {
        "id": "pKeBvjXuJPOb"
      },
      "execution_count": 29,
      "outputs": []
    },
    {
      "cell_type": "code",
      "source": [
        "import pyspark.sql.functions as F"
      ],
      "metadata": {
        "id": "dhQU3avVHp8I"
      },
      "execution_count": 30,
      "outputs": []
    },
    {
      "cell_type": "code",
      "source": [
        "dft.show()"
      ],
      "metadata": {
        "colab": {
          "base_uri": "https://localhost:8080/"
        },
        "id": "5JG8jWqQHhFQ",
        "outputId": "79981f89-76dd-4754-c721-eb290f8e287a"
      },
      "execution_count": 31,
      "outputs": [
        {
          "output_type": "stream",
          "name": "stdout",
          "text": [
            "+------------------+--------+---------+--------+---------+\n",
            "|              Time|Latitude|Longitude|Depth/Km|Magnitude|\n",
            "+------------------+--------+---------+--------+---------+\n",
            "|2016-08-24 3:36:32| 42.6983|  13.2335|     8.1|        6|\n",
            "|2016-08-24 3:37:27| 42.7123|  13.2533|       9|      4.5|\n",
            "|2016-08-24 3:40:47| 42.7647|  13.1723|     9.7|      3.8|\n",
            "|2016-08-24 3:41:39| 42.7803|  13.1683|     9.7|      3.9|\n",
            "|2016-08-24 3:42:07| 42.7798|  13.1575|     9.7|      3.6|\n",
            "|2016-08-24 3:43:59| 42.7298|  13.2137|    10.7|      3.4|\n",
            "|2016-08-24 3:44:39|  42.676|  13.2858|    10.8|      2.7|\n",
            "|2016-08-24 3:44:56| 42.6282|  13.2648|    10.6|      3.2|\n",
            "|2016-08-24 3:46:12| 42.7645|  13.1777|     6.6|      3.7|\n",
            "|2016-08-24 3:46:46| 42.7445|  13.2097|    12.4|      2.8|\n",
            "|2016-08-24 3:47:52| 42.6675|  13.3238|     6.5|      3.3|\n",
            "|2016-08-24 3:52:26| 42.7447|  13.2827|     7.9|      2.9|\n",
            "|2016-08-24 3:52:43| 42.6378|  13.2313|    10.9|      3.1|\n",
            "|2016-08-24 3:55:20| 42.7895|  13.1453|    11.1|        3|\n",
            "|2016-08-24 3:55:45| 42.7217|  13.2497|     6.3|      3.5|\n",
            "|2016-08-24 3:56:01| 42.6008|  13.2763|     7.7|      4.3|\n",
            "|2016-08-24 3:57:23| 42.7165|  13.2208|     8.5|      3.4|\n",
            "|2016-08-24 3:59:06| 43.1615|  12.8797|    18.7|        2|\n",
            "|2016-08-24 3:59:24| 42.6307|  13.2283|    10.7|      2.8|\n",
            "|2016-08-24 4:00:00| 42.6125|  13.2497|    11.2|      2.9|\n",
            "+------------------+--------+---------+--------+---------+\n",
            "only showing top 20 rows\n",
            "\n"
          ]
        }
      ]
    },
    {
      "cell_type": "code",
      "source": [
        ""
      ],
      "metadata": {
        "id": "IO7Q4knHJZ4Y"
      },
      "execution_count": null,
      "outputs": []
    }
  ]
}