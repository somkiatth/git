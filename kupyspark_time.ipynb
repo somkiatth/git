{
  "nbformat": 4,
  "nbformat_minor": 0,
  "metadata": {
    "colab": {
      "name": "kupyspark_time.ipynb",
      "provenance": [],
      "collapsed_sections": [],
      "authorship_tag": "ABX9TyMJmC98YO/lan75MKatDjwO",
      "include_colab_link": true
    },
    "kernelspec": {
      "name": "python3",
      "display_name": "Python 3"
    },
    "language_info": {
      "name": "python"
    }
  },
  "cells": [
    {
      "cell_type": "markdown",
      "metadata": {
        "id": "view-in-github",
        "colab_type": "text"
      },
      "source": [
        "<a href=\"https://colab.research.google.com/github/somkiatth/git/blob/master/kupyspark_time.ipynb\" target=\"_parent\"><img src=\"https://colab.research.google.com/assets/colab-badge.svg\" alt=\"Open In Colab\"/></a>"
      ]
    },
    {
      "cell_type": "code",
      "execution_count": 1,
      "metadata": {
        "colab": {
          "base_uri": "https://localhost:8080/"
        },
        "id": "T5QYyVJZ4xjG",
        "outputId": "d39c5104-7f9f-46b6-f0f5-45731f77055a"
      },
      "outputs": [
        {
          "output_type": "stream",
          "name": "stdout",
          "text": [
            "Looking in indexes: https://pypi.org/simple, https://us-python.pkg.dev/colab-wheels/public/simple/\n",
            "Collecting pyspark\n",
            "  Downloading pyspark-3.3.0.tar.gz (281.3 MB)\n",
            "\u001b[K     |████████████████████████████████| 281.3 MB 47 kB/s \n",
            "\u001b[?25hCollecting py4j==0.10.9.5\n",
            "  Downloading py4j-0.10.9.5-py2.py3-none-any.whl (199 kB)\n",
            "\u001b[K     |████████████████████████████████| 199 kB 39.7 MB/s \n",
            "\u001b[?25hBuilding wheels for collected packages: pyspark\n",
            "  Building wheel for pyspark (setup.py) ... \u001b[?25l\u001b[?25hdone\n",
            "  Created wheel for pyspark: filename=pyspark-3.3.0-py2.py3-none-any.whl size=281764026 sha256=1f5a988084dcac4052a3f770405b0312864eb1576416c072da023adb6d68b596\n",
            "  Stored in directory: /root/.cache/pip/wheels/7a/8e/1b/f73a52650d2e5f337708d9f6a1750d451a7349a867f928b885\n",
            "Successfully built pyspark\n",
            "Installing collected packages: py4j, pyspark\n",
            "Successfully installed py4j-0.10.9.5 pyspark-3.3.0\n"
          ]
        }
      ],
      "source": [
        "!pip install pyspark"
      ]
    },
    {
      "cell_type": "code",
      "source": [
        "from pyspark.sql import SparkSession"
      ],
      "metadata": {
        "id": "v6c4w-hm-rQH"
      },
      "execution_count": 2,
      "outputs": []
    },
    {
      "cell_type": "code",
      "source": [
        "spark=SparkSession.builder.getOrCreate()"
      ],
      "metadata": {
        "id": "t-onqQtaHXL4"
      },
      "execution_count": 3,
      "outputs": []
    },
    {
      "cell_type": "code",
      "source": [
        "from pyspark.sql.functions import col"
      ],
      "metadata": {
        "id": "fyj_53YsIbDa"
      },
      "execution_count": 17,
      "outputs": []
    },
    {
      "cell_type": "code",
      "source": [
        "spark.read.csv(\"/content/earthquakes.csv\",header=True,inferSchema=True).printSchema() "
      ],
      "metadata": {
        "colab": {
          "base_uri": "https://localhost:8080/"
        },
        "id": "CyVZDf8fHbB4",
        "outputId": "15294d76-6825-41ab-fe89-5cab608646b9"
      },
      "execution_count": 28,
      "outputs": [
        {
          "output_type": "stream",
          "name": "stdout",
          "text": [
            "root\n",
            " |-- Time: timestamp (nullable = true)\n",
            " |-- Latitude: double (nullable = true)\n",
            " |-- Longitude: double (nullable = true)\n",
            " |-- Depth/Km: double (nullable = true)\n",
            " |-- Magnitude: double (nullable = true)\n",
            "\n"
          ]
        }
      ]
    },
    {
      "cell_type": "code",
      "source": [
        "dft = spark.read.csv(\"/content/earthquakes.csv\",header=True) "
      ],
      "metadata": {
        "id": "pKeBvjXuJPOb"
      },
      "execution_count": 29,
      "outputs": []
    },
    {
      "cell_type": "code",
      "source": [
        "import pyspark.sql.functions as F"
      ],
      "metadata": {
        "id": "dhQU3avVHp8I"
      },
      "execution_count": 30,
      "outputs": []
    },
    {
      "cell_type": "code",
      "source": [
        "dft.show()"
      ],
      "metadata": {
        "colab": {
          "base_uri": "https://localhost:8080/"
        },
        "id": "5JG8jWqQHhFQ",
        "outputId": "79981f89-76dd-4754-c721-eb290f8e287a"
      },
      "execution_count": 31,
      "outputs": [
        {
          "output_type": "stream",
          "name": "stdout",
          "text": [
            "+------------------+--------+---------+--------+---------+\n",
            "|              Time|Latitude|Longitude|Depth/Km|Magnitude|\n",
            "+------------------+--------+---------+--------+---------+\n",
            "|2016-08-24 3:36:32| 42.6983|  13.2335|     8.1|        6|\n",
            "|2016-08-24 3:37:27| 42.7123|  13.2533|       9|      4.5|\n",
            "|2016-08-24 3:40:47| 42.7647|  13.1723|     9.7|      3.8|\n",
            "|2016-08-24 3:41:39| 42.7803|  13.1683|     9.7|      3.9|\n",
            "|2016-08-24 3:42:07| 42.7798|  13.1575|     9.7|      3.6|\n",
            "|2016-08-24 3:43:59| 42.7298|  13.2137|    10.7|      3.4|\n",
            "|2016-08-24 3:44:39|  42.676|  13.2858|    10.8|      2.7|\n",
            "|2016-08-24 3:44:56| 42.6282|  13.2648|    10.6|      3.2|\n",
            "|2016-08-24 3:46:12| 42.7645|  13.1777|     6.6|      3.7|\n",
            "|2016-08-24 3:46:46| 42.7445|  13.2097|    12.4|      2.8|\n",
            "|2016-08-24 3:47:52| 42.6675|  13.3238|     6.5|      3.3|\n",
            "|2016-08-24 3:52:26| 42.7447|  13.2827|     7.9|      2.9|\n",
            "|2016-08-24 3:52:43| 42.6378|  13.2313|    10.9|      3.1|\n",
            "|2016-08-24 3:55:20| 42.7895|  13.1453|    11.1|        3|\n",
            "|2016-08-24 3:55:45| 42.7217|  13.2497|     6.3|      3.5|\n",
            "|2016-08-24 3:56:01| 42.6008|  13.2763|     7.7|      4.3|\n",
            "|2016-08-24 3:57:23| 42.7165|  13.2208|     8.5|      3.4|\n",
            "|2016-08-24 3:59:06| 43.1615|  12.8797|    18.7|        2|\n",
            "|2016-08-24 3:59:24| 42.6307|  13.2283|    10.7|      2.8|\n",
            "|2016-08-24 4:00:00| 42.6125|  13.2497|    11.2|      2.9|\n",
            "+------------------+--------+---------+--------+---------+\n",
            "only showing top 20 rows\n",
            "\n"
          ]
        }
      ]
    },
    {
      "cell_type": "code",
      "source": [
        "dft.select(F.to_timestamp(dft.Time)).show()"
      ],
      "metadata": {
        "colab": {
          "base_uri": "https://localhost:8080/"
        },
        "id": "IO7Q4knHJZ4Y",
        "outputId": "4a7233fa-f60f-499b-ee95-65a6d69a3f08"
      },
      "execution_count": 33,
      "outputs": [
        {
          "output_type": "stream",
          "name": "stdout",
          "text": [
            "+-------------------+\n",
            "| to_timestamp(Time)|\n",
            "+-------------------+\n",
            "|2016-08-24 03:36:32|\n",
            "|2016-08-24 03:37:27|\n",
            "|2016-08-24 03:40:47|\n",
            "|2016-08-24 03:41:39|\n",
            "|2016-08-24 03:42:07|\n",
            "|2016-08-24 03:43:59|\n",
            "|2016-08-24 03:44:39|\n",
            "|2016-08-24 03:44:56|\n",
            "|2016-08-24 03:46:12|\n",
            "|2016-08-24 03:46:46|\n",
            "|2016-08-24 03:47:52|\n",
            "|2016-08-24 03:52:26|\n",
            "|2016-08-24 03:52:43|\n",
            "|2016-08-24 03:55:20|\n",
            "|2016-08-24 03:55:45|\n",
            "|2016-08-24 03:56:01|\n",
            "|2016-08-24 03:57:23|\n",
            "|2016-08-24 03:59:06|\n",
            "|2016-08-24 03:59:24|\n",
            "|2016-08-24 04:00:00|\n",
            "+-------------------+\n",
            "only showing top 20 rows\n",
            "\n"
          ]
        }
      ]
    },
    {
      "cell_type": "code",
      "source": [
        "dft.filter(F.dayofweek(dft.Time)==5).show()"
      ],
      "metadata": {
        "colab": {
          "base_uri": "https://localhost:8080/"
        },
        "id": "1rvceNOUJ_qp",
        "outputId": "16f6c4f0-ed90-420d-c09a-98941b46cf58"
      },
      "execution_count": 34,
      "outputs": [
        {
          "output_type": "stream",
          "name": "stdout",
          "text": [
            "+------------------+--------+---------+--------+---------+\n",
            "|              Time|Latitude|Longitude|Depth/Km|Magnitude|\n",
            "+------------------+--------+---------+--------+---------+\n",
            "|2016-08-25 0:00:37| 42.8057|  13.1877|     9.3|      2.1|\n",
            "|2016-08-25 0:02:02| 42.6415|  13.3043|    11.1|      2.1|\n",
            "|2016-08-25 0:02:03| 42.6643|  13.2998|     0.7|      2.2|\n",
            "|2016-08-25 0:10:52| 42.8368|  13.1493|     8.6|        2|\n",
            "|2016-08-25 0:15:47| 42.6588|  13.2812|    10.7|      2.1|\n",
            "|2016-08-25 0:20:24| 42.7923|  13.2028|     9.6|      2.5|\n",
            "|2016-08-25 0:22:06| 42.7935|  13.1687|    10.2|      2.1|\n",
            "|2016-08-25 0:23:12| 42.7422|   13.178|    10.8|      2.2|\n",
            "|2016-08-25 0:35:34| 42.7807|  13.1297|    10.6|        2|\n",
            "|2016-08-25 0:56:10| 42.7027|  13.2243|    10.7|      2.2|\n",
            "|2016-08-25 0:57:20| 42.7288|  13.2393|    10.8|      2.7|\n",
            "|2016-08-25 1:03:03| 42.7405|  13.2337|     8.9|      2.3|\n",
            "|2016-08-25 1:03:51|  42.813|  13.1973|     9.2|        2|\n",
            "|2016-08-25 1:04:58| 42.7533|  13.2353|     7.5|      2.1|\n",
            "|2016-08-25 1:06:17| 42.7325|  13.2442|    10.4|      2.4|\n",
            "|2016-08-25 1:07:57|    42.8|  13.2522|     8.4|        2|\n",
            "|2016-08-25 1:22:06| 42.6535|  13.2098|    11.8|        4|\n",
            "|2016-08-25 1:24:56| 42.7505|  13.2323|     9.4|      3.4|\n",
            "|2016-08-25 1:28:23| 42.6017|   13.231|    15.9|      2.5|\n",
            "|2016-08-25 1:30:05| 42.6503|  13.2212|    10.4|      2.5|\n",
            "+------------------+--------+---------+--------+---------+\n",
            "only showing top 20 rows\n",
            "\n"
          ]
        }
      ]
    },
    {
      "cell_type": "code",
      "source": [
        "dft.select('Time',F.date_add(dft.Time,3)).show()"
      ],
      "metadata": {
        "colab": {
          "base_uri": "https://localhost:8080/"
        },
        "id": "heU7rH3eLF-5",
        "outputId": "0a8edfae-f22f-49a9-a3f7-be449a149b61"
      },
      "execution_count": 36,
      "outputs": [
        {
          "output_type": "stream",
          "name": "stdout",
          "text": [
            "+------------------+-----------------+\n",
            "|              Time|date_add(Time, 3)|\n",
            "+------------------+-----------------+\n",
            "|2016-08-24 3:36:32|       2016-08-27|\n",
            "|2016-08-24 3:37:27|       2016-08-27|\n",
            "|2016-08-24 3:40:47|       2016-08-27|\n",
            "|2016-08-24 3:41:39|       2016-08-27|\n",
            "|2016-08-24 3:42:07|       2016-08-27|\n",
            "|2016-08-24 3:43:59|       2016-08-27|\n",
            "|2016-08-24 3:44:39|       2016-08-27|\n",
            "|2016-08-24 3:44:56|       2016-08-27|\n",
            "|2016-08-24 3:46:12|       2016-08-27|\n",
            "|2016-08-24 3:46:46|       2016-08-27|\n",
            "|2016-08-24 3:47:52|       2016-08-27|\n",
            "|2016-08-24 3:52:26|       2016-08-27|\n",
            "|2016-08-24 3:52:43|       2016-08-27|\n",
            "|2016-08-24 3:55:20|       2016-08-27|\n",
            "|2016-08-24 3:55:45|       2016-08-27|\n",
            "|2016-08-24 3:56:01|       2016-08-27|\n",
            "|2016-08-24 3:57:23|       2016-08-27|\n",
            "|2016-08-24 3:59:06|       2016-08-27|\n",
            "|2016-08-24 3:59:24|       2016-08-27|\n",
            "|2016-08-24 4:00:00|       2016-08-27|\n",
            "+------------------+-----------------+\n",
            "only showing top 20 rows\n",
            "\n"
          ]
        }
      ]
    },
    {
      "cell_type": "code",
      "source": [
        "dft.select(F.max(dft.Time),F.min(dft.Time),F.datediff(F.max(dft.Time),F.min(dft.Time))).show()"
      ],
      "metadata": {
        "colab": {
          "base_uri": "https://localhost:8080/"
        },
        "id": "PJi1_PC_LXhA",
        "outputId": "d23a8d11-12ed-4da9-d690-13218099b693"
      },
      "execution_count": 37,
      "outputs": [
        {
          "output_type": "stream",
          "name": "stdout",
          "text": [
            "+------------------+-------------------+------------------------------+\n",
            "|         max(Time)|          min(Time)|datediff(max(Time), min(Time))|\n",
            "+------------------+-------------------+------------------------------+\n",
            "|2016-11-30 9:51:18|2016-08-24 10:00:56|                            98|\n",
            "+------------------+-------------------+------------------------------+\n",
            "\n"
          ]
        }
      ]
    },
    {
      "cell_type": "code",
      "source": [
        "window =F.window(dft.Time, '1 day')"
      ],
      "metadata": {
        "id": "66KWiirHNEcc"
      },
      "execution_count": 38,
      "outputs": []
    },
    {
      "cell_type": "code",
      "source": [
        "dft.groupby(window).count().sort('window').show(truncate=False)"
      ],
      "metadata": {
        "colab": {
          "base_uri": "https://localhost:8080/"
        },
        "id": "BJoBvs_QSMb9",
        "outputId": "7e2759f9-d76c-4e8e-e722-d53c0f8eb2b8"
      },
      "execution_count": 42,
      "outputs": [
        {
          "output_type": "stream",
          "name": "stdout",
          "text": [
            "+------------------------------------------+-----+\n",
            "|window                                    |count|\n",
            "+------------------------------------------+-----+\n",
            "|{2016-08-24 00:00:00, 2016-08-25 00:00:00}|508  |\n",
            "|{2016-08-25 00:00:00, 2016-08-26 00:00:00}|240  |\n",
            "|{2016-08-26 00:00:00, 2016-08-27 00:00:00}|212  |\n",
            "|{2016-08-27 00:00:00, 2016-08-28 00:00:00}|140  |\n",
            "|{2016-08-28 00:00:00, 2016-08-29 00:00:00}|110  |\n",
            "|{2016-08-29 00:00:00, 2016-08-30 00:00:00}|74   |\n",
            "|{2016-08-30 00:00:00, 2016-08-31 00:00:00}|71   |\n",
            "|{2016-08-31 00:00:00, 2016-09-01 00:00:00}|66   |\n",
            "|{2016-09-01 00:00:00, 2016-09-02 00:00:00}|59   |\n",
            "|{2016-09-02 00:00:00, 2016-09-03 00:00:00}|51   |\n",
            "|{2016-09-03 00:00:00, 2016-09-04 00:00:00}|85   |\n",
            "|{2016-09-04 00:00:00, 2016-09-05 00:00:00}|46   |\n",
            "|{2016-09-05 00:00:00, 2016-09-06 00:00:00}|50   |\n",
            "|{2016-09-06 00:00:00, 2016-09-07 00:00:00}|50   |\n",
            "|{2016-09-07 00:00:00, 2016-09-08 00:00:00}|57   |\n",
            "|{2016-09-08 00:00:00, 2016-09-09 00:00:00}|25   |\n",
            "|{2016-09-09 00:00:00, 2016-09-10 00:00:00}|35   |\n",
            "|{2016-09-10 00:00:00, 2016-09-11 00:00:00}|23   |\n",
            "|{2016-09-11 00:00:00, 2016-09-12 00:00:00}|20   |\n",
            "|{2016-09-12 00:00:00, 2016-09-13 00:00:00}|29   |\n",
            "+------------------------------------------+-----+\n",
            "only showing top 20 rows\n",
            "\n"
          ]
        }
      ]
    },
    {
      "cell_type": "code",
      "source": [
        "from pyspark.sql import Window"
      ],
      "metadata": {
        "id": "YDIR8RRCUpgd"
      },
      "execution_count": 47,
      "outputs": []
    },
    {
      "cell_type": "code",
      "source": [
        "windowordertime = Window.orderBy('Time')"
      ],
      "metadata": {
        "id": "LqTswAfOUutU"
      },
      "execution_count": 49,
      "outputs": []
    },
    {
      "cell_type": "code",
      "source": [
        "dft.select('Time',F.lag(dft.Time).over(windowordertime)).show()"
      ],
      "metadata": {
        "colab": {
          "base_uri": "https://localhost:8080/"
        },
        "id": "yMmukBmJVJlP",
        "outputId": "8e13c0e6-98a2-4769-964d-577e454d37a8"
      },
      "execution_count": 50,
      "outputs": [
        {
          "output_type": "stream",
          "name": "stdout",
          "text": [
            "+-------------------+--------------------------------------------------------------------------------------------------+\n",
            "|               Time|lag(Time, 1, NULL) OVER (ORDER BY Time ASC NULLS FIRST ROWS BETWEEN -1 FOLLOWING AND -1 FOLLOWING)|\n",
            "+-------------------+--------------------------------------------------------------------------------------------------+\n",
            "|2016-08-24 10:00:56|                                                                                              null|\n",
            "|2016-08-24 10:01:58|                                                                               2016-08-24 10:00:56|\n",
            "|2016-08-24 10:02:55|                                                                               2016-08-24 10:01:58|\n",
            "|2016-08-24 10:19:27|                                                                               2016-08-24 10:02:55|\n",
            "|2016-08-24 10:19:53|                                                                               2016-08-24 10:19:27|\n",
            "|2016-08-24 10:30:38|                                                                               2016-08-24 10:19:53|\n",
            "|2016-08-24 10:37:08|                                                                               2016-08-24 10:30:38|\n",
            "|2016-08-24 10:38:10|                                                                               2016-08-24 10:37:08|\n",
            "|2016-08-24 10:39:05|                                                                               2016-08-24 10:38:10|\n",
            "|2016-08-24 10:49:02|                                                                               2016-08-24 10:39:05|\n",
            "|2016-08-24 10:52:10|                                                                               2016-08-24 10:49:02|\n",
            "|2016-08-24 10:55:33|                                                                               2016-08-24 10:52:10|\n",
            "|2016-08-24 10:56:38|                                                                               2016-08-24 10:55:33|\n",
            "|2016-08-24 10:58:51|                                                                               2016-08-24 10:56:38|\n",
            "|2016-08-24 11:00:31|                                                                               2016-08-24 10:58:51|\n",
            "|2016-08-24 11:02:59|                                                                               2016-08-24 11:00:31|\n",
            "|2016-08-24 11:04:38|                                                                               2016-08-24 11:02:59|\n",
            "|2016-08-24 11:05:10|                                                                               2016-08-24 11:04:38|\n",
            "|2016-08-24 11:09:46|                                                                               2016-08-24 11:05:10|\n",
            "|2016-08-24 11:13:30|                                                                               2016-08-24 11:09:46|\n",
            "+-------------------+--------------------------------------------------------------------------------------------------+\n",
            "only showing top 20 rows\n",
            "\n"
          ]
        }
      ]
    },
    {
      "cell_type": "code",
      "source": [
        ""
      ],
      "metadata": {
        "id": "ohoWmwobV_PF"
      },
      "execution_count": null,
      "outputs": []
    }
  ]
}