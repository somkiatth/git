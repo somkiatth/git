{
  "nbformat": 4,
  "nbformat_minor": 0,
  "metadata": {
    "colab": {
      "name": "kumllibAPI.ipynb",
      "provenance": [],
      "collapsed_sections": [],
      "authorship_tag": "ABX9TyPRi9SFYgGBMgHvKc0hhzFM",
      "include_colab_link": true
    },
    "kernelspec": {
      "name": "python3",
      "display_name": "Python 3"
    },
    "language_info": {
      "name": "python"
    }
  },
  "cells": [
    {
      "cell_type": "markdown",
      "metadata": {
        "id": "view-in-github",
        "colab_type": "text"
      },
      "source": [
        "<a href=\"https://colab.research.google.com/github/somkiatth/git/blob/master/kumllibAPI.ipynb\" target=\"_parent\"><img src=\"https://colab.research.google.com/assets/colab-badge.svg\" alt=\"Open In Colab\"/></a>"
      ]
    },
    {
      "cell_type": "code",
      "execution_count": null,
      "metadata": {
        "colab": {
          "base_uri": "https://localhost:8080/"
        },
        "id": "rE0VZTqKWtZT",
        "outputId": "d381cec1-fd5e-4439-98cd-ee583abb47f2"
      },
      "outputs": [
        {
          "output_type": "stream",
          "name": "stdout",
          "text": [
            "Looking in indexes: https://pypi.org/simple, https://us-python.pkg.dev/colab-wheels/public/simple/\n",
            "Collecting pyspark\n",
            "  Downloading pyspark-3.3.0.tar.gz (281.3 MB)\n",
            "\u001b[K     |████████████████████████████████| 281.3 MB 45 kB/s \n",
            "\u001b[?25hCollecting py4j==0.10.9.5\n",
            "  Downloading py4j-0.10.9.5-py2.py3-none-any.whl (199 kB)\n",
            "\u001b[K     |████████████████████████████████| 199 kB 61.8 MB/s \n",
            "\u001b[?25hBuilding wheels for collected packages: pyspark\n",
            "  Building wheel for pyspark (setup.py) ... \u001b[?25l\u001b[?25hdone\n",
            "  Created wheel for pyspark: filename=pyspark-3.3.0-py2.py3-none-any.whl size=281764026 sha256=f97ed6606db3f194f0a498e1ac3543758be86d5cff3fceac50bcf5ad147fae62\n",
            "  Stored in directory: /root/.cache/pip/wheels/7a/8e/1b/f73a52650d2e5f337708d9f6a1750d451a7349a867f928b885\n",
            "Successfully built pyspark\n",
            "Installing collected packages: py4j, pyspark\n",
            "Successfully installed py4j-0.10.9.5 pyspark-3.3.0\n"
          ]
        }
      ],
      "source": [
        "!pip install pyspark"
      ]
    },
    {
      "cell_type": "code",
      "source": [
        "from pyspark.sql import SparkSession"
      ],
      "metadata": {
        "id": "L_kryzPiW9a0"
      },
      "execution_count": null,
      "outputs": []
    },
    {
      "cell_type": "code",
      "source": [
        "spark = SparkSession.builder.getOrCreate()"
      ],
      "metadata": {
        "id": "v2GCMyhfZJqN"
      },
      "execution_count": null,
      "outputs": []
    },
    {
      "cell_type": "code",
      "source": [
        "mldf=spark.read.csv(\"/content/census-income-all.csv\", header=True, inferSchema=True)"
      ],
      "metadata": {
        "id": "-4pYXIeHZQ4c"
      },
      "execution_count": null,
      "outputs": []
    },
    {
      "cell_type": "code",
      "source": [
        "mldf.show(5)"
      ],
      "metadata": {
        "colab": {
          "base_uri": "https://localhost:8080/"
        },
        "id": "IVzZ5LvUZh2m",
        "outputId": "7fa0aeb2-090e-4f2b-b2aa-6c726a17db1a"
      },
      "execution_count": null,
      "outputs": [
        {
          "output_type": "stream",
          "name": "stdout",
          "text": [
            "+---+----------------+------+---------+-------+------------------+-----------------+-------------+-----+------+------------+------------+--------------+--------------+-----+\n",
            "|age|       workclass|weight|education|edu num|    marital status|       occupation| relationship| race|   sex|captial-gain|capital-loss|hours-per-week|native country|label|\n",
            "+---+----------------+------+---------+-------+------------------+-----------------+-------------+-----+------+------------+------------+--------------+--------------+-----+\n",
            "| 39|       State-gov| 77516|Bachelors|     13|     Never-married|     Adm-clerical|Not-in-family|White|  Male|        2174|           0|            40| United-States|   No|\n",
            "| 50|Self-emp-not-inc| 83311|Bachelors|     13|Married-civ-spouse|  Exec-managerial|      Husband|White|  Male|           0|           0|            13| United-States|   No|\n",
            "| 38|         Private|215646|  HS-grad|      9|          Divorced|Handlers-cleaners|Not-in-family|White|  Male|           0|           0|            40| United-States|   No|\n",
            "| 53|         Private|234721|     11th|      7|Married-civ-spouse|Handlers-cleaners|      Husband|Black|  Male|           0|           0|            40| United-States|   No|\n",
            "| 28|         Private|338409|Bachelors|     13|Married-civ-spouse|   Prof-specialty|         Wife|Black|Female|           0|           0|            40|          Cuba|   No|\n",
            "+---+----------------+------+---------+-------+------------------+-----------------+-------------+-----+------+------------+------------+--------------+--------------+-----+\n",
            "only showing top 5 rows\n",
            "\n"
          ]
        }
      ]
    },
    {
      "cell_type": "code",
      "source": [
        "cstrain,cstest = mldf.randomSplit([0.8,0.2])"
      ],
      "metadata": {
        "id": "sCFDG71zagVt"
      },
      "execution_count": null,
      "outputs": []
    },
    {
      "cell_type": "code",
      "source": [
        "cstrain.count(),cstest.count()"
      ],
      "metadata": {
        "colab": {
          "base_uri": "https://localhost:8080/"
        },
        "id": "BQnPGKW3bF4U",
        "outputId": "91960c19-d61a-442c-d001-a33aed932089"
      },
      "execution_count": null,
      "outputs": [
        {
          "output_type": "execute_result",
          "data": {
            "text/plain": [
              "(39096, 9746)"
            ]
          },
          "metadata": {},
          "execution_count": 134
        }
      ]
    },
    {
      "cell_type": "code",
      "source": [
        "cstrain.write.csv(\"/content/censustrain.csv\")"
      ],
      "metadata": {
        "id": "Fb80rlWHcQdd"
      },
      "execution_count": null,
      "outputs": []
    },
    {
      "cell_type": "code",
      "source": [
        "cstrainload=spark.read.load(\"/content/censustrain.csv\",format='csv')"
      ],
      "metadata": {
        "id": "y9G9Dgurd0jm"
      },
      "execution_count": null,
      "outputs": []
    },
    {
      "cell_type": "code",
      "source": [
        ""
      ],
      "metadata": {
        "id": "5_ZsZz-LxRWm"
      },
      "execution_count": null,
      "outputs": []
    },
    {
      "cell_type": "code",
      "source": [
        "cstrainload.count()"
      ],
      "metadata": {
        "colab": {
          "base_uri": "https://localhost:8080/"
        },
        "id": "J2VJLoaoeQVr",
        "outputId": "52899f39-de16-469f-814a-9f63631db4a9"
      },
      "execution_count": null,
      "outputs": [
        {
          "output_type": "execute_result",
          "data": {
            "text/plain": [
              "38986"
            ]
          },
          "metadata": {},
          "execution_count": 22
        }
      ]
    },
    {
      "cell_type": "code",
      "source": [
        "cstrain.printSchema()"
      ],
      "metadata": {
        "colab": {
          "base_uri": "https://localhost:8080/"
        },
        "id": "J14bttshggRs",
        "outputId": "cad3eeb6-d18d-4ee1-8513-9d29864447f0"
      },
      "execution_count": null,
      "outputs": [
        {
          "output_type": "stream",
          "name": "stdout",
          "text": [
            "root\n",
            " |-- age: integer (nullable = true)\n",
            " |-- workclass: string (nullable = true)\n",
            " |-- weight: integer (nullable = true)\n",
            " |-- education: string (nullable = true)\n",
            " |-- edu num: integer (nullable = true)\n",
            " |-- marital status: string (nullable = true)\n",
            " |-- occupation: string (nullable = true)\n",
            " |-- relationship: string (nullable = true)\n",
            " |-- race: string (nullable = true)\n",
            " |-- sex: string (nullable = true)\n",
            " |-- captial-gain: integer (nullable = true)\n",
            " |-- capital-loss: integer (nullable = true)\n",
            " |-- hours-per-week: integer (nullable = true)\n",
            " |-- native country: string (nullable = true)\n",
            " |-- label: string (nullable = true)\n",
            "\n"
          ]
        }
      ]
    },
    {
      "cell_type": "code",
      "source": [
        "from pyspark.ml.feature import VectorAssembler"
      ],
      "metadata": {
        "id": "Vc-z7Xb-fa4V"
      },
      "execution_count": null,
      "outputs": []
    },
    {
      "cell_type": "code",
      "source": [
        "va=VectorAssembler(inputCols=['age','edu num','captial-gain','capital-loss','hours-per-week'],outputCol='features')"
      ],
      "metadata": {
        "id": "GdsSMCqbgbJI"
      },
      "execution_count": null,
      "outputs": []
    },
    {
      "cell_type": "code",
      "source": [
        "vtraindf=va.transform(cstrain)"
      ],
      "metadata": {
        "id": "fbrkJYrNhUQc"
      },
      "execution_count": null,
      "outputs": []
    },
    {
      "cell_type": "code",
      "source": [
        "vtraindf.show(5)"
      ],
      "metadata": {
        "colab": {
          "base_uri": "https://localhost:8080/"
        },
        "id": "_yF-Q4X2hn2j",
        "outputId": "ef7fa388-311f-4734-d3fa-3bb89f76ed96"
      },
      "execution_count": null,
      "outputs": [
        {
          "output_type": "stream",
          "name": "stdout",
          "text": [
            "+---+---------+------+---------+-------+--------------+----------+------------+-----+------+------------+------------+--------------+--------------+-----+--------------------+\n",
            "|age|workclass|weight|education|edu num|marital status|occupation|relationship| race|   sex|captial-gain|capital-loss|hours-per-week|native country|label|            features|\n",
            "+---+---------+------+---------+-------+--------------+----------+------------+-----+------+------------+------------+--------------+--------------+-----+--------------------+\n",
            "| 17|        ?| 27251|     11th|      7|       Widowed|         ?|   Own-child|White|  Male|           0|           0|            40| United-States|   No|[17.0,7.0,0.0,0.0...|\n",
            "| 17|        ?| 34019|     10th|      6| Never-married|         ?|   Own-child|White|  Male|           0|           0|            20| United-States|   No|[17.0,6.0,0.0,0.0...|\n",
            "| 17|        ?| 34088|     12th|      8| Never-married|         ?|   Own-child|White|Female|           0|           0|            25| United-States|   No|[17.0,8.0,0.0,0.0...|\n",
            "| 17|        ?| 41643|     11th|      7| Never-married|         ?|   Own-child|White|Female|           0|           0|            15| United-States|   No|[17.0,7.0,0.0,0.0...|\n",
            "| 17|        ?| 45037|     10th|      6| Never-married|         ?|   Own-child|White|Female|           0|           0|            25| United-States|   No|[17.0,6.0,0.0,0.0...|\n",
            "+---+---------+------+---------+-------+--------------+----------+------------+-----+------+------------+------------+--------------+--------------+-----+--------------------+\n",
            "only showing top 5 rows\n",
            "\n"
          ]
        }
      ]
    },
    {
      "cell_type": "code",
      "source": [
        "from pyspark.ml.feature import StringIndexer"
      ],
      "metadata": {
        "id": "Oz3SNDL2ikrU"
      },
      "execution_count": null,
      "outputs": []
    },
    {
      "cell_type": "code",
      "source": [
        "si=StringIndexer(inputCol='label',outputCol='label_idx',stringOrderType='frequencyDesc')"
      ],
      "metadata": {
        "id": "9UE1mamSkUxp"
      },
      "execution_count": null,
      "outputs": []
    },
    {
      "cell_type": "code",
      "source": [
        "labelindex = si.fit(vtraindf)"
      ],
      "metadata": {
        "id": "_5dRdBbwkuf0"
      },
      "execution_count": null,
      "outputs": []
    },
    {
      "cell_type": "code",
      "source": [
        "vidxtraindf=labelindex.transform(vtraindf)"
      ],
      "metadata": {
        "id": "o5_zEVs-lPYM"
      },
      "execution_count": null,
      "outputs": []
    },
    {
      "cell_type": "code",
      "source": [
        "vidxtraindf.show()"
      ],
      "metadata": {
        "colab": {
          "base_uri": "https://localhost:8080/"
        },
        "id": "POQW9POAla0K",
        "outputId": "78bc50fa-806f-4a74-d98f-eea30903db60"
      },
      "execution_count": null,
      "outputs": [
        {
          "output_type": "stream",
          "name": "stdout",
          "text": [
            "+---+---------+------+---------+-------+--------------+----------+--------------+-----+------+------------+------------+--------------+--------------+-----+--------------------+---------+\n",
            "|age|workclass|weight|education|edu num|marital status|occupation|  relationship| race|   sex|captial-gain|capital-loss|hours-per-week|native country|label|            features|label_idx|\n",
            "+---+---------+------+---------+-------+--------------+----------+--------------+-----+------+------------+------------+--------------+--------------+-----+--------------------+---------+\n",
            "| 17|        ?| 27251|     11th|      7|       Widowed|         ?|     Own-child|White|  Male|           0|           0|            40| United-States|   No|[17.0,7.0,0.0,0.0...|      0.0|\n",
            "| 17|        ?| 34019|     10th|      6| Never-married|         ?|     Own-child|White|  Male|           0|           0|            20| United-States|   No|[17.0,6.0,0.0,0.0...|      0.0|\n",
            "| 17|        ?| 34088|     12th|      8| Never-married|         ?|     Own-child|White|Female|           0|           0|            25| United-States|   No|[17.0,8.0,0.0,0.0...|      0.0|\n",
            "| 17|        ?| 41643|     11th|      7| Never-married|         ?|     Own-child|White|Female|           0|           0|            15| United-States|   No|[17.0,7.0,0.0,0.0...|      0.0|\n",
            "| 17|        ?| 45037|     10th|      6| Never-married|         ?|     Own-child|White|Female|           0|           0|            25| United-States|   No|[17.0,6.0,0.0,0.0...|      0.0|\n",
            "| 17|        ?| 47407|     11th|      7| Never-married|         ?|     Own-child|White|  Male|           0|           0|            10| United-States|   No|[17.0,7.0,0.0,0.0...|      0.0|\n",
            "| 17|        ?| 48703|     11th|      7| Never-married|         ?|     Own-child|White|Female|           0|           0|            30| United-States|   No|[17.0,7.0,0.0,0.0...|      0.0|\n",
            "| 17|        ?| 48751|     11th|      7| Never-married|         ?|     Own-child|Black|Female|           0|           0|            40| United-States|   No|[17.0,7.0,0.0,0.0...|      0.0|\n",
            "| 17|        ?| 64785|     10th|      6| Never-married|         ?|     Own-child|White|  Male|           0|           0|            30| United-States|   No|[17.0,6.0,0.0,0.0...|      0.0|\n",
            "| 17|        ?| 67808|     10th|      6| Never-married|         ?|     Own-child|White|  Male|           0|           0|            40| United-States|   No|[17.0,6.0,0.0,0.0...|      0.0|\n",
            "| 17|        ?| 86786|     10th|      6| Never-married|         ?|     Own-child|White|Female|           0|           0|            40| United-States|   No|[17.0,6.0,0.0,0.0...|      0.0|\n",
            "| 17|        ?| 89870|     10th|      6| Never-married|         ?|     Own-child|White|  Male|           0|           0|            40| United-States|   No|[17.0,6.0,0.0,0.0...|      0.0|\n",
            "| 17|        ?| 94366|     10th|      6| Never-married|         ?|Other-relative|White|  Male|           0|           0|             6| United-States|   No|[17.0,6.0,0.0,0.0...|      0.0|\n",
            "| 17|        ?| 94492|     10th|      6| Never-married|         ?|     Own-child|White|Female|           0|           0|            30| United-States|   No|[17.0,6.0,0.0,0.0...|      0.0|\n",
            "| 17|        ?| 99695|     10th|      6| Never-married|         ?|     Own-child|White|Female|           0|           0|            15| United-States|   No|[17.0,6.0,0.0,0.0...|      0.0|\n",
            "| 17|        ?|103810|     12th|      8| Never-married|         ?|     Own-child|White|  Male|           0|           0|            40| United-States|   No|[17.0,8.0,0.0,0.0...|      0.0|\n",
            "| 17|        ?|112942|     10th|      6| Never-married|         ?|     Own-child|White|  Male|           0|           0|            40| United-States|   No|[17.0,6.0,0.0,0.0...|      0.0|\n",
            "| 17|        ?|114798|     11th|      7| Never-married|         ?|     Own-child|White|Female|           0|           0|            18| United-States|   No|[17.0,7.0,0.0,0.0...|      0.0|\n",
            "| 17|        ?|127003|      9th|      5| Never-married|         ?|     Own-child|Black|  Male|           0|           0|            40| United-States|   No|[17.0,5.0,0.0,0.0...|      0.0|\n",
            "| 17|        ?|138507|     10th|      6| Never-married|         ?|     Own-child|White|  Male|           0|           0|            20| United-States|   No|[17.0,6.0,0.0,0.0...|      0.0|\n",
            "+---+---------+------+---------+-------+--------------+----------+--------------+-----+------+------------+------------+--------------+--------------+-----+--------------------+---------+\n",
            "only showing top 20 rows\n",
            "\n"
          ]
        }
      ]
    },
    {
      "cell_type": "code",
      "source": [
        "from pyspark.ml.classification import LogisticRegression"
      ],
      "metadata": {
        "id": "jLXAmP96xVsG"
      },
      "execution_count": null,
      "outputs": []
    },
    {
      "cell_type": "code",
      "source": [
        "lr=LogisticRegression(featuresCol='features',labelCol='label_idx',maxIter=1000, tol=.001,regParam=0)"
      ],
      "metadata": {
        "id": "uHfCsTylypRV"
      },
      "execution_count": null,
      "outputs": []
    },
    {
      "cell_type": "code",
      "source": [
        "lrmodel = lr.fit(vidxtraindf)"
      ],
      "metadata": {
        "id": "vmd3Axily-4x"
      },
      "execution_count": null,
      "outputs": []
    },
    {
      "cell_type": "code",
      "source": [
        "lrmodel.transform(vidxtraindf).show()"
      ],
      "metadata": {
        "colab": {
          "base_uri": "https://localhost:8080/"
        },
        "id": "a2-coIHTzjzv",
        "outputId": "d7cc410e-52c9-4c80-b43f-67b3b3095704"
      },
      "execution_count": null,
      "outputs": [
        {
          "output_type": "stream",
          "name": "stdout",
          "text": [
            "+---+---------+------+---------+-------+--------------+----------+--------------+-----+------+------------+------------+--------------+--------------+-----+--------------------+---------+--------------------+--------------------+----------+\n",
            "|age|workclass|weight|education|edu num|marital status|occupation|  relationship| race|   sex|captial-gain|capital-loss|hours-per-week|native country|label|            features|label_idx|       rawPrediction|         probability|prediction|\n",
            "+---+---------+------+---------+-------+--------------+----------+--------------+-----+------+------------+------------+--------------+--------------+-----+--------------------+---------+--------------------+--------------------+----------+\n",
            "| 17|        ?| 27251|     11th|      7|       Widowed|         ?|     Own-child|White|  Male|           0|           0|            40| United-States|   No|[17.0,7.0,0.0,0.0...|      0.0|[3.70137397731913...|[0.97590530760920...|       0.0|\n",
            "| 17|        ?| 34019|     10th|      6| Never-married|         ?|     Own-child|White|  Male|           0|           0|            20| United-States|   No|[17.0,6.0,0.0,0.0...|      0.0|[4.82898759859071...|[0.99206879596479...|       0.0|\n",
            "| 17|        ?| 34088|     12th|      8| Never-married|         ?|     Own-child|White|Female|           0|           0|            25| United-States|   No|[17.0,8.0,0.0,0.0...|      0.0|[3.97835458987171...|[0.98162745784872...|       0.0|\n",
            "| 17|        ?| 41643|     11th|      7| Never-married|         ?|     Own-child|White|Female|           0|           0|            15| United-States|   No|[17.0,7.0,0.0,0.0...|      0.0|[4.70465557290782...|[0.99102819028814...|       0.0|\n",
            "| 17|        ?| 45037|     10th|      6| Never-married|         ?|     Own-child|White|Female|           0|           0|            25| United-States|   No|[17.0,6.0,0.0,0.0...|      0.0|[4.62833127947298...|[0.99032349892387...|       0.0|\n",
            "| 17|        ?| 47407|     11th|      7| Never-married|         ?|     Own-child|White|  Male|           0|           0|            10| United-States|   No|[17.0,7.0,0.0,0.0...|      0.0|[4.90531189202556...|[0.99264732970602...|       0.0|\n",
            "| 17|        ?| 48703|     11th|      7| Never-married|         ?|     Own-child|White|Female|           0|           0|            30| United-States|   No|[17.0,7.0,0.0,0.0...|      0.0|[4.10268661555460...|[0.98374052920922...|       0.0|\n",
            "| 17|        ?| 48751|     11th|      7| Never-married|         ?|     Own-child|Black|Female|           0|           0|            40| United-States|   No|[17.0,7.0,0.0,0.0...|      0.0|[3.70137397731913...|[0.97590530760920...|       0.0|\n",
            "| 17|        ?| 64785|     10th|      6| Never-married|         ?|     Own-child|White|  Male|           0|           0|            30| United-States|   No|[17.0,6.0,0.0,0.0...|      0.0|[4.42767496035524...|[0.98819871008021...|       0.0|\n",
            "| 17|        ?| 67808|     10th|      6| Never-married|         ?|     Own-child|White|  Male|           0|           0|            40| United-States|   No|[17.0,6.0,0.0,0.0...|      0.0|[4.02636232211976...|[0.98247355117608...|       0.0|\n",
            "| 17|        ?| 86786|     10th|      6| Never-married|         ?|     Own-child|White|Female|           0|           0|            40| United-States|   No|[17.0,6.0,0.0,0.0...|      0.0|[4.02636232211976...|[0.98247355117608...|       0.0|\n",
            "| 17|        ?| 89870|     10th|      6| Never-married|         ?|     Own-child|White|  Male|           0|           0|            40| United-States|   No|[17.0,6.0,0.0,0.0...|      0.0|[4.02636232211976...|[0.98247355117608...|       0.0|\n",
            "| 17|        ?| 94366|     10th|      6| Never-married|         ?|Other-relative|White|  Male|           0|           0|             6| United-States|   No|[17.0,6.0,0.0,0.0...|      0.0|[5.39082529212038...|[0.99546247307203...|       0.0|\n",
            "| 17|        ?| 94492|     10th|      6| Never-married|         ?|     Own-child|White|Female|           0|           0|            30| United-States|   No|[17.0,6.0,0.0,0.0...|      0.0|[4.42767496035524...|[0.98819871008021...|       0.0|\n",
            "| 17|        ?| 99695|     10th|      6| Never-married|         ?|     Own-child|White|Female|           0|           0|            15| United-States|   No|[17.0,6.0,0.0,0.0...|      0.0|[5.02964391770845...|[0.99350136911037...|       0.0|\n",
            "| 17|        ?|103810|     12th|      8| Never-married|         ?|     Own-child|White|  Male|           0|           0|            40| United-States|   No|[17.0,8.0,0.0,0.0...|      0.0|[3.37638563251849...|[0.96695832112432...|       0.0|\n",
            "| 17|        ?|112942|     10th|      6| Never-married|         ?|     Own-child|White|  Male|           0|           0|            40| United-States|   No|[17.0,6.0,0.0,0.0...|      0.0|[4.02636232211976...|[0.98247355117608...|       0.0|\n",
            "| 17|        ?|114798|     11th|      7| Never-married|         ?|     Own-child|White|Female|           0|           0|            18| United-States|   No|[17.0,7.0,0.0,0.0...|      0.0|[4.58426178143717...|[0.98989193120664...|       0.0|\n",
            "| 17|        ?|127003|      9th|      5| Never-married|         ?|     Own-child|Black|  Male|           0|           0|            40| United-States|   No|[17.0,5.0,0.0,0.0...|      0.0|[4.35135066692039...|[0.98727463072379...|       0.0|\n",
            "| 17|        ?|138507|     10th|      6| Never-married|         ?|     Own-child|White|  Male|           0|           0|            20| United-States|   No|[17.0,6.0,0.0,0.0...|      0.0|[4.82898759859071...|[0.99206879596479...|       0.0|\n",
            "+---+---------+------+---------+-------+--------------+----------+--------------+-----+------+------------+------------+--------------+--------------+-----+--------------------+---------+--------------------+--------------------+----------+\n",
            "only showing top 20 rows\n",
            "\n"
          ]
        }
      ]
    },
    {
      "cell_type": "code",
      "source": [
        "lrmodel.coefficients"
      ],
      "metadata": {
        "colab": {
          "base_uri": "https://localhost:8080/"
        },
        "id": "bRa5ULP4zwbZ",
        "outputId": "5d1adcd0-a7e2-4c34-c676-41084743a378"
      },
      "execution_count": null,
      "outputs": [
        {
          "output_type": "execute_result",
          "data": {
            "text/plain": [
              "DenseVector([0.0427, 0.325, 0.0003, 0.0007, 0.0401])"
            ]
          },
          "metadata": {},
          "execution_count": 66
        }
      ]
    },
    {
      "cell_type": "code",
      "source": [
        "lrmodel.intercept"
      ],
      "metadata": {
        "colab": {
          "base_uri": "https://localhost:8080/"
        },
        "id": "BjFf1iOvz5GA",
        "outputId": "0a99dee4-2700-4355-840c-7838c1ce191c"
      },
      "execution_count": null,
      "outputs": [
        {
          "output_type": "execute_result",
          "data": {
            "text/plain": [
              "-8.306627004195706"
            ]
          },
          "metadata": {},
          "execution_count": 67
        }
      ]
    },
    {
      "cell_type": "code",
      "source": [
        "lrtrainresult=lrmodel.evaluate(vidxtraindf)"
      ],
      "metadata": {
        "id": "PfmjhfW203aB"
      },
      "execution_count": null,
      "outputs": []
    },
    {
      "cell_type": "code",
      "source": [
        "lrtrainresult.accuracy"
      ],
      "metadata": {
        "colab": {
          "base_uri": "https://localhost:8080/"
        },
        "id": "jbtlW-CH1B1Z",
        "outputId": "af255c8b-388c-444a-cd31-66783f6120a5"
      },
      "execution_count": null,
      "outputs": [
        {
          "output_type": "execute_result",
          "data": {
            "text/plain": [
              "0.8143179602934387"
            ]
          },
          "metadata": {},
          "execution_count": 69
        }
      ]
    },
    {
      "cell_type": "code",
      "source": [
        ""
      ],
      "metadata": {
        "id": "aGPqldiL4RbD"
      },
      "execution_count": null,
      "outputs": []
    },
    {
      "cell_type": "code",
      "source": [
        "lrtrainresult.recallByLabel"
      ],
      "metadata": {
        "colab": {
          "base_uri": "https://localhost:8080/"
        },
        "id": "49zpCRLO1HtX",
        "outputId": "ead5732f-1973-4fa2-88df-95ebb832d0d9"
      },
      "execution_count": null,
      "outputs": [
        {
          "output_type": "execute_result",
          "data": {
            "text/plain": [
              "[0.9481688810952991, 0.3889841405915131]"
            ]
          },
          "metadata": {},
          "execution_count": 70
        }
      ]
    },
    {
      "cell_type": "code",
      "source": [
        "lrtrainresult.labels"
      ],
      "metadata": {
        "colab": {
          "base_uri": "https://localhost:8080/"
        },
        "id": "Ri7Nb6aB1O7P",
        "outputId": "0e8c03ab-96c2-41d4-9965-709ac2b288f5"
      },
      "execution_count": null,
      "outputs": [
        {
          "output_type": "execute_result",
          "data": {
            "text/plain": [
              "[0.0, 1.0]"
            ]
          },
          "metadata": {},
          "execution_count": 71
        }
      ]
    },
    {
      "cell_type": "code",
      "source": [
        "lrmodel.transform(vidxtraindf).sample(1/4000).show()"
      ],
      "metadata": {
        "colab": {
          "base_uri": "https://localhost:8080/"
        },
        "id": "NZS_3zN91Uv3",
        "outputId": "0e7720be-78d9-4456-b087-3d3e9d129d5e"
      },
      "execution_count": null,
      "outputs": [
        {
          "output_type": "stream",
          "name": "stdout",
          "text": [
            "+---+----------------+------+------------+-------+------------------+-----------------+-------------+-----+------+------------+------------+--------------+--------------+-----+--------------------+---------+--------------------+--------------------+----------+\n",
            "|age|       workclass|weight|   education|edu num|    marital status|       occupation| relationship| race|   sex|captial-gain|capital-loss|hours-per-week|native country|label|            features|label_idx|       rawPrediction|         probability|prediction|\n",
            "+---+----------------+------+------------+-------+------------------+-----------------+-------------+-----+------+------------+------------+--------------+--------------+-----+--------------------+---------+--------------------+--------------------+----------+\n",
            "| 17|         Private|154337|        11th|      7|     Never-married|    Other-service|    Own-child|White|Female|           0|           0|            13| United-States|   No|[17.0,7.0,0.0,0.0...|      0.0|[4.78491810055491...|[0.99171441648515...|       0.0|\n",
            "| 19|         Private|278480|Some-college|     10|     Never-married|  Exec-managerial|Not-in-family|White|  Male|           0|           0|            40| United-States|   No|[19.0,10.0,0.0,0....|      0.0|[2.64110493581955...|[0.93346062695000...|       0.0|\n",
            "| 26|         Private|104257|     HS-grad|      9|     Never-married|    Other-service|Not-in-family|White|Female|           0|           0|            50| United-States|   No|[26.0,9.0,0.0,0.0...|      0.0|[2.26621661754285...|[0.90604019768837...|       0.0|\n",
            "| 27|         Private|257033|     HS-grad|      9|     Never-married|Handlers-cleaners|Not-in-family|Black|  Male|           0|           0|            60| United-States|   No|[27.0,9.0,0.0,0.0...|      0.0|[1.82225197575853...|[0.86083612691650...|       0.0|\n",
            "| 31|         Private|181091|     HS-grad|      9|Married-civ-spouse|     Craft-repair|      Husband|White|  Male|           0|           0|            50| United-States|  Yes|[31.0,9.0,0.0,0.0...|      1.0|[2.05295659979866...|[0.88624602595049...|       0.0|\n",
            "| 32|         Private| 35595|   Bachelors|     13|     Never-married|     Adm-clerical|Not-in-family|White|  Male|           0|           0|            40| United-States|   No|[32.0,13.0,0.0,0....|      0.0|[1.11166385528277...|[0.75243917535067...|       0.0|\n",
            "| 37|Self-emp-not-inc|154641|     HS-grad|      9|     Never-married|  Farming-fishing|Not-in-family|White|  Male|           0|           0|            86| United-States|   No|[37.0,9.0,0.0,0.0...|      0.0|[0.35231908085793...|[0.58717983678971...|       0.0|\n",
            "| 38|       State-gov|272944|     HS-grad|      9|          Divorced|    Other-service|Not-in-family|White|  Male|           0|           0|            40| United-States|   No|[38.0,9.0,0.0,0.0...|      0.0|[2.15570521319228...|[0.89620070527786...|       0.0|\n",
            "| 39|       Local-gov|177728|     Masters|     14|          Divorced|   Prof-specialty|Not-in-family|White|Female|           0|           0|            40| United-States|   No|[39.0,14.0,0.0,0....|      0.0|[0.48811148564027...|[0.61966144582029...|       0.0|\n",
            "| 40|         Private|445382|     HS-grad|      9|Married-civ-spouse|  Exec-managerial|      Husband|White|  Male|           0|           0|            40| United-States|  Yes|[40.0,9.0,0.0,0.0...|      1.0|[2.07040120609461...|[0.88799287222764...|       0.0|\n",
            "| 45|         Private|118291|Some-college|     10|     Never-married|     Craft-repair|Not-in-family|White|Female|           0|           0|            80| United-States|   No|[45.0,10.0,0.0,0....|      0.0|[-0.0730977093921...|[0.48173370541418...|       1.0|\n",
            "| 54|         Private|189607|   Bachelors|     13|     Never-married|    Other-service|    Own-child|Black|Female|           0|           0|            36| United-States|   No|[54.0,13.0,0.0,0....|      0.0|[0.33384483250255...|[0.58269458867969...|       0.0|\n",
            "| 58|         Private|215190|        11th|      7|Married-civ-spouse|    Other-service|      Husband|White|  Male|           0|           0|            20| United-States|   No|[58.0,7.0,0.0,0.0...|      0.0|[2.75526710828777...|[0.94021012797998...|       0.0|\n",
            "+---+----------------+------+------------+-------+------------------+-----------------+-------------+-----+------+------------+------------+--------------+--------------+-----+--------------------+---------+--------------------+--------------------+----------+\n",
            "\n"
          ]
        }
      ]
    },
    {
      "cell_type": "code",
      "source": [
        "vidxtestdf = labelindex.transform(va.transform(cstest))"
      ],
      "metadata": {
        "id": "cLcN3GWr4Wfg"
      },
      "execution_count": null,
      "outputs": []
    },
    {
      "cell_type": "code",
      "source": [
        "vidxtestdf.show(5)"
      ],
      "metadata": {
        "colab": {
          "base_uri": "https://localhost:8080/"
        },
        "id": "upnLXqHj5Amf",
        "outputId": "6c8510c4-2fba-4337-873d-6a455f951c91"
      },
      "execution_count": null,
      "outputs": [
        {
          "output_type": "stream",
          "name": "stdout",
          "text": [
            "+---+---------+------+------------+-------+--------------+----------+------------+-----+------+------------+------------+--------------+--------------+-----+--------------------+---------+\n",
            "|age|workclass|weight|   education|edu num|marital status|occupation|relationship| race|   sex|captial-gain|capital-loss|hours-per-week|native country|label|            features|label_idx|\n",
            "+---+---------+------+------------+-------+--------------+----------+------------+-----+------+------------+------------+--------------+--------------+-----+--------------------+---------+\n",
            "| 17|        ?| 34505|        11th|      7| Never-married|         ?|   Own-child|White|  Male|           0|           0|            50| United-States|   No|[17.0,7.0,0.0,0.0...|      0.0|\n",
            "| 17|        ?| 44789|Some-college|     10| Never-married|         ?|   Own-child|White|  Male|           0|           0|            15| United-States|   No|[17.0,10.0,0.0,0....|      0.0|\n",
            "| 17|        ?| 80077|        11th|      7| Never-married|         ?|   Own-child|White|Female|           0|           0|            20| United-States|   No|[17.0,7.0,0.0,0.0...|      0.0|\n",
            "| 17|        ?|103851|        11th|      7| Never-married|         ?|   Own-child|White|Female|           0|           0|            45| United-States|   No|[17.0,7.0,0.0,0.0...|      0.0|\n",
            "| 17|        ?|104025|        11th|      7| Never-married|         ?|   Own-child|White|  Male|           0|           0|            18| United-States|   No|[17.0,7.0,0.0,0.0...|      0.0|\n",
            "+---+---------+------+------------+-------+--------------+----------+------------+-----+------+------------+------------+--------------+--------------+-----+--------------------+---------+\n",
            "only showing top 5 rows\n",
            "\n"
          ]
        }
      ]
    },
    {
      "cell_type": "code",
      "source": [
        "lrtestresult=lrmodel.evaluate(vidxtestdf)"
      ],
      "metadata": {
        "id": "GwR_lOgg5Fvw"
      },
      "execution_count": null,
      "outputs": []
    },
    {
      "cell_type": "code",
      "source": [
        "lrtestresult.accuracyk"
      ],
      "metadata": {
        "colab": {
          "base_uri": "https://localhost:8080/"
        },
        "id": "CMId29qD5NkE",
        "outputId": "63c13e7b-bf92-4b3e-87ae-661ef6d9ca91"
      },
      "execution_count": null,
      "outputs": [
        {
          "output_type": "execute_result",
          "data": {
            "text/plain": [
              "0.8136160714285714"
            ]
          },
          "metadata": {},
          "execution_count": 78
        }
      ]
    },
    {
      "cell_type": "code",
      "source": [
        "lrtestresult.recallByLabel"
      ],
      "metadata": {
        "colab": {
          "base_uri": "https://localhost:8080/"
        },
        "id": "QT3QS0nx5SZe",
        "outputId": "cdd22832-03b7-4566-b238-10b4adc58eb4"
      },
      "execution_count": null,
      "outputs": [
        {
          "output_type": "execute_result",
          "data": {
            "text/plain": [
              "[0.9490734568724171, 0.3821656050955414]"
            ]
          },
          "metadata": {},
          "execution_count": 79
        }
      ]
    },
    {
      "cell_type": "code",
      "source": [
        "from pyspark.ml.feature import StandardScaler"
      ],
      "metadata": {
        "id": "GtYRzVut6_wo"
      },
      "execution_count": null,
      "outputs": []
    },
    {
      "cell_type": "code",
      "source": [
        "stdscl = StandardScaler(inputCol='features',outputCol='sclfeatures')"
      ],
      "metadata": {
        "id": "Xa9Nqvog7KA4"
      },
      "execution_count": null,
      "outputs": []
    },
    {
      "cell_type": "code",
      "source": [
        "stdsclmodel =stdscl.fit(vidxtraindf)"
      ],
      "metadata": {
        "id": "RM6ZKUEZ7ca8"
      },
      "execution_count": null,
      "outputs": []
    },
    {
      "cell_type": "code",
      "source": [
        "stdsclmodel.mean"
      ],
      "metadata": {
        "colab": {
          "base_uri": "https://localhost:8080/"
        },
        "id": "o9g-NDbE8B5w",
        "outputId": "c68d8c01-5adf-4bc0-e7cc-4d3009c035eb"
      },
      "execution_count": null,
      "outputs": [
        {
          "output_type": "execute_result",
          "data": {
            "text/plain": [
              "DenseVector([38.6334, 10.0662, 1090.7763, 86.6891, 40.4766])"
            ]
          },
          "metadata": {},
          "execution_count": 88
        }
      ]
    },
    {
      "cell_type": "code",
      "source": [
        "stdsclmodel.std"
      ],
      "metadata": {
        "colab": {
          "base_uri": "https://localhost:8080/"
        },
        "id": "BL3cThJY8Jkd",
        "outputId": "ee010955-cc61-4b0f-9e32-848b3f854f5b"
      },
      "execution_count": null,
      "outputs": [
        {
          "output_type": "execute_result",
          "data": {
            "text/plain": [
              "DenseVector([13.7056, 2.578, 7476.798, 401.0768, 12.3845])"
            ]
          },
          "metadata": {},
          "execution_count": 90
        }
      ]
    },
    {
      "cell_type": "code",
      "source": [
        "scltraindf=stdsclmodel.transform(vidxtraindf)"
      ],
      "metadata": {
        "id": "j0XsxXs37mq5"
      },
      "execution_count": null,
      "outputs": []
    },
    {
      "cell_type": "code",
      "source": [
        "scltraindf.select('features','sclfeatures').show()"
      ],
      "metadata": {
        "colab": {
          "base_uri": "https://localhost:8080/"
        },
        "id": "LSdfVBzn7yS6",
        "outputId": "f411d3fe-562e-46a6-c673-94117abf1c83"
      },
      "execution_count": null,
      "outputs": [
        {
          "output_type": "stream",
          "name": "stdout",
          "text": [
            "+--------------------+--------------------+\n",
            "|            features|         sclfeatures|\n",
            "+--------------------+--------------------+\n",
            "|[17.0,7.0,0.0,0.0...|[1.24037097913212...|\n",
            "|[17.0,6.0,0.0,0.0...|[1.24037097913212...|\n",
            "|[17.0,8.0,0.0,0.0...|[1.24037097913212...|\n",
            "|[17.0,7.0,0.0,0.0...|[1.24037097913212...|\n",
            "|[17.0,6.0,0.0,0.0...|[1.24037097913212...|\n",
            "|[17.0,7.0,0.0,0.0...|[1.24037097913212...|\n",
            "|[17.0,7.0,0.0,0.0...|[1.24037097913212...|\n",
            "|[17.0,7.0,0.0,0.0...|[1.24037097913212...|\n",
            "|[17.0,6.0,0.0,0.0...|[1.24037097913212...|\n",
            "|[17.0,6.0,0.0,0.0...|[1.24037097913212...|\n",
            "|[17.0,6.0,0.0,0.0...|[1.24037097913212...|\n",
            "|[17.0,6.0,0.0,0.0...|[1.24037097913212...|\n",
            "|[17.0,6.0,0.0,0.0...|[1.24037097913212...|\n",
            "|[17.0,6.0,0.0,0.0...|[1.24037097913212...|\n",
            "|[17.0,6.0,0.0,0.0...|[1.24037097913212...|\n",
            "|[17.0,8.0,0.0,0.0...|[1.24037097913212...|\n",
            "|[17.0,6.0,0.0,0.0...|[1.24037097913212...|\n",
            "|[17.0,7.0,0.0,0.0...|[1.24037097913212...|\n",
            "|[17.0,5.0,0.0,0.0...|[1.24037097913212...|\n",
            "|[17.0,6.0,0.0,0.0...|[1.24037097913212...|\n",
            "+--------------------+--------------------+\n",
            "only showing top 20 rows\n",
            "\n"
          ]
        }
      ]
    },
    {
      "cell_type": "code",
      "source": [
        "newlr=LogisticRegression(featuresCol='features1',labelCol='labelidx1', maxIter=1000, tol=.0001,regParam=0)"
      ],
      "metadata": {
        "id": "JzDCmvHb8uDm"
      },
      "execution_count": null,
      "outputs": []
    },
    {
      "cell_type": "code",
      "source": [
        "cstrain.printSchema()"
      ],
      "metadata": {
        "colab": {
          "base_uri": "https://localhost:8080/"
        },
        "id": "e7EgnfOZQwEH",
        "outputId": "565596a6-b629-48e8-e2cd-54f22295526b"
      },
      "execution_count": null,
      "outputs": [
        {
          "output_type": "stream",
          "name": "stdout",
          "text": [
            "root\n",
            " |-- age: integer (nullable = true)\n",
            " |-- workclass: string (nullable = true)\n",
            " |-- weight: integer (nullable = true)\n",
            " |-- education: string (nullable = true)\n",
            " |-- edu num: integer (nullable = true)\n",
            " |-- marital status: string (nullable = true)\n",
            " |-- occupation: string (nullable = true)\n",
            " |-- relationship: string (nullable = true)\n",
            " |-- race: string (nullable = true)\n",
            " |-- sex: string (nullable = true)\n",
            " |-- captial-gain: integer (nullable = true)\n",
            " |-- capital-loss: integer (nullable = true)\n",
            " |-- hours-per-week: integer (nullable = true)\n",
            " |-- native country: string (nullable = true)\n",
            " |-- label: string (nullable = true)\n",
            "\n"
          ]
        }
      ]
    },
    {
      "cell_type": "code",
      "source": [
        "catcol =['marital statu','occupation','sex']"
      ],
      "metadata": {
        "id": "0OFMKk2498y-"
      },
      "execution_count": null,
      "outputs": []
    },
    {
      "cell_type": "code",
      "source": [
        "catindexcol=[c+'_index' for c in catcol]"
      ],
      "metadata": {
        "id": "VtNK2_kURAXF"
      },
      "execution_count": null,
      "outputs": []
    },
    {
      "cell_type": "code",
      "source": [
        "catindexcol"
      ],
      "metadata": {
        "colab": {
          "base_uri": "https://localhost:8080/"
        },
        "id": "xQtZFyx5RLcR",
        "outputId": "066747f7-b9d7-4997-868e-f28806a20d40"
      },
      "execution_count": null,
      "outputs": [
        {
          "output_type": "execute_result",
          "data": {
            "text/plain": [
              "['marital statu_index', 'occupation_index', 'sex_index']"
            ]
          },
          "metadata": {},
          "execution_count": 122
        }
      ]
    },
    {
      "cell_type": "code",
      "source": [
        "sicat = StringIndexer( inputCols = catcol, outputCols = catindexcol)"
      ],
      "metadata": {
        "id": "II-fjM0bRSPn"
      },
      "execution_count": null,
      "outputs": []
    },
    {
      "cell_type": "code",
      "source": [
        "sicat"
      ],
      "metadata": {
        "colab": {
          "base_uri": "https://localhost:8080/"
        },
        "id": "jcOUyM6WU-eh",
        "outputId": "d4b7f230-f3bf-4238-dc12-13ff79ec5c0a"
      },
      "execution_count": null,
      "outputs": [
        {
          "output_type": "execute_result",
          "data": {
            "text/plain": [
              "StringIndexer_f5cf2f41ae3d"
            ]
          },
          "metadata": {},
          "execution_count": 139
        }
      ]
    },
    {
      "cell_type": "code",
      "source": [
        "cstrain.count()"
      ],
      "metadata": {
        "colab": {
          "base_uri": "https://localhost:8080/"
        },
        "id": "89JgmkLATidX",
        "outputId": "582f24cf-b960-4ad8-8557-54a691942f46"
      },
      "execution_count": null,
      "outputs": [
        {
          "output_type": "execute_result",
          "data": {
            "text/plain": [
              "39096"
            ]
          },
          "metadata": {},
          "execution_count": 140
        }
      ]
    },
    {
      "cell_type": "code",
      "source": [
        "from pyspark.ml.pipeline import Pipeline"
      ],
      "metadata": {
        "id": "WD4Wa4PstgN2"
      },
      "execution_count": 163,
      "outputs": []
    },
    {
      "cell_type": "markdown",
      "source": [
        "decision tree"
      ],
      "metadata": {
        "id": "m2prjBOGp9i2"
      }
    },
    {
      "cell_type": "code",
      "source": [
        "from pyspark.ml.classification import DecisionTreeClassifier"
      ],
      "metadata": {
        "id": "v_im2mEep_01"
      },
      "execution_count": 149,
      "outputs": []
    },
    {
      "cell_type": "code",
      "source": [
        "from pyspark.ml.pipeline import Pipeline\n"
      ],
      "metadata": {
        "id": "bV6gO66PrEP_"
      },
      "execution_count": 161,
      "outputs": []
    },
    {
      "cell_type": "code",
      "source": [
        "dt=DecisionTreeClassifier(featuresCol='features', labelCol='label_index',maxDepth=30)"
      ],
      "metadata": {
        "id": "CaOJh8E5s2oF"
      },
      "execution_count": 162,
      "outputs": []
    },
    {
      "cell_type": "code",
      "source": [
        "dtp =Pipeline(stages=[va_scale_p, ss_p])"
      ],
      "metadata": {
        "id": "tc2Q_d_ktBic"
      },
      "execution_count": null,
      "outputs": []
    }
  ]
}