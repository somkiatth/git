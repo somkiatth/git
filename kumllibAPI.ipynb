{
  "nbformat": 4,
  "nbformat_minor": 0,
  "metadata": {
    "colab": {
      "name": "kumllibAPI.ipynb",
      "provenance": [],
      "collapsed_sections": [],
      "authorship_tag": "ABX9TyMNX3M5M/QSbztGQ2OeyMf8",
      "include_colab_link": true
    },
    "kernelspec": {
      "name": "python3",
      "display_name": "Python 3"
    },
    "language_info": {
      "name": "python"
    }
  },
  "cells": [
    {
      "cell_type": "markdown",
      "metadata": {
        "id": "view-in-github",
        "colab_type": "text"
      },
      "source": [
        "<a href=\"https://colab.research.google.com/github/somkiatth/git/blob/master/kumllibAPI.ipynb\" target=\"_parent\"><img src=\"https://colab.research.google.com/assets/colab-badge.svg\" alt=\"Open In Colab\"/></a>"
      ]
    },
    {
      "cell_type": "code",
      "execution_count": 1,
      "metadata": {
        "colab": {
          "base_uri": "https://localhost:8080/"
        },
        "id": "rE0VZTqKWtZT",
        "outputId": "d381cec1-fd5e-4439-98cd-ee583abb47f2"
      },
      "outputs": [
        {
          "output_type": "stream",
          "name": "stdout",
          "text": [
            "Looking in indexes: https://pypi.org/simple, https://us-python.pkg.dev/colab-wheels/public/simple/\n",
            "Collecting pyspark\n",
            "  Downloading pyspark-3.3.0.tar.gz (281.3 MB)\n",
            "\u001b[K     |████████████████████████████████| 281.3 MB 45 kB/s \n",
            "\u001b[?25hCollecting py4j==0.10.9.5\n",
            "  Downloading py4j-0.10.9.5-py2.py3-none-any.whl (199 kB)\n",
            "\u001b[K     |████████████████████████████████| 199 kB 61.8 MB/s \n",
            "\u001b[?25hBuilding wheels for collected packages: pyspark\n",
            "  Building wheel for pyspark (setup.py) ... \u001b[?25l\u001b[?25hdone\n",
            "  Created wheel for pyspark: filename=pyspark-3.3.0-py2.py3-none-any.whl size=281764026 sha256=f97ed6606db3f194f0a498e1ac3543758be86d5cff3fceac50bcf5ad147fae62\n",
            "  Stored in directory: /root/.cache/pip/wheels/7a/8e/1b/f73a52650d2e5f337708d9f6a1750d451a7349a867f928b885\n",
            "Successfully built pyspark\n",
            "Installing collected packages: py4j, pyspark\n",
            "Successfully installed py4j-0.10.9.5 pyspark-3.3.0\n"
          ]
        }
      ],
      "source": [
        "!pip install pyspark"
      ]
    },
    {
      "cell_type": "code",
      "source": [
        "from pyspark.sql import SparkSession"
      ],
      "metadata": {
        "id": "L_kryzPiW9a0"
      },
      "execution_count": 3,
      "outputs": []
    },
    {
      "cell_type": "code",
      "source": [
        "spark = SparkSession.builder.getOrCreate()"
      ],
      "metadata": {
        "id": "v2GCMyhfZJqN"
      },
      "execution_count": 4,
      "outputs": []
    },
    {
      "cell_type": "code",
      "source": [
        "mldf=spark.read.csv(\"/content/census-income-all.csv\", header=True, inferSchema=True)"
      ],
      "metadata": {
        "id": "-4pYXIeHZQ4c"
      },
      "execution_count": 5,
      "outputs": []
    },
    {
      "cell_type": "code",
      "source": [
        "mldf.show(5)"
      ],
      "metadata": {
        "colab": {
          "base_uri": "https://localhost:8080/"
        },
        "id": "IVzZ5LvUZh2m",
        "outputId": "5e1eaf4b-5c0a-4e83-f043-1ca3677ad975"
      },
      "execution_count": 6,
      "outputs": [
        {
          "output_type": "stream",
          "name": "stdout",
          "text": [
            "+---+----------------+------+---------+-------+------------------+-----------------+-------------+-----+------+------------+------------+--------------+--------------+-----+\n",
            "|age|       workclass|weight|education|edu num|    marital status|       occupation| relationship| race|   sex|captial-gain|capital-loss|hours-per-week|native country|label|\n",
            "+---+----------------+------+---------+-------+------------------+-----------------+-------------+-----+------+------------+------------+--------------+--------------+-----+\n",
            "| 39|       State-gov| 77516|Bachelors|     13|     Never-married|     Adm-clerical|Not-in-family|White|  Male|        2174|           0|            40| United-States|   No|\n",
            "| 50|Self-emp-not-inc| 83311|Bachelors|     13|Married-civ-spouse|  Exec-managerial|      Husband|White|  Male|           0|           0|            13| United-States|   No|\n",
            "| 38|         Private|215646|  HS-grad|      9|          Divorced|Handlers-cleaners|Not-in-family|White|  Male|           0|           0|            40| United-States|   No|\n",
            "| 53|         Private|234721|     11th|      7|Married-civ-spouse|Handlers-cleaners|      Husband|Black|  Male|           0|           0|            40| United-States|   No|\n",
            "| 28|         Private|338409|Bachelors|     13|Married-civ-spouse|   Prof-specialty|         Wife|Black|Female|           0|           0|            40|          Cuba|   No|\n",
            "+---+----------------+------+---------+-------+------------------+-----------------+-------------+-----+------+------------+------------+--------------+--------------+-----+\n",
            "only showing top 5 rows\n",
            "\n"
          ]
        }
      ]
    },
    {
      "cell_type": "code",
      "source": [
        "cstrain,cstest = mldf.randomSplit([0.8,0.2])"
      ],
      "metadata": {
        "id": "sCFDG71zagVt"
      },
      "execution_count": 8,
      "outputs": []
    },
    {
      "cell_type": "code",
      "source": [
        "cstrain.count(),cstest.count()"
      ],
      "metadata": {
        "colab": {
          "base_uri": "https://localhost:8080/"
        },
        "id": "BQnPGKW3bF4U",
        "outputId": "98def576-95c9-40a4-edb3-57e0b6e95efa"
      },
      "execution_count": 9,
      "outputs": [
        {
          "output_type": "execute_result",
          "data": {
            "text/plain": [
              "(38986, 9856)"
            ]
          },
          "metadata": {},
          "execution_count": 9
        }
      ]
    },
    {
      "cell_type": "code",
      "source": [
        "cstrain.write.csv(\"/content/censustrain.csv\")"
      ],
      "metadata": {
        "id": "Fb80rlWHcQdd"
      },
      "execution_count": null,
      "outputs": []
    },
    {
      "cell_type": "code",
      "source": [
        "cstrainload=spark.read.load(\"/content/censustrain.csv\",format='csv')"
      ],
      "metadata": {
        "id": "y9G9Dgurd0jm"
      },
      "execution_count": 20,
      "outputs": []
    },
    {
      "cell_type": "code",
      "source": [
        "cstrainload.count()"
      ],
      "metadata": {
        "colab": {
          "base_uri": "https://localhost:8080/"
        },
        "id": "J2VJLoaoeQVr",
        "outputId": "52899f39-de16-469f-814a-9f63631db4a9"
      },
      "execution_count": 22,
      "outputs": [
        {
          "output_type": "execute_result",
          "data": {
            "text/plain": [
              "38986"
            ]
          },
          "metadata": {},
          "execution_count": 22
        }
      ]
    },
    {
      "cell_type": "code",
      "source": [
        "cstrain.printSchema()"
      ],
      "metadata": {
        "colab": {
          "base_uri": "https://localhost:8080/"
        },
        "id": "J14bttshggRs",
        "outputId": "cad3eeb6-d18d-4ee1-8513-9d29864447f0"
      },
      "execution_count": 29,
      "outputs": [
        {
          "output_type": "stream",
          "name": "stdout",
          "text": [
            "root\n",
            " |-- age: integer (nullable = true)\n",
            " |-- workclass: string (nullable = true)\n",
            " |-- weight: integer (nullable = true)\n",
            " |-- education: string (nullable = true)\n",
            " |-- edu num: integer (nullable = true)\n",
            " |-- marital status: string (nullable = true)\n",
            " |-- occupation: string (nullable = true)\n",
            " |-- relationship: string (nullable = true)\n",
            " |-- race: string (nullable = true)\n",
            " |-- sex: string (nullable = true)\n",
            " |-- captial-gain: integer (nullable = true)\n",
            " |-- capital-loss: integer (nullable = true)\n",
            " |-- hours-per-week: integer (nullable = true)\n",
            " |-- native country: string (nullable = true)\n",
            " |-- label: string (nullable = true)\n",
            "\n"
          ]
        }
      ]
    },
    {
      "cell_type": "code",
      "source": [
        "from pyspark.ml.feature import VectorAssembler"
      ],
      "metadata": {
        "id": "Vc-z7Xb-fa4V"
      },
      "execution_count": 25,
      "outputs": []
    },
    {
      "cell_type": "code",
      "source": [
        "va=VectorAssembler(inputCols=['age','edu num','captial-gain','capital-loss','hours-per-week'],outputCol='features')"
      ],
      "metadata": {
        "id": "GdsSMCqbgbJI"
      },
      "execution_count": 35,
      "outputs": []
    },
    {
      "cell_type": "code",
      "source": [
        "vtraindf=va.transform(cstrain)"
      ],
      "metadata": {
        "id": "fbrkJYrNhUQc"
      },
      "execution_count": 41,
      "outputs": []
    },
    {
      "cell_type": "code",
      "source": [
        "vtraindf.show(5)"
      ],
      "metadata": {
        "colab": {
          "base_uri": "https://localhost:8080/"
        },
        "id": "_yF-Q4X2hn2j",
        "outputId": "ef7fa388-311f-4734-d3fa-3bb89f76ed96"
      },
      "execution_count": 42,
      "outputs": [
        {
          "output_type": "stream",
          "name": "stdout",
          "text": [
            "+---+---------+------+---------+-------+--------------+----------+------------+-----+------+------------+------------+--------------+--------------+-----+--------------------+\n",
            "|age|workclass|weight|education|edu num|marital status|occupation|relationship| race|   sex|captial-gain|capital-loss|hours-per-week|native country|label|            features|\n",
            "+---+---------+------+---------+-------+--------------+----------+------------+-----+------+------------+------------+--------------+--------------+-----+--------------------+\n",
            "| 17|        ?| 27251|     11th|      7|       Widowed|         ?|   Own-child|White|  Male|           0|           0|            40| United-States|   No|[17.0,7.0,0.0,0.0...|\n",
            "| 17|        ?| 34019|     10th|      6| Never-married|         ?|   Own-child|White|  Male|           0|           0|            20| United-States|   No|[17.0,6.0,0.0,0.0...|\n",
            "| 17|        ?| 34088|     12th|      8| Never-married|         ?|   Own-child|White|Female|           0|           0|            25| United-States|   No|[17.0,8.0,0.0,0.0...|\n",
            "| 17|        ?| 41643|     11th|      7| Never-married|         ?|   Own-child|White|Female|           0|           0|            15| United-States|   No|[17.0,7.0,0.0,0.0...|\n",
            "| 17|        ?| 45037|     10th|      6| Never-married|         ?|   Own-child|White|Female|           0|           0|            25| United-States|   No|[17.0,6.0,0.0,0.0...|\n",
            "+---+---------+------+---------+-------+--------------+----------+------------+-----+------+------------+------------+--------------+--------------+-----+--------------------+\n",
            "only showing top 5 rows\n",
            "\n"
          ]
        }
      ]
    },
    {
      "cell_type": "code",
      "source": [
        "from pyspark.ml.feature import StringIndexer"
      ],
      "metadata": {
        "id": "Oz3SNDL2ikrU"
      },
      "execution_count": 38,
      "outputs": []
    },
    {
      "cell_type": "code",
      "source": [
        "si=StringIndexer(inputCol='label',outputCol='label_idx',stringOrderType='frequencyDesc')"
      ],
      "metadata": {
        "id": "9UE1mamSkUxp"
      },
      "execution_count": 45,
      "outputs": []
    },
    {
      "cell_type": "code",
      "source": [
        "labelindex = si.fit(vtraindf)"
      ],
      "metadata": {
        "id": "_5dRdBbwkuf0"
      },
      "execution_count": 46,
      "outputs": []
    },
    {
      "cell_type": "code",
      "source": [
        "vidxtraindf=labelindex.transform(vtraindf)"
      ],
      "metadata": {
        "id": "o5_zEVs-lPYM"
      },
      "execution_count": 47,
      "outputs": []
    },
    {
      "cell_type": "code",
      "source": [
        "vidxtraindf.sample(1/4000).show()"
      ],
      "metadata": {
        "colab": {
          "base_uri": "https://localhost:8080/"
        },
        "id": "POQW9POAla0K",
        "outputId": "17c71e32-fdbc-4c5e-c7c9-30ea2025051a"
      },
      "execution_count": 50,
      "outputs": [
        {
          "output_type": "stream",
          "name": "stdout",
          "text": [
            "+---+------------+------+------------+-------+--------------------+-----------------+--------------+-----+------+------------+------------+--------------+--------------+-----+--------------------+---------+\n",
            "|age|   workclass|weight|   education|edu num|      marital status|       occupation|  relationship| race|   sex|captial-gain|capital-loss|hours-per-week|native country|label|            features|label_idx|\n",
            "+---+------------+------+------------+-------+--------------------+-----------------+--------------+-----+------+------------+------------+--------------+--------------+-----+--------------------+---------+\n",
            "| 22|     Private| 61850|     Masters|     14|       Never-married|            Sales|Other-relative|White|Female|           0|           0|            21| United-States|   No|[22.0,14.0,0.0,0....|      0.0|\n",
            "| 23|     Private|195508|Some-college|     10|       Never-married|Handlers-cleaners|     Own-child|White|  Male|           0|           0|            20| United-States|   No|[23.0,10.0,0.0,0....|      0.0|\n",
            "| 23|Self-emp-inc| 39844|     HS-grad|      9|       Never-married| Transport-moving| Not-in-family|White|  Male|           0|           0|            50| United-States|   No|[23.0,9.0,0.0,0.0...|      0.0|\n",
            "| 29|     Private|224858|Some-college|     10|  Married-civ-spouse|   Prof-specialty|       Husband|White|  Male|           0|           0|            45| United-States|   No|[29.0,10.0,0.0,0....|      0.0|\n",
            "| 33|     Private|180656|Some-college|     10|Married-spouse-ab...|     Craft-repair| Not-in-family|White|  Male|           0|           0|            40|             ?|   No|[33.0,10.0,0.0,0....|      0.0|\n",
            "| 36|Self-emp-inc|116133|     HS-grad|      9|       Never-married|  Exec-managerial|     Own-child|White|  Male|           0|           0|            41| United-States|   No|[36.0,9.0,0.0,0.0...|      0.0|\n",
            "| 37|     Private|361951|   Bachelors|     13|       Never-married|            Sales| Not-in-family|Black|  Male|           0|           0|            48|             ?|   No|[37.0,13.0,0.0,0....|      0.0|\n",
            "| 39|   Local-gov| 52401|     Masters|     14|       Never-married|   Prof-specialty| Not-in-family|White|Female|           0|           0|            50| United-States|   No|[39.0,14.0,0.0,0....|      0.0|\n",
            "| 61|Self-emp-inc|113544|     Masters|     14|  Married-civ-spouse|            Sales|       Husband|White|  Male|           0|           0|            40| United-States|  Yes|[61.0,14.0,0.0,0....|      1.0|\n",
            "| 40|     Private| 77391|     HS-grad|      9|  Married-civ-spouse| Transport-moving|       Husband|White|  Male|           0|           0|            40| United-States|   No|[40.0,9.0,0.0,0.0...|      0.0|\n",
            "+---+------------+------+------------+-------+--------------------+-----------------+--------------+-----+------+------------+------------+--------------+--------------+-----+--------------------+---------+\n",
            "\n"
          ]
        }
      ]
    }
  ]
}